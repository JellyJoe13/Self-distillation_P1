{
 "cells": [
  {
   "cell_type": "markdown",
   "id": "2f2c59d5-e9d2-4330-ae6f-67f20a6332f5",
   "metadata": {},
   "source": [
    "# Graph Neural Network"
   ]
  },
  {
   "cell_type": "markdown",
   "id": "d0e46adb-556e-4ac7-8ed8-b39e9375f4a0",
   "metadata": {},
   "source": [
    "## Importing"
   ]
  },
  {
   "cell_type": "code",
   "execution_count": 1,
   "id": "89edf3ff-a4d6-4ecf-ade5-60b4fcef9e5f",
   "metadata": {
    "tags": [],
    "ExecuteTime": {
     "start_time": "2023-05-23T19:42:50.291332Z",
     "end_time": "2023-05-23T19:43:30.165488Z"
    }
   },
   "outputs": [
    {
     "name": "stderr",
     "output_type": "stream",
     "text": [
      "C:\\Users\\johan\\anaconda3\\envs\\praktikum\\lib\\site-packages\\tqdm\\auto.py:21: TqdmWarning: IProgress not found. Please update jupyter and ipywidgets. See https://ipywidgets.readthedocs.io/en/stable/user_install.html\n",
      "  from .autonotebook import tqdm as notebook_tqdm\n"
     ]
    }
   ],
   "source": [
    "from selfdist_toolkit.pyg_tools import gnn_load, GIN_nn, execution, sd_utils, accuracy\n",
    "import pandas as pd\n",
    "import torch\n",
    "import torch_geometric\n",
    "from sklearn.model_selection import StratifiedShuffleSplit\n",
    "import numpy as np\n",
    "from tqdm import tqdm\n",
    "import matplotlib.pyplot as plt"
   ]
  },
  {
   "cell_type": "markdown",
   "id": "cf60dd61-0662-429f-bbe8-ca0b446edcfe",
   "metadata": {},
   "source": [
    "## Loading aid_list"
   ]
  },
  {
   "cell_type": "code",
   "execution_count": 2,
   "id": "30ba2ee3-fa7d-49ac-9a97-e0eb819fbc36",
   "metadata": {
    "tags": [],
    "ExecuteTime": {
     "start_time": "2023-05-23T19:43:30.165488Z",
     "end_time": "2023-05-23T19:43:30.181684Z"
    }
   },
   "outputs": [],
   "source": [
    "aid_list = pd.read_csv(\"results/random_forest/experiments_check/chem-desc_good-aid_1.csv\").aid.to_numpy().astype(int)"
   ]
  },
  {
   "cell_type": "code",
   "execution_count": 3,
   "id": "bb81c8da-72aa-46c6-b553-923471b59559",
   "metadata": {
    "tags": [],
    "ExecuteTime": {
     "start_time": "2023-05-23T19:43:30.181684Z",
     "end_time": "2023-05-23T19:43:30.213316Z"
    }
   },
   "outputs": [
    {
     "data": {
      "text/plain": "array([    884,     891,     899,     914,    1418,    1431,    1770,\n          1771,    1795,  493073,  493102,  493177,  493191,  493240,\n        588834,  651741,  651812,  651814,  686978,  687022,  720691,\n        743036,  743040,  743065, 1053173, 1259381, 1346982])"
     },
     "execution_count": 3,
     "metadata": {},
     "output_type": "execute_result"
    }
   ],
   "source": [
    "aid_list"
   ]
  },
  {
   "cell_type": "code",
   "execution_count": 4,
   "id": "4aaed0a7-8050-4c1e-a884-919d975a058b",
   "metadata": {
    "tags": [],
    "ExecuteTime": {
     "start_time": "2023-05-23T19:43:30.213316Z",
     "end_time": "2023-05-23T19:43:30.228949Z"
    }
   },
   "outputs": [],
   "source": [
    "# for one aid now\n",
    "aid = 914# aid_list[0]\n",
    "random_state = 131313"
   ]
  },
  {
   "cell_type": "markdown",
   "id": "e6bcb871-5cf1-4047-88ee-a660a24d4eec",
   "metadata": {},
   "source": [
    "## Select mode: smooth for 2 dim label and hard for 1-dim label"
   ]
  },
  {
   "cell_type": "code",
   "execution_count": 5,
   "id": "d5916d66-9a4e-4fa1-85cd-14abba879aff",
   "metadata": {
    "tags": [],
    "ExecuteTime": {
     "start_time": "2023-05-23T19:43:30.228949Z",
     "end_time": "2023-05-23T19:43:30.244574Z"
    }
   },
   "outputs": [],
   "source": [
    "# mode = \"smooth\"\n",
    "mode = \"hard\""
   ]
  },
  {
   "cell_type": "markdown",
   "id": "1dc9c992-b705-4f70-aeaa-01f5b7f26d9e",
   "metadata": {},
   "source": [
    "## Load pytorch data"
   ]
  },
  {
   "cell_type": "code",
   "execution_count": 6,
   "id": "738f2a3a-efa6-4bcf-8b8d-75c4e16c2e61",
   "metadata": {
    "tags": [],
    "ExecuteTime": {
     "start_time": "2023-05-23T19:43:30.244574Z",
     "end_time": "2023-05-23T19:43:43.293350Z"
    }
   },
   "outputs": [],
   "source": [
    "whole_data = gnn_load.load_pyg_data_aid(aid=aid, label_type=mode, do_in_parallel=True)"
   ]
  },
  {
   "cell_type": "code",
   "execution_count": 7,
   "id": "334a1a7c-ab2e-47ae-90bf-73a10075d6e5",
   "metadata": {
    "tags": [],
    "ExecuteTime": {
     "start_time": "2023-05-23T19:43:43.293350Z",
     "end_time": "2023-05-23T19:43:43.340225Z"
    }
   },
   "outputs": [
    {
     "data": {
      "text/plain": "[Data(x=[13, 9], edge_index=[2, 28], edge_attr=[28, 3], smiles='CNCCC1=CNC2=CC=CC=C21', y=[1]),\n Data(x=[21, 9], edge_index=[2, 40], edge_attr=[40, 3], smiles='CCCCCCCCCCCCCCCC(C(CO)N)O', y=[1]),\n Data(x=[25, 9], edge_index=[2, 56], edge_attr=[56, 3], smiles='C[C@]12CCC(=O)C=C1CC[C@@H]3[C@@H]2CC[C@]4([C@H]3CC[C@@]4(C(=O)CO)O)C', y=[1]),\n Data(x=[19, 9], edge_index=[2, 42], edge_attr=[42, 3], smiles='C1=CC=C(C=C1)C2=NC3=CC=CC=C3C(=C2)C(=O)O', y=[1])]"
     },
     "execution_count": 7,
     "metadata": {},
     "output_type": "execute_result"
    }
   ],
   "source": [
    "whole_data[:4]"
   ]
  },
  {
   "cell_type": "code",
   "execution_count": 8,
   "id": "f6dff1f3-fdef-4cb2-a935-5d4c02fd4449",
   "metadata": {
    "tags": [],
    "ExecuteTime": {
     "start_time": "2023-05-23T19:43:43.308978Z",
     "end_time": "2023-05-23T19:43:43.371477Z"
    }
   },
   "outputs": [],
   "source": [
    "# build labels for split\n",
    "labels_hard = np.array([\n",
    "    data.y.detach().cpu().numpy()\n",
    "    for data in whole_data\n",
    "]).flatten().astype(int)"
   ]
  },
  {
   "cell_type": "code",
   "execution_count": 9,
   "id": "e046a4f5-b1eb-461e-8734-8a5435e74d53",
   "metadata": {
    "tags": [],
    "ExecuteTime": {
     "start_time": "2023-05-23T19:43:43.340225Z",
     "end_time": "2023-05-23T19:43:43.371477Z"
    }
   },
   "outputs": [
    {
     "data": {
      "text/plain": "(7340,)"
     },
     "execution_count": 9,
     "metadata": {},
     "output_type": "execute_result"
    }
   ],
   "source": [
    "labels_hard.shape"
   ]
  },
  {
   "cell_type": "code",
   "execution_count": 10,
   "id": "863b1a20-0393-4474-99ae-e0c374afbca5",
   "metadata": {
    "tags": [],
    "ExecuteTime": {
     "start_time": "2023-05-23T19:43:43.355852Z",
     "end_time": "2023-05-23T19:43:43.387104Z"
    }
   },
   "outputs": [
    {
     "data": {
      "text/plain": "216"
     },
     "execution_count": 10,
     "metadata": {},
     "output_type": "execute_result"
    }
   ],
   "source": [
    "labels_hard.sum()"
   ]
  },
  {
   "cell_type": "code",
   "execution_count": 11,
   "id": "091538ef-e36a-4840-9209-23250f41a4b5",
   "metadata": {
    "tags": [],
    "ExecuteTime": {
     "start_time": "2023-05-23T19:43:43.371477Z",
     "end_time": "2023-05-23T19:43:43.387104Z"
    }
   },
   "outputs": [],
   "source": [
    "# data splitting\n",
    "for train_idx, test_idx in StratifiedShuffleSplit(n_splits=1, random_state=random_state, test_size=0.2).split(whole_data, labels_hard):\n",
    "    break"
   ]
  },
  {
   "cell_type": "code",
   "execution_count": 12,
   "id": "033edddc-a5e0-4e18-a9fa-851006dfea24",
   "metadata": {
    "tags": [],
    "ExecuteTime": {
     "start_time": "2023-05-23T19:43:43.387104Z",
     "end_time": "2023-05-23T19:43:43.480852Z"
    }
   },
   "outputs": [
    {
     "data": {
      "text/plain": "0.029461852861035424"
     },
     "execution_count": 12,
     "metadata": {},
     "output_type": "execute_result"
    }
   ],
   "source": [
    "labels_hard[train_idx].sum()/len(train_idx)"
   ]
  },
  {
   "cell_type": "code",
   "execution_count": 13,
   "id": "24909250-85d7-4e78-9fc7-2f3b776427eb",
   "metadata": {
    "tags": [],
    "ExecuteTime": {
     "start_time": "2023-05-23T19:43:43.402729Z",
     "end_time": "2023-05-23T19:43:43.496629Z"
    }
   },
   "outputs": [
    {
     "data": {
      "text/plain": "0.029291553133514985"
     },
     "execution_count": 13,
     "metadata": {},
     "output_type": "execute_result"
    }
   ],
   "source": [
    "labels_hard[test_idx].sum()/len(test_idx)"
   ]
  },
  {
   "cell_type": "code",
   "execution_count": 14,
   "id": "29a4f223-151f-4d79-98f4-5a44efeb3384",
   "metadata": {
    "tags": [],
    "ExecuteTime": {
     "start_time": "2023-05-23T19:43:43.418353Z",
     "end_time": "2023-05-23T19:43:43.496629Z"
    }
   },
   "outputs": [],
   "source": [
    "# create the data loader\n",
    "dl_train = torch_geometric.loader.DataLoader([whole_data[idx] for idx in train_idx], batch_size=100)\n",
    "dl_test = torch_geometric.loader.DataLoader([whole_data[idx] for idx in test_idx], batch_size=100)"
   ]
  },
  {
   "cell_type": "markdown",
   "id": "46f9181d-2cfa-43d4-a1f2-b3a88bab476c",
   "metadata": {
    "tags": []
   },
   "source": [
    "## Instantiate model"
   ]
  },
  {
   "cell_type": "code",
   "execution_count": 15,
   "id": "c19960dd-112f-41e6-9c21-c015198a3e7a",
   "metadata": {
    "tags": [],
    "ExecuteTime": {
     "start_time": "2023-05-23T19:43:56.101889Z",
     "end_time": "2023-05-23T19:43:56.148760Z"
    }
   },
   "outputs": [],
   "source": [
    "# GNN model\n",
    "model = GIN_nn.GIN_basic(1, jk=\"cat\")"
   ]
  },
  {
   "cell_type": "code",
   "execution_count": 16,
   "id": "2bb59225-a14c-4c1e-97eb-5b201a39a571",
   "metadata": {
    "tags": [],
    "ExecuteTime": {
     "start_time": "2023-05-23T19:43:56.666048Z",
     "end_time": "2023-05-23T19:43:56.697298Z"
    }
   },
   "outputs": [],
   "source": [
    "# loss\n",
    "loss = torch.nn.BCEWithLogitsLoss(pos_weight=torch.tensor([len(train_idx)/labels_hard[train_idx].sum()]))"
   ]
  },
  {
   "cell_type": "code",
   "execution_count": 17,
   "id": "2fa041b0-4c46-49a2-bb7e-a8641c1768e6",
   "metadata": {
    "tags": [],
    "ExecuteTime": {
     "start_time": "2023-05-23T19:43:58.095193Z",
     "end_time": "2023-05-23T19:43:58.110529Z"
    }
   },
   "outputs": [],
   "source": [
    "# device\n",
    "device = torch.device('cuda')"
   ]
  },
  {
   "cell_type": "code",
   "execution_count": 18,
   "id": "6a9b0355-05a4-489a-ae82-2a92db20518a",
   "metadata": {
    "tags": [],
    "ExecuteTime": {
     "start_time": "2023-05-23T19:43:58.710970Z",
     "end_time": "2023-05-23T19:43:58.725975Z"
    }
   },
   "outputs": [
    {
     "data": {
      "text/plain": "device(type='cuda')"
     },
     "execution_count": 18,
     "metadata": {},
     "output_type": "execute_result"
    }
   ],
   "source": [
    "device"
   ]
  },
  {
   "cell_type": "code",
   "execution_count": 19,
   "id": "ad9e74c0-8fbd-4b1c-a315-dc9ead69658d",
   "metadata": {
    "tags": [],
    "ExecuteTime": {
     "start_time": "2023-05-23T19:44:00.305527Z",
     "end_time": "2023-05-23T19:44:00.432021Z"
    }
   },
   "outputs": [],
   "source": [
    "model = model.to(device)\n",
    "loss = loss.to(device)"
   ]
  },
  {
   "cell_type": "code",
   "execution_count": 20,
   "id": "aadbf418-544f-4a41-85d6-4e8271a377b1",
   "metadata": {
    "tags": [],
    "ExecuteTime": {
     "start_time": "2023-05-23T19:44:01.523453Z",
     "end_time": "2023-05-23T19:44:01.554589Z"
    }
   },
   "outputs": [],
   "source": [
    "# optimizer\n",
    "optimizer = torch.optim.Adam(model.parameters(), lr=0.001)"
   ]
  },
  {
   "cell_type": "markdown",
   "id": "4094f527-9438-4467-88bb-67fee51b889e",
   "metadata": {},
   "source": [
    "## Train model"
   ]
  },
  {
   "cell_type": "code",
   "execution_count": 31,
   "id": "828d0f75-716b-4126-8b6f-e6380414d527",
   "metadata": {
    "tags": [],
    "ExecuteTime": {
     "start_time": "2023-05-23T19:44:36.960947Z",
     "end_time": "2023-05-23T19:44:39.008426Z"
    }
   },
   "outputs": [
    {
     "name": "stderr",
     "output_type": "stream",
     "text": [
      "100%|██████████| 59/59 [00:02<00:00, 29.04it/s]\n"
     ]
    },
    {
     "data": {
      "text/plain": "0.6914166"
     },
     "execution_count": 31,
     "metadata": {},
     "output_type": "execute_result"
    }
   ],
   "source": [
    "# training:\n",
    "execution.training(model, dl_train, device, optimizer, loss)"
   ]
  },
  {
   "cell_type": "markdown",
   "id": "dafb34ec-bead-4f59-b8b0-bcddef6ae073",
   "metadata": {},
   "source": [
    "## Testing model"
   ]
  },
  {
   "cell_type": "code",
   "execution_count": 32,
   "id": "7218e1f0-56b1-46c1-9e7d-9e36c81b0bf7",
   "metadata": {
    "tags": [],
    "ExecuteTime": {
     "start_time": "2023-05-23T19:44:44.578094Z",
     "end_time": "2023-05-23T19:44:45.044177Z"
    }
   },
   "outputs": [
    {
     "name": "stderr",
     "output_type": "stream",
     "text": [
      "100%|██████████| 15/15 [00:00<00:00, 33.34it/s]\n"
     ]
    }
   ],
   "source": [
    "# testing:\n",
    "pred_hard = execution.predict(model, dl_test, device, reduce_to_hard_label=True)"
   ]
  },
  {
   "cell_type": "code",
   "execution_count": 33,
   "id": "255aab42-874a-49f9-94ef-3e8382149cd4",
   "metadata": {
    "tags": [],
    "ExecuteTime": {
     "start_time": "2023-05-23T19:44:45.990024Z",
     "end_time": "2023-05-23T19:44:46.005657Z"
    }
   },
   "outputs": [
    {
     "data": {
      "text/plain": "0.39373297002724794"
     },
     "execution_count": 33,
     "metadata": {},
     "output_type": "execute_result"
    }
   ],
   "source": [
    "pred_hard.sum()/pred_hard.shape[0]"
   ]
  },
  {
   "cell_type": "code",
   "execution_count": 46,
   "outputs": [],
   "source": [
    "y_true = np.array([whole_data[idx].y.numpy() for idx in test_idx]).flatten()"
   ],
   "metadata": {
    "collapsed": false,
    "ExecuteTime": {
     "start_time": "2023-05-23T19:48:36.378332Z",
     "end_time": "2023-05-23T19:48:36.440786Z"
    }
   }
  },
  {
   "cell_type": "code",
   "execution_count": 47,
   "outputs": [
    {
     "name": "stdout",
     "output_type": "stream",
     "text": [
      "(1468,)\n",
      "(1468,)\n"
     ]
    }
   ],
   "source": [
    "print(y_true.shape)\n",
    "print(pred_hard.shape)"
   ],
   "metadata": {
    "collapsed": false,
    "ExecuteTime": {
     "start_time": "2023-05-23T19:48:37.101471Z",
     "end_time": "2023-05-23T19:48:37.117098Z"
    }
   }
  },
  {
   "cell_type": "code",
   "execution_count": 48,
   "outputs": [],
   "source": [
    "from sklearn.metrics import roc_auc_score"
   ],
   "metadata": {
    "collapsed": false,
    "ExecuteTime": {
     "start_time": "2023-05-23T19:49:36.747918Z",
     "end_time": "2023-05-23T19:49:36.762748Z"
    }
   }
  },
  {
   "cell_type": "code",
   "execution_count": 49,
   "outputs": [
    {
     "data": {
      "text/plain": "0.776344349245206"
     },
     "execution_count": 49,
     "metadata": {},
     "output_type": "execute_result"
    }
   ],
   "source": [
    "roc_auc_score(y_true=y_true, y_score=pred_hard)"
   ],
   "metadata": {
    "collapsed": false,
    "ExecuteTime": {
     "start_time": "2023-05-23T19:49:43.985103Z",
     "end_time": "2023-05-23T19:49:43.998696Z"
    }
   }
  },
  {
   "cell_type": "code",
   "execution_count": 50,
   "outputs": [
    {
     "data": {
      "text/plain": "0.776344349245206"
     },
     "execution_count": 50,
     "metadata": {},
     "output_type": "execute_result"
    }
   ],
   "source": [
    "roc_auc_score(y_true=y_true, y_score=pred_hard, average=\"weighted\")"
   ],
   "metadata": {
    "collapsed": false,
    "ExecuteTime": {
     "start_time": "2023-05-23T19:49:54.365535Z",
     "end_time": "2023-05-23T19:49:54.396832Z"
    }
   }
  },
  {
   "cell_type": "code",
   "execution_count": null,
   "outputs": [],
   "source": [],
   "metadata": {
    "collapsed": false
   }
  },
  {
   "cell_type": "code",
   "execution_count": 31,
   "id": "d82c0583-6cd2-41ef-86a2-f99fb2058727",
   "metadata": {
    "tags": []
   },
   "outputs": [],
   "source": [
    "for batch in dl_train:\n",
    "    break"
   ]
  },
  {
   "cell_type": "code",
   "execution_count": 32,
   "id": "7fac48ed-2916-4f8c-bdf6-e97ae117b7ee",
   "metadata": {
    "tags": []
   },
   "outputs": [
    {
     "data": {
      "text/plain": [
       "DataBatch(x=[2428, 9], edge_index=[2, 5266], edge_attr=[5266, 3], smiles=[100], y=[100], batch=[2428], ptr=[101])"
      ]
     },
     "execution_count": 32,
     "metadata": {},
     "output_type": "execute_result"
    }
   ],
   "source": [
    "batch"
   ]
  },
  {
   "cell_type": "code",
   "execution_count": 33,
   "id": "3c2fa540-bddd-48ff-bf02-fbd3bcf8e8aa",
   "metadata": {
    "tags": []
   },
   "outputs": [],
   "source": [
    "batch = batch.to(device)"
   ]
  },
  {
   "cell_type": "code",
   "execution_count": 34,
   "id": "3a0ffbfe-86fb-4cd9-9014-055af749d026",
   "metadata": {
    "tags": []
   },
   "outputs": [],
   "source": [
    "pred = model(batch).flatten()"
   ]
  },
  {
   "cell_type": "code",
   "execution_count": 35,
   "id": "9c18933a-8d9d-45eb-8333-bb0d66e1c254",
   "metadata": {
    "tags": []
   },
   "outputs": [
    {
     "data": {
      "text/plain": [
       "BCEWithLogitsLoss()"
      ]
     },
     "execution_count": 35,
     "metadata": {},
     "output_type": "execute_result"
    }
   ],
   "source": [
    "loss.to(device)"
   ]
  },
  {
   "cell_type": "code",
   "execution_count": 36,
   "id": "20156320-3ec5-42bc-a928-c3f9033f1a3d",
   "metadata": {
    "tags": []
   },
   "outputs": [
    {
     "data": {
      "text/plain": [
       "tensor(1.3406, device='cuda:0',\n",
       "       grad_fn=<BinaryCrossEntropyWithLogitsBackward0>)"
      ]
     },
     "execution_count": 36,
     "metadata": {},
     "output_type": "execute_result"
    }
   ],
   "source": [
    "loss(pred, batch.y)"
   ]
  },
  {
   "cell_type": "code",
   "execution_count": 37,
   "id": "66dcdb76-0cc1-4b64-b2c0-b3cc8b2b65b6",
   "metadata": {
    "tags": []
   },
   "outputs": [
    {
     "data": {
      "text/plain": [
       "array([0, 0, 0, 1, 0])"
      ]
     },
     "execution_count": 37,
     "metadata": {},
     "output_type": "execute_result"
    }
   ],
   "source": [
    "pred_hard[:5]"
   ]
  },
  {
   "cell_type": "code",
   "execution_count": 38,
   "id": "4ea15b11-ed24-4fe6-abdc-17e64c3aae9c",
   "metadata": {
    "tags": []
   },
   "outputs": [],
   "source": [
    "# true labels\n",
    "pred_hard_true = np.array([data.y.numpy().astype(int) for data in [whole_data[idx] for idx in test_idx]]).flatten()"
   ]
  },
  {
   "cell_type": "code",
   "execution_count": 39,
   "id": "f8ea207e-c705-4604-aed4-d7052961a0e0",
   "metadata": {
    "tags": []
   },
   "outputs": [
    {
     "data": {
      "text/plain": [
       "array([0, 0, 0, 0, 0])"
      ]
     },
     "execution_count": 39,
     "metadata": {},
     "output_type": "execute_result"
    }
   ],
   "source": [
    "pred_hard_true[:5]"
   ]
  },
  {
   "cell_type": "code",
   "execution_count": 40,
   "id": "b71f220f-4034-4849-9575-cac30dc70a58",
   "metadata": {
    "tags": []
   },
   "outputs": [],
   "source": [
    "# get accuracy scores\n",
    "acc = accuracy.calculate_accuracies_1d(y_true=pred_hard_true, y_pred=pred_hard)"
   ]
  },
  {
   "cell_type": "code",
   "execution_count": 41,
   "id": "9d0e770e-0348-4c77-b036-282929cb0a7e",
   "metadata": {
    "tags": []
   },
   "outputs": [
    {
     "data": {
      "text/plain": [
       "{'accuracy_score': 0.7445504087193461,\n",
       " 'balanced_accuracy': 0.7894818441452469,\n",
       " 'roc_score': 0.7894818441452469,\n",
       " 'precision': 0.9669323454825047,\n",
       " 'recall': 0.7445504087193461}"
      ]
     },
     "execution_count": 41,
     "metadata": {},
     "output_type": "execute_result"
    }
   ],
   "source": [
    "acc.to_dict()"
   ]
  },
  {
   "cell_type": "code",
   "execution_count": 43,
   "id": "5dd9dedd-f6a3-4ae3-93e4-63c1eefe98ed",
   "metadata": {
    "tags": []
   },
   "outputs": [],
   "source": [
    "df = acc.to_df(index=1)"
   ]
  },
  {
   "cell_type": "code",
   "execution_count": 51,
   "id": "2355111c-5e48-4772-a33d-51a252a6c44a",
   "metadata": {
    "tags": []
   },
   "outputs": [
    {
     "data": {
      "text/html": [
       "<div>\n",
       "<style scoped>\n",
       "    .dataframe tbody tr th:only-of-type {\n",
       "        vertical-align: middle;\n",
       "    }\n",
       "\n",
       "    .dataframe tbody tr th {\n",
       "        vertical-align: top;\n",
       "    }\n",
       "\n",
       "    .dataframe thead tr th {\n",
       "        text-align: left;\n",
       "    }\n",
       "</style>\n",
       "<table border=\"1\" class=\"dataframe\">\n",
       "  <thead>\n",
       "    <tr>\n",
       "      <th></th>\n",
       "      <th colspan=\"5\" halign=\"left\">training</th>\n",
       "      <th colspan=\"5\" halign=\"left\">testing</th>\n",
       "    </tr>\n",
       "    <tr>\n",
       "      <th></th>\n",
       "      <th>accuracy_score</th>\n",
       "      <th>balanced_accuracy</th>\n",
       "      <th>roc_score</th>\n",
       "      <th>precision</th>\n",
       "      <th>recall</th>\n",
       "      <th>accuracy_score</th>\n",
       "      <th>balanced_accuracy</th>\n",
       "      <th>roc_score</th>\n",
       "      <th>precision</th>\n",
       "      <th>recall</th>\n",
       "    </tr>\n",
       "  </thead>\n",
       "  <tbody>\n",
       "    <tr>\n",
       "      <th>1</th>\n",
       "      <td>0.74455</td>\n",
       "      <td>0.789482</td>\n",
       "      <td>0.789482</td>\n",
       "      <td>0.966932</td>\n",
       "      <td>0.74455</td>\n",
       "      <td>0.74455</td>\n",
       "      <td>0.789482</td>\n",
       "      <td>0.789482</td>\n",
       "      <td>0.966932</td>\n",
       "      <td>0.74455</td>\n",
       "    </tr>\n",
       "  </tbody>\n",
       "</table>\n",
       "</div>"
      ],
      "text/plain": [
       "        training                                                 \\\n",
       "  accuracy_score balanced_accuracy roc_score precision   recall   \n",
       "1        0.74455          0.789482  0.789482  0.966932  0.74455   \n",
       "\n",
       "         testing                                                 \n",
       "  accuracy_score balanced_accuracy roc_score precision   recall  \n",
       "1        0.74455          0.789482  0.789482  0.966932  0.74455  "
      ]
     },
     "execution_count": 51,
     "metadata": {},
     "output_type": "execute_result"
    }
   ],
   "source": [
    "df_temp = pd.concat([df, df], axis=1, keys=['training', 'testing'])\n",
    "df_temp.head()"
   ]
  },
  {
   "cell_type": "code",
   "execution_count": 52,
   "id": "fed5518e-8e54-49d8-ae88-40113546fa0b",
   "metadata": {
    "tags": []
   },
   "outputs": [
    {
     "data": {
      "text/html": [
       "<div>\n",
       "<style scoped>\n",
       "    .dataframe tbody tr th:only-of-type {\n",
       "        vertical-align: middle;\n",
       "    }\n",
       "\n",
       "    .dataframe tbody tr th {\n",
       "        vertical-align: top;\n",
       "    }\n",
       "\n",
       "    .dataframe thead th {\n",
       "        text-align: right;\n",
       "    }\n",
       "</style>\n",
       "<table border=\"1\" class=\"dataframe\">\n",
       "  <thead>\n",
       "    <tr style=\"text-align: right;\">\n",
       "      <th></th>\n",
       "      <th>accuracy_score</th>\n",
       "      <th>balanced_accuracy</th>\n",
       "      <th>roc_score</th>\n",
       "      <th>precision</th>\n",
       "      <th>recall</th>\n",
       "    </tr>\n",
       "  </thead>\n",
       "  <tbody>\n",
       "    <tr>\n",
       "      <th>1</th>\n",
       "      <td>0.74455</td>\n",
       "      <td>0.789482</td>\n",
       "      <td>0.789482</td>\n",
       "      <td>0.966932</td>\n",
       "      <td>0.74455</td>\n",
       "    </tr>\n",
       "  </tbody>\n",
       "</table>\n",
       "</div>"
      ],
      "text/plain": [
       "   accuracy_score  balanced_accuracy  roc_score  precision   recall\n",
       "1         0.74455           0.789482   0.789482   0.966932  0.74455"
      ]
     },
     "execution_count": 52,
     "metadata": {},
     "output_type": "execute_result"
    }
   ],
   "source": [
    "df_temp.training"
   ]
  },
  {
   "cell_type": "code",
   "execution_count": 55,
   "id": "cca71a21-3807-4c1a-8951-00a53d1b6ef0",
   "metadata": {
    "tags": []
   },
   "outputs": [],
   "source": [
    "df_temp.to_csv(\"test.csv\")"
   ]
  },
  {
   "cell_type": "code",
   "execution_count": 61,
   "id": "40062f00-099e-4d9f-a2bb-bc455d102459",
   "metadata": {
    "tags": []
   },
   "outputs": [
    {
     "data": {
      "text/html": [
       "<div>\n",
       "<style scoped>\n",
       "    .dataframe tbody tr th:only-of-type {\n",
       "        vertical-align: middle;\n",
       "    }\n",
       "\n",
       "    .dataframe tbody tr th {\n",
       "        vertical-align: top;\n",
       "    }\n",
       "\n",
       "    .dataframe thead tr th {\n",
       "        text-align: left;\n",
       "    }\n",
       "</style>\n",
       "<table border=\"1\" class=\"dataframe\">\n",
       "  <thead>\n",
       "    <tr>\n",
       "      <th></th>\n",
       "      <th colspan=\"5\" halign=\"left\">training</th>\n",
       "      <th colspan=\"5\" halign=\"left\">testing</th>\n",
       "    </tr>\n",
       "    <tr>\n",
       "      <th></th>\n",
       "      <th>accuracy_score</th>\n",
       "      <th>balanced_accuracy</th>\n",
       "      <th>roc_score</th>\n",
       "      <th>precision</th>\n",
       "      <th>recall</th>\n",
       "      <th>accuracy_score</th>\n",
       "      <th>balanced_accuracy</th>\n",
       "      <th>roc_score</th>\n",
       "      <th>precision</th>\n",
       "      <th>recall</th>\n",
       "    </tr>\n",
       "  </thead>\n",
       "  <tbody>\n",
       "    <tr>\n",
       "      <th>1</th>\n",
       "      <td>0.74455</td>\n",
       "      <td>0.789482</td>\n",
       "      <td>0.789482</td>\n",
       "      <td>0.966932</td>\n",
       "      <td>0.74455</td>\n",
       "      <td>0.74455</td>\n",
       "      <td>0.789482</td>\n",
       "      <td>0.789482</td>\n",
       "      <td>0.966932</td>\n",
       "      <td>0.74455</td>\n",
       "    </tr>\n",
       "  </tbody>\n",
       "</table>\n",
       "</div>"
      ],
      "text/plain": [
       "        training                                                 \\\n",
       "  accuracy_score balanced_accuracy roc_score precision   recall   \n",
       "1        0.74455          0.789482  0.789482  0.966932  0.74455   \n",
       "\n",
       "         testing                                                 \n",
       "  accuracy_score balanced_accuracy roc_score precision   recall  \n",
       "1        0.74455          0.789482  0.789482  0.966932  0.74455  "
      ]
     },
     "execution_count": 61,
     "metadata": {},
     "output_type": "execute_result"
    }
   ],
   "source": [
    "df_load = pd.read_csv(\"test.csv\", header=[0,1], index_col=[0])\n",
    "df_load.head()"
   ]
  },
  {
   "cell_type": "code",
   "execution_count": 63,
   "id": "4fe92b80-84e6-4c52-abee-5057b8e01a5e",
   "metadata": {
    "tags": []
   },
   "outputs": [
    {
     "data": {
      "text/plain": [
       "array([0.74455041])"
      ]
     },
     "execution_count": 63,
     "metadata": {},
     "output_type": "execute_result"
    }
   ],
   "source": [
    "df_load.training.accuracy_score.to_numpy()"
   ]
  },
  {
   "cell_type": "markdown",
   "id": "2241e314-8879-4eb2-b271-06418d2b0c7d",
   "metadata": {
    "tags": []
   },
   "source": [
    "## Self distillation elements"
   ]
  },
  {
   "cell_type": "code",
   "execution_count": 35,
   "id": "ece43f5a-0bb4-4950-b0a0-6f106c64a298",
   "metadata": {
    "tags": []
   },
   "outputs": [],
   "source": [
    "# define number_to_pick\n",
    "number_to_pick = 100"
   ]
  },
  {
   "cell_type": "code",
   "execution_count": null,
   "id": "1af18e1f-e744-4f8b-beed-cdd2e255f20e",
   "metadata": {
    "tags": []
   },
   "outputs": [],
   "source": [
    "# load data for self distillation\n",
    "selfdistillation_data = sd_utils.generate_gnn_sd_data(aid=aid)"
   ]
  },
  {
   "cell_type": "code",
   "execution_count": 78,
   "id": "c06ea51d-e406-4309-8f76-e89c529d5ad7",
   "metadata": {
    "tags": []
   },
   "outputs": [
    {
     "name": "stderr",
     "output_type": "stream",
     "text": [
      "100%|██████████████████████████████████████████████████████████████████████████████████████████████████████████████████████████████████████████████████████████████████████████████████████████████████████████████████████████████████████████████████████████████████████████████| 4455/4455 [01:02<00:00, 71.14it/s]\n"
     ]
    }
   ],
   "source": [
    "# get good elements to insert into training pool for student model\n",
    "selected, remaining = sd_utils.self_distillation_procedure_1dim(\n",
    "    model=model, \n",
    "    self_distillation_data=selfdistillation_data, \n",
    "    number_to_pick=number_to_pick, \n",
    "    device=device, \n",
    "    correct_label=False, \n",
    "    batch_size=100\n",
    ")"
   ]
  },
  {
   "cell_type": "code",
   "execution_count": 79,
   "id": "7cdb4992-3429-44e7-ad04-f81504db111f",
   "metadata": {
    "tags": []
   },
   "outputs": [
    {
     "data": {
      "text/plain": [
       "[Data(x=[5, 9], edge_index=[2, 8], edge_attr=[8, 3], smiles='OS(=O)(=O)O', y=[1]),\n",
       " Data(x=[11, 9], edge_index=[2, 20], edge_attr=[20, 3], smiles='C(P(=O)(O)O)(P(=O)(O)O)(Cl)Cl', y=[1]),\n",
       " Data(x=[4, 9], edge_index=[2, 6], edge_attr=[6, 3], smiles='Cl[Sb](Cl)Cl', y=[1]),\n",
       " Data(x=[9, 9], edge_index=[2, 18], edge_attr=[18, 3], smiles='C1(=O)NC(=O)NC(=O)N1', y=[1]),\n",
       " Data(x=[5, 9], edge_index=[2, 8], edge_attr=[8, 3], smiles='CS(=O)(=O)O', y=[1])]"
      ]
     },
     "execution_count": 79,
     "metadata": {},
     "output_type": "execute_result"
    }
   ],
   "source": [
    "selected[:5]"
   ]
  },
  {
   "cell_type": "code",
   "execution_count": 80,
   "id": "b26ef592-6ead-4584-af27-38bb6a5c3ec5",
   "metadata": {
    "tags": []
   },
   "outputs": [],
   "source": [
    "label_analysis = np.array([data.y.numpy() for data in selected])"
   ]
  },
  {
   "cell_type": "code",
   "execution_count": 81,
   "id": "08e4ddb6-a904-484c-828f-d47e63553067",
   "metadata": {
    "tags": []
   },
   "outputs": [
    {
     "data": {
      "text/plain": [
       "1.4962436580390205e-07"
      ]
     },
     "execution_count": 81,
     "metadata": {},
     "output_type": "execute_result"
    }
   ],
   "source": [
    "label_analysis.sum()/label_analysis.shape[0]"
   ]
  },
  {
   "cell_type": "code",
   "execution_count": 82,
   "id": "9f181560-0fac-4254-b39c-b3353d2b1869",
   "metadata": {},
   "outputs": [
    {
     "name": "stderr",
     "output_type": "stream",
     "text": [
      "100%|██████████████████████████████████████████████████████████████████████████████████████████████████████████████████████████████████████████████████████████████████████████████████████████████████████████████████████████████████████████████████████████████████████████████| 4455/4455 [01:00<00:00, 73.64it/s]\n"
     ]
    }
   ],
   "source": [
    "selected2, remaining2 = sd_utils.self_distillation_procedure_1dim_advanced(\n",
    "    model=model, \n",
    "    self_distillation_data=selfdistillation_data, \n",
    "    number_to_pick=number_to_pick, \n",
    "    pos_elem_to_pick_ratio=0.3,\n",
    "    device=device, \n",
    "    correct_label=False, \n",
    "    batch_size=100\n",
    ")"
   ]
  },
  {
   "cell_type": "code",
   "execution_count": 83,
   "id": "cfcaa8db-4795-47cb-895b-6a4d96e99960",
   "metadata": {},
   "outputs": [],
   "source": [
    "label_analysis2 = np.array([data.y.numpy() for data in selected2])"
   ]
  },
  {
   "cell_type": "code",
   "execution_count": 84,
   "id": "dc1b2ac6-0c27-4d14-bd1c-a167556177c1",
   "metadata": {},
   "outputs": [
    {
     "data": {
      "text/plain": [
       "0.29977272033691404"
      ]
     },
     "execution_count": 84,
     "metadata": {},
     "output_type": "execute_result"
    }
   ],
   "source": [
    "label_analysis2.sum()/label_analysis2.shape[0]"
   ]
  },
  {
   "cell_type": "code",
   "execution_count": null,
   "id": "622247da-4693-4ca1-ad48-b6fde2517462",
   "metadata": {
    "tags": []
   },
   "outputs": [],
   "source": [
    "# todo: ausbauen auf viele epochen und student - teacher übergang. außerdem begutachten ob positive oder negative label bevorzugt werden sollten"
   ]
  },
  {
   "cell_type": "markdown",
   "id": "5c1a7ddd-1802-42f4-92bd-470af7e589c1",
   "metadata": {},
   "source": [
    "## Whole iteration for a certain number of epochs"
   ]
  },
  {
   "cell_type": "code",
   "execution_count": 15,
   "id": "65501cf0-5cc7-44de-a688-1feb62cb5020",
   "metadata": {
    "tags": []
   },
   "outputs": [],
   "source": [
    "# GNN model\n",
    "model = GIN_nn.GIN_basic(1)\n",
    "# loss\n",
    "loss = torch.nn.BCEWithLogitsLoss(pos_weight=torch.tensor([len(train_idx)/labels_hard[train_idx].sum()]))\n",
    "# device\n",
    "device = torch.device('cuda')\n",
    "model = model.to(device)\n",
    "loss = loss.to(device)\n",
    "# optimizer\n",
    "optimizer = torch.optim.Adam(model.parameters(), lr=0.001)"
   ]
  },
  {
   "cell_type": "code",
   "execution_count": 16,
   "id": "de8637b3-22f2-4b06-af4a-45345196ac80",
   "metadata": {
    "tags": []
   },
   "outputs": [],
   "source": [
    "# define number of epochs\n",
    "epochs = 100"
   ]
  },
  {
   "cell_type": "code",
   "execution_count": 17,
   "id": "44daa2de-b758-4c5b-ba6c-764dd5e239d5",
   "metadata": {
    "tags": []
   },
   "outputs": [],
   "source": [
    "# define loss saving space\n",
    "loss_storage = []"
   ]
  },
  {
   "cell_type": "code",
   "execution_count": 18,
   "id": "b08c5021-8af3-4dd3-868e-39d8acfe8ed0",
   "metadata": {
    "tags": []
   },
   "outputs": [],
   "source": [
    "# define accuracy storage\n",
    "accuracy_storage = []"
   ]
  },
  {
   "cell_type": "code",
   "execution_count": 19,
   "id": "f1cd822e-bd34-4fdb-b754-8b8d3becab26",
   "metadata": {
    "tags": []
   },
   "outputs": [
    {
     "name": "stderr",
     "output_type": "stream",
     "text": [
      "100%|████████████████████████████████████████████████████████████████████████████████████████████████████████████████████████████████████████████████████████████████████████████████████████████████████████████████████████████████████████████████████████████████████████████████| 100/100 [03:47<00:00,  2.28s/it]\n"
     ]
    }
   ],
   "source": [
    "# iterate over epochs\n",
    "for epoch in tqdm(range(epochs)):\n",
    "    \n",
    "    # do training step\n",
    "    loss_value = execution.training(model, dl_train, device, optimizer, loss, verbose=False)\n",
    "    \n",
    "    # put loss into storage\n",
    "    loss_storage.append(loss_value)\n",
    "    \n",
    "    # do testing step\n",
    "    y_pred_hard = execution.predict(model, dl_test, device, reduce_to_hard_label=True, verbose=False)\n",
    "    \n",
    "    # calculate accuracy DataFrame\n",
    "    accuracy_storage.append(\n",
    "        # get accuracy class and from it the DataFrame\n",
    "        accuracy.calculate_accuracies_1d(\n",
    "            y_pred=y_pred_hard, \n",
    "            y_true=accuracy.helper_pyg_to_numpy_label(\n",
    "                data_loader=dl_test\n",
    "            )\n",
    "        ).to_df(index=epoch)\n",
    "    )\n",
    "\n",
    "# transform accuracy storage to pandas df\n",
    "accuracy_storage = pd.concat(accuracy_storage)\n",
    "\n",
    "# add new column for loss\n",
    "accuracy_storage['loss'] = loss_storage"
   ]
  },
  {
   "cell_type": "code",
   "execution_count": 20,
   "id": "b62472f0-c5da-46fa-b058-ee4fb6e43c46",
   "metadata": {
    "tags": []
   },
   "outputs": [
    {
     "data": {
      "text/html": [
       "<div>\n",
       "<style scoped>\n",
       "    .dataframe tbody tr th:only-of-type {\n",
       "        vertical-align: middle;\n",
       "    }\n",
       "\n",
       "    .dataframe tbody tr th {\n",
       "        vertical-align: top;\n",
       "    }\n",
       "\n",
       "    .dataframe thead th {\n",
       "        text-align: right;\n",
       "    }\n",
       "</style>\n",
       "<table border=\"1\" class=\"dataframe\">\n",
       "  <thead>\n",
       "    <tr style=\"text-align: right;\">\n",
       "      <th></th>\n",
       "      <th>accuracy_score</th>\n",
       "      <th>balanced_accuracy</th>\n",
       "      <th>roc_score</th>\n",
       "      <th>precision</th>\n",
       "      <th>recall</th>\n",
       "      <th>loss</th>\n",
       "    </tr>\n",
       "  </thead>\n",
       "  <tbody>\n",
       "    <tr>\n",
       "      <th>0</th>\n",
       "      <td>0.707084</td>\n",
       "      <td>0.781461</td>\n",
       "      <td>0.781461</td>\n",
       "      <td>0.967276</td>\n",
       "      <td>0.707084</td>\n",
       "      <td>1.075582</td>\n",
       "    </tr>\n",
       "    <tr>\n",
       "      <th>1</th>\n",
       "      <td>0.966621</td>\n",
       "      <td>0.497895</td>\n",
       "      <td>0.497895</td>\n",
       "      <td>0.942158</td>\n",
       "      <td>0.966621</td>\n",
       "      <td>0.932220</td>\n",
       "    </tr>\n",
       "    <tr>\n",
       "      <th>2</th>\n",
       "      <td>0.858311</td>\n",
       "      <td>0.791693</td>\n",
       "      <td>0.791693</td>\n",
       "      <td>0.965322</td>\n",
       "      <td>0.858311</td>\n",
       "      <td>0.857156</td>\n",
       "    </tr>\n",
       "    <tr>\n",
       "      <th>3</th>\n",
       "      <td>0.956403</td>\n",
       "      <td>0.582848</td>\n",
       "      <td>0.582848</td>\n",
       "      <td>0.953300</td>\n",
       "      <td>0.956403</td>\n",
       "      <td>0.806945</td>\n",
       "    </tr>\n",
       "    <tr>\n",
       "      <th>4</th>\n",
       "      <td>0.958447</td>\n",
       "      <td>0.640286</td>\n",
       "      <td>0.640286</td>\n",
       "      <td>0.958912</td>\n",
       "      <td>0.958447</td>\n",
       "      <td>0.799845</td>\n",
       "    </tr>\n",
       "    <tr>\n",
       "      <th>...</th>\n",
       "      <td>...</td>\n",
       "      <td>...</td>\n",
       "      <td>...</td>\n",
       "      <td>...</td>\n",
       "      <td>...</td>\n",
       "      <td>...</td>\n",
       "    </tr>\n",
       "    <tr>\n",
       "      <th>95</th>\n",
       "      <td>0.910763</td>\n",
       "      <td>0.818711</td>\n",
       "      <td>0.818711</td>\n",
       "      <td>0.967924</td>\n",
       "      <td>0.910763</td>\n",
       "      <td>0.306893</td>\n",
       "    </tr>\n",
       "    <tr>\n",
       "      <th>96</th>\n",
       "      <td>0.933924</td>\n",
       "      <td>0.819364</td>\n",
       "      <td>0.819364</td>\n",
       "      <td>0.969097</td>\n",
       "      <td>0.933924</td>\n",
       "      <td>0.261501</td>\n",
       "    </tr>\n",
       "    <tr>\n",
       "      <th>97</th>\n",
       "      <td>0.931880</td>\n",
       "      <td>0.818311</td>\n",
       "      <td>0.818311</td>\n",
       "      <td>0.968878</td>\n",
       "      <td>0.931880</td>\n",
       "      <td>0.221523</td>\n",
       "    </tr>\n",
       "    <tr>\n",
       "      <th>98</th>\n",
       "      <td>0.929837</td>\n",
       "      <td>0.817258</td>\n",
       "      <td>0.817258</td>\n",
       "      <td>0.968670</td>\n",
       "      <td>0.929837</td>\n",
       "      <td>0.260833</td>\n",
       "    </tr>\n",
       "    <tr>\n",
       "      <th>99</th>\n",
       "      <td>0.920300</td>\n",
       "      <td>0.823623</td>\n",
       "      <td>0.823623</td>\n",
       "      <td>0.968640</td>\n",
       "      <td>0.920300</td>\n",
       "      <td>0.316644</td>\n",
       "    </tr>\n",
       "  </tbody>\n",
       "</table>\n",
       "<p>100 rows × 6 columns</p>\n",
       "</div>"
      ],
      "text/plain": [
       "    accuracy_score  balanced_accuracy  roc_score  precision    recall  \\\n",
       "0         0.707084           0.781461   0.781461   0.967276  0.707084   \n",
       "1         0.966621           0.497895   0.497895   0.942158  0.966621   \n",
       "2         0.858311           0.791693   0.791693   0.965322  0.858311   \n",
       "3         0.956403           0.582848   0.582848   0.953300  0.956403   \n",
       "4         0.958447           0.640286   0.640286   0.958912  0.958447   \n",
       "..             ...                ...        ...        ...       ...   \n",
       "95        0.910763           0.818711   0.818711   0.967924  0.910763   \n",
       "96        0.933924           0.819364   0.819364   0.969097  0.933924   \n",
       "97        0.931880           0.818311   0.818311   0.968878  0.931880   \n",
       "98        0.929837           0.817258   0.817258   0.968670  0.929837   \n",
       "99        0.920300           0.823623   0.823623   0.968640  0.920300   \n",
       "\n",
       "        loss  \n",
       "0   1.075582  \n",
       "1   0.932220  \n",
       "2   0.857156  \n",
       "3   0.806945  \n",
       "4   0.799845  \n",
       "..       ...  \n",
       "95  0.306893  \n",
       "96  0.261501  \n",
       "97  0.221523  \n",
       "98  0.260833  \n",
       "99  0.316644  \n",
       "\n",
       "[100 rows x 6 columns]"
      ]
     },
     "execution_count": 20,
     "metadata": {},
     "output_type": "execute_result"
    }
   ],
   "source": [
    "accuracy_storage"
   ]
  },
  {
   "cell_type": "code",
   "execution_count": 21,
   "id": "0e02173b-bd43-4fae-a037-73db22aa6a80",
   "metadata": {
    "tags": []
   },
   "outputs": [
    {
     "data": {
      "image/png": "[encoded data removed]",
      "text/plain": [
       "<Figure size 640x480 with 1 Axes>"
      ]
     },
     "metadata": {},
     "output_type": "display_data"
    }
   ],
   "source": [
    "quality_zoom_factor = 1.\n",
    "plt.figure(figsize=(6.4*quality_zoom_factor,4.8*quality_zoom_factor))\n",
    "plt.plot(accuracy_storage.roc_score, label=\"roc_score\")\n",
    "plt.plot(accuracy_storage.precision, label=\"precision\")\n",
    "plt.plot(accuracy_storage.recall, label=\"recall\")\n",
    "plt.xlabel(\"epoch\")\n",
    "plt.ylabel(\"accuracy score\")\n",
    "plt.title(\"Accuracy scores on teacher model test - aid={}\".format(aid))\n",
    "plt.legend()\n",
    "# plt.savefig('test.png', bbox_inches='tight')\n",
    "plt.show()"
   ]
  },
  {
   "cell_type": "code",
   "execution_count": 67,
   "id": "65ed3eb8-556e-4715-8d72-f1f18dad6cf0",
   "metadata": {
    "tags": []
   },
   "outputs": [],
   "source": [
    "# accuracy_storage.to_csv(\"test.csv\", index=True, index_label=\"epoch\")"
   ]
  },
  {
   "cell_type": "code",
   "execution_count": null,
   "id": "99f043d3-2759-47a5-ab8c-672108283ed3",
   "metadata": {
    "tags": []
   },
   "outputs": [],
   "source": []
  },
  {
   "cell_type": "code",
   "execution_count": null,
   "id": "ac0a5ba6-804a-42e3-9d5d-c07b6019d879",
   "metadata": {},
   "outputs": [],
   "source": []
  },
  {
   "cell_type": "markdown",
   "id": "beba93be-6a25-4ccb-83e4-542a1f44bed6",
   "metadata": {},
   "source": [
    "## New self distillation"
   ]
  },
  {
   "cell_type": "code",
   "execution_count": 35,
   "id": "03694900-a295-4a6d-bf8d-47013acbb1e0",
   "metadata": {
    "tags": []
   },
   "outputs": [],
   "source": [
    "# get list of all molecules as pyg elements\n",
    "all_molec_list = gnn_load.load_all_pyg()"
   ]
  },
  {
   "cell_type": "code",
   "execution_count": 36,
   "id": "a8257f66-06fd-42ef-a18e-8c501d8cbeb5",
   "metadata": {
    "tags": []
   },
   "outputs": [],
   "source": [
    "# load all the smiles as string list\n",
    "all_smiles = np.array([mol.smiles for mol in all_molec_list], dtype=str)"
   ]
  },
  {
   "cell_type": "code",
   "execution_count": 37,
   "id": "c902a32b-bfe5-49c3-a7c7-1c6a2bd2e694",
   "metadata": {
    "tags": []
   },
   "outputs": [],
   "source": [
    "# get the aid smiles\n",
    "aid_smiles = gnn_load.load_pure_data(aid).smiles.to_numpy().astype(str)"
   ]
  },
  {
   "cell_type": "code",
   "execution_count": 39,
   "id": "2c99cb0e-787e-4c1b-92ea-0edacb33a03f",
   "metadata": {
    "tags": []
   },
   "outputs": [],
   "source": [
    "# get index of elements where the elements are not the same (new elements)\n",
    "idx = np.where(np.invert(np.in1d(all_smiles, aid_smiles)))[0].tolist()"
   ]
  },
  {
   "cell_type": "code",
   "execution_count": 47,
   "id": "384b0e0a-4e83-4287-8bcd-afa86e071eb3",
   "metadata": {
    "tags": []
   },
   "outputs": [],
   "source": [
    "# get the items which are new\n",
    "molec_list = list(map(all_molec_list.__getitem__, idx))\n",
    "dl_sd = torch_geometric.loader.DataLoader(molec_list, batch_size=100)"
   ]
  },
  {
   "cell_type": "code",
   "execution_count": 43,
   "id": "6f3d57ff-cac6-41fc-987c-c2c8ae5dd760",
   "metadata": {
    "tags": []
   },
   "outputs": [
    {
     "name": "stderr",
     "output_type": "stream",
     "text": [
      "100%|██████████████████████████████████████████████████████████████████████████████████████████████████████████████████████████████████████████████████████████████████████████████████████████████████████████████████████████████████████████████████████████████████████████████| 4455/4455 [00:53<00:00, 83.48it/s]\n"
     ]
    }
   ],
   "source": [
    "# get prediction\n",
    "sd_pred = execution.predict(model, dl_sd, device, reduce_to_hard_label=False, verbose=True)"
   ]
  },
  {
   "cell_type": "code",
   "execution_count": 51,
   "id": "90d25e47-75f4-40d1-acc8-592bee36b8d6",
   "metadata": {
    "tags": []
   },
   "outputs": [],
   "source": [
    "df_sd = pd.DataFrame({\n",
    "    \"smiles\": list(map(lambda x: x.smiles, molec_list)),\n",
    "    \"predicted_label_soft\": sd_pred\n",
    "})"
   ]
  },
  {
   "cell_type": "code",
   "execution_count": 52,
   "id": "31238fc4-0de6-4e67-a63f-c03c2a70931f",
   "metadata": {
    "tags": []
   },
   "outputs": [
    {
     "data": {
      "text/html": [
       "<div>\n",
       "<style scoped>\n",
       "    .dataframe tbody tr th:only-of-type {\n",
       "        vertical-align: middle;\n",
       "    }\n",
       "\n",
       "    .dataframe tbody tr th {\n",
       "        vertical-align: top;\n",
       "    }\n",
       "\n",
       "    .dataframe thead th {\n",
       "        text-align: right;\n",
       "    }\n",
       "</style>\n",
       "<table border=\"1\" class=\"dataframe\">\n",
       "  <thead>\n",
       "    <tr style=\"text-align: right;\">\n",
       "      <th></th>\n",
       "      <th>smiles</th>\n",
       "      <th>predicted_label_soft</th>\n",
       "    </tr>\n",
       "  </thead>\n",
       "  <tbody>\n",
       "    <tr>\n",
       "      <th>0</th>\n",
       "      <td>CC(CN)O</td>\n",
       "      <td>0.005720</td>\n",
       "    </tr>\n",
       "    <tr>\n",
       "      <th>1</th>\n",
       "      <td>C1=CC(=C(C=C1[N+](=O)[O-])[N+](=O)[O-])Cl</td>\n",
       "      <td>0.000042</td>\n",
       "    </tr>\n",
       "    <tr>\n",
       "      <th>2</th>\n",
       "      <td>C1=CC(=C(C(=C1)O)O)C(=O)O</td>\n",
       "      <td>0.000227</td>\n",
       "    </tr>\n",
       "    <tr>\n",
       "      <th>3</th>\n",
       "      <td>C(C=O)Cl</td>\n",
       "      <td>0.000382</td>\n",
       "    </tr>\n",
       "    <tr>\n",
       "      <th>4</th>\n",
       "      <td>C(CCl)O</td>\n",
       "      <td>0.009077</td>\n",
       "    </tr>\n",
       "    <tr>\n",
       "      <th>...</th>\n",
       "      <td>...</td>\n",
       "      <td>...</td>\n",
       "    </tr>\n",
       "    <tr>\n",
       "      <th>445481</th>\n",
       "      <td>C[C@]12C[C@@H]([C@H]3[C@H]([C@@H]1CC[C@@]2(C(=...</td>\n",
       "      <td>0.321223</td>\n",
       "    </tr>\n",
       "    <tr>\n",
       "      <th>445482</th>\n",
       "      <td>CC[N+]1(C2CC(CC1[C@@H]3[C@H]2O3)OC(=O)[C@H](CO...</td>\n",
       "      <td>0.053226</td>\n",
       "    </tr>\n",
       "    <tr>\n",
       "      <th>445483</th>\n",
       "      <td>[2H]C([2H])([2H])C(CCC[C@@H](C)[C@H]1CC[C@@H]\\...</td>\n",
       "      <td>0.631370</td>\n",
       "    </tr>\n",
       "    <tr>\n",
       "      <th>445484</th>\n",
       "      <td>CC[C@@H]1[C@H](N2[C@H]3CC1C4[C@H]2C[C@]5([C@H]...</td>\n",
       "      <td>0.439120</td>\n",
       "    </tr>\n",
       "    <tr>\n",
       "      <th>445485</th>\n",
       "      <td>[2H]C([2H])([2H])C(CCO[C@@H](C)[C@H]1CC[C@@H]\\...</td>\n",
       "      <td>0.639136</td>\n",
       "    </tr>\n",
       "  </tbody>\n",
       "</table>\n",
       "<p>445486 rows × 2 columns</p>\n",
       "</div>"
      ],
      "text/plain": [
       "                                                   smiles  \\\n",
       "0                                                 CC(CN)O   \n",
       "1               C1=CC(=C(C=C1[N+](=O)[O-])[N+](=O)[O-])Cl   \n",
       "2                               C1=CC(=C(C(=C1)O)O)C(=O)O   \n",
       "3                                                C(C=O)Cl   \n",
       "4                                                 C(CCl)O   \n",
       "...                                                   ...   \n",
       "445481  C[C@]12C[C@@H]([C@H]3[C@H]([C@@H]1CC[C@@]2(C(=...   \n",
       "445482  CC[N+]1(C2CC(CC1[C@@H]3[C@H]2O3)OC(=O)[C@H](CO...   \n",
       "445483  [2H]C([2H])([2H])C(CCC[C@@H](C)[C@H]1CC[C@@H]\\...   \n",
       "445484  CC[C@@H]1[C@H](N2[C@H]3CC1C4[C@H]2C[C@]5([C@H]...   \n",
       "445485  [2H]C([2H])([2H])C(CCO[C@@H](C)[C@H]1CC[C@@H]\\...   \n",
       "\n",
       "        predicted_label_soft  \n",
       "0                   0.005720  \n",
       "1                   0.000042  \n",
       "2                   0.000227  \n",
       "3                   0.000382  \n",
       "4                   0.009077  \n",
       "...                      ...  \n",
       "445481              0.321223  \n",
       "445482              0.053226  \n",
       "445483              0.631370  \n",
       "445484              0.439120  \n",
       "445485              0.639136  \n",
       "\n",
       "[445486 rows x 2 columns]"
      ]
     },
     "execution_count": 52,
     "metadata": {},
     "output_type": "execute_result"
    }
   ],
   "source": [
    "df_sd"
   ]
  },
  {
   "cell_type": "code",
   "execution_count": 54,
   "id": "ab0c7013-e451-438c-b4ae-316c74385404",
   "metadata": {
    "tags": []
   },
   "outputs": [],
   "source": [
    "# df_sd.to_csv(\"test.csv\", index=False)"
   ]
  }
 ],
 "metadata": {
  "kernelspec": {
   "display_name": "Python 3 (ipykernel)",
   "language": "python",
   "name": "python3"
  },
  "language_info": {
   "codemirror_mode": {
    "name": "ipython",
    "version": 3
   },
   "file_extension": ".py",
   "mimetype": "text/x-python",
   "name": "python",
   "nbconvert_exporter": "python",
   "pygments_lexer": "ipython3",
   "version": "3.9.16"
  }
 },
 "nbformat": 4,
 "nbformat_minor": 5
}
