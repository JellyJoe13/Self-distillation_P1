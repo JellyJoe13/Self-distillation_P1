{
 "cells": [
  {
   "cell_type": "markdown",
   "id": "626d54e0-23e8-49a1-9aeb-6c84e47b039c",
   "metadata": {},
   "source": [
    "# Analysis of self distillation elements"
   ]
  },
  {
   "cell_type": "markdown",
   "id": "5e2fd7f5-6625-4717-82ee-c01fb316d379",
   "metadata": {},
   "source": [
    "## Importing"
   ]
  },
  {
   "cell_type": "code",
   "execution_count": 65,
   "id": "f30bd2b7-d14c-4594-80c5-79072c4c6bce",
   "metadata": {
    "tags": []
   },
   "outputs": [],
   "source": [
    "import pandas as pd\n",
    "import numpy as np\n",
    "from selfdist_toolkit.data_tools.loading import load_pure_data\n",
    "from tqdm import tqdm"
   ]
  },
  {
   "cell_type": "markdown",
   "id": "eca8a4bb-ea7a-4413-8ab8-cc56aa5e28ca",
   "metadata": {},
   "source": [
    "# Global variables"
   ]
  },
  {
   "cell_type": "code",
   "execution_count": 30,
   "id": "4d7ac0e1-5bc2-45f0-befb-780be3f6d666",
   "metadata": {
    "tags": []
   },
   "outputs": [],
   "source": [
    "original_epochs = 100"
   ]
  },
  {
   "cell_type": "markdown",
   "id": "e21bbacd-3131-4590-a3d6-87fff395c2e7",
   "metadata": {},
   "source": [
    "# Loading of aid list data"
   ]
  },
  {
   "cell_type": "code",
   "execution_count": 31,
   "id": "3ad7d902-6188-45c0-9bfb-a561187c7319",
   "metadata": {
    "tags": []
   },
   "outputs": [],
   "source": [
    "aid_list = pd.read_csv(\"results/random_forest/experiments_check/chem-desc_good-aid_1.csv\").aid.to_numpy().astype(int)"
   ]
  },
  {
   "cell_type": "code",
   "execution_count": 32,
   "id": "91c2ee8b-4a96-4e3b-9a54-335b927a6372",
   "metadata": {
    "tags": []
   },
   "outputs": [
    {
     "data": {
      "text/plain": [
       "array([    884,     891,     899,     914,    1418,    1431,    1770,\n",
       "          1771,    1795,  493073,  493102,  493177,  493191,  493240,\n",
       "        588834,  651741,  651812,  651814,  686978,  687022,  720691,\n",
       "        743036,  743040,  743065, 1053173, 1259381, 1346982])"
      ]
     },
     "execution_count": 32,
     "metadata": {},
     "output_type": "execute_result"
    }
   ],
   "source": [
    "aid_list"
   ]
  },
  {
   "cell_type": "markdown",
   "id": "5e5b61b9-8220-4004-bc12-3946f1d51ec6",
   "metadata": {},
   "source": [
    "# Statistics of aid section"
   ]
  },
  {
   "cell_type": "code",
   "execution_count": 39,
   "id": "de3773b1-f349-4cb2-93a4-dfa6e6e5e355",
   "metadata": {
    "tags": []
   },
   "outputs": [],
   "source": [
    "df = pd.read_csv(\"results/random_forest/experiments_check/chem-desc_good-aid_1.csv\")[[\"aid\", \"mol_total\", \"mol_active\", \"mol_inactive\"]]"
   ]
  },
  {
   "cell_type": "code",
   "execution_count": 40,
   "id": "a33f1d94-53c9-4057-8232-f7e9a47fe7b5",
   "metadata": {
    "tags": []
   },
   "outputs": [
    {
     "data": {
      "text/html": [
       "<div>\n",
       "<style scoped>\n",
       "    .dataframe tbody tr th:only-of-type {\n",
       "        vertical-align: middle;\n",
       "    }\n",
       "\n",
       "    .dataframe tbody tr th {\n",
       "        vertical-align: top;\n",
       "    }\n",
       "\n",
       "    .dataframe thead th {\n",
       "        text-align: right;\n",
       "    }\n",
       "</style>\n",
       "<table border=\"1\" class=\"dataframe\">\n",
       "  <thead>\n",
       "    <tr style=\"text-align: right;\">\n",
       "      <th></th>\n",
       "      <th>aid</th>\n",
       "      <th>mol_total</th>\n",
       "      <th>mol_active</th>\n",
       "      <th>mol_inactive</th>\n",
       "    </tr>\n",
       "  </thead>\n",
       "  <tbody>\n",
       "    <tr>\n",
       "      <th>34</th>\n",
       "      <td>884.0</td>\n",
       "      <td>9593</td>\n",
       "      <td>3274</td>\n",
       "      <td>6319</td>\n",
       "    </tr>\n",
       "    <tr>\n",
       "      <th>39</th>\n",
       "      <td>891.0</td>\n",
       "      <td>7457</td>\n",
       "      <td>1483</td>\n",
       "      <td>5974</td>\n",
       "    </tr>\n",
       "    <tr>\n",
       "      <th>45</th>\n",
       "      <td>899.0</td>\n",
       "      <td>7786</td>\n",
       "      <td>1782</td>\n",
       "      <td>6004</td>\n",
       "    </tr>\n",
       "    <tr>\n",
       "      <th>54</th>\n",
       "      <td>914.0</td>\n",
       "      <td>7340</td>\n",
       "      <td>216</td>\n",
       "      <td>7124</td>\n",
       "    </tr>\n",
       "    <tr>\n",
       "      <th>131</th>\n",
       "      <td>1418.0</td>\n",
       "      <td>1109</td>\n",
       "      <td>489</td>\n",
       "      <td>620</td>\n",
       "    </tr>\n",
       "  </tbody>\n",
       "</table>\n",
       "</div>"
      ],
      "text/plain": [
       "        aid  mol_total  mol_active  mol_inactive\n",
       "34    884.0       9593        3274          6319\n",
       "39    891.0       7457        1483          5974\n",
       "45    899.0       7786        1782          6004\n",
       "54    914.0       7340         216          7124\n",
       "131  1418.0       1109         489           620"
      ]
     },
     "execution_count": 40,
     "metadata": {},
     "output_type": "execute_result"
    }
   ],
   "source": [
    "df.head()"
   ]
  },
  {
   "cell_type": "code",
   "execution_count": 41,
   "id": "85635ed7-dcf6-4dd3-ae02-077be0bea99f",
   "metadata": {
    "tags": []
   },
   "outputs": [],
   "source": [
    "df[\"percentage_original\"] = df.mol_active/df.mol_total"
   ]
  },
  {
   "cell_type": "code",
   "execution_count": 42,
   "id": "ea42d2b0-ae2f-43c1-9391-1514616db9de",
   "metadata": {
    "tags": []
   },
   "outputs": [
    {
     "data": {
      "text/html": [
       "<div>\n",
       "<style scoped>\n",
       "    .dataframe tbody tr th:only-of-type {\n",
       "        vertical-align: middle;\n",
       "    }\n",
       "\n",
       "    .dataframe tbody tr th {\n",
       "        vertical-align: top;\n",
       "    }\n",
       "\n",
       "    .dataframe thead th {\n",
       "        text-align: right;\n",
       "    }\n",
       "</style>\n",
       "<table border=\"1\" class=\"dataframe\">\n",
       "  <thead>\n",
       "    <tr style=\"text-align: right;\">\n",
       "      <th></th>\n",
       "      <th>aid</th>\n",
       "      <th>mol_total</th>\n",
       "      <th>mol_active</th>\n",
       "      <th>mol_inactive</th>\n",
       "      <th>percentage_original</th>\n",
       "    </tr>\n",
       "  </thead>\n",
       "  <tbody>\n",
       "    <tr>\n",
       "      <th>34</th>\n",
       "      <td>884.0</td>\n",
       "      <td>9593</td>\n",
       "      <td>3274</td>\n",
       "      <td>6319</td>\n",
       "      <td>0.341291</td>\n",
       "    </tr>\n",
       "    <tr>\n",
       "      <th>39</th>\n",
       "      <td>891.0</td>\n",
       "      <td>7457</td>\n",
       "      <td>1483</td>\n",
       "      <td>5974</td>\n",
       "      <td>0.198874</td>\n",
       "    </tr>\n",
       "    <tr>\n",
       "      <th>45</th>\n",
       "      <td>899.0</td>\n",
       "      <td>7786</td>\n",
       "      <td>1782</td>\n",
       "      <td>6004</td>\n",
       "      <td>0.228872</td>\n",
       "    </tr>\n",
       "    <tr>\n",
       "      <th>54</th>\n",
       "      <td>914.0</td>\n",
       "      <td>7340</td>\n",
       "      <td>216</td>\n",
       "      <td>7124</td>\n",
       "      <td>0.029428</td>\n",
       "    </tr>\n",
       "    <tr>\n",
       "      <th>131</th>\n",
       "      <td>1418.0</td>\n",
       "      <td>1109</td>\n",
       "      <td>489</td>\n",
       "      <td>620</td>\n",
       "      <td>0.440938</td>\n",
       "    </tr>\n",
       "  </tbody>\n",
       "</table>\n",
       "</div>"
      ],
      "text/plain": [
       "        aid  mol_total  mol_active  mol_inactive  percentage_original\n",
       "34    884.0       9593        3274          6319             0.341291\n",
       "39    891.0       7457        1483          5974             0.198874\n",
       "45    899.0       7786        1782          6004             0.228872\n",
       "54    914.0       7340         216          7124             0.029428\n",
       "131  1418.0       1109         489           620             0.440938"
      ]
     },
     "execution_count": 42,
     "metadata": {},
     "output_type": "execute_result"
    }
   ],
   "source": [
    "df.head()"
   ]
  },
  {
   "cell_type": "markdown",
   "id": "fb1e7b5c-8add-4f60-93bf-9b6a757932cc",
   "metadata": {},
   "source": [
    "# Statistics total sd_elements"
   ]
  },
  {
   "cell_type": "code",
   "execution_count": 43,
   "id": "4f21fca9-7d05-476d-8b8f-222c420b3b38",
   "metadata": {
    "tags": []
   },
   "outputs": [],
   "source": [
    "percentages_temp = []\n",
    "for aid in df.aid:\n",
    "    # define data path\n",
    "    data_path = \"results/teacher_exp/sd_out/teacher-pred_aid={}_epochs={}.csv\".format(int(aid), original_epochs)\n",
    "    \n",
    "    # read csv\n",
    "    df_sd = pd.read_csv(data_path)\n",
    "    \n",
    "    # get hard labels\n",
    "    hard_labels = (df_sd.predicted_label_soft.to_numpy()>=0.5).astype(int)\n",
    "    \n",
    "    # write percentage into temp list\n",
    "    percentages_temp.append(hard_labels.sum()/hard_labels.shape[0])\n",
    "\n",
    "# add column to dataframe\n",
    "df[\"percentage_total_sd\"] = np.array(percentages_temp)"
   ]
  },
  {
   "cell_type": "code",
   "execution_count": 44,
   "id": "ca90b345-5034-402d-8d07-5976b0e00003",
   "metadata": {
    "tags": []
   },
   "outputs": [
    {
     "data": {
      "text/html": [
       "<div>\n",
       "<style scoped>\n",
       "    .dataframe tbody tr th:only-of-type {\n",
       "        vertical-align: middle;\n",
       "    }\n",
       "\n",
       "    .dataframe tbody tr th {\n",
       "        vertical-align: top;\n",
       "    }\n",
       "\n",
       "    .dataframe thead th {\n",
       "        text-align: right;\n",
       "    }\n",
       "</style>\n",
       "<table border=\"1\" class=\"dataframe\">\n",
       "  <thead>\n",
       "    <tr style=\"text-align: right;\">\n",
       "      <th></th>\n",
       "      <th>aid</th>\n",
       "      <th>mol_total</th>\n",
       "      <th>mol_active</th>\n",
       "      <th>mol_inactive</th>\n",
       "      <th>percentage_original</th>\n",
       "      <th>percentage_total_sd</th>\n",
       "    </tr>\n",
       "  </thead>\n",
       "  <tbody>\n",
       "    <tr>\n",
       "      <th>34</th>\n",
       "      <td>884.0</td>\n",
       "      <td>9593</td>\n",
       "      <td>3274</td>\n",
       "      <td>6319</td>\n",
       "      <td>0.341291</td>\n",
       "      <td>0.487905</td>\n",
       "    </tr>\n",
       "    <tr>\n",
       "      <th>39</th>\n",
       "      <td>891.0</td>\n",
       "      <td>7457</td>\n",
       "      <td>1483</td>\n",
       "      <td>5974</td>\n",
       "      <td>0.198874</td>\n",
       "      <td>0.187066</td>\n",
       "    </tr>\n",
       "    <tr>\n",
       "      <th>45</th>\n",
       "      <td>899.0</td>\n",
       "      <td>7786</td>\n",
       "      <td>1782</td>\n",
       "      <td>6004</td>\n",
       "      <td>0.228872</td>\n",
       "      <td>0.328000</td>\n",
       "    </tr>\n",
       "    <tr>\n",
       "      <th>54</th>\n",
       "      <td>914.0</td>\n",
       "      <td>7340</td>\n",
       "      <td>216</td>\n",
       "      <td>7124</td>\n",
       "      <td>0.029428</td>\n",
       "      <td>0.045882</td>\n",
       "    </tr>\n",
       "    <tr>\n",
       "      <th>131</th>\n",
       "      <td>1418.0</td>\n",
       "      <td>1109</td>\n",
       "      <td>489</td>\n",
       "      <td>620</td>\n",
       "      <td>0.440938</td>\n",
       "      <td>0.148281</td>\n",
       "    </tr>\n",
       "  </tbody>\n",
       "</table>\n",
       "</div>"
      ],
      "text/plain": [
       "        aid  mol_total  mol_active  mol_inactive  percentage_original  \\\n",
       "34    884.0       9593        3274          6319             0.341291   \n",
       "39    891.0       7457        1483          5974             0.198874   \n",
       "45    899.0       7786        1782          6004             0.228872   \n",
       "54    914.0       7340         216          7124             0.029428   \n",
       "131  1418.0       1109         489           620             0.440938   \n",
       "\n",
       "     percentage_total_sd  \n",
       "34              0.487905  \n",
       "39              0.187066  \n",
       "45              0.328000  \n",
       "54              0.045882  \n",
       "131             0.148281  "
      ]
     },
     "execution_count": 44,
     "metadata": {},
     "output_type": "execute_result"
    }
   ],
   "source": [
    "df.head()"
   ]
  },
  {
   "cell_type": "markdown",
   "id": "b24f6524-1b4a-4672-a3c6-95ef4c6f901d",
   "metadata": {},
   "source": [
    "# Statistics sd_elements_first"
   ]
  },
  {
   "cell_type": "code",
   "execution_count": 49,
   "id": "388b14ac-2a96-4555-8ff3-5cf78a8f360e",
   "metadata": {
    "tags": []
   },
   "outputs": [],
   "source": [
    "num_first_factor = 1."
   ]
  },
  {
   "cell_type": "code",
   "execution_count": 51,
   "id": "03b0f41a-558f-45b3-95cc-2560135e060b",
   "metadata": {
    "tags": []
   },
   "outputs": [],
   "source": [
    "percentages_temp = []\n",
    "for aid in df.aid:\n",
    "    # define data path\n",
    "    data_path = \"results/teacher_exp/sd_out/teacher-pred_aid={}_epochs={}.csv\".format(int(aid), original_epochs)\n",
    "    \n",
    "    # read csv\n",
    "    df_sd = pd.read_csv(data_path)\n",
    "    \n",
    "    # get hard labels\n",
    "    hard_labels = (df_sd.predicted_label_soft.to_numpy()>=0.5).astype(int)\n",
    "    \n",
    "    # num data to choose\n",
    "    num_choose = int(num_first_factor * df[df.aid==aid].iloc[0].mol_total)\n",
    "    \n",
    "    # get label selection\n",
    "    selected_labels = np.argsort(np.abs(df_sd.predicted_label_soft.to_numpy()-0.5))[-num_choose:]\n",
    "    \n",
    "    # write percentage into temp list\n",
    "    percentages_temp.append(hard_labels[selected_labels].sum()/selected_labels.shape[0])\n",
    "\n",
    "# add column to dataframe\n",
    "df[\"percentage_first_sd\"] = np.array(percentages_temp)"
   ]
  },
  {
   "cell_type": "code",
   "execution_count": 52,
   "id": "bd4ebffe-d94b-4fa3-8e0c-54783462cd5c",
   "metadata": {
    "tags": []
   },
   "outputs": [
    {
     "data": {
      "text/html": [
       "<div>\n",
       "<style scoped>\n",
       "    .dataframe tbody tr th:only-of-type {\n",
       "        vertical-align: middle;\n",
       "    }\n",
       "\n",
       "    .dataframe tbody tr th {\n",
       "        vertical-align: top;\n",
       "    }\n",
       "\n",
       "    .dataframe thead th {\n",
       "        text-align: right;\n",
       "    }\n",
       "</style>\n",
       "<table border=\"1\" class=\"dataframe\">\n",
       "  <thead>\n",
       "    <tr style=\"text-align: right;\">\n",
       "      <th></th>\n",
       "      <th>aid</th>\n",
       "      <th>mol_total</th>\n",
       "      <th>mol_active</th>\n",
       "      <th>mol_inactive</th>\n",
       "      <th>percentage_original</th>\n",
       "      <th>percentage_total_sd</th>\n",
       "      <th>percentage_first_sd</th>\n",
       "    </tr>\n",
       "  </thead>\n",
       "  <tbody>\n",
       "    <tr>\n",
       "      <th>34</th>\n",
       "      <td>884.0</td>\n",
       "      <td>9593</td>\n",
       "      <td>3274</td>\n",
       "      <td>6319</td>\n",
       "      <td>0.341291</td>\n",
       "      <td>0.487905</td>\n",
       "      <td>0.039508</td>\n",
       "    </tr>\n",
       "    <tr>\n",
       "      <th>39</th>\n",
       "      <td>891.0</td>\n",
       "      <td>7457</td>\n",
       "      <td>1483</td>\n",
       "      <td>5974</td>\n",
       "      <td>0.198874</td>\n",
       "      <td>0.187066</td>\n",
       "      <td>0.001877</td>\n",
       "    </tr>\n",
       "    <tr>\n",
       "      <th>45</th>\n",
       "      <td>899.0</td>\n",
       "      <td>7786</td>\n",
       "      <td>1782</td>\n",
       "      <td>6004</td>\n",
       "      <td>0.228872</td>\n",
       "      <td>0.328000</td>\n",
       "      <td>0.080144</td>\n",
       "    </tr>\n",
       "    <tr>\n",
       "      <th>54</th>\n",
       "      <td>914.0</td>\n",
       "      <td>7340</td>\n",
       "      <td>216</td>\n",
       "      <td>7124</td>\n",
       "      <td>0.029428</td>\n",
       "      <td>0.045882</td>\n",
       "      <td>0.000136</td>\n",
       "    </tr>\n",
       "    <tr>\n",
       "      <th>131</th>\n",
       "      <td>1418.0</td>\n",
       "      <td>1109</td>\n",
       "      <td>489</td>\n",
       "      <td>620</td>\n",
       "      <td>0.440938</td>\n",
       "      <td>0.148281</td>\n",
       "      <td>0.086564</td>\n",
       "    </tr>\n",
       "  </tbody>\n",
       "</table>\n",
       "</div>"
      ],
      "text/plain": [
       "        aid  mol_total  mol_active  mol_inactive  percentage_original  \\\n",
       "34    884.0       9593        3274          6319             0.341291   \n",
       "39    891.0       7457        1483          5974             0.198874   \n",
       "45    899.0       7786        1782          6004             0.228872   \n",
       "54    914.0       7340         216          7124             0.029428   \n",
       "131  1418.0       1109         489           620             0.440938   \n",
       "\n",
       "     percentage_total_sd  percentage_first_sd  \n",
       "34              0.487905             0.039508  \n",
       "39              0.187066             0.001877  \n",
       "45              0.328000             0.080144  \n",
       "54              0.045882             0.000136  \n",
       "131             0.148281             0.086564  "
      ]
     },
     "execution_count": 52,
     "metadata": {},
     "output_type": "execute_result"
    }
   ],
   "source": [
    "df.head()"
   ]
  },
  {
   "cell_type": "markdown",
   "id": "840d1a09-749d-4c4c-8910-8caa2a5ffa92",
   "metadata": {},
   "source": [
    "# Statistics sd_elements_second"
   ]
  },
  {
   "cell_type": "code",
   "execution_count": 54,
   "id": "2317548b-d095-464f-a256-ea5fda8c9170",
   "metadata": {
    "tags": []
   },
   "outputs": [],
   "source": [
    "num_first_factor = 1."
   ]
  },
  {
   "cell_type": "code",
   "execution_count": 53,
   "id": "b7364a98-efde-4caa-8c60-33bf800d9abf",
   "metadata": {
    "tags": []
   },
   "outputs": [],
   "source": [
    "percentages_temp = []\n",
    "for aid in df.aid:\n",
    "    # define data path\n",
    "    data_path = \"results/teacher_exp/sd_out/teacher-pred_aid={}_epochs={}.csv\".format(int(aid), original_epochs)\n",
    "    \n",
    "    # read csv\n",
    "    df_sd = pd.read_csv(data_path)\n",
    "    \n",
    "    # get hard labels\n",
    "    hard_labels = (df_sd.predicted_label_soft.to_numpy()>=0.5).astype(int)\n",
    "    \n",
    "    # sort the elements according to their score\n",
    "    idx_sorted = np.argsort(df_sd.predicted_label_soft.to_numpy())\n",
    "\n",
    "    # determine number of self distillation elements to fetch\n",
    "    num_sd = int(num_first_factor * df[df.aid==aid].iloc[0].mol_total)\n",
    "    pos_elem_count = int(num_sd * df[df.aid==aid].iloc[0].percentage_original)\n",
    "    neg_elem_count = num_sd - pos_elem_count\n",
    "    \n",
    "    # select most secure positive and negative elements\n",
    "    selected_labels = np.concatenate([idx_sorted[:neg_elem_count], idx_sorted[-pos_elem_count:]])\n",
    "    \n",
    "    # write percentage into temp list\n",
    "    percentages_temp.append(hard_labels[selected_labels].sum()/selected_labels.shape[0])\n",
    "\n",
    "# add column to dataframe\n",
    "df[\"percentage_second_sd\"] = np.array(percentages_temp)"
   ]
  },
  {
   "cell_type": "code",
   "execution_count": 55,
   "id": "f1da2249-b6c9-4fc7-a423-dc588abb2af3",
   "metadata": {
    "tags": []
   },
   "outputs": [
    {
     "data": {
      "text/html": [
       "<div>\n",
       "<style scoped>\n",
       "    .dataframe tbody tr th:only-of-type {\n",
       "        vertical-align: middle;\n",
       "    }\n",
       "\n",
       "    .dataframe tbody tr th {\n",
       "        vertical-align: top;\n",
       "    }\n",
       "\n",
       "    .dataframe thead th {\n",
       "        text-align: right;\n",
       "    }\n",
       "</style>\n",
       "<table border=\"1\" class=\"dataframe\">\n",
       "  <thead>\n",
       "    <tr style=\"text-align: right;\">\n",
       "      <th></th>\n",
       "      <th>aid</th>\n",
       "      <th>mol_total</th>\n",
       "      <th>mol_active</th>\n",
       "      <th>mol_inactive</th>\n",
       "      <th>percentage_original</th>\n",
       "      <th>percentage_total_sd</th>\n",
       "      <th>percentage_first_sd</th>\n",
       "      <th>percentage_second_sd</th>\n",
       "    </tr>\n",
       "  </thead>\n",
       "  <tbody>\n",
       "    <tr>\n",
       "      <th>34</th>\n",
       "      <td>884.0</td>\n",
       "      <td>9593</td>\n",
       "      <td>3274</td>\n",
       "      <td>6319</td>\n",
       "      <td>0.341291</td>\n",
       "      <td>0.487905</td>\n",
       "      <td>0.039508</td>\n",
       "      <td>0.341291</td>\n",
       "    </tr>\n",
       "    <tr>\n",
       "      <th>39</th>\n",
       "      <td>891.0</td>\n",
       "      <td>7457</td>\n",
       "      <td>1483</td>\n",
       "      <td>5974</td>\n",
       "      <td>0.198874</td>\n",
       "      <td>0.187066</td>\n",
       "      <td>0.001877</td>\n",
       "      <td>0.198874</td>\n",
       "    </tr>\n",
       "    <tr>\n",
       "      <th>45</th>\n",
       "      <td>899.0</td>\n",
       "      <td>7786</td>\n",
       "      <td>1782</td>\n",
       "      <td>6004</td>\n",
       "      <td>0.228872</td>\n",
       "      <td>0.328000</td>\n",
       "      <td>0.080144</td>\n",
       "      <td>0.228872</td>\n",
       "    </tr>\n",
       "    <tr>\n",
       "      <th>54</th>\n",
       "      <td>914.0</td>\n",
       "      <td>7340</td>\n",
       "      <td>216</td>\n",
       "      <td>7124</td>\n",
       "      <td>0.029428</td>\n",
       "      <td>0.045882</td>\n",
       "      <td>0.000136</td>\n",
       "      <td>0.029428</td>\n",
       "    </tr>\n",
       "    <tr>\n",
       "      <th>131</th>\n",
       "      <td>1418.0</td>\n",
       "      <td>1109</td>\n",
       "      <td>489</td>\n",
       "      <td>620</td>\n",
       "      <td>0.440938</td>\n",
       "      <td>0.148281</td>\n",
       "      <td>0.086564</td>\n",
       "      <td>0.440938</td>\n",
       "    </tr>\n",
       "  </tbody>\n",
       "</table>\n",
       "</div>"
      ],
      "text/plain": [
       "        aid  mol_total  mol_active  mol_inactive  percentage_original  \\\n",
       "34    884.0       9593        3274          6319             0.341291   \n",
       "39    891.0       7457        1483          5974             0.198874   \n",
       "45    899.0       7786        1782          6004             0.228872   \n",
       "54    914.0       7340         216          7124             0.029428   \n",
       "131  1418.0       1109         489           620             0.440938   \n",
       "\n",
       "     percentage_total_sd  percentage_first_sd  percentage_second_sd  \n",
       "34              0.487905             0.039508              0.341291  \n",
       "39              0.187066             0.001877              0.198874  \n",
       "45              0.328000             0.080144              0.228872  \n",
       "54              0.045882             0.000136              0.029428  \n",
       "131             0.148281             0.086564              0.440938  "
      ]
     },
     "execution_count": 55,
     "metadata": {},
     "output_type": "execute_result"
    }
   ],
   "source": [
    "df.head()"
   ]
  },
  {
   "cell_type": "markdown",
   "id": "22197f2a-9486-44b6-9d82-83769f3715b8",
   "metadata": {},
   "source": [
    "# Check if no overlapping in sd_data"
   ]
  },
  {
   "cell_type": "code",
   "execution_count": 66,
   "id": "46ac2434-30ed-4998-9bae-170834981383",
   "metadata": {
    "tags": []
   },
   "outputs": [
    {
     "name": "stderr",
     "output_type": "stream",
     "text": [
      "100%|██████████████████████████████████████████████████████████████████████████████████████████████████████████████████████████████████████████████████████████████████████████████████████████████████████████████████████████████████████████████████████████████████████████████████| 27/27 [01:57<00:00,  4.36s/it]\n"
     ]
    }
   ],
   "source": [
    "for aid in tqdm(df.aid):\n",
    "    # get smiles list of experiment\n",
    "    orig_smiles = load_pure_data(int(aid)).smiles.to_numpy().astype(str)\n",
    "    \n",
    "    # get sd_smiles\n",
    "    # define data path\n",
    "    data_path = \"results/teacher_exp/sd_out/teacher-pred_aid={}_epochs={}.csv\".format(int(aid), original_epochs)\n",
    "    \n",
    "    # read csv\n",
    "    sd_smiles = pd.read_csv(data_path).smiles.to_numpy().astype(str)\n",
    "    \n",
    "    # test if any of the sd_smiles is in orig_smiles\n",
    "    assert np.in1d(orig_smiles, sd_smiles).sum() == 0"
   ]
  },
  {
   "cell_type": "markdown",
   "id": "cefa385f-01f0-4801-aaa4-cfcf77b64758",
   "metadata": {},
   "source": [
    "# Further ideas:\n",
    "- hard sd labels (maybe precision errors)\n",
    "- balance training data to 50-50 class labels\n",
    "- random sd data selection\n",
    "- less self distillation data\n",
    "- more self distillation data\n",
    "- increase model parameters\n",
    "- increase dropout\n",
    "- increase epochs (although currently probably not the issue)\n",
    "- concatenate output of layered ginconv instead od jk last (or if it does not work then abort)\n",
    "- validation early stopping\n",
    "- loss on second y axis scale"
   ]
  }
 ],
 "metadata": {
  "kernelspec": {
   "display_name": "Python 3 (ipykernel)",
   "language": "python",
   "name": "python3"
  },
  "language_info": {
   "codemirror_mode": {
    "name": "ipython",
    "version": 3
   },
   "file_extension": ".py",
   "mimetype": "text/x-python",
   "name": "python",
   "nbconvert_exporter": "python",
   "pygments_lexer": "ipython3",
   "version": "3.9.16"
  }
 },
 "nbformat": 4,
 "nbformat_minor": 5
}
