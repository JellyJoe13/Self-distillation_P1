{
 "cells": [
  {
   "cell_type": "markdown",
   "id": "c62d4e4d-4b22-4763-a127-147d122483d0",
   "metadata": {},
   "source": [
    "# Random Forest dataset analysis"
   ]
  },
  {
   "cell_type": "markdown",
   "id": "7ec22c5d-5242-48da-9e71-dd83e06274be",
   "metadata": {},
   "source": [
    "## Import section"
   ]
  },
  {
   "cell_type": "code",
   "execution_count": 1,
   "id": "d07c0b56-6140-43ac-9d97-847707aec1c5",
   "metadata": {
    "tags": []
   },
   "outputs": [],
   "source": [
    "from selfdist_toolkit.randomforest_tools.evaluation import evaluate_assays_rf\n",
    "from selfdist_toolkit.data_tools.loading import load_pure_data\n",
    "from selfdist_toolkit.data_tools.analysis import dataframe_add_statistical_exp_data"
   ]
  },
  {
   "cell_type": "markdown",
   "id": "71ec5f06-d95d-451e-8c95-893b7e7e62fa",
   "metadata": {},
   "source": [
    "## Data Fetching section"
   ]
  },
  {
   "cell_type": "code",
   "execution_count": 2,
   "id": "f21607b2-f8dc-4c6e-b493-1189e670542a",
   "metadata": {
    "tags": []
   },
   "outputs": [],
   "source": [
    "df_chem = evaluate_assays_rf(\n",
    "    perc_sd=0.2,\n",
    "    mode=\"chem-desc\"\n",
    ")"
   ]
  },
  {
   "cell_type": "code",
   "execution_count": 3,
   "id": "2091913a-d464-4ebf-b3b5-367ab43dadcb",
   "metadata": {
    "tags": []
   },
   "outputs": [],
   "source": [
    "#df_fing = evaluate_assays_rf(\n",
    "#    perc_sd=0.2,\n",
    "#    mode=\"fingerprint\"\n",
    "#)"
   ]
  },
  {
   "cell_type": "markdown",
   "id": "3c375601-91cc-46ee-b772-d1f5576fa810",
   "metadata": {},
   "source": [
    "## Add Experiment-Related Statistical Information"
   ]
  },
  {
   "cell_type": "code",
   "execution_count": 4,
   "id": "14ab5670-6049-4818-b765-7aa20281e870",
   "metadata": {
    "tags": []
   },
   "outputs": [],
   "source": [
    "df_chem_ext = dataframe_add_statistical_exp_data(df_chem)"
   ]
  },
  {
   "cell_type": "code",
   "execution_count": 5,
   "id": "fbd8f805-eed4-4912-932c-5264ead102d9",
   "metadata": {
    "tags": []
   },
   "outputs": [],
   "source": [
    "# df_fing_ext = dataframe_add_statistical_exp_data(df_fing)"
   ]
  },
  {
   "cell_type": "markdown",
   "id": "4d8bc602-83bf-4aff-bde8-b8be2571d656",
   "metadata": {},
   "source": [
    "## Analysing and Plotting"
   ]
  },
  {
   "cell_type": "code",
   "execution_count": 6,
   "id": "dad1a698-7922-4388-a189-20388e011c50",
   "metadata": {
    "tags": []
   },
   "outputs": [],
   "source": [
    "# todo"
   ]
  }
 ],
 "metadata": {
  "kernelspec": {
   "display_name": "Python 3 (ipykernel)",
   "language": "python",
   "name": "python3"
  },
  "language_info": {
   "codemirror_mode": {
    "name": "ipython",
    "version": 3
   },
   "file_extension": ".py",
   "mimetype": "text/x-python",
   "name": "python",
   "nbconvert_exporter": "python",
   "pygments_lexer": "ipython3",
   "version": "3.9.16"
  }
 },
 "nbformat": 4,
 "nbformat_minor": 5
}
