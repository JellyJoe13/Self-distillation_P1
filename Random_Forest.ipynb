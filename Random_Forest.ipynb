{
 "cells": [
  {
   "cell_type": "markdown",
   "id": "a72ed1f1-cf18-4233-a636-4834d6cea766",
   "metadata": {},
   "source": [
    "# Random Forest Self Distillation"
   ]
  },
  {
   "cell_type": "code",
   "execution_count": 1,
   "id": "aa9def00-2a6a-46b3-9c0d-2066bcc47ba1",
   "metadata": {},
   "outputs": [
    {
     "name": "stderr",
     "output_type": "stream",
     "text": [
      "C:\\Users\\JoPa21\\anaconda3\\envs\\praktikum\\lib\\site-packages\\tqdm\\auto.py:22: TqdmWarning: IProgress not found. Please update jupyter and ipywidgets. See https://ipywidgets.readthedocs.io/en/stable/user_install.html\n",
      "  from .autonotebook import tqdm as notebook_tqdm\n"
     ]
    }
   ],
   "source": [
    "import torch"
   ]
  },
  {
   "cell_type": "code",
   "execution_count": 2,
   "id": "44730b5a-ffce-4ed5-b987-4038cd7b689d",
   "metadata": {},
   "outputs": [
    {
     "data": {
      "text/plain": [
       "True"
      ]
     },
     "execution_count": 2,
     "metadata": {},
     "output_type": "execute_result"
    }
   ],
   "source": [
    "torch.cuda.is_available()"
   ]
  },
  {
   "cell_type": "markdown",
   "id": "b549b42a-b8ed-4cdd-8957-9f696d49a6d1",
   "metadata": {},
   "source": [
    "## Import section"
   ]
  },
  {
   "cell_type": "code",
   "execution_count": 1,
   "id": "fc16f41e-00a5-4902-9a69-364d064d2767",
   "metadata": {
    "tags": []
   },
   "outputs": [],
   "source": [
    "from selfdest_toolkit.data_tools import preprocessing, loading, cleaning, sd_data_utils, analysis\n",
    "from selfdest_toolkit.randomforest_tools import self_distillation, rf_analysis, normal, creation\n",
    "\n",
    "import os\n",
    "from tqdm import tqdm\n",
    "import json\n",
    "import pandas as pd\n",
    "import numpy as np\n",
    "\n",
    "import sklearn\n",
    "from sklearn.ensemble import RandomForestClassifier\n",
    "from sklearn.model_selection import cross_validate\n",
    "\n",
    "from rdkit.Chem.Descriptors import descList\n",
    "from rdkit.Chem import MolFromSmiles, RDKFingerprint"
   ]
  },
  {
   "cell_type": "markdown",
   "id": "78ff0db6-dd7d-470f-a8fe-6a51848e94d9",
   "metadata": {},
   "source": [
    "## Data Preprocessing"
   ]
  },
  {
   "cell_type": "code",
   "execution_count": 2,
   "id": "dcd69ab7-792b-45e1-bc0d-fccf5a25ea68",
   "metadata": {
    "tags": []
   },
   "outputs": [],
   "source": [
    "# path to dataset\n",
    "PATH_DATA = \"data/\"\n",
    "PATH_MAIN_DATASET = PATH_DATA + \"df_assay_entries.csv\""
   ]
  },
  {
   "cell_type": "code",
   "execution_count": 5,
   "id": "b931e2db-c8a7-4109-b2de-7a3c4000beb4",
   "metadata": {
    "tags": []
   },
   "outputs": [
    {
     "name": "stdout",
     "output_type": "stream",
     "text": [
      "Data file already present, no need for download.\n"
     ]
    },
    {
     "name": "stderr",
     "output_type": "stream",
     "text": [
      "100%|███████████████████████████████████████████████████████████████████████████| 2481/2481 [00:00<00:00, 12025.35it/s]\n"
     ]
    },
    {
     "name": "stdout",
     "output_type": "stream",
     "text": [
      "Chemical descriptor data already generated\n",
      "Fingerprints already generated\n"
     ]
    }
   ],
   "source": [
    "aids = preprocessing.experiment_whole_preprocess(PATH_MAIN_DATASET, PATH_DATA)"
   ]
  },
  {
   "cell_type": "markdown",
   "id": "00a8bf35-1d8d-4746-b3f0-36a5563e0c58",
   "metadata": {},
   "source": [
    "## Individual Data Loading"
   ]
  },
  {
   "cell_type": "code",
   "execution_count": 6,
   "id": "b112d2a6-b3a8-4411-b93d-6bb185f34e36",
   "metadata": {
    "tags": []
   },
   "outputs": [],
   "source": [
    "c_sampledata, c_samplelabel = loading.load_chem_desc_data(411)"
   ]
  },
  {
   "cell_type": "code",
   "execution_count": 7,
   "id": "3d56ce22-403d-484c-9765-c2f9b66b906c",
   "metadata": {
    "tags": []
   },
   "outputs": [],
   "source": [
    "f_sampledata, f_samplelabel = loading.load_fingerprint_data(411)"
   ]
  },
  {
   "cell_type": "code",
   "execution_count": 8,
   "id": "af27fb8f-5de4-482f-a456-67bae79a3e15",
   "metadata": {
    "tags": []
   },
   "outputs": [
    {
     "data": {
      "text/plain": [
       "array([[12.0147147 , -0.2333767 , 12.0147147 , ...,  0.        ,\n",
       "         1.        ,  0.        ],\n",
       "       [13.68844293, -1.04921672, 13.68844293, ...,  0.        ,\n",
       "         0.        ,  0.        ],\n",
       "       [13.75921567, -0.69660748, 13.75921567, ...,  0.        ,\n",
       "         0.        ,  0.        ],\n",
       "       ...,\n",
       "       [12.81165769, -1.13973262, 12.81165769, ...,  0.        ,\n",
       "         0.        ,  0.        ],\n",
       "       [13.06424981, -1.12117352, 13.06424981, ...,  0.        ,\n",
       "         0.        ,  0.        ],\n",
       "       [12.39603269, -1.12400132, 12.39603269, ...,  0.        ,\n",
       "         0.        ,  0.        ]])"
      ]
     },
     "execution_count": 8,
     "metadata": {},
     "output_type": "execute_result"
    }
   ],
   "source": [
    "c_sampledata"
   ]
  },
  {
   "cell_type": "code",
   "execution_count": 9,
   "id": "fa60d029-ebb0-4b1f-bdd8-d2a64f8aa24b",
   "metadata": {
    "tags": []
   },
   "outputs": [
    {
     "data": {
      "text/plain": [
       "array([0, 0, 0, ..., 0, 0, 0])"
      ]
     },
     "execution_count": 9,
     "metadata": {},
     "output_type": "execute_result"
    }
   ],
   "source": [
    "c_samplelabel"
   ]
  },
  {
   "cell_type": "code",
   "execution_count": 10,
   "id": "66732394-b452-488e-bf12-5c3195140bb5",
   "metadata": {
    "tags": []
   },
   "outputs": [
    {
     "data": {
      "text/plain": [
       "array([[0, 1, 1, ..., 0, 1, 1],\n",
       "       [1, 1, 1, ..., 1, 1, 1],\n",
       "       [0, 1, 1, ..., 0, 0, 1],\n",
       "       ...,\n",
       "       [1, 1, 0, ..., 0, 0, 1],\n",
       "       [1, 1, 0, ..., 0, 0, 1],\n",
       "       [1, 1, 0, ..., 0, 0, 1]])"
      ]
     },
     "execution_count": 10,
     "metadata": {},
     "output_type": "execute_result"
    }
   ],
   "source": [
    "f_sampledata"
   ]
  },
  {
   "cell_type": "code",
   "execution_count": 11,
   "id": "393cbea6-3e76-40bc-963e-85db85a403ae",
   "metadata": {
    "tags": []
   },
   "outputs": [
    {
     "data": {
      "text/plain": [
       "array([0, 0, 0, ..., 0, 0, 0])"
      ]
     },
     "execution_count": 11,
     "metadata": {},
     "output_type": "execute_result"
    }
   ],
   "source": [
    "f_samplelabel"
   ]
  },
  {
   "cell_type": "code",
   "execution_count": 12,
   "id": "0af1daf3-fad6-4620-9ed1-f94d338439c4",
   "metadata": {
    "tags": []
   },
   "outputs": [
    {
     "name": "stdout",
     "output_type": "stream",
     "text": [
      "(68285, 208)\n",
      "(68285, 2048)\n"
     ]
    }
   ],
   "source": [
    "print(c_sampledata.shape)\n",
    "print(f_sampledata.shape)"
   ]
  },
  {
   "cell_type": "code",
   "execution_count": 13,
   "id": "5a019e8b-e08d-4706-a059-9e0dec7540e0",
   "metadata": {
    "tags": []
   },
   "outputs": [
    {
     "data": {
      "text/plain": [
       "1536"
      ]
     },
     "execution_count": 13,
     "metadata": {},
     "output_type": "execute_result"
    }
   ],
   "source": [
    "f_samplelabel.sum()"
   ]
  },
  {
   "cell_type": "markdown",
   "id": "5e13f590-6cd0-4ecd-8919-6e1cdf24b743",
   "metadata": {},
   "source": [
    "## Preloading all data"
   ]
  },
  {
   "cell_type": "code",
   "execution_count": 14,
   "id": "c5db9196-f79a-48d1-9019-f9ac97c61880",
   "metadata": {},
   "outputs": [],
   "source": [
    "# loading.preload_fingerprint_data_all(aids)"
   ]
  },
  {
   "cell_type": "code",
   "execution_count": 15,
   "id": "3881ddb0-5f77-4707-86c7-6e5e0cb68649",
   "metadata": {
    "tags": []
   },
   "outputs": [],
   "source": [
    "# loading.preload_chem_data_all(aids)"
   ]
  },
  {
   "cell_type": "markdown",
   "id": "347c9faf-3ca5-4bc4-a7aa-c8649e354510",
   "metadata": {},
   "source": [
    "## Preparing for self distillation"
   ]
  },
  {
   "cell_type": "code",
   "execution_count": 16,
   "id": "253ee22f-339a-465e-8ab0-ec71395888ad",
   "metadata": {
    "tags": []
   },
   "outputs": [],
   "source": [
    "# define experiment id\n",
    "aid = 411"
   ]
  },
  {
   "cell_type": "code",
   "execution_count": 23,
   "id": "27703623-cc7d-465f-89e4-6285ba073d90",
   "metadata": {
    "tags": []
   },
   "outputs": [],
   "source": [
    "# get the prediction data\n",
    "data, labels = loading.load_chem_desc_data(aid)"
   ]
  },
  {
   "cell_type": "code",
   "execution_count": 24,
   "id": "a43dc18e-5a17-478a-a3f2-ed0977904a18",
   "metadata": {
    "tags": []
   },
   "outputs": [],
   "source": [
    "# determine number of elements to fetch for self destillation\n",
    "number_sd = int(data.shape[0]*0.2+0.5) # set to percentage perhaps"
   ]
  },
  {
   "cell_type": "code",
   "execution_count": 25,
   "id": "9b3c60b7-8e2c-4e05-9850-dc399ac97eed",
   "metadata": {},
   "outputs": [],
   "source": [
    "# get self distillation elements\n",
    "sd_data = sd_data_utils.generate_self_distillation_elements(\n",
    "    aid=aid,\n",
    "    number_to_generate=number_sd,\n",
    "    data_gen_method=\"chem-desc\",\n",
    "    path_data=PATH_DATA\n",
    ")"
   ]
  },
  {
   "cell_type": "markdown",
   "id": "241772a0-a5d9-48b6-b9f7-d2fa06aef9e6",
   "metadata": {},
   "source": [
    "## Normal Random Forest"
   ]
  },
  {
   "cell_type": "code",
   "execution_count": 3,
   "id": "daa51259-a01f-4b81-adab-be1a26cbc1ed",
   "metadata": {
    "tags": []
   },
   "outputs": [],
   "source": [
    "# define experiment id\n",
    "# aid = 411\n",
    "aid = 1688"
   ]
  },
  {
   "cell_type": "code",
   "execution_count": 4,
   "id": "b4d83503-70fe-46d1-836d-ac73726885d8",
   "metadata": {
    "tags": []
   },
   "outputs": [],
   "source": [
    "# create random forest\n",
    "rf = creation.generate_default_rf()"
   ]
  },
  {
   "cell_type": "code",
   "execution_count": 5,
   "id": "6a49a90d-a989-4398-a086-f33b991c2177",
   "metadata": {
    "tags": []
   },
   "outputs": [
    {
     "name": "stderr",
     "output_type": "stream",
     "text": [
      "C:\\Users\\JoPa21\\anaconda3\\envs\\praktikum\\lib\\site-packages\\sklearn\\utils\\extmath.py:1066: RuntimeWarning: overflow encountered in square\n",
      "  temp **= 2\n",
      "C:\\Users\\JoPa21\\anaconda3\\envs\\praktikum\\lib\\site-packages\\sklearn\\utils\\extmath.py:1072: RuntimeWarning: overflow encountered in square\n",
      "  new_unnormalized_variance -= correction**2 / new_sample_count\n",
      "C:\\Users\\JoPa21\\anaconda3\\envs\\praktikum\\lib\\site-packages\\sklearn\\utils\\extmath.py:1072: RuntimeWarning: invalid value encountered in subtract\n",
      "  new_unnormalized_variance -= correction**2 / new_sample_count\n",
      "C:\\Users\\JoPa21\\anaconda3\\envs\\praktikum\\lib\\site-packages\\sklearn\\preprocessing\\_data.py:86: RuntimeWarning: overflow encountered in square\n",
      "  upper_bound = n_samples * eps * var + (n_samples * mean * eps) ** 2\n",
      "1it [00:34, 34.09s/it]\n"
     ]
    },
    {
     "ename": "KeyboardInterrupt",
     "evalue": "",
     "output_type": "error",
     "traceback": [
      "\u001b[1;31m---------------------------------------------------------------------------\u001b[0m",
      "\u001b[1;31mKeyboardInterrupt\u001b[0m                         Traceback (most recent call last)",
      "Cell \u001b[1;32mIn[5], line 2\u001b[0m\n\u001b[0;32m      1\u001b[0m \u001b[38;5;66;03m# execute normal random forest testing\u001b[39;00m\n\u001b[1;32m----> 2\u001b[0m accuracy_dict \u001b[38;5;241m=\u001b[39m \u001b[43mnormal\u001b[49m\u001b[38;5;241;43m.\u001b[39;49m\u001b[43mexecute_normal_rf_test\u001b[49m\u001b[43m(\u001b[49m\n\u001b[0;32m      3\u001b[0m \u001b[43m    \u001b[49m\u001b[43mrf\u001b[49m\u001b[38;5;241;43m=\u001b[39;49m\u001b[43mrf\u001b[49m\u001b[43m,\u001b[49m\n\u001b[0;32m      4\u001b[0m \u001b[43m    \u001b[49m\u001b[43maid\u001b[49m\u001b[38;5;241;43m=\u001b[39;49m\u001b[43maid\u001b[49m\u001b[43m,\u001b[49m\n\u001b[0;32m      5\u001b[0m \u001b[43m    \u001b[49m\u001b[43mmode\u001b[49m\u001b[38;5;241;43m=\u001b[39;49m\u001b[38;5;124;43m\"\u001b[39;49m\u001b[38;5;124;43mchem-desc\u001b[39;49m\u001b[38;5;124;43m\"\u001b[39;49m\n\u001b[0;32m      6\u001b[0m \u001b[43m)\u001b[49m\n",
      "File \u001b[1;32mC:\\DATEN\\Universität\\Self-distillation_P1\\selfdest_toolkit\\randomforest_tools\\normal.py:72\u001b[0m, in \u001b[0;36mexecute_normal_rf_test\u001b[1;34m(rf, aid, mode, random_state)\u001b[0m\n\u001b[0;32m     69\u001b[0m y_train, y_test \u001b[38;5;241m=\u001b[39m labels[train_index], labels[test_index]\n\u001b[0;32m     71\u001b[0m \u001b[38;5;66;03m# random forest fit data\u001b[39;00m\n\u001b[1;32m---> 72\u001b[0m \u001b[43mrf\u001b[49m\u001b[38;5;241;43m.\u001b[39;49m\u001b[43mfit\u001b[49m\u001b[43m(\u001b[49m\u001b[43mx_train\u001b[49m\u001b[43m,\u001b[49m\u001b[43m \u001b[49m\u001b[43my_train\u001b[49m\u001b[43m)\u001b[49m\n\u001b[0;32m     74\u001b[0m \u001b[38;5;66;03m# generate prediction\u001b[39;00m\n\u001b[0;32m     75\u001b[0m pred \u001b[38;5;241m=\u001b[39m rf\u001b[38;5;241m.\u001b[39mpredict(x_test)\n",
      "File \u001b[1;32m~\\anaconda3\\envs\\praktikum\\lib\\site-packages\\sklearn\\ensemble\\_forest.py:473\u001b[0m, in \u001b[0;36mBaseForest.fit\u001b[1;34m(self, X, y, sample_weight)\u001b[0m\n\u001b[0;32m    462\u001b[0m trees \u001b[38;5;241m=\u001b[39m [\n\u001b[0;32m    463\u001b[0m     \u001b[38;5;28mself\u001b[39m\u001b[38;5;241m.\u001b[39m_make_estimator(append\u001b[38;5;241m=\u001b[39m\u001b[38;5;28;01mFalse\u001b[39;00m, random_state\u001b[38;5;241m=\u001b[39mrandom_state)\n\u001b[0;32m    464\u001b[0m     \u001b[38;5;28;01mfor\u001b[39;00m i \u001b[38;5;129;01min\u001b[39;00m \u001b[38;5;28mrange\u001b[39m(n_more_estimators)\n\u001b[0;32m    465\u001b[0m ]\n\u001b[0;32m    467\u001b[0m \u001b[38;5;66;03m# Parallel loop: we prefer the threading backend as the Cython code\u001b[39;00m\n\u001b[0;32m    468\u001b[0m \u001b[38;5;66;03m# for fitting the trees is internally releasing the Python GIL\u001b[39;00m\n\u001b[0;32m    469\u001b[0m \u001b[38;5;66;03m# making threading more efficient than multiprocessing in\u001b[39;00m\n\u001b[0;32m    470\u001b[0m \u001b[38;5;66;03m# that case. However, for joblib 0.12+ we respect any\u001b[39;00m\n\u001b[0;32m    471\u001b[0m \u001b[38;5;66;03m# parallel_backend contexts set at a higher level,\u001b[39;00m\n\u001b[0;32m    472\u001b[0m \u001b[38;5;66;03m# since correctness does not rely on using threads.\u001b[39;00m\n\u001b[1;32m--> 473\u001b[0m trees \u001b[38;5;241m=\u001b[39m \u001b[43mParallel\u001b[49m\u001b[43m(\u001b[49m\n\u001b[0;32m    474\u001b[0m \u001b[43m    \u001b[49m\u001b[43mn_jobs\u001b[49m\u001b[38;5;241;43m=\u001b[39;49m\u001b[38;5;28;43mself\u001b[39;49m\u001b[38;5;241;43m.\u001b[39;49m\u001b[43mn_jobs\u001b[49m\u001b[43m,\u001b[49m\n\u001b[0;32m    475\u001b[0m \u001b[43m    \u001b[49m\u001b[43mverbose\u001b[49m\u001b[38;5;241;43m=\u001b[39;49m\u001b[38;5;28;43mself\u001b[39;49m\u001b[38;5;241;43m.\u001b[39;49m\u001b[43mverbose\u001b[49m\u001b[43m,\u001b[49m\n\u001b[0;32m    476\u001b[0m \u001b[43m    \u001b[49m\u001b[43mprefer\u001b[49m\u001b[38;5;241;43m=\u001b[39;49m\u001b[38;5;124;43m\"\u001b[39;49m\u001b[38;5;124;43mthreads\u001b[39;49m\u001b[38;5;124;43m\"\u001b[39;49m\u001b[43m,\u001b[49m\n\u001b[0;32m    477\u001b[0m \u001b[43m\u001b[49m\u001b[43m)\u001b[49m\u001b[43m(\u001b[49m\n\u001b[0;32m    478\u001b[0m \u001b[43m    \u001b[49m\u001b[43mdelayed\u001b[49m\u001b[43m(\u001b[49m\u001b[43m_parallel_build_trees\u001b[49m\u001b[43m)\u001b[49m\u001b[43m(\u001b[49m\n\u001b[0;32m    479\u001b[0m \u001b[43m        \u001b[49m\u001b[43mt\u001b[49m\u001b[43m,\u001b[49m\n\u001b[0;32m    480\u001b[0m \u001b[43m        \u001b[49m\u001b[38;5;28;43mself\u001b[39;49m\u001b[38;5;241;43m.\u001b[39;49m\u001b[43mbootstrap\u001b[49m\u001b[43m,\u001b[49m\n\u001b[0;32m    481\u001b[0m \u001b[43m        \u001b[49m\u001b[43mX\u001b[49m\u001b[43m,\u001b[49m\n\u001b[0;32m    482\u001b[0m \u001b[43m        \u001b[49m\u001b[43my\u001b[49m\u001b[43m,\u001b[49m\n\u001b[0;32m    483\u001b[0m \u001b[43m        \u001b[49m\u001b[43msample_weight\u001b[49m\u001b[43m,\u001b[49m\n\u001b[0;32m    484\u001b[0m \u001b[43m        \u001b[49m\u001b[43mi\u001b[49m\u001b[43m,\u001b[49m\n\u001b[0;32m    485\u001b[0m \u001b[43m        \u001b[49m\u001b[38;5;28;43mlen\u001b[39;49m\u001b[43m(\u001b[49m\u001b[43mtrees\u001b[49m\u001b[43m)\u001b[49m\u001b[43m,\u001b[49m\n\u001b[0;32m    486\u001b[0m \u001b[43m        \u001b[49m\u001b[43mverbose\u001b[49m\u001b[38;5;241;43m=\u001b[39;49m\u001b[38;5;28;43mself\u001b[39;49m\u001b[38;5;241;43m.\u001b[39;49m\u001b[43mverbose\u001b[49m\u001b[43m,\u001b[49m\n\u001b[0;32m    487\u001b[0m \u001b[43m        \u001b[49m\u001b[43mclass_weight\u001b[49m\u001b[38;5;241;43m=\u001b[39;49m\u001b[38;5;28;43mself\u001b[39;49m\u001b[38;5;241;43m.\u001b[39;49m\u001b[43mclass_weight\u001b[49m\u001b[43m,\u001b[49m\n\u001b[0;32m    488\u001b[0m \u001b[43m        \u001b[49m\u001b[43mn_samples_bootstrap\u001b[49m\u001b[38;5;241;43m=\u001b[39;49m\u001b[43mn_samples_bootstrap\u001b[49m\u001b[43m,\u001b[49m\n\u001b[0;32m    489\u001b[0m \u001b[43m    \u001b[49m\u001b[43m)\u001b[49m\n\u001b[0;32m    490\u001b[0m \u001b[43m    \u001b[49m\u001b[38;5;28;43;01mfor\u001b[39;49;00m\u001b[43m \u001b[49m\u001b[43mi\u001b[49m\u001b[43m,\u001b[49m\u001b[43m \u001b[49m\u001b[43mt\u001b[49m\u001b[43m \u001b[49m\u001b[38;5;129;43;01min\u001b[39;49;00m\u001b[43m \u001b[49m\u001b[38;5;28;43menumerate\u001b[39;49m\u001b[43m(\u001b[49m\u001b[43mtrees\u001b[49m\u001b[43m)\u001b[49m\n\u001b[0;32m    491\u001b[0m \u001b[43m\u001b[49m\u001b[43m)\u001b[49m\n\u001b[0;32m    493\u001b[0m \u001b[38;5;66;03m# Collect newly grown trees\u001b[39;00m\n\u001b[0;32m    494\u001b[0m \u001b[38;5;28mself\u001b[39m\u001b[38;5;241m.\u001b[39mestimators_\u001b[38;5;241m.\u001b[39mextend(trees)\n",
      "File \u001b[1;32m~\\anaconda3\\envs\\praktikum\\lib\\site-packages\\sklearn\\utils\\parallel.py:63\u001b[0m, in \u001b[0;36mParallel.__call__\u001b[1;34m(self, iterable)\u001b[0m\n\u001b[0;32m     58\u001b[0m config \u001b[38;5;241m=\u001b[39m get_config()\n\u001b[0;32m     59\u001b[0m iterable_with_config \u001b[38;5;241m=\u001b[39m (\n\u001b[0;32m     60\u001b[0m     (_with_config(delayed_func, config), args, kwargs)\n\u001b[0;32m     61\u001b[0m     \u001b[38;5;28;01mfor\u001b[39;00m delayed_func, args, kwargs \u001b[38;5;129;01min\u001b[39;00m iterable\n\u001b[0;32m     62\u001b[0m )\n\u001b[1;32m---> 63\u001b[0m \u001b[38;5;28;01mreturn\u001b[39;00m \u001b[38;5;28;43msuper\u001b[39;49m\u001b[43m(\u001b[49m\u001b[43m)\u001b[49m\u001b[38;5;241;43m.\u001b[39;49m\u001b[38;5;21;43m__call__\u001b[39;49m\u001b[43m(\u001b[49m\u001b[43miterable_with_config\u001b[49m\u001b[43m)\u001b[49m\n",
      "File \u001b[1;32m~\\anaconda3\\envs\\praktikum\\lib\\site-packages\\joblib\\parallel.py:1098\u001b[0m, in \u001b[0;36mParallel.__call__\u001b[1;34m(self, iterable)\u001b[0m\n\u001b[0;32m   1095\u001b[0m     \u001b[38;5;28mself\u001b[39m\u001b[38;5;241m.\u001b[39m_iterating \u001b[38;5;241m=\u001b[39m \u001b[38;5;28;01mFalse\u001b[39;00m\n\u001b[0;32m   1097\u001b[0m \u001b[38;5;28;01mwith\u001b[39;00m \u001b[38;5;28mself\u001b[39m\u001b[38;5;241m.\u001b[39m_backend\u001b[38;5;241m.\u001b[39mretrieval_context():\n\u001b[1;32m-> 1098\u001b[0m     \u001b[38;5;28;43mself\u001b[39;49m\u001b[38;5;241;43m.\u001b[39;49m\u001b[43mretrieve\u001b[49m\u001b[43m(\u001b[49m\u001b[43m)\u001b[49m\n\u001b[0;32m   1099\u001b[0m \u001b[38;5;66;03m# Make sure that we get a last message telling us we are done\u001b[39;00m\n\u001b[0;32m   1100\u001b[0m elapsed_time \u001b[38;5;241m=\u001b[39m time\u001b[38;5;241m.\u001b[39mtime() \u001b[38;5;241m-\u001b[39m \u001b[38;5;28mself\u001b[39m\u001b[38;5;241m.\u001b[39m_start_time\n",
      "File \u001b[1;32m~\\anaconda3\\envs\\praktikum\\lib\\site-packages\\joblib\\parallel.py:975\u001b[0m, in \u001b[0;36mParallel.retrieve\u001b[1;34m(self)\u001b[0m\n\u001b[0;32m    973\u001b[0m \u001b[38;5;28;01mtry\u001b[39;00m:\n\u001b[0;32m    974\u001b[0m     \u001b[38;5;28;01mif\u001b[39;00m \u001b[38;5;28mgetattr\u001b[39m(\u001b[38;5;28mself\u001b[39m\u001b[38;5;241m.\u001b[39m_backend, \u001b[38;5;124m'\u001b[39m\u001b[38;5;124msupports_timeout\u001b[39m\u001b[38;5;124m'\u001b[39m, \u001b[38;5;28;01mFalse\u001b[39;00m):\n\u001b[1;32m--> 975\u001b[0m         \u001b[38;5;28mself\u001b[39m\u001b[38;5;241m.\u001b[39m_output\u001b[38;5;241m.\u001b[39mextend(\u001b[43mjob\u001b[49m\u001b[38;5;241;43m.\u001b[39;49m\u001b[43mget\u001b[49m\u001b[43m(\u001b[49m\u001b[43mtimeout\u001b[49m\u001b[38;5;241;43m=\u001b[39;49m\u001b[38;5;28;43mself\u001b[39;49m\u001b[38;5;241;43m.\u001b[39;49m\u001b[43mtimeout\u001b[49m\u001b[43m)\u001b[49m)\n\u001b[0;32m    976\u001b[0m     \u001b[38;5;28;01melse\u001b[39;00m:\n\u001b[0;32m    977\u001b[0m         \u001b[38;5;28mself\u001b[39m\u001b[38;5;241m.\u001b[39m_output\u001b[38;5;241m.\u001b[39mextend(job\u001b[38;5;241m.\u001b[39mget())\n",
      "File \u001b[1;32m~\\anaconda3\\envs\\praktikum\\lib\\multiprocessing\\pool.py:765\u001b[0m, in \u001b[0;36mApplyResult.get\u001b[1;34m(self, timeout)\u001b[0m\n\u001b[0;32m    764\u001b[0m \u001b[38;5;28;01mdef\u001b[39;00m \u001b[38;5;21mget\u001b[39m(\u001b[38;5;28mself\u001b[39m, timeout\u001b[38;5;241m=\u001b[39m\u001b[38;5;28;01mNone\u001b[39;00m):\n\u001b[1;32m--> 765\u001b[0m     \u001b[38;5;28;43mself\u001b[39;49m\u001b[38;5;241;43m.\u001b[39;49m\u001b[43mwait\u001b[49m\u001b[43m(\u001b[49m\u001b[43mtimeout\u001b[49m\u001b[43m)\u001b[49m\n\u001b[0;32m    766\u001b[0m     \u001b[38;5;28;01mif\u001b[39;00m \u001b[38;5;129;01mnot\u001b[39;00m \u001b[38;5;28mself\u001b[39m\u001b[38;5;241m.\u001b[39mready():\n\u001b[0;32m    767\u001b[0m         \u001b[38;5;28;01mraise\u001b[39;00m \u001b[38;5;167;01mTimeoutError\u001b[39;00m\n",
      "File \u001b[1;32m~\\anaconda3\\envs\\praktikum\\lib\\multiprocessing\\pool.py:762\u001b[0m, in \u001b[0;36mApplyResult.wait\u001b[1;34m(self, timeout)\u001b[0m\n\u001b[0;32m    761\u001b[0m \u001b[38;5;28;01mdef\u001b[39;00m \u001b[38;5;21mwait\u001b[39m(\u001b[38;5;28mself\u001b[39m, timeout\u001b[38;5;241m=\u001b[39m\u001b[38;5;28;01mNone\u001b[39;00m):\n\u001b[1;32m--> 762\u001b[0m     \u001b[38;5;28;43mself\u001b[39;49m\u001b[38;5;241;43m.\u001b[39;49m\u001b[43m_event\u001b[49m\u001b[38;5;241;43m.\u001b[39;49m\u001b[43mwait\u001b[49m\u001b[43m(\u001b[49m\u001b[43mtimeout\u001b[49m\u001b[43m)\u001b[49m\n",
      "File \u001b[1;32m~\\anaconda3\\envs\\praktikum\\lib\\threading.py:581\u001b[0m, in \u001b[0;36mEvent.wait\u001b[1;34m(self, timeout)\u001b[0m\n\u001b[0;32m    579\u001b[0m signaled \u001b[38;5;241m=\u001b[39m \u001b[38;5;28mself\u001b[39m\u001b[38;5;241m.\u001b[39m_flag\n\u001b[0;32m    580\u001b[0m \u001b[38;5;28;01mif\u001b[39;00m \u001b[38;5;129;01mnot\u001b[39;00m signaled:\n\u001b[1;32m--> 581\u001b[0m     signaled \u001b[38;5;241m=\u001b[39m \u001b[38;5;28;43mself\u001b[39;49m\u001b[38;5;241;43m.\u001b[39;49m\u001b[43m_cond\u001b[49m\u001b[38;5;241;43m.\u001b[39;49m\u001b[43mwait\u001b[49m\u001b[43m(\u001b[49m\u001b[43mtimeout\u001b[49m\u001b[43m)\u001b[49m\n\u001b[0;32m    582\u001b[0m \u001b[38;5;28;01mreturn\u001b[39;00m signaled\n",
      "File \u001b[1;32m~\\anaconda3\\envs\\praktikum\\lib\\threading.py:312\u001b[0m, in \u001b[0;36mCondition.wait\u001b[1;34m(self, timeout)\u001b[0m\n\u001b[0;32m    310\u001b[0m \u001b[38;5;28;01mtry\u001b[39;00m:    \u001b[38;5;66;03m# restore state no matter what (e.g., KeyboardInterrupt)\u001b[39;00m\n\u001b[0;32m    311\u001b[0m     \u001b[38;5;28;01mif\u001b[39;00m timeout \u001b[38;5;129;01mis\u001b[39;00m \u001b[38;5;28;01mNone\u001b[39;00m:\n\u001b[1;32m--> 312\u001b[0m         \u001b[43mwaiter\u001b[49m\u001b[38;5;241;43m.\u001b[39;49m\u001b[43macquire\u001b[49m\u001b[43m(\u001b[49m\u001b[43m)\u001b[49m\n\u001b[0;32m    313\u001b[0m         gotit \u001b[38;5;241m=\u001b[39m \u001b[38;5;28;01mTrue\u001b[39;00m\n\u001b[0;32m    314\u001b[0m     \u001b[38;5;28;01melse\u001b[39;00m:\n",
      "\u001b[1;31mKeyboardInterrupt\u001b[0m: "
     ]
    }
   ],
   "source": [
    "# execute normal random forest testing\n",
    "accuracy_dict = normal.execute_normal_rf_test(\n",
    "    rf=rf,\n",
    "    aid=aid,\n",
    "    mode=\"chem-desc\"\n",
    ")"
   ]
  },
  {
   "cell_type": "code",
   "execution_count": null,
   "id": "eabb627f-b9ac-42bf-8522-bce41f504571",
   "metadata": {
    "tags": []
   },
   "outputs": [],
   "source": [
    "print(json.dumps(accuracy_dict, indent=4))"
   ]
  },
  {
   "cell_type": "code",
   "execution_count": null,
   "id": "172bc731-146a-4785-87ac-07115925276c",
   "metadata": {
    "tags": []
   },
   "outputs": [],
   "source": [
    "normal_mean_dict = rf_analysis.convert_acc_dict(accuracy_dict)\n",
    "print(json.dumps(normal_mean_dict, indent=4))"
   ]
  },
  {
   "cell_type": "markdown",
   "id": "2b992a50-bbff-40f4-b2d1-25bb79f74892",
   "metadata": {},
   "source": [
    "## Self distillation Random Forest"
   ]
  },
  {
   "cell_type": "code",
   "execution_count": 25,
   "id": "6d49425d-5244-4586-8785-49457d61123b",
   "metadata": {
    "tags": []
   },
   "outputs": [],
   "source": [
    "# generating random forests\n",
    "rf_teacher = creation.generate_default_rf()\n",
    "rf_student = creation.generate_default_rf()"
   ]
  },
  {
   "cell_type": "code",
   "execution_count": 26,
   "id": "f38b8aca-ad5b-4d99-b2d6-05b2078422e7",
   "metadata": {
    "tags": []
   },
   "outputs": [
    {
     "name": "stderr",
     "output_type": "stream",
     "text": [
      "5it [06:50, 82.12s/it]\n"
     ]
    }
   ],
   "source": [
    "normal_accuracy_dict, sd_accuracy_dict = self_distillation.execute_sd_rf_test(\n",
    "    rf_teacher=rf_teacher,\n",
    "    rf_student=rf_student,\n",
    "    aid=aid,\n",
    "    mode=\"chem-desc\"\n",
    ")"
   ]
  },
  {
   "cell_type": "code",
   "execution_count": 27,
   "id": "c8a483b0-c0fc-44b4-9973-9a6f20cffad3",
   "metadata": {
    "tags": []
   },
   "outputs": [],
   "source": [
    "normal_mean_dict = rf_analysis.convert_acc_dict(normal_accuracy_dict)\n",
    "sd_mean_dict = rf_analysis.convert_acc_dict(sd_accuracy_dict)"
   ]
  },
  {
   "cell_type": "code",
   "execution_count": 28,
   "id": "edb10c2c-3703-4045-94b6-0d8121336fed",
   "metadata": {
    "tags": []
   },
   "outputs": [
    {
     "name": "stdout",
     "output_type": "stream",
     "text": [
      "{\n",
      "    \"accuracy\": 0.9785018671743428,\n",
      "    \"balanced_accuracy\": 0.5402642575677149,\n",
      "    \"roc\": 0.5402642575677149,\n",
      "    \"precision\": 0.9727097179111954,\n",
      "    \"recall\": 0.9785018671743428\n",
      "}\n"
     ]
    }
   ],
   "source": [
    "print(json.dumps(normal_mean_dict, indent=4))"
   ]
  },
  {
   "cell_type": "code",
   "execution_count": 29,
   "id": "b58c4c25-54f9-422b-8f7a-15abeab0792a",
   "metadata": {
    "tags": []
   },
   "outputs": [
    {
     "name": "stdout",
     "output_type": "stream",
     "text": [
      "{\n",
      "    \"accuracy\": 0.9786043787068902,\n",
      "    \"balanced_accuracy\": 0.5377760446035238,\n",
      "    \"roc\": 0.5377760446035238,\n",
      "    \"precision\": 0.9737700557750006,\n",
      "    \"recall\": 0.9786043787068902\n",
      "}\n"
     ]
    }
   ],
   "source": [
    "print(json.dumps(sd_mean_dict, indent=4))"
   ]
  },
  {
   "cell_type": "code",
   "execution_count": 30,
   "id": "29b7d2fd-3171-4261-a875-c6afaae0f319",
   "metadata": {
    "tags": []
   },
   "outputs": [],
   "source": [
    "comparison_dict = rf_analysis.compare_accuracy_dict(normal_mean_dict, sd_mean_dict)"
   ]
  },
  {
   "cell_type": "code",
   "execution_count": 31,
   "id": "749b8aff-cb48-41b9-ae6a-b8cf713a3b2e",
   "metadata": {
    "tags": []
   },
   "outputs": [
    {
     "name": "stdout",
     "output_type": "stream",
     "text": [
      "{\n",
      "    \"accuracy\": 0.00010251153254736689,\n",
      "    \"balanced_accuracy\": -0.0024882129641911055,\n",
      "    \"roc\": -0.0024882129641911055,\n",
      "    \"precision\": 0.0010603378638052163,\n",
      "    \"recall\": 0.00010251153254736689\n",
      "}\n"
     ]
    }
   ],
   "source": [
    "print(json.dumps(comparison_dict, indent=4))"
   ]
  },
  {
   "cell_type": "markdown",
   "id": "0dab6859-3922-4ea3-a114-1a089d950aaa",
   "metadata": {},
   "source": [
    "## Testing for self distillation success for a number of experiments"
   ]
  },
  {
   "cell_type": "markdown",
   "id": "072fa852-08f5-4539-9e82-cea861a922f7",
   "metadata": {},
   "source": [
    "### Chemical descriptor data mode"
   ]
  },
  {
   "cell_type": "code",
   "execution_count": 32,
   "id": "c3609d82-e56e-42d8-8112-acd4bd046a3e",
   "metadata": {
    "tags": []
   },
   "outputs": [
    {
     "name": "stderr",
     "output_type": "stream",
     "text": [
      "100%|██████████████████████████████████████████████████████████████████████████████| 2481/2481 [01:28<00:00, 28.15it/s]\n"
     ]
    }
   ],
   "source": [
    "# get the experiment list to test\n",
    "exp_to_test = analysis.get_good_experiment_ids(\n",
    "    number_to_sample=10\n",
    ")"
   ]
  },
  {
   "cell_type": "code",
   "execution_count": 33,
   "id": "c15accc3-c529-4871-97cf-e8711db0a42f",
   "metadata": {
    "tags": []
   },
   "outputs": [
    {
     "data": {
      "text/plain": [
       "array([   902,   1458,   1461,   1688,   2551, 485313, 485314, 624297,\n",
       "       651965, 652104], dtype=int64)"
      ]
     },
     "execution_count": 33,
     "metadata": {},
     "output_type": "execute_result"
    }
   ],
   "source": [
    "exp_to_test"
   ]
  },
  {
   "cell_type": "code",
   "execution_count": 34,
   "id": "588fc401-b9fe-4f88-8be8-2d7607ed7fab",
   "metadata": {
    "tags": []
   },
   "outputs": [],
   "source": [
    "# take balanced accuracy and roc into account as it seems to be the most expressive out of all, \n",
    "# because it actually is not over 90% from the beginning and from the documentation it seemed \n",
    "# to be the best for imbalanced datasets. Although it is astonishing that the average parameter\n",
    "# to weighted does not work. Maybe a weight needs to be supplied besides the parameter but I\n",
    "# rather go with the other options"
   ]
  },
  {
   "cell_type": "code",
   "execution_count": 35,
   "id": "3ba739a8-0984-4129-bf19-d28b428a870b",
   "metadata": {
    "tags": []
   },
   "outputs": [],
   "source": [
    "# better worse counter\n",
    "roc_better = []\n",
    "roc_worse = []\n",
    "ba_better = []\n",
    "ba_worse = []"
   ]
  },
  {
   "cell_type": "code",
   "execution_count": 36,
   "id": "4ed7cfaf-f4b9-4916-b613-54a8130d8324",
   "metadata": {
    "tags": []
   },
   "outputs": [],
   "source": [
    "mode = \"chem-desc\"\n",
    "# mode = \"fingerprint\""
   ]
  },
  {
   "cell_type": "code",
   "execution_count": 37,
   "id": "acc04ad3-96fd-4a17-9db8-5036f08f9f01",
   "metadata": {},
   "outputs": [
    {
     "name": "stderr",
     "output_type": "stream",
     "text": [
      " 30%|███████████████████████                                                      | 3/10 [1:01:49<2:31:24, 1297.83s/it]C:\\Users\\JoPa21\\anaconda3\\envs\\praktikum\\lib\\site-packages\\sklearn\\utils\\extmath.py:1066: RuntimeWarning: overflow encountered in square\n",
      "  temp **= 2\n",
      "C:\\Users\\JoPa21\\anaconda3\\envs\\praktikum\\lib\\site-packages\\sklearn\\utils\\extmath.py:1072: RuntimeWarning: overflow encountered in square\n",
      "  new_unnormalized_variance -= correction**2 / new_sample_count\n",
      "C:\\Users\\JoPa21\\anaconda3\\envs\\praktikum\\lib\\site-packages\\sklearn\\utils\\extmath.py:1072: RuntimeWarning: invalid value encountered in subtract\n",
      "  new_unnormalized_variance -= correction**2 / new_sample_count\n",
      "C:\\Users\\JoPa21\\anaconda3\\envs\\praktikum\\lib\\site-packages\\sklearn\\preprocessing\\_data.py:86: RuntimeWarning: overflow encountered in square\n",
      "  upper_bound = n_samples * eps * var + (n_samples * mean * eps) ** 2\n",
      " 30%|███████████████████████                                                      | 3/10 [1:01:52<2:24:23, 1237.66s/it]\n"
     ]
    },
    {
     "ename": "ValueError",
     "evalue": "Input X contains NaN.\nRandomForestClassifier does not accept missing values encoded as NaN natively. For supervised learning, you might want to consider sklearn.ensemble.HistGradientBoostingClassifier and Regressor which accept missing values encoded as NaNs natively. Alternatively, it is possible to preprocess the data, for instance by using an imputer transformer in a pipeline or drop samples with missing values. See https://scikit-learn.org/stable/modules/impute.html You can find a list of all estimators that handle NaN values at the following page: https://scikit-learn.org/stable/modules/impute.html#estimators-that-handle-nan-values",
     "output_type": "error",
     "traceback": [
      "\u001b[1;31m---------------------------------------------------------------------------\u001b[0m",
      "\u001b[1;31mValueError\u001b[0m                                Traceback (most recent call last)",
      "Cell \u001b[1;32mIn[37], line 9\u001b[0m\n\u001b[0;32m      6\u001b[0m rf_student \u001b[38;5;241m=\u001b[39m creation\u001b[38;5;241m.\u001b[39mgenerate_default_rf()\n\u001b[0;32m      8\u001b[0m \u001b[38;5;66;03m# execute self destillation test\u001b[39;00m\n\u001b[1;32m----> 9\u001b[0m normal_accuracy_dict, sd_accuracy_dict \u001b[38;5;241m=\u001b[39m \u001b[43mself_distillation\u001b[49m\u001b[38;5;241;43m.\u001b[39;49m\u001b[43mexecute_sd_rf_test\u001b[49m\u001b[43m(\u001b[49m\n\u001b[0;32m     10\u001b[0m \u001b[43m    \u001b[49m\u001b[43mrf_teacher\u001b[49m\u001b[38;5;241;43m=\u001b[39;49m\u001b[43mrf_teacher\u001b[49m\u001b[43m,\u001b[49m\n\u001b[0;32m     11\u001b[0m \u001b[43m    \u001b[49m\u001b[43mrf_student\u001b[49m\u001b[38;5;241;43m=\u001b[39;49m\u001b[43mrf_student\u001b[49m\u001b[43m,\u001b[49m\n\u001b[0;32m     12\u001b[0m \u001b[43m    \u001b[49m\u001b[43maid\u001b[49m\u001b[38;5;241;43m=\u001b[39;49m\u001b[43maid\u001b[49m\u001b[43m,\u001b[49m\n\u001b[0;32m     13\u001b[0m \u001b[43m    \u001b[49m\u001b[43mmode\u001b[49m\u001b[38;5;241;43m=\u001b[39;49m\u001b[43mmode\u001b[49m\u001b[43m,\u001b[49m\n\u001b[0;32m     14\u001b[0m \u001b[43m    \u001b[49m\u001b[43mverbose\u001b[49m\u001b[38;5;241;43m=\u001b[39;49m\u001b[38;5;28;43;01mFalse\u001b[39;49;00m\n\u001b[0;32m     15\u001b[0m \u001b[43m\u001b[49m\u001b[43m)\u001b[49m\n\u001b[0;32m     17\u001b[0m \u001b[38;5;66;03m# calculate mean accuracy values\u001b[39;00m\n\u001b[0;32m     18\u001b[0m normal_mean_dict \u001b[38;5;241m=\u001b[39m rf_analysis\u001b[38;5;241m.\u001b[39mconvert_acc_dict(normal_accuracy_dict)\n",
      "File \u001b[1;32mC:\\DATEN\\Universität\\Self-distillation_P1\\selfdest_toolkit\\randomforest_tools\\self_distillation.py:105\u001b[0m, in \u001b[0;36mexecute_sd_rf_test\u001b[1;34m(rf_teacher, rf_student, aid, mode, random_state, verbose)\u001b[0m\n\u001b[0;32m    101\u001b[0m y_train, y_test \u001b[38;5;241m=\u001b[39m labels[train_index], labels[test_index]\n\u001b[0;32m    103\u001b[0m \u001b[38;5;66;03m# TEACHER RANDOMFOREST\u001b[39;00m\n\u001b[0;32m    104\u001b[0m \u001b[38;5;66;03m# training\u001b[39;00m\n\u001b[1;32m--> 105\u001b[0m \u001b[43mrf_teacher\u001b[49m\u001b[38;5;241;43m.\u001b[39;49m\u001b[43mfit\u001b[49m\u001b[43m(\u001b[49m\u001b[43mx_train\u001b[49m\u001b[43m,\u001b[49m\u001b[43m \u001b[49m\u001b[43my_train\u001b[49m\u001b[43m)\u001b[49m\n\u001b[0;32m    107\u001b[0m \u001b[38;5;66;03m# predicting self distillation elements\u001b[39;00m\n\u001b[0;32m    108\u001b[0m selfdist_label \u001b[38;5;241m=\u001b[39m rf_teacher\u001b[38;5;241m.\u001b[39mpredict(scaled_sdist)\n",
      "File \u001b[1;32m~\\anaconda3\\envs\\praktikum\\lib\\site-packages\\sklearn\\ensemble\\_forest.py:345\u001b[0m, in \u001b[0;36mBaseForest.fit\u001b[1;34m(self, X, y, sample_weight)\u001b[0m\n\u001b[0;32m    343\u001b[0m \u001b[38;5;28;01mif\u001b[39;00m issparse(y):\n\u001b[0;32m    344\u001b[0m     \u001b[38;5;28;01mraise\u001b[39;00m \u001b[38;5;167;01mValueError\u001b[39;00m(\u001b[38;5;124m\"\u001b[39m\u001b[38;5;124msparse multilabel-indicator for y is not supported.\u001b[39m\u001b[38;5;124m\"\u001b[39m)\n\u001b[1;32m--> 345\u001b[0m X, y \u001b[38;5;241m=\u001b[39m \u001b[38;5;28;43mself\u001b[39;49m\u001b[38;5;241;43m.\u001b[39;49m\u001b[43m_validate_data\u001b[49m\u001b[43m(\u001b[49m\n\u001b[0;32m    346\u001b[0m \u001b[43m    \u001b[49m\u001b[43mX\u001b[49m\u001b[43m,\u001b[49m\u001b[43m \u001b[49m\u001b[43my\u001b[49m\u001b[43m,\u001b[49m\u001b[43m \u001b[49m\u001b[43mmulti_output\u001b[49m\u001b[38;5;241;43m=\u001b[39;49m\u001b[38;5;28;43;01mTrue\u001b[39;49;00m\u001b[43m,\u001b[49m\u001b[43m \u001b[49m\u001b[43maccept_sparse\u001b[49m\u001b[38;5;241;43m=\u001b[39;49m\u001b[38;5;124;43m\"\u001b[39;49m\u001b[38;5;124;43mcsc\u001b[39;49m\u001b[38;5;124;43m\"\u001b[39;49m\u001b[43m,\u001b[49m\u001b[43m \u001b[49m\u001b[43mdtype\u001b[49m\u001b[38;5;241;43m=\u001b[39;49m\u001b[43mDTYPE\u001b[49m\n\u001b[0;32m    347\u001b[0m \u001b[43m\u001b[49m\u001b[43m)\u001b[49m\n\u001b[0;32m    348\u001b[0m \u001b[38;5;28;01mif\u001b[39;00m sample_weight \u001b[38;5;129;01mis\u001b[39;00m \u001b[38;5;129;01mnot\u001b[39;00m \u001b[38;5;28;01mNone\u001b[39;00m:\n\u001b[0;32m    349\u001b[0m     sample_weight \u001b[38;5;241m=\u001b[39m _check_sample_weight(sample_weight, X)\n",
      "File \u001b[1;32m~\\anaconda3\\envs\\praktikum\\lib\\site-packages\\sklearn\\base.py:565\u001b[0m, in \u001b[0;36mBaseEstimator._validate_data\u001b[1;34m(self, X, y, reset, validate_separately, **check_params)\u001b[0m\n\u001b[0;32m    563\u001b[0m         y \u001b[38;5;241m=\u001b[39m check_array(y, input_name\u001b[38;5;241m=\u001b[39m\u001b[38;5;124m\"\u001b[39m\u001b[38;5;124my\u001b[39m\u001b[38;5;124m\"\u001b[39m, \u001b[38;5;241m*\u001b[39m\u001b[38;5;241m*\u001b[39mcheck_y_params)\n\u001b[0;32m    564\u001b[0m     \u001b[38;5;28;01melse\u001b[39;00m:\n\u001b[1;32m--> 565\u001b[0m         X, y \u001b[38;5;241m=\u001b[39m check_X_y(X, y, \u001b[38;5;241m*\u001b[39m\u001b[38;5;241m*\u001b[39mcheck_params)\n\u001b[0;32m    566\u001b[0m     out \u001b[38;5;241m=\u001b[39m X, y\n\u001b[0;32m    568\u001b[0m \u001b[38;5;28;01mif\u001b[39;00m \u001b[38;5;129;01mnot\u001b[39;00m no_val_X \u001b[38;5;129;01mand\u001b[39;00m check_params\u001b[38;5;241m.\u001b[39mget(\u001b[38;5;124m\"\u001b[39m\u001b[38;5;124mensure_2d\u001b[39m\u001b[38;5;124m\"\u001b[39m, \u001b[38;5;28;01mTrue\u001b[39;00m):\n",
      "File \u001b[1;32m~\\anaconda3\\envs\\praktikum\\lib\\site-packages\\sklearn\\utils\\validation.py:1106\u001b[0m, in \u001b[0;36mcheck_X_y\u001b[1;34m(X, y, accept_sparse, accept_large_sparse, dtype, order, copy, force_all_finite, ensure_2d, allow_nd, multi_output, ensure_min_samples, ensure_min_features, y_numeric, estimator)\u001b[0m\n\u001b[0;32m   1101\u001b[0m         estimator_name \u001b[38;5;241m=\u001b[39m _check_estimator_name(estimator)\n\u001b[0;32m   1102\u001b[0m     \u001b[38;5;28;01mraise\u001b[39;00m \u001b[38;5;167;01mValueError\u001b[39;00m(\n\u001b[0;32m   1103\u001b[0m         \u001b[38;5;124mf\u001b[39m\u001b[38;5;124m\"\u001b[39m\u001b[38;5;132;01m{\u001b[39;00mestimator_name\u001b[38;5;132;01m}\u001b[39;00m\u001b[38;5;124m requires y to be passed, but the target y is None\u001b[39m\u001b[38;5;124m\"\u001b[39m\n\u001b[0;32m   1104\u001b[0m     )\n\u001b[1;32m-> 1106\u001b[0m X \u001b[38;5;241m=\u001b[39m \u001b[43mcheck_array\u001b[49m\u001b[43m(\u001b[49m\n\u001b[0;32m   1107\u001b[0m \u001b[43m    \u001b[49m\u001b[43mX\u001b[49m\u001b[43m,\u001b[49m\n\u001b[0;32m   1108\u001b[0m \u001b[43m    \u001b[49m\u001b[43maccept_sparse\u001b[49m\u001b[38;5;241;43m=\u001b[39;49m\u001b[43maccept_sparse\u001b[49m\u001b[43m,\u001b[49m\n\u001b[0;32m   1109\u001b[0m \u001b[43m    \u001b[49m\u001b[43maccept_large_sparse\u001b[49m\u001b[38;5;241;43m=\u001b[39;49m\u001b[43maccept_large_sparse\u001b[49m\u001b[43m,\u001b[49m\n\u001b[0;32m   1110\u001b[0m \u001b[43m    \u001b[49m\u001b[43mdtype\u001b[49m\u001b[38;5;241;43m=\u001b[39;49m\u001b[43mdtype\u001b[49m\u001b[43m,\u001b[49m\n\u001b[0;32m   1111\u001b[0m \u001b[43m    \u001b[49m\u001b[43morder\u001b[49m\u001b[38;5;241;43m=\u001b[39;49m\u001b[43morder\u001b[49m\u001b[43m,\u001b[49m\n\u001b[0;32m   1112\u001b[0m \u001b[43m    \u001b[49m\u001b[43mcopy\u001b[49m\u001b[38;5;241;43m=\u001b[39;49m\u001b[43mcopy\u001b[49m\u001b[43m,\u001b[49m\n\u001b[0;32m   1113\u001b[0m \u001b[43m    \u001b[49m\u001b[43mforce_all_finite\u001b[49m\u001b[38;5;241;43m=\u001b[39;49m\u001b[43mforce_all_finite\u001b[49m\u001b[43m,\u001b[49m\n\u001b[0;32m   1114\u001b[0m \u001b[43m    \u001b[49m\u001b[43mensure_2d\u001b[49m\u001b[38;5;241;43m=\u001b[39;49m\u001b[43mensure_2d\u001b[49m\u001b[43m,\u001b[49m\n\u001b[0;32m   1115\u001b[0m \u001b[43m    \u001b[49m\u001b[43mallow_nd\u001b[49m\u001b[38;5;241;43m=\u001b[39;49m\u001b[43mallow_nd\u001b[49m\u001b[43m,\u001b[49m\n\u001b[0;32m   1116\u001b[0m \u001b[43m    \u001b[49m\u001b[43mensure_min_samples\u001b[49m\u001b[38;5;241;43m=\u001b[39;49m\u001b[43mensure_min_samples\u001b[49m\u001b[43m,\u001b[49m\n\u001b[0;32m   1117\u001b[0m \u001b[43m    \u001b[49m\u001b[43mensure_min_features\u001b[49m\u001b[38;5;241;43m=\u001b[39;49m\u001b[43mensure_min_features\u001b[49m\u001b[43m,\u001b[49m\n\u001b[0;32m   1118\u001b[0m \u001b[43m    \u001b[49m\u001b[43mestimator\u001b[49m\u001b[38;5;241;43m=\u001b[39;49m\u001b[43mestimator\u001b[49m\u001b[43m,\u001b[49m\n\u001b[0;32m   1119\u001b[0m \u001b[43m    \u001b[49m\u001b[43minput_name\u001b[49m\u001b[38;5;241;43m=\u001b[39;49m\u001b[38;5;124;43m\"\u001b[39;49m\u001b[38;5;124;43mX\u001b[39;49m\u001b[38;5;124;43m\"\u001b[39;49m\u001b[43m,\u001b[49m\n\u001b[0;32m   1120\u001b[0m \u001b[43m\u001b[49m\u001b[43m)\u001b[49m\n\u001b[0;32m   1122\u001b[0m y \u001b[38;5;241m=\u001b[39m _check_y(y, multi_output\u001b[38;5;241m=\u001b[39mmulti_output, y_numeric\u001b[38;5;241m=\u001b[39my_numeric, estimator\u001b[38;5;241m=\u001b[39mestimator)\n\u001b[0;32m   1124\u001b[0m check_consistent_length(X, y)\n",
      "File \u001b[1;32m~\\anaconda3\\envs\\praktikum\\lib\\site-packages\\sklearn\\utils\\validation.py:921\u001b[0m, in \u001b[0;36mcheck_array\u001b[1;34m(array, accept_sparse, accept_large_sparse, dtype, order, copy, force_all_finite, ensure_2d, allow_nd, ensure_min_samples, ensure_min_features, estimator, input_name)\u001b[0m\n\u001b[0;32m    915\u001b[0m         \u001b[38;5;28;01mraise\u001b[39;00m \u001b[38;5;167;01mValueError\u001b[39;00m(\n\u001b[0;32m    916\u001b[0m             \u001b[38;5;124m\"\u001b[39m\u001b[38;5;124mFound array with dim \u001b[39m\u001b[38;5;132;01m%d\u001b[39;00m\u001b[38;5;124m. \u001b[39m\u001b[38;5;132;01m%s\u001b[39;00m\u001b[38;5;124m expected <= 2.\u001b[39m\u001b[38;5;124m\"\u001b[39m\n\u001b[0;32m    917\u001b[0m             \u001b[38;5;241m%\u001b[39m (array\u001b[38;5;241m.\u001b[39mndim, estimator_name)\n\u001b[0;32m    918\u001b[0m         )\n\u001b[0;32m    920\u001b[0m     \u001b[38;5;28;01mif\u001b[39;00m force_all_finite:\n\u001b[1;32m--> 921\u001b[0m         \u001b[43m_assert_all_finite\u001b[49m\u001b[43m(\u001b[49m\n\u001b[0;32m    922\u001b[0m \u001b[43m            \u001b[49m\u001b[43marray\u001b[49m\u001b[43m,\u001b[49m\n\u001b[0;32m    923\u001b[0m \u001b[43m            \u001b[49m\u001b[43minput_name\u001b[49m\u001b[38;5;241;43m=\u001b[39;49m\u001b[43minput_name\u001b[49m\u001b[43m,\u001b[49m\n\u001b[0;32m    924\u001b[0m \u001b[43m            \u001b[49m\u001b[43mestimator_name\u001b[49m\u001b[38;5;241;43m=\u001b[39;49m\u001b[43mestimator_name\u001b[49m\u001b[43m,\u001b[49m\n\u001b[0;32m    925\u001b[0m \u001b[43m            \u001b[49m\u001b[43mallow_nan\u001b[49m\u001b[38;5;241;43m=\u001b[39;49m\u001b[43mforce_all_finite\u001b[49m\u001b[43m \u001b[49m\u001b[38;5;241;43m==\u001b[39;49m\u001b[43m \u001b[49m\u001b[38;5;124;43m\"\u001b[39;49m\u001b[38;5;124;43mallow-nan\u001b[39;49m\u001b[38;5;124;43m\"\u001b[39;49m\u001b[43m,\u001b[49m\n\u001b[0;32m    926\u001b[0m \u001b[43m        \u001b[49m\u001b[43m)\u001b[49m\n\u001b[0;32m    928\u001b[0m \u001b[38;5;28;01mif\u001b[39;00m ensure_min_samples \u001b[38;5;241m>\u001b[39m \u001b[38;5;241m0\u001b[39m:\n\u001b[0;32m    929\u001b[0m     n_samples \u001b[38;5;241m=\u001b[39m _num_samples(array)\n",
      "File \u001b[1;32m~\\anaconda3\\envs\\praktikum\\lib\\site-packages\\sklearn\\utils\\validation.py:161\u001b[0m, in \u001b[0;36m_assert_all_finite\u001b[1;34m(X, allow_nan, msg_dtype, estimator_name, input_name)\u001b[0m\n\u001b[0;32m    144\u001b[0m \u001b[38;5;28;01mif\u001b[39;00m estimator_name \u001b[38;5;129;01mand\u001b[39;00m input_name \u001b[38;5;241m==\u001b[39m \u001b[38;5;124m\"\u001b[39m\u001b[38;5;124mX\u001b[39m\u001b[38;5;124m\"\u001b[39m \u001b[38;5;129;01mand\u001b[39;00m has_nan_error:\n\u001b[0;32m    145\u001b[0m     \u001b[38;5;66;03m# Improve the error message on how to handle missing values in\u001b[39;00m\n\u001b[0;32m    146\u001b[0m     \u001b[38;5;66;03m# scikit-learn.\u001b[39;00m\n\u001b[0;32m    147\u001b[0m     msg_err \u001b[38;5;241m+\u001b[39m\u001b[38;5;241m=\u001b[39m (\n\u001b[0;32m    148\u001b[0m         \u001b[38;5;124mf\u001b[39m\u001b[38;5;124m\"\u001b[39m\u001b[38;5;130;01m\\n\u001b[39;00m\u001b[38;5;132;01m{\u001b[39;00mestimator_name\u001b[38;5;132;01m}\u001b[39;00m\u001b[38;5;124m does not accept missing values\u001b[39m\u001b[38;5;124m\"\u001b[39m\n\u001b[0;32m    149\u001b[0m         \u001b[38;5;124m\"\u001b[39m\u001b[38;5;124m encoded as NaN natively. For supervised learning, you might want\u001b[39m\u001b[38;5;124m\"\u001b[39m\n\u001b[1;32m   (...)\u001b[0m\n\u001b[0;32m    159\u001b[0m         \u001b[38;5;124m\"\u001b[39m\u001b[38;5;124m#estimators-that-handle-nan-values\u001b[39m\u001b[38;5;124m\"\u001b[39m\n\u001b[0;32m    160\u001b[0m     )\n\u001b[1;32m--> 161\u001b[0m \u001b[38;5;28;01mraise\u001b[39;00m \u001b[38;5;167;01mValueError\u001b[39;00m(msg_err)\n",
      "\u001b[1;31mValueError\u001b[0m: Input X contains NaN.\nRandomForestClassifier does not accept missing values encoded as NaN natively. For supervised learning, you might want to consider sklearn.ensemble.HistGradientBoostingClassifier and Regressor which accept missing values encoded as NaNs natively. Alternatively, it is possible to preprocess the data, for instance by using an imputer transformer in a pipeline or drop samples with missing values. See https://scikit-learn.org/stable/modules/impute.html You can find a list of all estimators that handle NaN values at the following page: https://scikit-learn.org/stable/modules/impute.html#estimators-that-handle-nan-values"
     ]
    }
   ],
   "source": [
    "# iterate over experiments to test\n",
    "for aid in tqdm(exp_to_test):\n",
    "    \n",
    "    # generating random forests\n",
    "    rf_teacher = creation.generate_default_rf()\n",
    "    rf_student = creation.generate_default_rf()\n",
    "    \n",
    "    # execute self destillation test\n",
    "    normal_accuracy_dict, sd_accuracy_dict = self_distillation.execute_sd_rf_test(\n",
    "        rf_teacher=rf_teacher,\n",
    "        rf_student=rf_student,\n",
    "        aid=aid,\n",
    "        mode=mode,\n",
    "        verbose=False\n",
    "    )\n",
    "    \n",
    "    # calculate mean accuracy values\n",
    "    normal_mean_dict = rf_analysis.convert_acc_dict(normal_accuracy_dict)\n",
    "    sd_mean_dict = rf_analysis.convert_acc_dict(sd_accuracy_dict)\n",
    "    \n",
    "    # get the difference in accuracy scores\n",
    "    comparison_dict = rf_analysis.compare_accuracy_dict(normal_mean_dict, sd_mean_dict)\n",
    "    \n",
    "    # analyze it\n",
    "    if comparison_dict[\"roc\"] > 0:\n",
    "        roc_better.append(aid)\n",
    "    else:\n",
    "        roc_worse.append(aid)\n",
    "    if comparison_dict[\"balanced_accuracy\"] > 0:\n",
    "        ba_better.append(aid)\n",
    "    else:\n",
    "        ba_worse.append(aid)"
   ]
  },
  {
   "cell_type": "code",
   "execution_count": null,
   "id": "19118a36-6a81-4def-bede-c41a12e2578d",
   "metadata": {
    "tags": []
   },
   "outputs": [],
   "source": [
    "print(\"roc wise {}({}%) experiments worked better with self destillation\".format(len(roc_better), len(roc_better)/(len(roc_better)+len(roc_worse))))\n",
    "print(\"balanced accuracy wise {}({}%) experiments worked better with self destillation\".format(len(ba_better), len(ba_better)/(len(ba_better)+len(ba_worse))))"
   ]
  },
  {
   "cell_type": "markdown",
   "id": "2ae96938-9f0c-47fc-b29e-78506d82e470",
   "metadata": {},
   "source": [
    "### Fingerprint mode"
   ]
  },
  {
   "cell_type": "code",
   "execution_count": null,
   "id": "8cbd806e-b5e7-4a9b-ba32-c693af50921b",
   "metadata": {
    "tags": []
   },
   "outputs": [],
   "source": [
    "# get the experiment list to test\n",
    "exp_to_test = analysis.get_good_experiment_ids(\n",
    "    number_to_sample=10\n",
    ")"
   ]
  },
  {
   "cell_type": "code",
   "execution_count": null,
   "id": "c1123f55-bd08-48d6-a324-3e33d05479ba",
   "metadata": {
    "tags": []
   },
   "outputs": [],
   "source": [
    "exp_to_test"
   ]
  },
  {
   "cell_type": "code",
   "execution_count": null,
   "id": "80d71b98-aa34-456f-81a8-0370465a264a",
   "metadata": {
    "tags": []
   },
   "outputs": [],
   "source": [
    "# take balanced accuracy and roc into account as it seems to be the most expressive out of all, \n",
    "# because it actually is not over 90% from the beginning and from the documentation it seemed \n",
    "# to be the best for imbalanced datasets. Although it is astonishing that the average parameter\n",
    "# to weighted does not work. Maybe a weight needs to be supplied besides the parameter but I\n",
    "# rather go with the other options"
   ]
  },
  {
   "cell_type": "code",
   "execution_count": null,
   "id": "63a0ac5e-bdd0-4c21-86d9-59045049aba4",
   "metadata": {
    "tags": []
   },
   "outputs": [],
   "source": [
    "# better worse counter\n",
    "roc_better = []\n",
    "roc_worse = []\n",
    "ba_better = []\n",
    "ba_worse = []"
   ]
  },
  {
   "cell_type": "code",
   "execution_count": null,
   "id": "910d55f7-22a8-4dfd-afbe-3f3f4ab6ceec",
   "metadata": {
    "tags": []
   },
   "outputs": [],
   "source": [
    "# mode = \"chem-desc\"\n",
    "mode = \"fingerprint\""
   ]
  },
  {
   "cell_type": "code",
   "execution_count": null,
   "id": "938dcbf4-c4c2-4ad2-a1b9-5a497f409f7b",
   "metadata": {},
   "outputs": [],
   "source": [
    "# iterate over experiments to test\n",
    "for aid in tqdm(exp_to_test):\n",
    "    \n",
    "    # generating random forests\n",
    "    rf_teacher = creation.generate_default_rf()\n",
    "    rf_student = creation.generate_default_rf()\n",
    "    \n",
    "    # execute self destillation test\n",
    "    normal_accuracy_dict, sd_accuracy_dict = self_distillation.execute_sd_rf_test(\n",
    "        rf_teacher=rf_teacher,\n",
    "        rf_student=rf_student,\n",
    "        aid=aid,\n",
    "        mode=mode,\n",
    "        verbose=False\n",
    "    )\n",
    "    \n",
    "    # calculate mean accuracy values\n",
    "    normal_mean_dict = rf_analysis.convert_acc_dict(normal_accuracy_dict)\n",
    "    sd_mean_dict = rf_analysis.convert_acc_dict(sd_accuracy_dict)\n",
    "    \n",
    "    # get the difference in accuracy scores\n",
    "    comparison_dict = rf_analysis.compare_accuracy_dict(normal_mean_dict, sd_mean_dict)\n",
    "    \n",
    "    # analyze it\n",
    "    if comparison_dict[\"roc\"] > 0:\n",
    "        roc_better.append(aid)\n",
    "    else:\n",
    "        roc_worse.append(aid)\n",
    "    if comparison_dict[\"balanced_accuracy\"] > 0:\n",
    "        ba_better.append(aid)\n",
    "    else:\n",
    "        ba_worse.append(aid)"
   ]
  },
  {
   "cell_type": "code",
   "execution_count": null,
   "id": "e2c3313a-5a55-4759-8100-cc6edd8eebc0",
   "metadata": {
    "tags": []
   },
   "outputs": [],
   "source": [
    "print(\"roc wise {}({}%) experiments worked better with self destillation\".format(len(roc_better), len(roc_better)/(len(roc_better)+len(roc_worse))))\n",
    "print(\"balanced accuracy wise {}({}%) experiments worked better with self destillation\".format(len(ba_better), len(ba_better)/(len(ba_better)+len(ba_worse))))"
   ]
  }
 ],
 "metadata": {
  "kernelspec": {
   "display_name": "Python 3 (ipykernel)",
   "language": "python",
   "name": "python3"
  },
  "language_info": {
   "codemirror_mode": {
    "name": "ipython",
    "version": 3
   },
   "file_extension": ".py",
   "mimetype": "text/x-python",
   "name": "python",
   "nbconvert_exporter": "python",
   "pygments_lexer": "ipython3",
   "version": "3.9.16"
  }
 },
 "nbformat": 4,
 "nbformat_minor": 5
}
