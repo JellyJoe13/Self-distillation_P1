{
 "cells": [
  {
   "cell_type": "markdown",
   "id": "a72ed1f1-cf18-4233-a636-4834d6cea766",
   "metadata": {},
   "source": [
    "# Random Forest Self Distillation"
   ]
  },
  {
   "cell_type": "code",
   "execution_count": 1,
   "id": "aa9def00-2a6a-46b3-9c0d-2066bcc47ba1",
   "metadata": {},
   "outputs": [
    {
     "name": "stderr",
     "output_type": "stream",
     "text": [
      "C:\\Users\\JoPa21\\anaconda3\\envs\\praktikum\\lib\\site-packages\\tqdm\\auto.py:22: TqdmWarning: IProgress not found. Please update jupyter and ipywidgets. See https://ipywidgets.readthedocs.io/en/stable/user_install.html\n",
      "  from .autonotebook import tqdm as notebook_tqdm\n"
     ]
    }
   ],
   "source": [
    "import torch"
   ]
  },
  {
   "cell_type": "code",
   "execution_count": 2,
   "id": "44730b5a-ffce-4ed5-b987-4038cd7b689d",
   "metadata": {},
   "outputs": [
    {
     "data": {
      "text/plain": [
       "True"
      ]
     },
     "execution_count": 2,
     "metadata": {},
     "output_type": "execute_result"
    }
   ],
   "source": [
    "torch.cuda.is_available()"
   ]
  },
  {
   "cell_type": "markdown",
   "id": "b549b42a-b8ed-4cdd-8957-9f696d49a6d1",
   "metadata": {},
   "source": [
    "## Import section"
   ]
  },
  {
   "cell_type": "code",
   "execution_count": 3,
   "id": "fc16f41e-00a5-4902-9a69-364d064d2767",
   "metadata": {
    "tags": []
   },
   "outputs": [],
   "source": [
    "from selfdist_toolkit.data_tools import preprocessing, loading, cleaning, sd_data_utils, analysis\n",
    "from selfdist_toolkit.randomforest_tools import self_distillation, rf_analysis, normal, creation\n",
    "\n",
    "import os\n",
    "from tqdm import tqdm\n",
    "import json\n",
    "import pandas as pd\n",
    "import numpy as np\n",
    "\n",
    "import sklearn\n",
    "from sklearn.ensemble import RandomForestClassifier\n",
    "from sklearn.model_selection import cross_validate\n",
    "\n",
    "from rdkit.Chem.Descriptors import descList\n",
    "from rdkit.Chem import MolFromSmiles, RDKFingerprint"
   ]
  },
  {
   "cell_type": "markdown",
   "id": "78ff0db6-dd7d-470f-a8fe-6a51848e94d9",
   "metadata": {},
   "source": [
    "## Data Preprocessing"
   ]
  },
  {
   "cell_type": "code",
   "execution_count": 4,
   "id": "dcd69ab7-792b-45e1-bc0d-fccf5a25ea68",
   "metadata": {
    "tags": []
   },
   "outputs": [],
   "source": [
    "# path to dataset\n",
    "PATH_DATA = \"data/\"\n",
    "PATH_MAIN_DATASET = PATH_DATA + \"df_assay_entries.csv\""
   ]
  },
  {
   "cell_type": "code",
   "execution_count": 5,
   "id": "b931e2db-c8a7-4109-b2de-7a3c4000beb4",
   "metadata": {
    "tags": []
   },
   "outputs": [
    {
     "name": "stdout",
     "output_type": "stream",
     "text": [
      "Data file already present, no need for download.\n"
     ]
    },
    {
     "name": "stderr",
     "output_type": "stream",
     "text": [
      "100%|████████████████████████████████████████████████████████████████████████████| 2481/2481 [00:00<00:00, 7492.64it/s]\n"
     ]
    },
    {
     "name": "stdout",
     "output_type": "stream",
     "text": [
      "Chemical descriptor data already generated\n",
      "Fingerprints already generated\n"
     ]
    }
   ],
   "source": [
    "aids = preprocessing.experiment_whole_preprocess(PATH_MAIN_DATASET, PATH_DATA)"
   ]
  },
  {
   "cell_type": "markdown",
   "id": "00a8bf35-1d8d-4746-b3f0-36a5563e0c58",
   "metadata": {},
   "source": [
    "## Individual Data Loading"
   ]
  },
  {
   "cell_type": "code",
   "execution_count": 6,
   "id": "b112d2a6-b3a8-4411-b93d-6bb185f34e36",
   "metadata": {
    "tags": []
   },
   "outputs": [],
   "source": [
    "c_sampledata, c_samplelabel = loading.load_chem_desc_data(411)"
   ]
  },
  {
   "cell_type": "code",
   "execution_count": 7,
   "id": "3d56ce22-403d-484c-9765-c2f9b66b906c",
   "metadata": {
    "tags": []
   },
   "outputs": [],
   "source": [
    "f_sampledata, f_samplelabel = loading.load_fingerprint_data(411)"
   ]
  },
  {
   "cell_type": "code",
   "execution_count": 8,
   "id": "af27fb8f-5de4-482f-a456-67bae79a3e15",
   "metadata": {
    "tags": []
   },
   "outputs": [
    {
     "data": {
      "text/plain": [
       "array([[12.0147147 , -0.2333767 , 12.0147147 , ...,  0.        ,\n",
       "         1.        ,  0.        ],\n",
       "       [13.68844293, -1.04921672, 13.68844293, ...,  0.        ,\n",
       "         0.        ,  0.        ],\n",
       "       [13.75921567, -0.69660748, 13.75921567, ...,  0.        ,\n",
       "         0.        ,  0.        ],\n",
       "       ...,\n",
       "       [12.81165769, -1.13973262, 12.81165769, ...,  0.        ,\n",
       "         0.        ,  0.        ],\n",
       "       [13.06424981, -1.12117352, 13.06424981, ...,  0.        ,\n",
       "         0.        ,  0.        ],\n",
       "       [12.39603269, -1.12400132, 12.39603269, ...,  0.        ,\n",
       "         0.        ,  0.        ]])"
      ]
     },
     "execution_count": 8,
     "metadata": {},
     "output_type": "execute_result"
    }
   ],
   "source": [
    "c_sampledata"
   ]
  },
  {
   "cell_type": "code",
   "execution_count": 9,
   "id": "fa60d029-ebb0-4b1f-bdd8-d2a64f8aa24b",
   "metadata": {
    "tags": []
   },
   "outputs": [
    {
     "data": {
      "text/plain": [
       "array([0, 0, 0, ..., 0, 0, 0])"
      ]
     },
     "execution_count": 9,
     "metadata": {},
     "output_type": "execute_result"
    }
   ],
   "source": [
    "c_samplelabel"
   ]
  },
  {
   "cell_type": "code",
   "execution_count": 10,
   "id": "66732394-b452-488e-bf12-5c3195140bb5",
   "metadata": {
    "tags": []
   },
   "outputs": [
    {
     "data": {
      "text/plain": [
       "array([[0, 1, 1, ..., 0, 1, 1],\n",
       "       [1, 1, 1, ..., 1, 1, 1],\n",
       "       [0, 1, 1, ..., 0, 0, 1],\n",
       "       ...,\n",
       "       [1, 1, 0, ..., 0, 0, 1],\n",
       "       [1, 1, 0, ..., 0, 0, 1],\n",
       "       [1, 1, 0, ..., 0, 0, 1]])"
      ]
     },
     "execution_count": 10,
     "metadata": {},
     "output_type": "execute_result"
    }
   ],
   "source": [
    "f_sampledata"
   ]
  },
  {
   "cell_type": "code",
   "execution_count": 11,
   "id": "393cbea6-3e76-40bc-963e-85db85a403ae",
   "metadata": {
    "tags": []
   },
   "outputs": [
    {
     "data": {
      "text/plain": [
       "array([0, 0, 0, ..., 0, 0, 0])"
      ]
     },
     "execution_count": 11,
     "metadata": {},
     "output_type": "execute_result"
    }
   ],
   "source": [
    "f_samplelabel"
   ]
  },
  {
   "cell_type": "code",
   "execution_count": 12,
   "id": "0af1daf3-fad6-4620-9ed1-f94d338439c4",
   "metadata": {
    "tags": []
   },
   "outputs": [
    {
     "name": "stdout",
     "output_type": "stream",
     "text": [
      "(68285, 208)\n",
      "(68285, 2048)\n"
     ]
    }
   ],
   "source": [
    "print(c_sampledata.shape)\n",
    "print(f_sampledata.shape)"
   ]
  },
  {
   "cell_type": "code",
   "execution_count": 13,
   "id": "5a019e8b-e08d-4706-a059-9e0dec7540e0",
   "metadata": {
    "tags": []
   },
   "outputs": [
    {
     "data": {
      "text/plain": [
       "1536"
      ]
     },
     "execution_count": 13,
     "metadata": {},
     "output_type": "execute_result"
    }
   ],
   "source": [
    "f_samplelabel.sum()"
   ]
  },
  {
   "cell_type": "markdown",
   "id": "5e13f590-6cd0-4ecd-8919-6e1cdf24b743",
   "metadata": {},
   "source": [
    "## Preloading all data"
   ]
  },
  {
   "cell_type": "code",
   "execution_count": 14,
   "id": "c5db9196-f79a-48d1-9019-f9ac97c61880",
   "metadata": {},
   "outputs": [],
   "source": [
    "# loading.preload_fingerprint_data_all(aids)"
   ]
  },
  {
   "cell_type": "code",
   "execution_count": 15,
   "id": "3881ddb0-5f77-4707-86c7-6e5e0cb68649",
   "metadata": {
    "tags": []
   },
   "outputs": [],
   "source": [
    "# loading.preload_chem_data_all(aids)"
   ]
  },
  {
   "cell_type": "markdown",
   "id": "347c9faf-3ca5-4bc4-a7aa-c8649e354510",
   "metadata": {},
   "source": [
    "## Preparing for self distillation"
   ]
  },
  {
   "cell_type": "code",
   "execution_count": 16,
   "id": "253ee22f-339a-465e-8ab0-ec71395888ad",
   "metadata": {
    "tags": []
   },
   "outputs": [],
   "source": [
    "# define experiment id\n",
    "aid = 411"
   ]
  },
  {
   "cell_type": "code",
   "execution_count": 17,
   "id": "27703623-cc7d-465f-89e4-6285ba073d90",
   "metadata": {
    "tags": []
   },
   "outputs": [],
   "source": [
    "# get the prediction data\n",
    "data, labels = loading.load_chem_desc_data(aid)"
   ]
  },
  {
   "cell_type": "code",
   "execution_count": 18,
   "id": "a43dc18e-5a17-478a-a3f2-ed0977904a18",
   "metadata": {
    "tags": []
   },
   "outputs": [],
   "source": [
    "# determine number of elements to fetch for self destillation\n",
    "number_sd = int(data.shape[0]*0.2+0.5) # set to percentage perhaps"
   ]
  },
  {
   "cell_type": "code",
   "execution_count": 19,
   "id": "9b3c60b7-8e2c-4e05-9850-dc399ac97eed",
   "metadata": {},
   "outputs": [],
   "source": [
    "# get self distillation elements\n",
    "sd_data = sd_data_utils.generate_self_distillation_elements(\n",
    "    aid=aid,\n",
    "    number_to_generate=number_sd,\n",
    "    data_gen_method=\"chem-desc\",\n",
    "    path_data=PATH_DATA\n",
    ")"
   ]
  },
  {
   "cell_type": "markdown",
   "id": "241772a0-a5d9-48b6-b9f7-d2fa06aef9e6",
   "metadata": {},
   "source": [
    "## Normal Random Forest"
   ]
  },
  {
   "cell_type": "code",
   "execution_count": 20,
   "id": "daa51259-a01f-4b81-adab-be1a26cbc1ed",
   "metadata": {
    "tags": []
   },
   "outputs": [],
   "source": [
    "# define experiment id\n",
    "# aid = 411\n",
    "aid = 1688"
   ]
  },
  {
   "cell_type": "code",
   "execution_count": 21,
   "id": "b4d83503-70fe-46d1-836d-ac73726885d8",
   "metadata": {
    "tags": []
   },
   "outputs": [],
   "source": [
    "# create random forest\n",
    "rf = creation.generate_default_rf()"
   ]
  },
  {
   "cell_type": "code",
   "execution_count": 22,
   "id": "6a49a90d-a989-4398-a086-f33b991c2177",
   "metadata": {
    "tags": []
   },
   "outputs": [
    {
     "name": "stderr",
     "output_type": "stream",
     "text": [
      "C:\\Users\\JoPa21\\anaconda3\\envs\\praktikum\\lib\\site-packages\\sklearn\\utils\\extmath.py:1066: RuntimeWarning: overflow encountered in square\n",
      "  temp **= 2\n",
      "C:\\Users\\JoPa21\\anaconda3\\envs\\praktikum\\lib\\site-packages\\sklearn\\utils\\extmath.py:1072: RuntimeWarning: overflow encountered in square\n",
      "  new_unnormalized_variance -= correction**2 / new_sample_count\n",
      "C:\\Users\\JoPa21\\anaconda3\\envs\\praktikum\\lib\\site-packages\\sklearn\\utils\\extmath.py:1072: RuntimeWarning: invalid value encountered in subtract\n",
      "  new_unnormalized_variance -= correction**2 / new_sample_count\n",
      "C:\\Users\\JoPa21\\anaconda3\\envs\\praktikum\\lib\\site-packages\\sklearn\\preprocessing\\_data.py:86: RuntimeWarning: overflow encountered in square\n",
      "  upper_bound = n_samples * eps * var + (n_samples * mean * eps) ** 2\n",
      "5it [02:27, 29.54s/it]\n"
     ]
    }
   ],
   "source": [
    "# execute normal random forest testing\n",
    "accuracy_dict = normal.execute_normal_rf_test(\n",
    "    rf=rf,\n",
    "    aid=aid,\n",
    "    mode=\"chem-desc\"\n",
    ")"
   ]
  },
  {
   "cell_type": "code",
   "execution_count": 23,
   "id": "eabb627f-b9ac-42bf-8522-bce41f504571",
   "metadata": {
    "tags": []
   },
   "outputs": [
    {
     "name": "stdout",
     "output_type": "stream",
     "text": [
      "{\n",
      "    \"accuracy\": [\n",
      "        0.9892221061482406,\n",
      "        0.9890182689122735,\n",
      "        0.9890182689122735,\n",
      "        0.9887634723673147,\n",
      "        0.9890947078757613\n",
      "    ],\n",
      "    \"balanced_accuracy\": [\n",
      "        0.5172295768639444,\n",
      "        0.5080129870021933,\n",
      "        0.5068737955511842,\n",
      "        0.5033323323394471,\n",
      "        0.5103190623589576\n",
      "    ],\n",
      "    \"roc\": [\n",
      "        0.5172295768639444,\n",
      "        0.5080129870021933,\n",
      "        0.5068737955511842,\n",
      "        0.5033323323394471,\n",
      "        0.5103190623589576\n",
      "    ],\n",
      "    \"precision\": [\n",
      "        0.9871089320097642,\n",
      "        0.9852163291230984,\n",
      "        0.9855267700857692,\n",
      "        0.9807987228117808,\n",
      "        0.9872477544342729\n",
      "    ],\n",
      "    \"recall\": [\n",
      "        0.9892221061482406,\n",
      "        0.9890182689122735,\n",
      "        0.9890182689122735,\n",
      "        0.9887634723673147,\n",
      "        0.9890947078757613\n",
      "    ]\n",
      "}\n"
     ]
    }
   ],
   "source": [
    "print(json.dumps(accuracy_dict, indent=4))"
   ]
  },
  {
   "cell_type": "code",
   "execution_count": 24,
   "id": "172bc731-146a-4785-87ac-07115925276c",
   "metadata": {
    "tags": []
   },
   "outputs": [
    {
     "name": "stdout",
     "output_type": "stream",
     "text": [
      "{\n",
      "    \"accuracy\": 0.9890233648431728,\n",
      "    \"balanced_accuracy\": 0.5091535508231453,\n",
      "    \"roc\": 0.5091535508231453,\n",
      "    \"precision\": 0.9851797016929371,\n",
      "    \"recall\": 0.9890233648431728\n",
      "}\n"
     ]
    }
   ],
   "source": [
    "normal_mean_dict = rf_analysis.convert_acc_dict(accuracy_dict)\n",
    "print(json.dumps(normal_mean_dict, indent=4))"
   ]
  },
  {
   "cell_type": "markdown",
   "id": "2b992a50-bbff-40f4-b2d1-25bb79f74892",
   "metadata": {},
   "source": [
    "## Self distillation Random Forest"
   ]
  },
  {
   "cell_type": "code",
   "execution_count": 25,
   "id": "6d49425d-5244-4586-8785-49457d61123b",
   "metadata": {
    "tags": []
   },
   "outputs": [],
   "source": [
    "# generating random forests\n",
    "rf_teacher = creation.generate_default_rf()\n",
    "rf_student = creation.generate_default_rf()"
   ]
  },
  {
   "cell_type": "code",
   "execution_count": 26,
   "id": "f38b8aca-ad5b-4d99-b2d6-05b2078422e7",
   "metadata": {
    "tags": []
   },
   "outputs": [
    {
     "name": "stderr",
     "output_type": "stream",
     "text": [
      "C:\\Users\\JoPa21\\anaconda3\\envs\\praktikum\\lib\\site-packages\\sklearn\\utils\\extmath.py:1066: RuntimeWarning: overflow encountered in square\n",
      "  temp **= 2\n",
      "C:\\Users\\JoPa21\\anaconda3\\envs\\praktikum\\lib\\site-packages\\sklearn\\utils\\extmath.py:1072: RuntimeWarning: overflow encountered in square\n",
      "  new_unnormalized_variance -= correction**2 / new_sample_count\n",
      "C:\\Users\\JoPa21\\anaconda3\\envs\\praktikum\\lib\\site-packages\\sklearn\\utils\\extmath.py:1072: RuntimeWarning: invalid value encountered in subtract\n",
      "  new_unnormalized_variance -= correction**2 / new_sample_count\n",
      "C:\\Users\\JoPa21\\anaconda3\\envs\\praktikum\\lib\\site-packages\\sklearn\\preprocessing\\_data.py:86: RuntimeWarning: overflow encountered in square\n",
      "  upper_bound = n_samples * eps * var + (n_samples * mean * eps) ** 2\n",
      "5it [05:37, 67.59s/it]\n"
     ]
    }
   ],
   "source": [
    "normal_accuracy_dict, sd_accuracy_dict = self_distillation.execute_sd_rf_test(\n",
    "    rf_teacher=rf_teacher,\n",
    "    rf_student=rf_student,\n",
    "    aid=aid,\n",
    "    mode=\"chem-desc\"\n",
    ")"
   ]
  },
  {
   "cell_type": "code",
   "execution_count": 27,
   "id": "c8a483b0-c0fc-44b4-9973-9a6f20cffad3",
   "metadata": {
    "tags": []
   },
   "outputs": [],
   "source": [
    "normal_mean_dict = rf_analysis.convert_acc_dict(normal_accuracy_dict)\n",
    "sd_mean_dict = rf_analysis.convert_acc_dict(sd_accuracy_dict)"
   ]
  },
  {
   "cell_type": "code",
   "execution_count": 28,
   "id": "edb10c2c-3703-4045-94b6-0d8121336fed",
   "metadata": {
    "tags": []
   },
   "outputs": [
    {
     "name": "stdout",
     "output_type": "stream",
     "text": [
      "{\n",
      "    \"accuracy\": 0.989002981119576,\n",
      "    \"balanced_accuracy\": 0.5086880981064464,\n",
      "    \"roc\": 0.5086880981064463,\n",
      "    \"precision\": 0.9845927337302527,\n",
      "    \"recall\": 0.989002981119576\n",
      "}\n"
     ]
    }
   ],
   "source": [
    "print(json.dumps(normal_mean_dict, indent=4))"
   ]
  },
  {
   "cell_type": "code",
   "execution_count": 29,
   "id": "b58c4c25-54f9-422b-8f7a-15abeab0792a",
   "metadata": {
    "tags": []
   },
   "outputs": [
    {
     "name": "stdout",
     "output_type": "stream",
     "text": [
      "{\n",
      "    \"accuracy\": 0.9890131729813744,\n",
      "    \"balanced_accuracy\": 0.5082381041277991,\n",
      "    \"roc\": 0.5082381041277991,\n",
      "    \"precision\": 0.9852126380301224,\n",
      "    \"recall\": 0.9890131729813744\n",
      "}\n"
     ]
    }
   ],
   "source": [
    "print(json.dumps(sd_mean_dict, indent=4))"
   ]
  },
  {
   "cell_type": "code",
   "execution_count": 30,
   "id": "29b7d2fd-3171-4261-a875-c6afaae0f319",
   "metadata": {
    "tags": []
   },
   "outputs": [],
   "source": [
    "comparison_dict = rf_analysis.compare_accuracy_dict(normal_mean_dict, sd_mean_dict)"
   ]
  },
  {
   "cell_type": "code",
   "execution_count": 31,
   "id": "749b8aff-cb48-41b9-ae6a-b8cf713a3b2e",
   "metadata": {
    "tags": []
   },
   "outputs": [
    {
     "name": "stdout",
     "output_type": "stream",
     "text": [
      "{\n",
      "    \"accuracy\": 1.0191861798403146e-05,\n",
      "    \"balanced_accuracy\": -0.0004499939786473117,\n",
      "    \"roc\": -0.0004499939786472007,\n",
      "    \"precision\": 0.0006199042998696891,\n",
      "    \"recall\": 1.0191861798403146e-05\n",
      "}\n"
     ]
    }
   ],
   "source": [
    "print(json.dumps(comparison_dict, indent=4))"
   ]
  },
  {
   "cell_type": "markdown",
   "id": "0dab6859-3922-4ea3-a114-1a089d950aaa",
   "metadata": {},
   "source": [
    "## Testing for self distillation success for a number of experiments"
   ]
  },
  {
   "cell_type": "markdown",
   "id": "072fa852-08f5-4539-9e82-cea861a922f7",
   "metadata": {},
   "source": [
    "### Chemical descriptor data mode"
   ]
  },
  {
   "cell_type": "code",
   "execution_count": 32,
   "id": "c3609d82-e56e-42d8-8112-acd4bd046a3e",
   "metadata": {
    "tags": []
   },
   "outputs": [
    {
     "name": "stderr",
     "output_type": "stream",
     "text": [
      "100%|██████████████████████████████████████████████████████████████████████████████| 2481/2481 [01:17<00:00, 31.96it/s]\n"
     ]
    }
   ],
   "source": [
    "# get the experiment list to test\n",
    "exp_to_test = analysis.get_good_experiment_ids(\n",
    "    number_to_sample=10\n",
    ")"
   ]
  },
  {
   "cell_type": "code",
   "execution_count": 33,
   "id": "c15accc3-c529-4871-97cf-e8711db0a42f",
   "metadata": {
    "tags": []
   },
   "outputs": [
    {
     "data": {
      "text/plain": [
       "array([   902,   1458,   1461,   1688,   2551, 485313, 485314, 624297,\n",
       "       651965, 652104], dtype=int64)"
      ]
     },
     "execution_count": 33,
     "metadata": {},
     "output_type": "execute_result"
    }
   ],
   "source": [
    "exp_to_test"
   ]
  },
  {
   "cell_type": "code",
   "execution_count": 34,
   "id": "588fc401-b9fe-4f88-8be8-2d7607ed7fab",
   "metadata": {
    "tags": []
   },
   "outputs": [],
   "source": [
    "# take balanced accuracy and roc into account as it seems to be the most expressive out of all, \n",
    "# because it actually is not over 90% from the beginning and from the documentation it seemed \n",
    "# to be the best for imbalanced datasets. Although it is astonishing that the average parameter\n",
    "# to weighted does not work. Maybe a weight needs to be supplied besides the parameter but I\n",
    "# rather go with the other options"
   ]
  },
  {
   "cell_type": "code",
   "execution_count": 35,
   "id": "3ba739a8-0984-4129-bf19-d28b428a870b",
   "metadata": {
    "tags": []
   },
   "outputs": [],
   "source": [
    "# better worse counter\n",
    "roc_better = []\n",
    "roc_worse = []\n",
    "ba_better = []\n",
    "ba_worse = []"
   ]
  },
  {
   "cell_type": "code",
   "execution_count": 36,
   "id": "4ed7cfaf-f4b9-4916-b613-54a8130d8324",
   "metadata": {
    "tags": []
   },
   "outputs": [],
   "source": [
    "mode = \"chem-desc\"\n",
    "# mode = \"fingerprint\""
   ]
  },
  {
   "cell_type": "code",
   "execution_count": 37,
   "id": "acc04ad3-96fd-4a17-9db8-5036f08f9f01",
   "metadata": {},
   "outputs": [
    {
     "name": "stderr",
     "output_type": "stream",
     "text": [
      " 30%|████████████████████████▌                                                         | 3/10 [13:41<33:49, 289.86s/it]C:\\Users\\JoPa21\\anaconda3\\envs\\praktikum\\lib\\site-packages\\sklearn\\utils\\extmath.py:1066: RuntimeWarning: overflow encountered in square\n",
      "  temp **= 2\n",
      "C:\\Users\\JoPa21\\anaconda3\\envs\\praktikum\\lib\\site-packages\\sklearn\\utils\\extmath.py:1072: RuntimeWarning: overflow encountered in square\n",
      "  new_unnormalized_variance -= correction**2 / new_sample_count\n",
      "C:\\Users\\JoPa21\\anaconda3\\envs\\praktikum\\lib\\site-packages\\sklearn\\utils\\extmath.py:1072: RuntimeWarning: invalid value encountered in subtract\n",
      "  new_unnormalized_variance -= correction**2 / new_sample_count\n",
      "C:\\Users\\JoPa21\\anaconda3\\envs\\praktikum\\lib\\site-packages\\sklearn\\preprocessing\\_data.py:86: RuntimeWarning: overflow encountered in square\n",
      "  upper_bound = n_samples * eps * var + (n_samples * mean * eps) ** 2\n",
      " 40%|████████████████████████████████▊                                                 | 4/10 [19:21<30:58, 309.80s/it]C:\\Users\\JoPa21\\anaconda3\\envs\\praktikum\\lib\\site-packages\\sklearn\\utils\\extmath.py:1066: RuntimeWarning: overflow encountered in square\n",
      "  temp **= 2\n",
      "C:\\Users\\JoPa21\\anaconda3\\envs\\praktikum\\lib\\site-packages\\sklearn\\utils\\extmath.py:1072: RuntimeWarning: overflow encountered in square\n",
      "  new_unnormalized_variance -= correction**2 / new_sample_count\n",
      "C:\\Users\\JoPa21\\anaconda3\\envs\\praktikum\\lib\\site-packages\\sklearn\\utils\\extmath.py:1072: RuntimeWarning: invalid value encountered in subtract\n",
      "  new_unnormalized_variance -= correction**2 / new_sample_count\n",
      "C:\\Users\\JoPa21\\anaconda3\\envs\\praktikum\\lib\\site-packages\\sklearn\\preprocessing\\_data.py:86: RuntimeWarning: overflow encountered in square\n",
      "  upper_bound = n_samples * eps * var + (n_samples * mean * eps) ** 2\n",
      " 50%|█████████████████████████████████████████                                         | 5/10 [28:31<33:01, 396.27s/it]C:\\Users\\JoPa21\\anaconda3\\envs\\praktikum\\lib\\site-packages\\sklearn\\utils\\extmath.py:1066: RuntimeWarning: overflow encountered in square\n",
      "  temp **= 2\n",
      "C:\\Users\\JoPa21\\anaconda3\\envs\\praktikum\\lib\\site-packages\\sklearn\\utils\\extmath.py:1072: RuntimeWarning: overflow encountered in square\n",
      "  new_unnormalized_variance -= correction**2 / new_sample_count\n",
      "C:\\Users\\JoPa21\\anaconda3\\envs\\praktikum\\lib\\site-packages\\sklearn\\utils\\extmath.py:1072: RuntimeWarning: invalid value encountered in subtract\n",
      "  new_unnormalized_variance -= correction**2 / new_sample_count\n",
      "C:\\Users\\JoPa21\\anaconda3\\envs\\praktikum\\lib\\site-packages\\sklearn\\preprocessing\\_data.py:86: RuntimeWarning: overflow encountered in square\n",
      "  upper_bound = n_samples * eps * var + (n_samples * mean * eps) ** 2\n",
      " 60%|█████████████████████████████████████████████████▏                                | 6/10 [37:35<29:46, 446.64s/it]C:\\Users\\JoPa21\\anaconda3\\envs\\praktikum\\lib\\site-packages\\sklearn\\utils\\extmath.py:1066: RuntimeWarning: overflow encountered in square\n",
      "  temp **= 2\n",
      "C:\\Users\\JoPa21\\anaconda3\\envs\\praktikum\\lib\\site-packages\\sklearn\\utils\\extmath.py:1072: RuntimeWarning: overflow encountered in square\n",
      "  new_unnormalized_variance -= correction**2 / new_sample_count\n",
      "C:\\Users\\JoPa21\\anaconda3\\envs\\praktikum\\lib\\site-packages\\sklearn\\utils\\extmath.py:1072: RuntimeWarning: invalid value encountered in subtract\n",
      "  new_unnormalized_variance -= correction**2 / new_sample_count\n",
      "C:\\Users\\JoPa21\\anaconda3\\envs\\praktikum\\lib\\site-packages\\sklearn\\preprocessing\\_data.py:86: RuntimeWarning: overflow encountered in square\n",
      "  upper_bound = n_samples * eps * var + (n_samples * mean * eps) ** 2\n",
      " 70%|█████████████████████████████████████████████████████████▍                        | 7/10 [47:03<24:18, 486.30s/it]C:\\Users\\JoPa21\\anaconda3\\envs\\praktikum\\lib\\site-packages\\sklearn\\utils\\extmath.py:1066: RuntimeWarning: overflow encountered in square\n",
      "  temp **= 2\n",
      "C:\\Users\\JoPa21\\anaconda3\\envs\\praktikum\\lib\\site-packages\\sklearn\\utils\\extmath.py:1072: RuntimeWarning: overflow encountered in square\n",
      "  new_unnormalized_variance -= correction**2 / new_sample_count\n",
      "C:\\Users\\JoPa21\\anaconda3\\envs\\praktikum\\lib\\site-packages\\sklearn\\utils\\extmath.py:1072: RuntimeWarning: invalid value encountered in subtract\n",
      "  new_unnormalized_variance -= correction**2 / new_sample_count\n",
      "C:\\Users\\JoPa21\\anaconda3\\envs\\praktikum\\lib\\site-packages\\sklearn\\preprocessing\\_data.py:86: RuntimeWarning: overflow encountered in square\n",
      "  upper_bound = n_samples * eps * var + (n_samples * mean * eps) ** 2\n",
      " 90%|████████████████████████████████████████████████████████████████████████        | 9/10 [1:07:13<09:10, 550.26s/it]C:\\Users\\JoPa21\\anaconda3\\envs\\praktikum\\lib\\site-packages\\sklearn\\utils\\extmath.py:1066: RuntimeWarning: overflow encountered in square\n",
      "  temp **= 2\n",
      "C:\\Users\\JoPa21\\anaconda3\\envs\\praktikum\\lib\\site-packages\\sklearn\\utils\\extmath.py:1072: RuntimeWarning: overflow encountered in square\n",
      "  new_unnormalized_variance -= correction**2 / new_sample_count\n",
      "C:\\Users\\JoPa21\\anaconda3\\envs\\praktikum\\lib\\site-packages\\sklearn\\utils\\extmath.py:1072: RuntimeWarning: invalid value encountered in subtract\n",
      "  new_unnormalized_variance -= correction**2 / new_sample_count\n",
      "C:\\Users\\JoPa21\\anaconda3\\envs\\praktikum\\lib\\site-packages\\sklearn\\preprocessing\\_data.py:86: RuntimeWarning: overflow encountered in square\n",
      "  upper_bound = n_samples * eps * var + (n_samples * mean * eps) ** 2\n",
      "100%|███████████████████████████████████████████████████████████████████████████████| 10/10 [1:19:01<00:00, 474.17s/it]\n"
     ]
    }
   ],
   "source": [
    "# iterate over experiments to test\n",
    "for aid in tqdm(exp_to_test):\n",
    "    \n",
    "    # generating random forests\n",
    "    rf_teacher = creation.generate_default_rf()\n",
    "    rf_student = creation.generate_default_rf()\n",
    "    \n",
    "    # execute self destillation test\n",
    "    normal_accuracy_dict, sd_accuracy_dict = self_distillation.execute_sd_rf_test(\n",
    "        rf_teacher=rf_teacher,\n",
    "        rf_student=rf_student,\n",
    "        aid=aid,\n",
    "        mode=mode,\n",
    "        verbose=False\n",
    "    )\n",
    "    \n",
    "    # calculate mean accuracy values\n",
    "    normal_mean_dict = rf_analysis.convert_acc_dict(normal_accuracy_dict)\n",
    "    sd_mean_dict = rf_analysis.convert_acc_dict(sd_accuracy_dict)\n",
    "    \n",
    "    # get the difference in accuracy scores\n",
    "    comparison_dict = rf_analysis.compare_accuracy_dict(normal_mean_dict, sd_mean_dict)\n",
    "    \n",
    "    # analyze it\n",
    "    if comparison_dict[\"roc\"] > 0:\n",
    "        roc_better.append(aid)\n",
    "    else:\n",
    "        roc_worse.append(aid)\n",
    "    if comparison_dict[\"balanced_accuracy\"] > 0:\n",
    "        ba_better.append(aid)\n",
    "    else:\n",
    "        ba_worse.append(aid)"
   ]
  },
  {
   "cell_type": "code",
   "execution_count": 38,
   "id": "19118a36-6a81-4def-bede-c41a12e2578d",
   "metadata": {
    "tags": []
   },
   "outputs": [
    {
     "name": "stdout",
     "output_type": "stream",
     "text": [
      "roc wise 1(0.1%) experiments worked better with self destillation\n",
      "balanced accuracy wise 1(0.1%) experiments worked better with self destillation\n"
     ]
    }
   ],
   "source": [
    "print(\"roc wise {}({}%) experiments worked better with self destillation\".format(len(roc_better), len(roc_better)/(len(roc_better)+len(roc_worse))))\n",
    "print(\"balanced accuracy wise {}({}%) experiments worked better with self destillation\".format(len(ba_better), len(ba_better)/(len(ba_better)+len(ba_worse))))"
   ]
  },
  {
   "cell_type": "markdown",
   "id": "2ae96938-9f0c-47fc-b29e-78506d82e470",
   "metadata": {},
   "source": [
    "### Fingerprint mode"
   ]
  },
  {
   "cell_type": "code",
   "execution_count": 39,
   "id": "8cbd806e-b5e7-4a9b-ba32-c693af50921b",
   "metadata": {
    "tags": []
   },
   "outputs": [
    {
     "name": "stderr",
     "output_type": "stream",
     "text": [
      "100%|██████████████████████████████████████████████████████████████████████████████| 2481/2481 [01:12<00:00, 34.42it/s]\n"
     ]
    }
   ],
   "source": [
    "# get the experiment list to test\n",
    "exp_to_test = analysis.get_good_experiment_ids(\n",
    "    number_to_sample=10\n",
    ")"
   ]
  },
  {
   "cell_type": "code",
   "execution_count": 40,
   "id": "c1123f55-bd08-48d6-a324-3e33d05479ba",
   "metadata": {
    "tags": []
   },
   "outputs": [
    {
     "data": {
      "text/plain": [
       "array([   902,   1458,   1461,   1688,   2551, 485313, 485314, 624297,\n",
       "       651965, 652104], dtype=int64)"
      ]
     },
     "execution_count": 40,
     "metadata": {},
     "output_type": "execute_result"
    }
   ],
   "source": [
    "exp_to_test"
   ]
  },
  {
   "cell_type": "code",
   "execution_count": 41,
   "id": "80d71b98-aa34-456f-81a8-0370465a264a",
   "metadata": {
    "tags": []
   },
   "outputs": [],
   "source": [
    "# take balanced accuracy and roc into account as it seems to be the most expressive out of all, \n",
    "# because it actually is not over 90% from the beginning and from the documentation it seemed \n",
    "# to be the best for imbalanced datasets. Although it is astonishing that the average parameter\n",
    "# to weighted does not work. Maybe a weight needs to be supplied besides the parameter but I\n",
    "# rather go with the other options"
   ]
  },
  {
   "cell_type": "code",
   "execution_count": 42,
   "id": "63a0ac5e-bdd0-4c21-86d9-59045049aba4",
   "metadata": {
    "tags": []
   },
   "outputs": [],
   "source": [
    "# better worse counter\n",
    "roc_better = []\n",
    "roc_worse = []\n",
    "ba_better = []\n",
    "ba_worse = []"
   ]
  },
  {
   "cell_type": "code",
   "execution_count": 43,
   "id": "910d55f7-22a8-4dfd-afbe-3f3f4ab6ceec",
   "metadata": {
    "tags": []
   },
   "outputs": [],
   "source": [
    "# mode = \"chem-desc\"\n",
    "mode = \"fingerprint\""
   ]
  },
  {
   "cell_type": "code",
   "execution_count": 44,
   "id": "938dcbf4-c4c2-4ad2-a1b9-5a497f409f7b",
   "metadata": {},
   "outputs": [
    {
     "name": "stderr",
     "output_type": "stream",
     "text": [
      "100%|███████████████████████████████████████████████████████████████████████████████| 10/10 [2:44:23<00:00, 986.31s/it]\n"
     ]
    }
   ],
   "source": [
    "# iterate over experiments to test\n",
    "for aid in tqdm(exp_to_test):\n",
    "    \n",
    "    # generating random forests\n",
    "    rf_teacher = creation.generate_default_rf()\n",
    "    rf_student = creation.generate_default_rf()\n",
    "    \n",
    "    # execute self destillation test\n",
    "    normal_accuracy_dict, sd_accuracy_dict = self_distillation.execute_sd_rf_test(\n",
    "        rf_teacher=rf_teacher,\n",
    "        rf_student=rf_student,\n",
    "        aid=aid,\n",
    "        mode=mode,\n",
    "        verbose=False\n",
    "    )\n",
    "    \n",
    "    # calculate mean accuracy values\n",
    "    normal_mean_dict = rf_analysis.convert_acc_dict(normal_accuracy_dict)\n",
    "    sd_mean_dict = rf_analysis.convert_acc_dict(sd_accuracy_dict)\n",
    "    \n",
    "    # get the difference in accuracy scores\n",
    "    comparison_dict = rf_analysis.compare_accuracy_dict(normal_mean_dict, sd_mean_dict)\n",
    "    \n",
    "    # analyze it\n",
    "    if comparison_dict[\"roc\"] > 0:\n",
    "        roc_better.append(aid)\n",
    "    else:\n",
    "        roc_worse.append(aid)\n",
    "    if comparison_dict[\"balanced_accuracy\"] > 0:\n",
    "        ba_better.append(aid)\n",
    "    else:\n",
    "        ba_worse.append(aid)"
   ]
  },
  {
   "cell_type": "code",
   "execution_count": 45,
   "id": "e2c3313a-5a55-4759-8100-cc6edd8eebc0",
   "metadata": {
    "tags": []
   },
   "outputs": [
    {
     "name": "stdout",
     "output_type": "stream",
     "text": [
      "roc wise 0(0.0%) experiments worked better with self destillation\n",
      "balanced accuracy wise 0(0.0%) experiments worked better with self destillation\n"
     ]
    }
   ],
   "source": [
    "print(\"roc wise {}({}%) experiments worked better with self destillation\".format(len(roc_better), len(roc_better)/(len(roc_better)+len(roc_worse))))\n",
    "print(\"balanced accuracy wise {}({}%) experiments worked better with self destillation\".format(len(ba_better), len(ba_better)/(len(ba_better)+len(ba_worse))))"
   ]
  }
 ],
 "metadata": {
  "kernelspec": {
   "display_name": "Python 3 (ipykernel)",
   "language": "python",
   "name": "python3"
  },
  "language_info": {
   "codemirror_mode": {
    "name": "ipython",
    "version": 3
   },
   "file_extension": ".py",
   "mimetype": "text/x-python",
   "name": "python",
   "nbconvert_exporter": "python",
   "pygments_lexer": "ipython3",
   "version": "3.9.16"
  }
 },
 "nbformat": 4,
 "nbformat_minor": 5
}
