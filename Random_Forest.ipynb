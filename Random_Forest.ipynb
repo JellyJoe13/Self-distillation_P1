{
 "cells": [
  {
   "cell_type": "markdown",
   "id": "a72ed1f1-cf18-4233-a636-4834d6cea766",
   "metadata": {},
   "source": [
    "# Random Forest Self Destillation"
   ]
  },
  {
   "cell_type": "code",
   "execution_count": 1,
   "id": "aa9def00-2a6a-46b3-9c0d-2066bcc47ba1",
   "metadata": {},
   "outputs": [
    {
     "name": "stderr",
     "output_type": "stream",
     "text": [
      "C:\\Users\\JoPa21\\anaconda3\\envs\\praktikum\\lib\\site-packages\\tqdm\\auto.py:22: TqdmWarning: IProgress not found. Please update jupyter and ipywidgets. See https://ipywidgets.readthedocs.io/en/stable/user_install.html\n",
      "  from .autonotebook import tqdm as notebook_tqdm\n"
     ]
    }
   ],
   "source": [
    "import torch"
   ]
  },
  {
   "cell_type": "code",
   "execution_count": 2,
   "id": "44730b5a-ffce-4ed5-b987-4038cd7b689d",
   "metadata": {},
   "outputs": [
    {
     "data": {
      "text/plain": [
       "True"
      ]
     },
     "execution_count": 2,
     "metadata": {},
     "output_type": "execute_result"
    }
   ],
   "source": [
    "torch.cuda.is_available()"
   ]
  },
  {
   "cell_type": "markdown",
   "id": "b549b42a-b8ed-4cdd-8957-9f696d49a6d1",
   "metadata": {},
   "source": [
    "## Import section"
   ]
  },
  {
   "cell_type": "code",
   "execution_count": 3,
   "id": "6abaae26-275e-461d-8476-533142d3d1e4",
   "metadata": {
    "tags": []
   },
   "outputs": [],
   "source": [
    "from selfdest_toolkit.data_tools import preprocessing, loading"
   ]
  },
  {
   "cell_type": "code",
   "execution_count": 4,
   "id": "fc16f41e-00a5-4902-9a69-364d064d2767",
   "metadata": {
    "tags": []
   },
   "outputs": [],
   "source": [
    "import pandas as pd\n",
    "import numpy as np\n",
    "import sklearn\n",
    "from sklearn.ensemble import RandomForestClassifier\n",
    "import os\n",
    "from tqdm import tqdm\n",
    "import json\n",
    "from rdkit.Chem.Descriptors import descList\n",
    "from rdkit.Chem import MolFromSmiles, RDKFingerprint"
   ]
  },
  {
   "cell_type": "markdown",
   "id": "78ff0db6-dd7d-470f-a8fe-6a51848e94d9",
   "metadata": {},
   "source": [
    "## Data Preprocessing"
   ]
  },
  {
   "cell_type": "code",
   "execution_count": 5,
   "id": "dcd69ab7-792b-45e1-bc0d-fccf5a25ea68",
   "metadata": {
    "tags": []
   },
   "outputs": [],
   "source": [
    "# path to dataset\n",
    "PATH_DATA = \"data/\"\n",
    "PATH_MAIN_DATASET = PATH_DATA + \"df_assay_entries.csv\""
   ]
  },
  {
   "cell_type": "code",
   "execution_count": 6,
   "id": "b931e2db-c8a7-4109-b2de-7a3c4000beb4",
   "metadata": {
    "tags": []
   },
   "outputs": [
    {
     "name": "stdout",
     "output_type": "stream",
     "text": [
      "Data file already present, no need for download.\n"
     ]
    },
    {
     "name": "stderr",
     "output_type": "stream",
     "text": [
      "100%|████████████████████████████████████████████████████████████████████████████| 2481/2481 [00:00<00:00, 5353.54it/s]\n"
     ]
    },
    {
     "name": "stdout",
     "output_type": "stream",
     "text": [
      "Chemical descriptor data already generated\n",
      "Fingerprints already generated\n"
     ]
    }
   ],
   "source": [
    "aids = preprocessing.experiment_whole_preprocess(PATH_MAIN_DATASET, PATH_DATA)"
   ]
  },
  {
   "cell_type": "markdown",
   "id": "00a8bf35-1d8d-4746-b3f0-36a5563e0c58",
   "metadata": {},
   "source": [
    "## Individual Data Loading"
   ]
  },
  {
   "cell_type": "code",
   "execution_count": 7,
   "id": "b112d2a6-b3a8-4411-b93d-6bb185f34e36",
   "metadata": {
    "tags": []
   },
   "outputs": [],
   "source": [
    "c_sampledata, c_samplelabel = loading.load_chem_desc_data(411)"
   ]
  },
  {
   "cell_type": "code",
   "execution_count": 8,
   "id": "3d56ce22-403d-484c-9765-c2f9b66b906c",
   "metadata": {
    "tags": []
   },
   "outputs": [],
   "source": [
    "f_sampledata, f_samplelabel = loading.load_fingerprint_data(411)"
   ]
  },
  {
   "cell_type": "code",
   "execution_count": 9,
   "id": "af27fb8f-5de4-482f-a456-67bae79a3e15",
   "metadata": {
    "tags": []
   },
   "outputs": [
    {
     "data": {
      "text/plain": [
       "array([[12.0147147 , -0.2333767 , 12.0147147 , ...,  0.        ,\n",
       "         1.        ,  0.        ],\n",
       "       [13.68844293, -1.04921672, 13.68844293, ...,  0.        ,\n",
       "         0.        ,  0.        ],\n",
       "       [13.75921567, -0.69660748, 13.75921567, ...,  0.        ,\n",
       "         0.        ,  0.        ],\n",
       "       ...,\n",
       "       [12.81165769, -1.13973262, 12.81165769, ...,  0.        ,\n",
       "         0.        ,  0.        ],\n",
       "       [13.06424981, -1.12117352, 13.06424981, ...,  0.        ,\n",
       "         0.        ,  0.        ],\n",
       "       [12.39603269, -1.12400132, 12.39603269, ...,  0.        ,\n",
       "         0.        ,  0.        ]])"
      ]
     },
     "execution_count": 9,
     "metadata": {},
     "output_type": "execute_result"
    }
   ],
   "source": [
    "c_sampledata"
   ]
  },
  {
   "cell_type": "code",
   "execution_count": 10,
   "id": "fa60d029-ebb0-4b1f-bdd8-d2a64f8aa24b",
   "metadata": {
    "tags": []
   },
   "outputs": [
    {
     "data": {
      "text/plain": [
       "array([0, 0, 0, ..., 0, 0, 0])"
      ]
     },
     "execution_count": 10,
     "metadata": {},
     "output_type": "execute_result"
    }
   ],
   "source": [
    "c_samplelabel"
   ]
  },
  {
   "cell_type": "code",
   "execution_count": 11,
   "id": "66732394-b452-488e-bf12-5c3195140bb5",
   "metadata": {
    "tags": []
   },
   "outputs": [
    {
     "data": {
      "text/plain": [
       "array([[0, 1, 1, ..., 0, 1, 1],\n",
       "       [1, 1, 1, ..., 1, 1, 1],\n",
       "       [0, 1, 1, ..., 0, 0, 1],\n",
       "       ...,\n",
       "       [1, 1, 0, ..., 0, 0, 1],\n",
       "       [1, 1, 0, ..., 0, 0, 1],\n",
       "       [1, 1, 0, ..., 0, 0, 1]])"
      ]
     },
     "execution_count": 11,
     "metadata": {},
     "output_type": "execute_result"
    }
   ],
   "source": [
    "f_sampledata"
   ]
  },
  {
   "cell_type": "code",
   "execution_count": 12,
   "id": "393cbea6-3e76-40bc-963e-85db85a403ae",
   "metadata": {
    "tags": []
   },
   "outputs": [
    {
     "data": {
      "text/plain": [
       "array([0, 0, 0, ..., 0, 0, 0])"
      ]
     },
     "execution_count": 12,
     "metadata": {},
     "output_type": "execute_result"
    }
   ],
   "source": [
    "f_samplelabel"
   ]
  },
  {
   "cell_type": "code",
   "execution_count": 13,
   "id": "0af1daf3-fad6-4620-9ed1-f94d338439c4",
   "metadata": {
    "tags": []
   },
   "outputs": [
    {
     "name": "stdout",
     "output_type": "stream",
     "text": [
      "(68285, 208)\n",
      "(68285, 2048)\n"
     ]
    }
   ],
   "source": [
    "print(c_sampledata.shape)\n",
    "print(f_sampledata.shape)"
   ]
  },
  {
   "cell_type": "code",
   "execution_count": 14,
   "id": "5a019e8b-e08d-4706-a059-9e0dec7540e0",
   "metadata": {
    "tags": []
   },
   "outputs": [
    {
     "data": {
      "text/plain": [
       "1536"
      ]
     },
     "execution_count": 14,
     "metadata": {},
     "output_type": "execute_result"
    }
   ],
   "source": [
    "f_samplelabel.sum()"
   ]
  },
  {
   "cell_type": "markdown",
   "id": "5e13f590-6cd0-4ecd-8919-6e1cdf24b743",
   "metadata": {},
   "source": [
    "## Preloading all data"
   ]
  },
  {
   "cell_type": "code",
   "execution_count": 15,
   "id": "c5db9196-f79a-48d1-9019-f9ac97c61880",
   "metadata": {},
   "outputs": [],
   "source": [
    "# loading.preload_fingerprint_data_all(aids)"
   ]
  },
  {
   "cell_type": "code",
   "execution_count": 16,
   "id": "3881ddb0-5f77-4707-86c7-6e5e0cb68649",
   "metadata": {
    "tags": []
   },
   "outputs": [],
   "source": [
    "# loading.preload_chem_data_all(aids)"
   ]
  },
  {
   "cell_type": "markdown",
   "id": "347c9faf-3ca5-4bc4-a7aa-c8649e354510",
   "metadata": {},
   "source": [
    "## Preparing for self destillation"
   ]
  },
  {
   "cell_type": "code",
   "execution_count": 17,
   "id": "253ee22f-339a-465e-8ab0-ec71395888ad",
   "metadata": {
    "tags": []
   },
   "outputs": [],
   "source": [
    "# define experiment id\n",
    "aid = 411"
   ]
  },
  {
   "cell_type": "code",
   "execution_count": 18,
   "id": "27703623-cc7d-465f-89e4-6285ba073d90",
   "metadata": {
    "tags": []
   },
   "outputs": [],
   "source": [
    "# get the prediction data\n",
    "data, labels = loading.load_chem_desc_data(411)"
   ]
  },
  {
   "cell_type": "code",
   "execution_count": null,
   "id": "9b3c60b7-8e2c-4e05-9850-dc399ac97eed",
   "metadata": {},
   "outputs": [],
   "source": [
    "# get self destillation elements\n",
    "data_selfdest = sd_utils.generate_self_destillation_elements(\n",
    "    aid=aid,\n",
    "    number_to_generate=0,\n",
    "    factor_to_generate=0.2\n",
    "    path_data=PATH_DATA\n",
    ")"
   ]
  }
 ],
 "metadata": {
  "kernelspec": {
   "display_name": "Python 3 (ipykernel)",
   "language": "python",
   "name": "python3"
  },
  "language_info": {
   "codemirror_mode": {
    "name": "ipython",
    "version": 3
   },
   "file_extension": ".py",
   "mimetype": "text/x-python",
   "name": "python",
   "nbconvert_exporter": "python",
   "pygments_lexer": "ipython3",
   "version": "3.9.16"
  }
 },
 "nbformat": 4,
 "nbformat_minor": 5
}
