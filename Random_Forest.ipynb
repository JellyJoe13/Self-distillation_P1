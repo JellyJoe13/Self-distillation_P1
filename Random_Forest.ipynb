{
 "cells": [
  {
   "cell_type": "markdown",
   "id": "a72ed1f1-cf18-4233-a636-4834d6cea766",
   "metadata": {},
   "source": [
    "# Random Forest Self Distillation"
   ]
  },
  {
   "cell_type": "code",
   "execution_count": 1,
   "id": "aa9def00-2a6a-46b3-9c0d-2066bcc47ba1",
   "metadata": {},
   "outputs": [
    {
     "name": "stderr",
     "output_type": "stream",
     "text": [
      "C:\\Users\\JoPa21\\anaconda3\\envs\\praktikum\\lib\\site-packages\\tqdm\\auto.py:22: TqdmWarning: IProgress not found. Please update jupyter and ipywidgets. See https://ipywidgets.readthedocs.io/en/stable/user_install.html\n",
      "  from .autonotebook import tqdm as notebook_tqdm\n"
     ]
    }
   ],
   "source": [
    "import torch"
   ]
  },
  {
   "cell_type": "code",
   "execution_count": 2,
   "id": "44730b5a-ffce-4ed5-b987-4038cd7b689d",
   "metadata": {},
   "outputs": [
    {
     "data": {
      "text/plain": [
       "True"
      ]
     },
     "execution_count": 2,
     "metadata": {},
     "output_type": "execute_result"
    }
   ],
   "source": [
    "torch.cuda.is_available()"
   ]
  },
  {
   "cell_type": "markdown",
   "id": "b549b42a-b8ed-4cdd-8957-9f696d49a6d1",
   "metadata": {},
   "source": [
    "## Import section"
   ]
  },
  {
   "cell_type": "code",
   "execution_count": 1,
   "id": "6abaae26-275e-461d-8476-533142d3d1e4",
   "metadata": {
    "tags": []
   },
   "outputs": [],
   "source": [
    "from selfdest_toolkit.data_tools import preprocessing, loading, cleaning, sd_data_utils"
   ]
  },
  {
   "cell_type": "code",
   "execution_count": 5,
   "id": "fc16f41e-00a5-4902-9a69-364d064d2767",
   "metadata": {
    "tags": []
   },
   "outputs": [],
   "source": [
    "import pandas as pd\n",
    "import numpy as np\n",
    "import sklearn\n",
    "from sklearn.ensemble import RandomForestClassifier\n",
    "import os\n",
    "from tqdm import tqdm\n",
    "import json\n",
    "from rdkit.Chem.Descriptors import descList\n",
    "from rdkit.Chem import MolFromSmiles, RDKFingerprint\n",
    "from sklearn.model_selection import cross_validate"
   ]
  },
  {
   "cell_type": "markdown",
   "id": "78ff0db6-dd7d-470f-a8fe-6a51848e94d9",
   "metadata": {},
   "source": [
    "## Data Preprocessing"
   ]
  },
  {
   "cell_type": "code",
   "execution_count": 3,
   "id": "dcd69ab7-792b-45e1-bc0d-fccf5a25ea68",
   "metadata": {
    "tags": []
   },
   "outputs": [],
   "source": [
    "# path to dataset\n",
    "PATH_DATA = \"data/\"\n",
    "PATH_MAIN_DATASET = PATH_DATA + \"df_assay_entries.csv\""
   ]
  },
  {
   "cell_type": "code",
   "execution_count": 6,
   "id": "b931e2db-c8a7-4109-b2de-7a3c4000beb4",
   "metadata": {
    "tags": []
   },
   "outputs": [
    {
     "name": "stdout",
     "output_type": "stream",
     "text": [
      "Data file already present, no need for download.\n"
     ]
    },
    {
     "name": "stderr",
     "output_type": "stream",
     "text": [
      "100%|████████████████████████████████████████████████████████████████████████████| 2481/2481 [00:00<00:00, 5353.54it/s]\n"
     ]
    },
    {
     "name": "stdout",
     "output_type": "stream",
     "text": [
      "Chemical descriptor data already generated\n",
      "Fingerprints already generated\n"
     ]
    }
   ],
   "source": [
    "aids = preprocessing.experiment_whole_preprocess(PATH_MAIN_DATASET, PATH_DATA)"
   ]
  },
  {
   "cell_type": "markdown",
   "id": "00a8bf35-1d8d-4746-b3f0-36a5563e0c58",
   "metadata": {},
   "source": [
    "## Individual Data Loading"
   ]
  },
  {
   "cell_type": "code",
   "execution_count": 7,
   "id": "b112d2a6-b3a8-4411-b93d-6bb185f34e36",
   "metadata": {
    "tags": []
   },
   "outputs": [],
   "source": [
    "c_sampledata, c_samplelabel = loading.load_chem_desc_data(411)"
   ]
  },
  {
   "cell_type": "code",
   "execution_count": 8,
   "id": "3d56ce22-403d-484c-9765-c2f9b66b906c",
   "metadata": {
    "tags": []
   },
   "outputs": [],
   "source": [
    "f_sampledata, f_samplelabel = loading.load_fingerprint_data(411)"
   ]
  },
  {
   "cell_type": "code",
   "execution_count": 9,
   "id": "af27fb8f-5de4-482f-a456-67bae79a3e15",
   "metadata": {
    "tags": []
   },
   "outputs": [
    {
     "data": {
      "text/plain": [
       "array([[12.0147147 , -0.2333767 , 12.0147147 , ...,  0.        ,\n",
       "         1.        ,  0.        ],\n",
       "       [13.68844293, -1.04921672, 13.68844293, ...,  0.        ,\n",
       "         0.        ,  0.        ],\n",
       "       [13.75921567, -0.69660748, 13.75921567, ...,  0.        ,\n",
       "         0.        ,  0.        ],\n",
       "       ...,\n",
       "       [12.81165769, -1.13973262, 12.81165769, ...,  0.        ,\n",
       "         0.        ,  0.        ],\n",
       "       [13.06424981, -1.12117352, 13.06424981, ...,  0.        ,\n",
       "         0.        ,  0.        ],\n",
       "       [12.39603269, -1.12400132, 12.39603269, ...,  0.        ,\n",
       "         0.        ,  0.        ]])"
      ]
     },
     "execution_count": 9,
     "metadata": {},
     "output_type": "execute_result"
    }
   ],
   "source": [
    "c_sampledata"
   ]
  },
  {
   "cell_type": "code",
   "execution_count": 10,
   "id": "fa60d029-ebb0-4b1f-bdd8-d2a64f8aa24b",
   "metadata": {
    "tags": []
   },
   "outputs": [
    {
     "data": {
      "text/plain": [
       "array([0, 0, 0, ..., 0, 0, 0])"
      ]
     },
     "execution_count": 10,
     "metadata": {},
     "output_type": "execute_result"
    }
   ],
   "source": [
    "c_samplelabel"
   ]
  },
  {
   "cell_type": "code",
   "execution_count": 11,
   "id": "66732394-b452-488e-bf12-5c3195140bb5",
   "metadata": {
    "tags": []
   },
   "outputs": [
    {
     "data": {
      "text/plain": [
       "array([[0, 1, 1, ..., 0, 1, 1],\n",
       "       [1, 1, 1, ..., 1, 1, 1],\n",
       "       [0, 1, 1, ..., 0, 0, 1],\n",
       "       ...,\n",
       "       [1, 1, 0, ..., 0, 0, 1],\n",
       "       [1, 1, 0, ..., 0, 0, 1],\n",
       "       [1, 1, 0, ..., 0, 0, 1]])"
      ]
     },
     "execution_count": 11,
     "metadata": {},
     "output_type": "execute_result"
    }
   ],
   "source": [
    "f_sampledata"
   ]
  },
  {
   "cell_type": "code",
   "execution_count": 12,
   "id": "393cbea6-3e76-40bc-963e-85db85a403ae",
   "metadata": {
    "tags": []
   },
   "outputs": [
    {
     "data": {
      "text/plain": [
       "array([0, 0, 0, ..., 0, 0, 0])"
      ]
     },
     "execution_count": 12,
     "metadata": {},
     "output_type": "execute_result"
    }
   ],
   "source": [
    "f_samplelabel"
   ]
  },
  {
   "cell_type": "code",
   "execution_count": 13,
   "id": "0af1daf3-fad6-4620-9ed1-f94d338439c4",
   "metadata": {
    "tags": []
   },
   "outputs": [
    {
     "name": "stdout",
     "output_type": "stream",
     "text": [
      "(68285, 208)\n",
      "(68285, 2048)\n"
     ]
    }
   ],
   "source": [
    "print(c_sampledata.shape)\n",
    "print(f_sampledata.shape)"
   ]
  },
  {
   "cell_type": "code",
   "execution_count": 14,
   "id": "5a019e8b-e08d-4706-a059-9e0dec7540e0",
   "metadata": {
    "tags": []
   },
   "outputs": [
    {
     "data": {
      "text/plain": [
       "1536"
      ]
     },
     "execution_count": 14,
     "metadata": {},
     "output_type": "execute_result"
    }
   ],
   "source": [
    "f_samplelabel.sum()"
   ]
  },
  {
   "cell_type": "markdown",
   "id": "5e13f590-6cd0-4ecd-8919-6e1cdf24b743",
   "metadata": {},
   "source": [
    "## Preloading all data"
   ]
  },
  {
   "cell_type": "code",
   "execution_count": 4,
   "id": "c5db9196-f79a-48d1-9019-f9ac97c61880",
   "metadata": {},
   "outputs": [],
   "source": [
    "# loading.preload_fingerprint_data_all(aids)"
   ]
  },
  {
   "cell_type": "code",
   "execution_count": 5,
   "id": "3881ddb0-5f77-4707-86c7-6e5e0cb68649",
   "metadata": {
    "tags": []
   },
   "outputs": [],
   "source": [
    "# loading.preload_chem_data_all(aids)"
   ]
  },
  {
   "cell_type": "markdown",
   "id": "347c9faf-3ca5-4bc4-a7aa-c8649e354510",
   "metadata": {},
   "source": [
    "## Preparing for self distillation"
   ]
  },
  {
   "cell_type": "code",
   "execution_count": 4,
   "id": "253ee22f-339a-465e-8ab0-ec71395888ad",
   "metadata": {
    "tags": []
   },
   "outputs": [],
   "source": [
    "# define experiment id\n",
    "aid = 411"
   ]
  },
  {
   "cell_type": "code",
   "execution_count": 5,
   "id": "27703623-cc7d-465f-89e4-6285ba073d90",
   "metadata": {
    "tags": []
   },
   "outputs": [],
   "source": [
    "# get the prediction data\n",
    "data, labels = loading.load_chem_desc_data(411)"
   ]
  },
  {
   "cell_type": "code",
   "execution_count": 6,
   "id": "a43dc18e-5a17-478a-a3f2-ed0977904a18",
   "metadata": {
    "tags": []
   },
   "outputs": [],
   "source": [
    "# determine number of elements to fetch for self destillation\n",
    "number_sd = int(data.shape[0]*0.2+0.5) # set to percentage perhaps"
   ]
  },
  {
   "cell_type": "code",
   "execution_count": 7,
   "id": "9b3c60b7-8e2c-4e05-9850-dc399ac97eed",
   "metadata": {},
   "outputs": [],
   "source": [
    "# get self distillation elements\n",
    "sd_data = sd_data_utils.generate_self_distillation_elements(\n",
    "    aid=aid,\n",
    "    number_to_generate=number_sd,\n",
    "    data_gen_method=\"chem-desc\",\n",
    "    path_data=PATH_DATA\n",
    ")"
   ]
  },
  {
   "cell_type": "markdown",
   "id": "241772a0-a5d9-48b6-b9f7-d2fa06aef9e6",
   "metadata": {},
   "source": [
    "## Normal Random Forest"
   ]
  },
  {
   "cell_type": "code",
   "execution_count": 1,
   "id": "2f8dfb89-4660-4aff-a962-12bed757c28d",
   "metadata": {
    "tags": []
   },
   "outputs": [],
   "source": [
    "from selfdest_toolkit.randomforest_tools import creation, normal\n",
    "import json\n",
    "import typing"
   ]
  },
  {
   "cell_type": "code",
   "execution_count": 2,
   "id": "daa51259-a01f-4b81-adab-be1a26cbc1ed",
   "metadata": {
    "tags": []
   },
   "outputs": [],
   "source": [
    "# define experiment id\n",
    "aid = 411"
   ]
  },
  {
   "cell_type": "code",
   "execution_count": 3,
   "id": "b4d83503-70fe-46d1-836d-ac73726885d8",
   "metadata": {
    "tags": []
   },
   "outputs": [],
   "source": [
    "# create random forest\n",
    "rf = creation.generate_default_rf()"
   ]
  },
  {
   "cell_type": "code",
   "execution_count": 4,
   "id": "6a49a90d-a989-4398-a086-f33b991c2177",
   "metadata": {
    "tags": []
   },
   "outputs": [
    {
     "name": "stderr",
     "output_type": "stream",
     "text": [
      "5it [03:29, 41.84s/it]\n"
     ]
    }
   ],
   "source": [
    "# execute normal random forest testing\n",
    "accuracy_dict = normal.execute_normal_rf_test(\n",
    "    rf=rf,\n",
    "    aid=aid,\n",
    "    mode=\"chem-desc\"\n",
    ")"
   ]
  },
  {
   "cell_type": "code",
   "execution_count": 7,
   "id": "eabb627f-b9ac-42bf-8522-bce41f504571",
   "metadata": {
    "tags": []
   },
   "outputs": [
    {
     "name": "stdout",
     "output_type": "stream",
     "text": [
      "{\n",
      "    \"accuracy\": [\n",
      "        0.978692245734788,\n",
      "        0.9787654682580361,\n",
      "        0.9786190232115398,\n",
      "        0.9789119133045324,\n",
      "        0.9781796880720509\n",
      "    ],\n",
      "    \"balanced_accuracy\": [\n",
      "        0.5435619563493516,\n",
      "        0.5404169869096853,\n",
      "        0.5419332918542376,\n",
      "        0.5516303724578804,\n",
      "        0.5336788932095696\n",
      "    ],\n",
      "    \"roc\": [\n",
      "        0.5435619563493517,\n",
      "        0.5404169869096854,\n",
      "        0.5419332918542376,\n",
      "        0.5516303724578804,\n",
      "        0.5336788932095696\n",
      "    ],\n",
      "    \"precision\": [\n",
      "        0.9733954812766568,\n",
      "        0.9743169963902334,\n",
      "        0.9731493164173118,\n",
      "        0.9737573577524699,\n",
      "        0.9716583967760595\n",
      "    ],\n",
      "    \"recall\": [\n",
      "        0.978692245734788,\n",
      "        0.9787654682580361,\n",
      "        0.9786190232115398,\n",
      "        0.9789119133045324,\n",
      "        0.9781796880720509\n",
      "    ]\n",
      "}\n"
     ]
    }
   ],
   "source": [
    "print(json.dumps(accuracy_dict, indent=4))"
   ]
  },
  {
   "cell_type": "code",
   "execution_count": 3,
   "id": "c6af487a-cd68-4447-b5b2-920c06cc99ab",
   "metadata": {
    "tags": []
   },
   "outputs": [],
   "source": [
    "def convert_acc_dict(\n",
    "    acc_dict: typing.Dict[str, typing.List[float]]\n",
    ") -> typing.Dict[str, float]:\n",
    "    \n",
    "    # create placeholder dict\n",
    "    output = {}\n",
    "    \n",
    "    # iterate over old dict\n",
    "    for key in acc_dict:\n",
    "        \n",
    "        # calculate average\n",
    "        output[key] = sum(acc_dict[key])/len(acc_dict[key])\n",
    "    \n",
    "    # return the dict\n",
    "    return output"
   ]
  },
  {
   "cell_type": "code",
   "execution_count": 11,
   "id": "172bc731-146a-4785-87ac-07115925276c",
   "metadata": {
    "tags": []
   },
   "outputs": [
    {
     "name": "stdout",
     "output_type": "stream",
     "text": [
      "{\n",
      "    \"accuracy\": 0.9786336677161895,\n",
      "    \"balanced_accuracy\": 0.5422443001561448,\n",
      "    \"roc\": 0.5422443001561449,\n",
      "    \"precision\": 0.9732555097225463,\n",
      "    \"recall\": 0.9786336677161895\n",
      "}\n"
     ]
    }
   ],
   "source": [
    "normal_mean_dict = convert_acc_dict(accuracy_dict)\n",
    "print(json.dumps(normal_mean_dict, indent=4))"
   ]
  },
  {
   "cell_type": "markdown",
   "id": "2b992a50-bbff-40f4-b2d1-25bb79f74892",
   "metadata": {},
   "source": [
    "## Self distillation Random Forest"
   ]
  },
  {
   "cell_type": "code",
   "execution_count": 4,
   "id": "b796a94a-caeb-456a-83bf-4edcec753a37",
   "metadata": {
    "tags": []
   },
   "outputs": [],
   "source": [
    "from selfdest_toolkit.randomforest_tools import self_distillation"
   ]
  },
  {
   "cell_type": "code",
   "execution_count": 7,
   "id": "6d49425d-5244-4586-8785-49457d61123b",
   "metadata": {
    "tags": []
   },
   "outputs": [],
   "source": [
    "# generating random forests\n",
    "rf_teacher = creation.generate_default_rf()\n",
    "rf_student = creation.generate_default_rf()"
   ]
  },
  {
   "cell_type": "code",
   "execution_count": 8,
   "id": "f38b8aca-ad5b-4d99-b2d6-05b2078422e7",
   "metadata": {
    "tags": []
   },
   "outputs": [
    {
     "name": "stderr",
     "output_type": "stream",
     "text": [
      "5it [08:48, 105.72s/it]\n"
     ]
    }
   ],
   "source": [
    "normal_accuracy_dict, sd_accuracy_dict = self_distillation.execute_sd_rf_test(\n",
    "    rf_teacher=rf_teacher,\n",
    "    rf_student=rf_student,\n",
    "    aid=aid,\n",
    "    mode=\"chem-desc\"\n",
    ")"
   ]
  },
  {
   "cell_type": "code",
   "execution_count": 9,
   "id": "c8a483b0-c0fc-44b4-9973-9a6f20cffad3",
   "metadata": {
    "tags": []
   },
   "outputs": [],
   "source": [
    "normal_mean_dict = convert_acc_dict(normal_accuracy_dict)\n",
    "sd_mean_dict = convert_acc_dict(sd_accuracy_dict)"
   ]
  },
  {
   "cell_type": "code",
   "execution_count": 10,
   "id": "edb10c2c-3703-4045-94b6-0d8121336fed",
   "metadata": {
    "tags": []
   },
   "outputs": [
    {
     "name": "stdout",
     "output_type": "stream",
     "text": [
      "{\n",
      "    \"accuracy\": 0.9785018671743428,\n",
      "    \"balanced_accuracy\": 0.5402642575677149,\n",
      "    \"roc\": 0.5402642575677149,\n",
      "    \"precision\": 0.9727097179111954,\n",
      "    \"recall\": 0.9785018671743428\n",
      "}\n"
     ]
    }
   ],
   "source": [
    "print(json.dumps(normal_mean_dict, indent=4))"
   ]
  },
  {
   "cell_type": "code",
   "execution_count": 11,
   "id": "b58c4c25-54f9-422b-8f7a-15abeab0792a",
   "metadata": {
    "tags": []
   },
   "outputs": [
    {
     "name": "stdout",
     "output_type": "stream",
     "text": [
      "{\n",
      "    \"accuracy\": 0.9786043787068902,\n",
      "    \"balanced_accuracy\": 0.5377760446035238,\n",
      "    \"roc\": 0.5377760446035238,\n",
      "    \"precision\": 0.9737700557750006,\n",
      "    \"recall\": 0.9786043787068902\n",
      "}\n"
     ]
    }
   ],
   "source": [
    "print(json.dumps(sd_mean_dict, indent=4))"
   ]
  },
  {
   "cell_type": "code",
   "execution_count": 12,
   "id": "fe1cdc9f-855d-40bf-8a8f-bf476e71f201",
   "metadata": {
    "tags": []
   },
   "outputs": [],
   "source": [
    "def compare_accuracy_dict(normal, sd):\n",
    "    # generate comparison dict\n",
    "    comparison_dict = {}\n",
    "    \n",
    "    # go over individual dicts\n",
    "    for key in normal:\n",
    "        comparison_dict[key] = (sd[key] - normal[key])\n",
    "    \n",
    "    return comparison_dict"
   ]
  },
  {
   "cell_type": "code",
   "execution_count": 14,
   "id": "29b7d2fd-3171-4261-a875-c6afaae0f319",
   "metadata": {
    "tags": []
   },
   "outputs": [],
   "source": [
    "comparison_dict = compare_accuracy_dict(normal_mean_dict, sd_mean_dict)"
   ]
  },
  {
   "cell_type": "code",
   "execution_count": 15,
   "id": "749b8aff-cb48-41b9-ae6a-b8cf713a3b2e",
   "metadata": {
    "tags": []
   },
   "outputs": [
    {
     "name": "stdout",
     "output_type": "stream",
     "text": [
      "{\n",
      "    \"accuracy\": 0.00010251153254736689,\n",
      "    \"balanced_accuracy\": -0.0024882129641911055,\n",
      "    \"roc\": -0.0024882129641911055,\n",
      "    \"precision\": 0.0010603378638052163,\n",
      "    \"recall\": 0.00010251153254736689\n",
      "}\n"
     ]
    }
   ],
   "source": [
    "print(json.dumps(comparison_dict, indent=4))"
   ]
  },
  {
   "cell_type": "markdown",
   "id": "0dab6859-3922-4ea3-a114-1a089d950aaa",
   "metadata": {},
   "source": [
    "## Testing for self distillation success for a number of experiments"
   ]
  },
  {
   "cell_type": "code",
   "execution_count": 1,
   "id": "3e7a2a6a-f29a-439d-b50d-9bdc54b49342",
   "metadata": {
    "tags": []
   },
   "outputs": [],
   "source": [
    "from selfdest_toolkit.data_tools import analysis"
   ]
  },
  {
   "cell_type": "code",
   "execution_count": 2,
   "id": "c3609d82-e56e-42d8-8112-acd4bd046a3e",
   "metadata": {
    "tags": []
   },
   "outputs": [
    {
     "name": "stderr",
     "output_type": "stream",
     "text": [
      "100%|██████████████████████████████████████████████████████████████████████████████| 2481/2481 [01:52<00:00, 22.02it/s]\n"
     ]
    }
   ],
   "source": [
    "# get the experiment list to test\n",
    "exp_to_test = analysis.get_good_experiment_ids(\n",
    "    number_to_sample=10\n",
    ")"
   ]
  },
  {
   "cell_type": "code",
   "execution_count": 3,
   "id": "c15accc3-c529-4871-97cf-e8711db0a42f",
   "metadata": {
    "tags": []
   },
   "outputs": [
    {
     "data": {
      "text/plain": [
       "array([  1688, 624297,    902, 485314, 651965,   1461,   1458, 485313,\n",
       "       652104,   2551], dtype=int64)"
      ]
     },
     "execution_count": 3,
     "metadata": {},
     "output_type": "execute_result"
    }
   ],
   "source": [
    "exp_to_test"
   ]
  }
 ],
 "metadata": {
  "kernelspec": {
   "display_name": "Python 3 (ipykernel)",
   "language": "python",
   "name": "python3"
  },
  "language_info": {
   "codemirror_mode": {
    "name": "ipython",
    "version": 3
   },
   "file_extension": ".py",
   "mimetype": "text/x-python",
   "name": "python",
   "nbconvert_exporter": "python",
   "pygments_lexer": "ipython3",
   "version": "3.9.16"
  }
 },
 "nbformat": 4,
 "nbformat_minor": 5
}
