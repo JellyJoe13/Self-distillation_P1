{
 "cells": [
  {
   "cell_type": "markdown",
   "id": "a72ed1f1-cf18-4233-a636-4834d6cea766",
   "metadata": {},
   "source": [
    "# Random Forest Self Destillation"
   ]
  },
  {
   "cell_type": "code",
   "execution_count": 1,
   "id": "aa9def00-2a6a-46b3-9c0d-2066bcc47ba1",
   "metadata": {},
   "outputs": [
    {
     "name": "stderr",
     "output_type": "stream",
     "text": [
      "C:\\Users\\JoPa21\\anaconda3\\envs\\praktikum\\lib\\site-packages\\tqdm\\auto.py:22: TqdmWarning: IProgress not found. Please update jupyter and ipywidgets. See https://ipywidgets.readthedocs.io/en/stable/user_install.html\n",
      "  from .autonotebook import tqdm as notebook_tqdm\n"
     ]
    }
   ],
   "source": [
    "import torch"
   ]
  },
  {
   "cell_type": "code",
   "execution_count": 2,
   "id": "44730b5a-ffce-4ed5-b987-4038cd7b689d",
   "metadata": {},
   "outputs": [
    {
     "data": {
      "text/plain": [
       "True"
      ]
     },
     "execution_count": 2,
     "metadata": {},
     "output_type": "execute_result"
    }
   ],
   "source": [
    "torch.cuda.is_available()"
   ]
  },
  {
   "cell_type": "markdown",
   "id": "b549b42a-b8ed-4cdd-8957-9f696d49a6d1",
   "metadata": {},
   "source": [
    "## Import section"
   ]
  },
  {
   "cell_type": "code",
   "execution_count": 3,
   "id": "fc16f41e-00a5-4902-9a69-364d064d2767",
   "metadata": {
    "tags": []
   },
   "outputs": [],
   "source": [
    "import pandas as pd\n",
    "import numpy as np\n",
    "import sklearn\n",
    "from sklearn.ensemble import RandomForestClassifier\n",
    "import os\n",
    "from tqdm import tqdm\n",
    "import json\n",
    "from rdkit.Chem.Descriptors import descList\n",
    "from rdkit.Chem import MolFromSmiles, RDKFingerprint"
   ]
  },
  {
   "cell_type": "markdown",
   "id": "78ff0db6-dd7d-470f-a8fe-6a51848e94d9",
   "metadata": {},
   "source": [
    "## Data Preprocessing"
   ]
  },
  {
   "cell_type": "code",
   "execution_count": 4,
   "id": "dcd69ab7-792b-45e1-bc0d-fccf5a25ea68",
   "metadata": {
    "tags": []
   },
   "outputs": [],
   "source": [
    "# path to dataset\n",
    "PATH_DATA = \"data/\"\n",
    "PATH_MAIN_DATASET = PATH_DATA + \"df_assay_entries.csv\""
   ]
  },
  {
   "cell_type": "code",
   "execution_count": 5,
   "id": "3a0697b6-39a6-497a-9456-0e940dce1599",
   "metadata": {
    "tags": []
   },
   "outputs": [],
   "source": [
    "def check_data_file(\n",
    "    PATH_MAIN_DATASET: str\n",
    "):\n",
    "    #check if data folder is present and if not create it\n",
    "    # if not os.path.exists(PATH_DATA):\n",
    "    #     os.makedirs(PATH_DATA)\n",
    "    # if file not present - download it from link to ucloud\n",
    "    if not os.path.isfile(PATH_MAIN_DATASET):\n",
    "        print(\"Starting download of dataset\")\n",
    "        urlretrieve(\"https://ucloud.univie.ac.at/index.php/s/qRoEjX26GVH5jnx/download?path=%2F&files=df_assay_entries.csv&downloadStartSecret=0t4mnkxbz8am\", PATH_MAIN_DATASET)\n",
    "        print(\"Download finished\")\n",
    "    else:\n",
    "        print(\"Data file already present\")"
   ]
  },
  {
   "cell_type": "code",
   "execution_count": 6,
   "id": "291826bd-a144-4134-8eb9-5a97f08c9237",
   "metadata": {
    "tags": []
   },
   "outputs": [
    {
     "name": "stdout",
     "output_type": "stream",
     "text": [
      "Data file already present\n"
     ]
    }
   ],
   "source": [
    "check_data_file(PATH_MAIN_DATASET)"
   ]
  },
  {
   "cell_type": "code",
   "execution_count": 7,
   "id": "e8f670db-8d2b-46f2-945c-36206d1b6256",
   "metadata": {
    "tags": []
   },
   "outputs": [],
   "source": [
    "# load whole dataset\n",
    "# df = pd.read_csv(PATH_MAIN_DATASET)\n",
    "# df.head(10)"
   ]
  },
  {
   "cell_type": "code",
   "execution_count": 8,
   "id": "08c6fca7-3503-4e84-9b5c-399620fbbcaa",
   "metadata": {
    "tags": []
   },
   "outputs": [],
   "source": [
    "# split into experiments\n",
    "def experiment_preprocess(\n",
    "    PATH_MAIN_DATASET: str,\n",
    "    PATH_DATA: str\n",
    ") -> np.ndarray:\n",
    "    \n",
    "    # load the dataset into memory\n",
    "    df = pd.read_csv(PATH_MAIN_DATASET)\n",
    "\n",
    "    # check if folder is present and if not create it\n",
    "    assert os.path.exists(PATH_DATA)\n",
    "    PATH_EXPERIMENTS = PATH_DATA + \"experiment-wise/\"\n",
    "    if not os.path.exists(PATH_EXPERIMENTS):\n",
    "        os.makedirs(PATH_EXPERIMENTS)\n",
    "\n",
    "    # get unique aids\n",
    "    aid_unique = np.unique(df.aid.to_numpy())\n",
    "    \n",
    "    # save aids as a content table\n",
    "    np.save(PATH_EXPERIMENTS + \"ToC.npy\", aid_unique)\n",
    "\n",
    "    # iterate over aids and compute subset - save subset to file\n",
    "    for id in tqdm(aid_unique):\n",
    "        # create file name\n",
    "        file_name = PATH_EXPERIMENTS + str(id) + \".csv\"\n",
    "        \n",
    "        # check if the dataset to this has already been created\n",
    "        if os.path.isfile(file_name):\n",
    "            continue\n",
    "        \n",
    "        # get subset\n",
    "        subset = df[df.aid==id]\n",
    "        # save subset to folder\n",
    "        subset.to_csv(\n",
    "            path_or_buf = file_name,\n",
    "            index = False\n",
    "        )\n",
    "    \n",
    "    # check if smiles string file is present or else write list of all smiles strings to file\n",
    "    FILENAME_SMILES = \"smiles.npy\"\n",
    "    if not os.path.isfile(PATH_DATA + FILENAME_SMILES):\n",
    "        np.save(PATH_DATA + FILENAME_SMILES, np.unique(df.smiles.to_numpy()))\n",
    "    \n",
    "    # return experiment ids\n",
    "    return aid_unique"
   ]
  },
  {
   "cell_type": "code",
   "execution_count": 9,
   "id": "6e2f0b44-fa05-4edb-bd13-702a8bb8da1a",
   "metadata": {
    "tags": []
   },
   "outputs": [],
   "source": [
    "def generate_chem_smiles(\n",
    "    PATH_DATA: str,\n",
    "    PATH_MAIN_DATASET: str\n",
    "):\n",
    "    # create saving paths\n",
    "    CHEM_DATA_PATH = {\n",
    "        \"map\": PATH_DATA + \"chem-desc_map.npy\",\n",
    "        \"data\": PATH_DATA + \"chem-desc_data.npy\"\n",
    "    }\n",
    "    \n",
    "    # check if data already exists\n",
    "    if (not os.path.isfile(CHEM_DATA_PATH[\"map\"])) and (not os.path.isfile(CHEM_DATA_PATH[\"data\"])):\n",
    "        print(\"Generating chemical descriptor data\")\n",
    "        \n",
    "        # load dataframe\n",
    "        df = pd.read_csv(PATH_MAIN_DATASET)\n",
    "\n",
    "        # select subset of dataframe\n",
    "        df = df[['cid', 'smiles']].sort_values(by=['cid']).drop_duplicates(subset=['cid']).reset_index()\n",
    "\n",
    "        # pre-allocate storage to put data into\n",
    "        storage = np.zeros((len(df), 208))\n",
    "\n",
    "        # iterate over rows of dataset\n",
    "        for idx, row in tqdm(df.iterrows()):\n",
    "            storage[idx, :] = np.array([func(MolFromSmiles(row.smiles)) for _, func in descList])\n",
    "\n",
    "        # save resulting data into files\n",
    "        np.save(CHEM_DATA_PATH[\"map\"], df.cid.to_numpy())\n",
    "        np.save(CHEM_DATA_PATH[\"data\"], storage)\n",
    "    else:\n",
    "        print(\"Chemical descriptor data already generated\")\n",
    "    return"
   ]
  },
  {
   "cell_type": "code",
   "execution_count": 10,
   "id": "867e619b-0bf5-4740-8c73-3cf14821ac65",
   "metadata": {},
   "outputs": [],
   "source": [
    "# generate_chem_smiles(PATH_DATA, PATH_MAIN_DATASET)"
   ]
  },
  {
   "cell_type": "code",
   "execution_count": 11,
   "id": "7e0d7f61-912a-43a5-aedb-5a93dd915fd8",
   "metadata": {
    "tags": []
   },
   "outputs": [],
   "source": [
    "def generate_fingerprints(\n",
    "    PATH_DATA: str,\n",
    "    PATH_MAIN_DATASET: str\n",
    "):\n",
    "    # create saving paths\n",
    "    FINGERPRINT_DATA_PATH = {\n",
    "        \"map\": PATH_DATA + \"fingerprints_map.npy\",\n",
    "        \"data\": PATH_DATA + \"fingerprints_data.npy\"\n",
    "    }\n",
    "    \n",
    "    # check if data already exists\n",
    "    if (not os.path.isfile(FINGERPRINT_DATA_PATH[\"map\"])) and (not os.path.isfile(FINGERPRINT_DATA_PATH[\"data\"])):\n",
    "        print(\"Generating fingerprints\")\n",
    "        \n",
    "        # load dataframe\n",
    "        df = pd.read_csv(PATH_MAIN_DATASET)\n",
    "\n",
    "        # select subset of dataframe\n",
    "        df = df[['cid', 'smiles']].sort_values(by=['cid']).drop_duplicates(subset=['cid']).reset_index()\n",
    "\n",
    "        # pre-allocate storage to put data into\n",
    "        storage = np.zeros((len(df), 2048))\n",
    "\n",
    "        # iterate over rows of dataset\n",
    "        for idx, row in tqdm(df.iterrows()):\n",
    "            storage[idx, :] = RDKFingerprint(MolFromSmiles(row.smiles))\n",
    "\n",
    "        # save resulting data into files\n",
    "        np.save(FINGERPRINT_DATA_PATH[\"map\"], df.cid.to_numpy())\n",
    "        np.save(FINGERPRINT_DATA_PATH[\"data\"], storage)\n",
    "    else:\n",
    "        print(\"Fingerprints already generated\")\n",
    "    return"
   ]
  },
  {
   "cell_type": "code",
   "execution_count": 12,
   "id": "d3aab3c5-e1bf-4ea7-9f9a-ff4bda8d93b7",
   "metadata": {
    "tags": []
   },
   "outputs": [],
   "source": [
    "# generate_fingerprints(PATH_DATA, PATH_MAIN_DATASET)"
   ]
  },
  {
   "cell_type": "code",
   "execution_count": 13,
   "id": "6f4b3568-fdf9-401c-92d7-f2aa38f56792",
   "metadata": {
    "tags": []
   },
   "outputs": [],
   "source": [
    "def experiment_whole_preprocess(\n",
    "    PATH_DATA: str,\n",
    "    PATH_MAIN_DATASET: str = PATH_DATA + \"df_assay_entries.csv\"\n",
    ") -> np.ndarray:\n",
    "\n",
    "    # check if dataset is downloaded\n",
    "    check_data_file(PATH_MAIN_DATASET)\n",
    "    \n",
    "    # execute normal split preprocessing\n",
    "    aids = experiment_preprocess(PATH_MAIN_DATASET, PATH_DATA)\n",
    "    \n",
    "    # generate the chemical descriptor data\n",
    "    generate_chem_smiles(PATH_DATA, PATH_MAIN_DATASET)\n",
    "    \n",
    "    # generate the fingerprint data\n",
    "    generate_fingerprints(PATH_DATA, PATH_MAIN_DATASET)\n",
    "    \n",
    "    return"
   ]
  },
  {
   "cell_type": "code",
   "execution_count": 14,
   "id": "2447f904-d2d1-4cd0-834c-4b942a79b110",
   "metadata": {
    "tags": []
   },
   "outputs": [
    {
     "name": "stdout",
     "output_type": "stream",
     "text": [
      "Data file already present\n"
     ]
    },
    {
     "name": "stderr",
     "output_type": "stream",
     "text": [
      "100%|███████████████████████████████████████████████████████████████████████████| 2481/2481 [00:00<00:00, 12428.81it/s]\n"
     ]
    },
    {
     "name": "stdout",
     "output_type": "stream",
     "text": [
      "Chemical descriptor data already generated\n",
      "Fingerprints already generated\n"
     ]
    }
   ],
   "source": [
    "experiment_whole_preprocess(PATH_DATA, PATH_MAIN_DATASET)"
   ]
  },
  {
   "cell_type": "markdown",
   "id": "00a8bf35-1d8d-4746-b3f0-36a5563e0c58",
   "metadata": {},
   "source": [
    "## Individual Data Loading"
   ]
  },
  {
   "cell_type": "code",
   "execution_count": 15,
   "id": "d392dbe2-fa6d-48a5-9026-63af042b3919",
   "metadata": {
    "tags": []
   },
   "outputs": [],
   "source": [
    "def load_pure_data(\n",
    "    aid_to_load: int,\n",
    "    PATH_EXPERIMENTS: str = \"data/experiment-wise/\"\n",
    ") -> pd.DataFrame:\n",
    "    \n",
    "    # create file path\n",
    "    file_path = PATH_EXPERIMENTS + str(aid_to_load) + \".csv\"\n",
    "    \n",
    "    # check if file/path exists\n",
    "    if not os.path.isfile(file_path):\n",
    "        raise Exception('The experiment data with id {} could not be loaded. Either this experiment id is invalid or the data has yet to be split using the experiment_loadsplit(...) function.'.format(aid_to_load))\n",
    "    \n",
    "    # load and return data\n",
    "    return pd.read_csv(file_path)"
   ]
  },
  {
   "cell_type": "code",
   "execution_count": 16,
   "id": "3d56ce22-403d-484c-9765-c2f9b66b906c",
   "metadata": {
    "tags": []
   },
   "outputs": [
    {
     "data": {
      "text/html": [
       "<div>\n",
       "<style scoped>\n",
       "    .dataframe tbody tr th:only-of-type {\n",
       "        vertical-align: middle;\n",
       "    }\n",
       "\n",
       "    .dataframe tbody tr th {\n",
       "        vertical-align: top;\n",
       "    }\n",
       "\n",
       "    .dataframe thead th {\n",
       "        text-align: right;\n",
       "    }\n",
       "</style>\n",
       "<table border=\"1\" class=\"dataframe\">\n",
       "  <thead>\n",
       "    <tr style=\"text-align: right;\">\n",
       "      <th></th>\n",
       "      <th>aid</th>\n",
       "      <th>cid</th>\n",
       "      <th>smiles</th>\n",
       "      <th>activity</th>\n",
       "    </tr>\n",
       "  </thead>\n",
       "  <tbody>\n",
       "    <tr>\n",
       "      <th>0</th>\n",
       "      <td>411</td>\n",
       "      <td>644390</td>\n",
       "      <td>CCOC(=O)N1CCC(CC1)NCCNC(=O)C2=CC=CC=C2Cl</td>\n",
       "      <td>inactive</td>\n",
       "    </tr>\n",
       "    <tr>\n",
       "      <th>1</th>\n",
       "      <td>411</td>\n",
       "      <td>644391</td>\n",
       "      <td>CCOC1=CC=CC=C1N(C(C2=CC=NC=C2)C(=O)NC(C)(C)C)C...</td>\n",
       "      <td>inactive</td>\n",
       "    </tr>\n",
       "    <tr>\n",
       "      <th>2</th>\n",
       "      <td>411</td>\n",
       "      <td>644392</td>\n",
       "      <td>CN1C(=O)CC(SC1=NC2=CC(=CC=C2)OC)C(=O)NC3=CC=CC...</td>\n",
       "      <td>inactive</td>\n",
       "    </tr>\n",
       "    <tr>\n",
       "      <th>3</th>\n",
       "      <td>411</td>\n",
       "      <td>644393</td>\n",
       "      <td>CC1=CC2=CC(=C(N=C2C=C1)N3CCN(CC3)CC4=NN=NN4CC5...</td>\n",
       "      <td>inactive</td>\n",
       "    </tr>\n",
       "    <tr>\n",
       "      <th>4</th>\n",
       "      <td>411</td>\n",
       "      <td>644394</td>\n",
       "      <td>CC1(C(=O)N(C(=O)N1)CC(COC2CCCCC2)O)C</td>\n",
       "      <td>inactive</td>\n",
       "    </tr>\n",
       "    <tr>\n",
       "      <th>5</th>\n",
       "      <td>411</td>\n",
       "      <td>644395</td>\n",
       "      <td>C1CC1C2=CC=[N+](C=C2)[O-]</td>\n",
       "      <td>inactive</td>\n",
       "    </tr>\n",
       "    <tr>\n",
       "      <th>6</th>\n",
       "      <td>411</td>\n",
       "      <td>644396</td>\n",
       "      <td>COC1=CC=C(C=C1)C(=O)NC2=NN=C(S2)C(F)(F)F</td>\n",
       "      <td>inactive</td>\n",
       "    </tr>\n",
       "    <tr>\n",
       "      <th>7</th>\n",
       "      <td>411</td>\n",
       "      <td>644397</td>\n",
       "      <td>CCOC1=CC=C(C=C1)C2=NN(N=N2)CC(=O)C3=C(C=CC(=C3...</td>\n",
       "      <td>inactive</td>\n",
       "    </tr>\n",
       "    <tr>\n",
       "      <th>8</th>\n",
       "      <td>411</td>\n",
       "      <td>5770444</td>\n",
       "      <td>CC1=CC=C(C=C1)C2=NN=C(O2)CSC3=NC4=C(C5=C(N4)C=...</td>\n",
       "      <td>inactive</td>\n",
       "    </tr>\n",
       "    <tr>\n",
       "      <th>9</th>\n",
       "      <td>411</td>\n",
       "      <td>644399</td>\n",
       "      <td>CC(C)CCN1C(=NN=N1)C(C2=CC=CC=C2)N3CCN(CC3)C</td>\n",
       "      <td>inactive</td>\n",
       "    </tr>\n",
       "  </tbody>\n",
       "</table>\n",
       "</div>"
      ],
      "text/plain": [
       "   aid      cid                                             smiles  activity\n",
       "0  411   644390           CCOC(=O)N1CCC(CC1)NCCNC(=O)C2=CC=CC=C2Cl  inactive\n",
       "1  411   644391  CCOC1=CC=CC=C1N(C(C2=CC=NC=C2)C(=O)NC(C)(C)C)C...  inactive\n",
       "2  411   644392  CN1C(=O)CC(SC1=NC2=CC(=CC=C2)OC)C(=O)NC3=CC=CC...  inactive\n",
       "3  411   644393  CC1=CC2=CC(=C(N=C2C=C1)N3CCN(CC3)CC4=NN=NN4CC5...  inactive\n",
       "4  411   644394               CC1(C(=O)N(C(=O)N1)CC(COC2CCCCC2)O)C  inactive\n",
       "5  411   644395                          C1CC1C2=CC=[N+](C=C2)[O-]  inactive\n",
       "6  411   644396           COC1=CC=C(C=C1)C(=O)NC2=NN=C(S2)C(F)(F)F  inactive\n",
       "7  411   644397  CCOC1=CC=C(C=C1)C2=NN(N=N2)CC(=O)C3=C(C=CC(=C3...  inactive\n",
       "8  411  5770444  CC1=CC=C(C=C1)C2=NN=C(O2)CSC3=NC4=C(C5=C(N4)C=...  inactive\n",
       "9  411   644399        CC(C)CCN1C(=NN=N1)C(C2=CC=CC=C2)N3CCN(CC3)C  inactive"
      ]
     },
     "execution_count": 16,
     "metadata": {},
     "output_type": "execute_result"
    }
   ],
   "source": [
    "test = load_pure_data(411)\n",
    "test.head(10)"
   ]
  },
  {
   "cell_type": "code",
   "execution_count": 17,
   "id": "ad91a086-989e-4684-a2dc-1761a9160377",
   "metadata": {},
   "outputs": [
    {
     "ename": "SyntaxError",
     "evalue": "positional argument follows keyword argument (1164340177.py, line 10)",
     "output_type": "error",
     "traceback": [
      "\u001b[1;36m  Cell \u001b[1;32mIn[17], line 10\u001b[1;36m\u001b[0m\n\u001b[1;33m    )\u001b[0m\n\u001b[1;37m    ^\u001b[0m\n\u001b[1;31mSyntaxError\u001b[0m\u001b[1;31m:\u001b[0m positional argument follows keyword argument\n"
     ]
    }
   ],
   "source": [
    "def load_chem_desc_data(\n",
    "    aid: int,\n",
    "    PATH_EXPERIMENTS: str = \"data/experiment-wise/\"\n",
    ") -> np.ndarray:\n",
    "    \n",
    "    # load pure data\n",
    "    loaded_data = load_pure_data(\n",
    "        aid_to_load = aid,\n",
    "        PATH_TO_EXPERIMENTS\n",
    "    )\n",
    "    \n",
    "    # for each row load the chemical descriptor data from the file\n",
    "    "
   ]
  },
  {
   "cell_type": "code",
   "execution_count": null,
   "id": "d866374a-1945-4d37-954b-9798f9da0187",
   "metadata": {},
   "outputs": [],
   "source": [
    "def load_fingerprint_data(\n",
    "    \n",
    ") -> np.ndarray:"
   ]
  }
 ],
 "metadata": {
  "kernelspec": {
   "display_name": "Python 3 (ipykernel)",
   "language": "python",
   "name": "python3"
  },
  "language_info": {
   "codemirror_mode": {
    "name": "ipython",
    "version": 3
   },
   "file_extension": ".py",
   "mimetype": "text/x-python",
   "name": "python",
   "nbconvert_exporter": "python",
   "pygments_lexer": "ipython3",
   "version": "3.9.16"
  }
 },
 "nbformat": 4,
 "nbformat_minor": 5
}
