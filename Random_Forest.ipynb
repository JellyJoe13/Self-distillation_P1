{
 "cells": [
  {
   "cell_type": "markdown",
   "id": "a72ed1f1-cf18-4233-a636-4834d6cea766",
   "metadata": {},
   "source": [
    "# Random Forest Self Distillation"
   ]
  },
  {
   "cell_type": "code",
   "execution_count": 1,
   "id": "aa9def00-2a6a-46b3-9c0d-2066bcc47ba1",
   "metadata": {},
   "outputs": [
    {
     "name": "stderr",
     "output_type": "stream",
     "text": [
      "C:\\Users\\JoPa21\\anaconda3\\envs\\praktikum\\lib\\site-packages\\tqdm\\auto.py:22: TqdmWarning: IProgress not found. Please update jupyter and ipywidgets. See https://ipywidgets.readthedocs.io/en/stable/user_install.html\n",
      "  from .autonotebook import tqdm as notebook_tqdm\n"
     ]
    }
   ],
   "source": [
    "import torch"
   ]
  },
  {
   "cell_type": "code",
   "execution_count": 2,
   "id": "44730b5a-ffce-4ed5-b987-4038cd7b689d",
   "metadata": {},
   "outputs": [
    {
     "data": {
      "text/plain": [
       "True"
      ]
     },
     "execution_count": 2,
     "metadata": {},
     "output_type": "execute_result"
    }
   ],
   "source": [
    "torch.cuda.is_available()"
   ]
  },
  {
   "cell_type": "markdown",
   "id": "b549b42a-b8ed-4cdd-8957-9f696d49a6d1",
   "metadata": {},
   "source": [
    "## Import section"
   ]
  },
  {
   "cell_type": "code",
   "execution_count": 1,
   "id": "6abaae26-275e-461d-8476-533142d3d1e4",
   "metadata": {
    "tags": []
   },
   "outputs": [],
   "source": [
    "from selfdest_toolkit.data_tools import preprocessing, loading\n",
    "from selfdest_toolkit.data_tools import sd_data_utils"
   ]
  },
  {
   "cell_type": "code",
   "execution_count": 2,
   "id": "fc16f41e-00a5-4902-9a69-364d064d2767",
   "metadata": {
    "tags": []
   },
   "outputs": [],
   "source": [
    "import pandas as pd\n",
    "import numpy as np\n",
    "import sklearn\n",
    "from sklearn.ensemble import RandomForestClassifier\n",
    "import os\n",
    "from tqdm import tqdm\n",
    "import json\n",
    "from rdkit.Chem.Descriptors import descList\n",
    "from rdkit.Chem import MolFromSmiles, RDKFingerprint\n",
    "from sklearn.model_selection import cross_validate"
   ]
  },
  {
   "cell_type": "markdown",
   "id": "78ff0db6-dd7d-470f-a8fe-6a51848e94d9",
   "metadata": {},
   "source": [
    "## Data Preprocessing"
   ]
  },
  {
   "cell_type": "code",
   "execution_count": 3,
   "id": "dcd69ab7-792b-45e1-bc0d-fccf5a25ea68",
   "metadata": {
    "tags": []
   },
   "outputs": [],
   "source": [
    "# path to dataset\n",
    "PATH_DATA = \"data/\"\n",
    "PATH_MAIN_DATASET = PATH_DATA + \"df_assay_entries.csv\""
   ]
  },
  {
   "cell_type": "code",
   "execution_count": 6,
   "id": "b931e2db-c8a7-4109-b2de-7a3c4000beb4",
   "metadata": {
    "tags": []
   },
   "outputs": [
    {
     "name": "stdout",
     "output_type": "stream",
     "text": [
      "Data file already present, no need for download.\n"
     ]
    },
    {
     "name": "stderr",
     "output_type": "stream",
     "text": [
      "100%|████████████████████████████████████████████████████████████████████████████| 2481/2481 [00:00<00:00, 5353.54it/s]\n"
     ]
    },
    {
     "name": "stdout",
     "output_type": "stream",
     "text": [
      "Chemical descriptor data already generated\n",
      "Fingerprints already generated\n"
     ]
    }
   ],
   "source": [
    "aids = preprocessing.experiment_whole_preprocess(PATH_MAIN_DATASET, PATH_DATA)"
   ]
  },
  {
   "cell_type": "markdown",
   "id": "00a8bf35-1d8d-4746-b3f0-36a5563e0c58",
   "metadata": {},
   "source": [
    "## Individual Data Loading"
   ]
  },
  {
   "cell_type": "code",
   "execution_count": 7,
   "id": "b112d2a6-b3a8-4411-b93d-6bb185f34e36",
   "metadata": {
    "tags": []
   },
   "outputs": [],
   "source": [
    "c_sampledata, c_samplelabel = loading.load_chem_desc_data(411)"
   ]
  },
  {
   "cell_type": "code",
   "execution_count": 8,
   "id": "3d56ce22-403d-484c-9765-c2f9b66b906c",
   "metadata": {
    "tags": []
   },
   "outputs": [],
   "source": [
    "f_sampledata, f_samplelabel = loading.load_fingerprint_data(411)"
   ]
  },
  {
   "cell_type": "code",
   "execution_count": 9,
   "id": "af27fb8f-5de4-482f-a456-67bae79a3e15",
   "metadata": {
    "tags": []
   },
   "outputs": [
    {
     "data": {
      "text/plain": [
       "array([[12.0147147 , -0.2333767 , 12.0147147 , ...,  0.        ,\n",
       "         1.        ,  0.        ],\n",
       "       [13.68844293, -1.04921672, 13.68844293, ...,  0.        ,\n",
       "         0.        ,  0.        ],\n",
       "       [13.75921567, -0.69660748, 13.75921567, ...,  0.        ,\n",
       "         0.        ,  0.        ],\n",
       "       ...,\n",
       "       [12.81165769, -1.13973262, 12.81165769, ...,  0.        ,\n",
       "         0.        ,  0.        ],\n",
       "       [13.06424981, -1.12117352, 13.06424981, ...,  0.        ,\n",
       "         0.        ,  0.        ],\n",
       "       [12.39603269, -1.12400132, 12.39603269, ...,  0.        ,\n",
       "         0.        ,  0.        ]])"
      ]
     },
     "execution_count": 9,
     "metadata": {},
     "output_type": "execute_result"
    }
   ],
   "source": [
    "c_sampledata"
   ]
  },
  {
   "cell_type": "code",
   "execution_count": 10,
   "id": "fa60d029-ebb0-4b1f-bdd8-d2a64f8aa24b",
   "metadata": {
    "tags": []
   },
   "outputs": [
    {
     "data": {
      "text/plain": [
       "array([0, 0, 0, ..., 0, 0, 0])"
      ]
     },
     "execution_count": 10,
     "metadata": {},
     "output_type": "execute_result"
    }
   ],
   "source": [
    "c_samplelabel"
   ]
  },
  {
   "cell_type": "code",
   "execution_count": 11,
   "id": "66732394-b452-488e-bf12-5c3195140bb5",
   "metadata": {
    "tags": []
   },
   "outputs": [
    {
     "data": {
      "text/plain": [
       "array([[0, 1, 1, ..., 0, 1, 1],\n",
       "       [1, 1, 1, ..., 1, 1, 1],\n",
       "       [0, 1, 1, ..., 0, 0, 1],\n",
       "       ...,\n",
       "       [1, 1, 0, ..., 0, 0, 1],\n",
       "       [1, 1, 0, ..., 0, 0, 1],\n",
       "       [1, 1, 0, ..., 0, 0, 1]])"
      ]
     },
     "execution_count": 11,
     "metadata": {},
     "output_type": "execute_result"
    }
   ],
   "source": [
    "f_sampledata"
   ]
  },
  {
   "cell_type": "code",
   "execution_count": 12,
   "id": "393cbea6-3e76-40bc-963e-85db85a403ae",
   "metadata": {
    "tags": []
   },
   "outputs": [
    {
     "data": {
      "text/plain": [
       "array([0, 0, 0, ..., 0, 0, 0])"
      ]
     },
     "execution_count": 12,
     "metadata": {},
     "output_type": "execute_result"
    }
   ],
   "source": [
    "f_samplelabel"
   ]
  },
  {
   "cell_type": "code",
   "execution_count": 13,
   "id": "0af1daf3-fad6-4620-9ed1-f94d338439c4",
   "metadata": {
    "tags": []
   },
   "outputs": [
    {
     "name": "stdout",
     "output_type": "stream",
     "text": [
      "(68285, 208)\n",
      "(68285, 2048)\n"
     ]
    }
   ],
   "source": [
    "print(c_sampledata.shape)\n",
    "print(f_sampledata.shape)"
   ]
  },
  {
   "cell_type": "code",
   "execution_count": 14,
   "id": "5a019e8b-e08d-4706-a059-9e0dec7540e0",
   "metadata": {
    "tags": []
   },
   "outputs": [
    {
     "data": {
      "text/plain": [
       "1536"
      ]
     },
     "execution_count": 14,
     "metadata": {},
     "output_type": "execute_result"
    }
   ],
   "source": [
    "f_samplelabel.sum()"
   ]
  },
  {
   "cell_type": "markdown",
   "id": "5e13f590-6cd0-4ecd-8919-6e1cdf24b743",
   "metadata": {},
   "source": [
    "## Preloading all data"
   ]
  },
  {
   "cell_type": "code",
   "execution_count": 15,
   "id": "c5db9196-f79a-48d1-9019-f9ac97c61880",
   "metadata": {},
   "outputs": [],
   "source": [
    "# loading.preload_fingerprint_data_all(aids)"
   ]
  },
  {
   "cell_type": "code",
   "execution_count": 16,
   "id": "3881ddb0-5f77-4707-86c7-6e5e0cb68649",
   "metadata": {
    "tags": []
   },
   "outputs": [],
   "source": [
    "# loading.preload_chem_data_all(aids)"
   ]
  },
  {
   "cell_type": "markdown",
   "id": "347c9faf-3ca5-4bc4-a7aa-c8649e354510",
   "metadata": {},
   "source": [
    "## Preparing for self distillation"
   ]
  },
  {
   "cell_type": "code",
   "execution_count": 4,
   "id": "253ee22f-339a-465e-8ab0-ec71395888ad",
   "metadata": {
    "tags": []
   },
   "outputs": [],
   "source": [
    "# define experiment id\n",
    "aid = 411"
   ]
  },
  {
   "cell_type": "code",
   "execution_count": 5,
   "id": "27703623-cc7d-465f-89e4-6285ba073d90",
   "metadata": {
    "tags": []
   },
   "outputs": [],
   "source": [
    "# get the prediction data\n",
    "data, labels = loading.load_chem_desc_data(411)"
   ]
  },
  {
   "cell_type": "code",
   "execution_count": 6,
   "id": "a43dc18e-5a17-478a-a3f2-ed0977904a18",
   "metadata": {
    "tags": []
   },
   "outputs": [],
   "source": [
    "# determine number of elements to fetch for self destillation\n",
    "number_sd = 5 # set to percentage perhaps"
   ]
  },
  {
   "cell_type": "code",
   "execution_count": 7,
   "id": "9b3c60b7-8e2c-4e05-9850-dc399ac97eed",
   "metadata": {},
   "outputs": [],
   "source": [
    "# get self distillation elements\n",
    "sd_data = sd_data_utils.generate_self_distillation_elements(\n",
    "    aid=aid,\n",
    "    number_to_generate=number_sd,\n",
    "    data_gen_method=\"chem-desc\",\n",
    "    path_data=PATH_DATA\n",
    ")"
   ]
  },
  {
   "cell_type": "markdown",
   "id": "241772a0-a5d9-48b6-b9f7-d2fa06aef9e6",
   "metadata": {},
   "source": [
    "## Normal Random Forest"
   ]
  },
  {
   "cell_type": "code",
   "execution_count": 8,
   "id": "67f49d9c-8c7e-498c-985c-a2b76bc38ee3",
   "metadata": {
    "tags": []
   },
   "outputs": [],
   "source": [
    "from sklearn.preprocessing import StandardScaler\n",
    "from sklearn.model_selection import StratifiedKFold\n",
    "from sklearn.metrics import accuracy_score, balanced_accuracy_score, precision_score, recall_score, roc_auc_score"
   ]
  },
  {
   "cell_type": "code",
   "execution_count": 9,
   "id": "93e0a37f-cdd1-4b81-a345-570bf3cdadac",
   "metadata": {
    "tags": []
   },
   "outputs": [],
   "source": [
    "scaler = StandardScaler()"
   ]
  },
  {
   "cell_type": "code",
   "execution_count": 10,
   "id": "e1fbdaca-4b44-42ba-a833-851af3c4db5a",
   "metadata": {
    "tags": []
   },
   "outputs": [],
   "source": [
    "scaled_data = scaler.fit_transform(np.nan_to_num(data))"
   ]
  },
  {
   "cell_type": "code",
   "execution_count": 11,
   "id": "feca35d5-f19c-4dc6-a17e-968414997693",
   "metadata": {
    "tags": []
   },
   "outputs": [
    {
     "data": {
      "text/plain": [
       "array([[ 0.13386196,  0.49298247,  0.13386196, ..., -0.2739182 ,\n",
       "         1.79498337, -0.21515261],\n",
       "       [ 0.88315961, -0.06740821,  0.88315961, ..., -0.2739182 ,\n",
       "        -0.193957  , -0.21515261],\n",
       "       [ 0.91484327,  0.17479483,  0.91484327, ..., -0.2739182 ,\n",
       "        -0.193957  , -0.21515261],\n",
       "       ...,\n",
       "       [ 0.49063882, -0.12958249,  0.49063882, ..., -0.2739182 ,\n",
       "        -0.193957  , -0.21515261],\n",
       "       [ 0.60371971, -0.11683447,  0.60371971, ..., -0.2739182 ,\n",
       "        -0.193957  , -0.21515261],\n",
       "       [ 0.30457108, -0.11877685,  0.30457108, ..., -0.2739182 ,\n",
       "        -0.193957  , -0.21515261]])"
      ]
     },
     "execution_count": 11,
     "metadata": {},
     "output_type": "execute_result"
    }
   ],
   "source": [
    "np.nan_to_num(scaled_data)"
   ]
  },
  {
   "cell_type": "code",
   "execution_count": 15,
   "id": "004db7a7-132e-4af5-bfd0-b59c181e2436",
   "metadata": {
    "tags": []
   },
   "outputs": [],
   "source": [
    "rf = RandomForestClassifier(\n",
    "    class_weight=\"balanced\",\n",
    "    random_state=131313\n",
    ")"
   ]
  },
  {
   "cell_type": "code",
   "execution_count": 37,
   "id": "fd52a6a6-a679-46e5-9b72-0971bb92e74a",
   "metadata": {
    "tags": []
   },
   "outputs": [],
   "source": [
    "cv_results = cross_validate(rf, scaled_data, labels, cv=3)"
   ]
  },
  {
   "cell_type": "code",
   "execution_count": 38,
   "id": "db327cd8-ade8-4213-a6fb-371e0ed679cf",
   "metadata": {
    "tags": []
   },
   "outputs": [
    {
     "data": {
      "text/plain": [
       "{'fit_time': array([31.26763964, 34.84175944, 33.04539967]),\n",
       " 'score_time': array([0.46308899, 0.64827251, 0.46558285]),\n",
       " 'test_score': array([0.97724277, 0.97825323, 0.97895523])}"
      ]
     },
     "execution_count": 38,
     "metadata": {},
     "output_type": "execute_result"
    }
   ],
   "source": [
    "cv_results"
   ]
  },
  {
   "cell_type": "code",
   "execution_count": 13,
   "id": "9aba1df3-441c-425f-bb07-72a0fa63c38f",
   "metadata": {
    "tags": []
   },
   "outputs": [
    {
     "data": {
      "text/plain": [
       "True"
      ]
     },
     "execution_count": 13,
     "metadata": {},
     "output_type": "execute_result"
    }
   ],
   "source": [
    "np.any(data>=10000000)"
   ]
  },
  {
   "cell_type": "code",
   "execution_count": 16,
   "id": "cd551ae6-b089-4264-968e-f78da38344b3",
   "metadata": {
    "tags": []
   },
   "outputs": [],
   "source": [
    "from tqdm import tqdm"
   ]
  },
  {
   "cell_type": "code",
   "execution_count": 17,
   "id": "45218f93-9834-443d-8a0d-e4912bf0d695",
   "metadata": {
    "tags": []
   },
   "outputs": [
    {
     "name": "stderr",
     "output_type": "stream",
     "text": [
      "5it [02:50, 34.06s/it]\n"
     ]
    }
   ],
   "source": [
    "accuracy = []\n",
    "balanced_accuracy = []\n",
    "roc = []\n",
    "precision = []\n",
    "recall = []\n",
    "\n",
    "skf = StratifiedKFold(n_splits=5, shuffle=True, random_state=131313)\n",
    "for train_index, test_index in tqdm(skf.split(scaled_data, labels)):\n",
    "    # split dataset\n",
    "    x_train, y_train = scaled_data[train_index], labels[train_index]\n",
    "    x_test, y_test = scaled_data[test_index], labels[test_index]\n",
    "    # fit data\n",
    "    rf.fit(x_train, y_train)\n",
    "    # generate prediction\n",
    "    pred = rf.predict(x_test)\n",
    "    # calculate and append accuracies\n",
    "    accuracy.append(accuracy_score(y_test, pred))\n",
    "    balanced_accuracy.append(balanced_accuracy_score(y_test, pred))\n",
    "    precision.append(precision_score(y_test, pred, average=\"weighted\"))\n",
    "    recall.append(recall_score(y_test, pred, average=\"weighted\"))\n",
    "    roc.append(roc_auc_score(y_test, pred, average=\"weighted\"))"
   ]
  },
  {
   "cell_type": "code",
   "execution_count": 18,
   "id": "1a7f1bd8-0ecf-481d-b019-efe301c3d074",
   "metadata": {
    "tags": []
   },
   "outputs": [
    {
     "name": "stdout",
     "output_type": "stream",
     "text": [
      "accuracy:  [0.978692245734788, 0.9787654682580361, 0.9786190232115398, 0.9789119133045324, 0.9781796880720509]\n",
      "balanced accuracy:  [0.5435619563493516, 0.5404169869096853, 0.5419332918542376, 0.5516303724578804, 0.5336788932095696]\n",
      "roc:  [0.5435619563493517, 0.5404169869096854, 0.5419332918542376, 0.5516303724578804, 0.5336788932095696]\n",
      "precision:  [0.9733954812766568, 0.9743169963902334, 0.9731493164173118, 0.9737573577524699, 0.9716583967760595]\n",
      "recall:  [0.978692245734788, 0.9787654682580361, 0.9786190232115398, 0.9789119133045324, 0.9781796880720509]\n"
     ]
    }
   ],
   "source": [
    "print(\"accuracy: \", accuracy)\n",
    "print(\"balanced accuracy: \", balanced_accuracy)\n",
    "print(\"roc: \", roc)\n",
    "print(\"precision: \", precision)\n",
    "print(\"recall: \", recall)"
   ]
  }
 ],
 "metadata": {
  "kernelspec": {
   "display_name": "Python 3 (ipykernel)",
   "language": "python",
   "name": "python3"
  },
  "language_info": {
   "codemirror_mode": {
    "name": "ipython",
    "version": 3
   },
   "file_extension": ".py",
   "mimetype": "text/x-python",
   "name": "python",
   "nbconvert_exporter": "python",
   "pygments_lexer": "ipython3",
   "version": "3.9.16"
  }
 },
 "nbformat": 4,
 "nbformat_minor": 5
}
