{
 "cells": [
  {
   "cell_type": "markdown",
   "id": "2f2c59d5-e9d2-4330-ae6f-67f20a6332f5",
   "metadata": {},
   "source": [
    "# Graph Neural Network"
   ]
  },
  {
   "cell_type": "markdown",
   "id": "d0e46adb-556e-4ac7-8ed8-b39e9375f4a0",
   "metadata": {},
   "source": [
    "## Importing"
   ]
  },
  {
   "cell_type": "code",
   "execution_count": 78,
   "id": "89edf3ff-a4d6-4ecf-ade5-60b4fcef9e5f",
   "metadata": {
    "tags": []
   },
   "outputs": [],
   "source": [
    "from selfdist_toolkit.pyg_tools import gnn_load, GIN_nn, execution, sd_utils, accuracy\n",
    "import pandas as pd\n",
    "import torch\n",
    "import torch_geometric\n",
    "from sklearn.model_selection import StratifiedShuffleSplit\n",
    "import numpy as np"
   ]
  },
  {
   "cell_type": "markdown",
   "id": "cf60dd61-0662-429f-bbe8-ca0b446edcfe",
   "metadata": {},
   "source": [
    "## Loading aid_list"
   ]
  },
  {
   "cell_type": "code",
   "execution_count": 2,
   "id": "30ba2ee3-fa7d-49ac-9a97-e0eb819fbc36",
   "metadata": {
    "tags": []
   },
   "outputs": [],
   "source": [
    "aid_list = pd.read_csv(\"results/random_forest/experiments_check/chem-desc_good-aid_1.csv\").aid.to_numpy().astype(int)"
   ]
  },
  {
   "cell_type": "code",
   "execution_count": 3,
   "id": "bb81c8da-72aa-46c6-b553-923471b59559",
   "metadata": {
    "tags": []
   },
   "outputs": [
    {
     "data": {
      "text/plain": [
       "array([    884,     891,     899,     914,    1418,    1431,    1770,\n",
       "          1771,    1795,  493073,  493102,  493177,  493191,  493240,\n",
       "        588834,  651741,  651812,  651814,  686978,  687022,  720691,\n",
       "        743036,  743040,  743065, 1053173, 1259381, 1346982])"
      ]
     },
     "execution_count": 3,
     "metadata": {},
     "output_type": "execute_result"
    }
   ],
   "source": [
    "aid_list"
   ]
  },
  {
   "cell_type": "code",
   "execution_count": 4,
   "id": "4aaed0a7-8050-4c1e-a884-919d975a058b",
   "metadata": {
    "tags": []
   },
   "outputs": [],
   "source": [
    "# for one aid now\n",
    "aid = aid_list[0]\n",
    "random_state = 131313"
   ]
  },
  {
   "cell_type": "markdown",
   "id": "e6bcb871-5cf1-4047-88ee-a660a24d4eec",
   "metadata": {},
   "source": [
    "## Select mode: smooth for 2 dim label and hard for 1-dim label"
   ]
  },
  {
   "cell_type": "code",
   "execution_count": 5,
   "id": "d5916d66-9a4e-4fa1-85cd-14abba879aff",
   "metadata": {
    "tags": []
   },
   "outputs": [],
   "source": [
    "# mode = \"smooth\"\n",
    "mode = \"hard\""
   ]
  },
  {
   "cell_type": "markdown",
   "id": "1dc9c992-b705-4f70-aeaa-01f5b7f26d9e",
   "metadata": {},
   "source": [
    "## Load pytorch data"
   ]
  },
  {
   "cell_type": "code",
   "execution_count": 6,
   "id": "738f2a3a-efa6-4bcf-8b8d-75c4e16c2e61",
   "metadata": {
    "tags": []
   },
   "outputs": [],
   "source": [
    "whole_data = gnn_load.load_pyg_data_aid(aid=aid, label_type=mode, do_in_parallel=True)"
   ]
  },
  {
   "cell_type": "code",
   "execution_count": 7,
   "id": "334a1a7c-ab2e-47ae-90bf-73a10075d6e5",
   "metadata": {
    "tags": []
   },
   "outputs": [
    {
     "data": {
      "text/plain": [
       "[Data(x=[19, 9], edge_index=[2, 42], edge_attr=[42, 3], smiles='CC1(C=CC2=C(O1)C3=C(C=CC(=C3)OC)NC2=O)C', y=[1]),\n",
       " Data(x=[10, 9], edge_index=[2, 20], edge_attr=[20, 3], smiles='C1CN=C(N1)SCC(=O)O', y=[1]),\n",
       " Data(x=[29, 9], edge_index=[2, 64], edge_attr=[64, 3], smiles='CC(=O)OCC(=O)[C@]1(CC[C@@H]2[C@@]1(CC(=O)[C@H]3[C@H]2CCC4=CC(=O)CC[C@]34C)C)O', y=[1]),\n",
       " Data(x=[25, 9], edge_index=[2, 56], edge_attr=[56, 3], smiles='C[C@]12CCC(=O)C=C1CC[C@@H]3[C@@H]2CC[C@]4([C@H]3CC[C@@]4(C(=O)CO)O)C', y=[1])]"
      ]
     },
     "execution_count": 7,
     "metadata": {},
     "output_type": "execute_result"
    }
   ],
   "source": [
    "whole_data[:4]"
   ]
  },
  {
   "cell_type": "code",
   "execution_count": 8,
   "id": "f6dff1f3-fdef-4cb2-a935-5d4c02fd4449",
   "metadata": {
    "tags": []
   },
   "outputs": [],
   "source": [
    "# build labels for split\n",
    "labels_hard = np.array([\n",
    "    data.y.detach().cpu().numpy()\n",
    "    for data in whole_data\n",
    "]).flatten().astype(int)"
   ]
  },
  {
   "cell_type": "code",
   "execution_count": 9,
   "id": "e046a4f5-b1eb-461e-8734-8a5435e74d53",
   "metadata": {
    "tags": []
   },
   "outputs": [
    {
     "data": {
      "text/plain": [
       "(9593,)"
      ]
     },
     "execution_count": 9,
     "metadata": {},
     "output_type": "execute_result"
    }
   ],
   "source": [
    "labels_hard.shape"
   ]
  },
  {
   "cell_type": "code",
   "execution_count": 10,
   "id": "863b1a20-0393-4474-99ae-e0c374afbca5",
   "metadata": {
    "tags": []
   },
   "outputs": [
    {
     "data": {
      "text/plain": [
       "3274"
      ]
     },
     "execution_count": 10,
     "metadata": {},
     "output_type": "execute_result"
    }
   ],
   "source": [
    "labels_hard.sum()"
   ]
  },
  {
   "cell_type": "code",
   "execution_count": 11,
   "id": "091538ef-e36a-4840-9209-23250f41a4b5",
   "metadata": {
    "tags": []
   },
   "outputs": [],
   "source": [
    "# data splitting\n",
    "for train_idx, test_idx in StratifiedShuffleSplit(n_splits=1, random_state=random_state, test_size=0.2).split(whole_data, labels_hard):\n",
    "    break"
   ]
  },
  {
   "cell_type": "code",
   "execution_count": 12,
   "id": "033edddc-a5e0-4e18-a9fa-851006dfea24",
   "metadata": {
    "tags": []
   },
   "outputs": [
    {
     "data": {
      "text/plain": [
       "0.34128225175918686"
      ]
     },
     "execution_count": 12,
     "metadata": {},
     "output_type": "execute_result"
    }
   ],
   "source": [
    "labels_hard[train_idx].sum()/len(train_idx)"
   ]
  },
  {
   "cell_type": "code",
   "execution_count": 13,
   "id": "24909250-85d7-4e78-9fc7-2f3b776427eb",
   "metadata": {
    "tags": []
   },
   "outputs": [
    {
     "data": {
      "text/plain": [
       "0.341323606044815"
      ]
     },
     "execution_count": 13,
     "metadata": {},
     "output_type": "execute_result"
    }
   ],
   "source": [
    "labels_hard[test_idx].sum()/len(test_idx)"
   ]
  },
  {
   "cell_type": "code",
   "execution_count": 14,
   "id": "29a4f223-151f-4d79-98f4-5a44efeb3384",
   "metadata": {
    "tags": []
   },
   "outputs": [],
   "source": [
    "# create the data loader\n",
    "dl_train = torch_geometric.loader.DataLoader([whole_data[idx] for idx in train_idx], batch_size=100)\n",
    "dl_test = torch_geometric.loader.DataLoader([whole_data[idx] for idx in test_idx], batch_size=100)"
   ]
  },
  {
   "cell_type": "markdown",
   "id": "46f9181d-2cfa-43d4-a1f2-b3a88bab476c",
   "metadata": {
    "tags": []
   },
   "source": [
    "## Instantiate model"
   ]
  },
  {
   "cell_type": "code",
   "execution_count": 15,
   "id": "c19960dd-112f-41e6-9c21-c015198a3e7a",
   "metadata": {
    "tags": []
   },
   "outputs": [],
   "source": [
    "# GNN model\n",
    "model = GIN_nn.GIN_basic(1)"
   ]
  },
  {
   "cell_type": "code",
   "execution_count": 16,
   "id": "2bb59225-a14c-4c1e-97eb-5b201a39a571",
   "metadata": {
    "tags": []
   },
   "outputs": [],
   "source": [
    "# loss\n",
    "loss = torch.nn.BCEWithLogitsLoss(pos_weight=torch.tensor([len(train_idx)/labels_hard[train_idx].sum()]))"
   ]
  },
  {
   "cell_type": "code",
   "execution_count": 17,
   "id": "2fa041b0-4c46-49a2-bb7e-a8641c1768e6",
   "metadata": {
    "tags": []
   },
   "outputs": [],
   "source": [
    "# device\n",
    "device = torch.device('cuda')"
   ]
  },
  {
   "cell_type": "code",
   "execution_count": 18,
   "id": "6a9b0355-05a4-489a-ae82-2a92db20518a",
   "metadata": {
    "tags": []
   },
   "outputs": [
    {
     "data": {
      "text/plain": [
       "device(type='cuda')"
      ]
     },
     "execution_count": 18,
     "metadata": {},
     "output_type": "execute_result"
    }
   ],
   "source": [
    "device"
   ]
  },
  {
   "cell_type": "code",
   "execution_count": 19,
   "id": "ad9e74c0-8fbd-4b1c-a315-dc9ead69658d",
   "metadata": {
    "tags": []
   },
   "outputs": [],
   "source": [
    "model = model.to(device)\n",
    "loss = loss.to(device)"
   ]
  },
  {
   "cell_type": "code",
   "execution_count": 20,
   "id": "aadbf418-544f-4a41-85d6-4e8271a377b1",
   "metadata": {
    "tags": []
   },
   "outputs": [],
   "source": [
    "# optimizer\n",
    "optimizer = torch.optim.Adam(model.parameters(), lr=0.001)"
   ]
  },
  {
   "cell_type": "markdown",
   "id": "4094f527-9438-4467-88bb-67fee51b889e",
   "metadata": {},
   "source": [
    "## Train model"
   ]
  },
  {
   "cell_type": "code",
   "execution_count": 57,
   "id": "828d0f75-716b-4126-8b6f-e6380414d527",
   "metadata": {
    "tags": []
   },
   "outputs": [
    {
     "name": "stderr",
     "output_type": "stream",
     "text": [
      "100%|██████████████████████████████████████████████████████████████████████████████████████████████████████████████████████████████████████████████████████████████████████████████████████████████████████████████████████████████████████████████████████████████████████████████████| 77/77 [00:02<00:00, 27.37it/s]\n"
     ]
    },
    {
     "data": {
      "text/plain": [
       "0.67290205"
      ]
     },
     "execution_count": 57,
     "metadata": {},
     "output_type": "execute_result"
    }
   ],
   "source": [
    "# training:\n",
    "execution.training(model, dl_train, device, optimizer, loss)"
   ]
  },
  {
   "cell_type": "markdown",
   "id": "dafb34ec-bead-4f59-b8b0-bcddef6ae073",
   "metadata": {},
   "source": [
    "## Testing model"
   ]
  },
  {
   "cell_type": "code",
   "execution_count": 58,
   "id": "7218e1f0-56b1-46c1-9e7d-9e36c81b0bf7",
   "metadata": {
    "tags": []
   },
   "outputs": [
    {
     "name": "stderr",
     "output_type": "stream",
     "text": [
      "100%|██████████████████████████████████████████████████████████████████████████████████████████████████████████████████████████████████████████████████████████████████████████████████████████████████████████████████████████████████████████████████████████████████████████████████| 20/20 [00:00<00:00, 43.98it/s]\n"
     ]
    }
   ],
   "source": [
    "# testing:\n",
    "pred_hard = execution.predict(model, dl_test, device, reduce_to_hard_label=True)"
   ]
  },
  {
   "cell_type": "code",
   "execution_count": 59,
   "id": "255aab42-874a-49f9-94ef-3e8382149cd4",
   "metadata": {
    "tags": []
   },
   "outputs": [
    {
     "data": {
      "text/plain": [
       "0.3996873371547681"
      ]
     },
     "execution_count": 59,
     "metadata": {},
     "output_type": "execute_result"
    }
   ],
   "source": [
    "pred_hard.sum()/pred_hard.shape[0]"
   ]
  },
  {
   "cell_type": "code",
   "execution_count": 39,
   "id": "d82c0583-6cd2-41ef-86a2-f99fb2058727",
   "metadata": {
    "tags": []
   },
   "outputs": [],
   "source": [
    "for batch in dl_train:\n",
    "    break"
   ]
  },
  {
   "cell_type": "code",
   "execution_count": 40,
   "id": "7fac48ed-2916-4f8c-bdf6-e97ae117b7ee",
   "metadata": {
    "tags": []
   },
   "outputs": [
    {
     "data": {
      "text/plain": [
       "DataBatch(x=[2366, 9], edge_index=[2, 5100], edge_attr=[5100, 3], smiles=[100], y=[100], batch=[2366], ptr=[101])"
      ]
     },
     "execution_count": 40,
     "metadata": {},
     "output_type": "execute_result"
    }
   ],
   "source": [
    "batch"
   ]
  },
  {
   "cell_type": "code",
   "execution_count": 41,
   "id": "3c2fa540-bddd-48ff-bf02-fbd3bcf8e8aa",
   "metadata": {
    "tags": []
   },
   "outputs": [],
   "source": [
    "batch = batch.to(device)"
   ]
  },
  {
   "cell_type": "code",
   "execution_count": 42,
   "id": "3a0ffbfe-86fb-4cd9-9014-055af749d026",
   "metadata": {
    "tags": []
   },
   "outputs": [],
   "source": [
    "pred = model(batch).flatten()"
   ]
  },
  {
   "cell_type": "code",
   "execution_count": 43,
   "id": "9c18933a-8d9d-45eb-8333-bb0d66e1c254",
   "metadata": {
    "tags": []
   },
   "outputs": [
    {
     "data": {
      "text/plain": [
       "BCEWithLogitsLoss()"
      ]
     },
     "execution_count": 43,
     "metadata": {},
     "output_type": "execute_result"
    }
   ],
   "source": [
    "loss.to(device)"
   ]
  },
  {
   "cell_type": "code",
   "execution_count": 44,
   "id": "20156320-3ec5-42bc-a928-c3f9033f1a3d",
   "metadata": {
    "tags": []
   },
   "outputs": [
    {
     "data": {
      "text/plain": [
       "tensor(0.7944, device='cuda:0',\n",
       "       grad_fn=<BinaryCrossEntropyWithLogitsBackward0>)"
      ]
     },
     "execution_count": 44,
     "metadata": {},
     "output_type": "execute_result"
    }
   ],
   "source": [
    "loss(pred, batch.y)"
   ]
  },
  {
   "cell_type": "code",
   "execution_count": 64,
   "id": "66dcdb76-0cc1-4b64-b2c0-b3cc8b2b65b6",
   "metadata": {
    "tags": []
   },
   "outputs": [
    {
     "data": {
      "text/plain": [
       "array([0, 1, 1, 0, 1])"
      ]
     },
     "execution_count": 64,
     "metadata": {},
     "output_type": "execute_result"
    }
   ],
   "source": [
    "pred_hard[:5]"
   ]
  },
  {
   "cell_type": "code",
   "execution_count": 69,
   "id": "4ea15b11-ed24-4fe6-abdc-17e64c3aae9c",
   "metadata": {
    "tags": []
   },
   "outputs": [],
   "source": [
    "# true labels\n",
    "pred_hard_true = np.array([data.y.numpy().astype(int) for data in [whole_data[idx] for idx in test_idx]]).flatten()"
   ]
  },
  {
   "cell_type": "code",
   "execution_count": 70,
   "id": "f8ea207e-c705-4604-aed4-d7052961a0e0",
   "metadata": {
    "tags": []
   },
   "outputs": [
    {
     "data": {
      "text/plain": [
       "array([0, 1, 0, 0, 1])"
      ]
     },
     "execution_count": 70,
     "metadata": {},
     "output_type": "execute_result"
    }
   ],
   "source": [
    "pred_hard_true[:5]"
   ]
  },
  {
   "cell_type": "code",
   "execution_count": 79,
   "id": "b71f220f-4034-4849-9575-cac30dc70a58",
   "metadata": {
    "tags": []
   },
   "outputs": [],
   "source": [
    "# get accuracy scores\n",
    "acc = accuracy.calculate_accuracies_1d(y_true=pred_hard_true, y_pred=pred_hard)"
   ]
  },
  {
   "cell_type": "code",
   "execution_count": 80,
   "id": "9d0e770e-0348-4c77-b036-282929cb0a7e",
   "metadata": {
    "tags": []
   },
   "outputs": [
    {
     "data": {
      "text/plain": [
       "{'accuracy_score': 0.8030224075039083,\n",
       " 'balanced_accuracy': 0.8015587254807228,\n",
       " 'roc_score': 0.8015587254807228,\n",
       " 'precision': 0.8149271464921831,\n",
       " 'recall': 0.8030224075039083}"
      ]
     },
     "execution_count": 80,
     "metadata": {},
     "output_type": "execute_result"
    }
   ],
   "source": [
    "acc.to_dict()"
   ]
  },
  {
   "cell_type": "code",
   "execution_count": null,
   "id": "57989492-72ea-4aab-a374-3bf64e3281e5",
   "metadata": {},
   "outputs": [],
   "source": []
  },
  {
   "cell_type": "markdown",
   "id": "2241e314-8879-4eb2-b271-06418d2b0c7d",
   "metadata": {},
   "source": [
    "## Self distillation elements"
   ]
  },
  {
   "cell_type": "code",
   "execution_count": 45,
   "id": "ece43f5a-0bb4-4950-b0a0-6f106c64a298",
   "metadata": {
    "tags": []
   },
   "outputs": [],
   "source": [
    "# define number_to_pick\n",
    "number_to_pick = 100"
   ]
  },
  {
   "cell_type": "code",
   "execution_count": 46,
   "id": "1af18e1f-e744-4f8b-beed-cdd2e255f20e",
   "metadata": {
    "collapsed": true,
    "jupyter": {
     "outputs_hidden": true
    },
    "tags": []
   },
   "outputs": [
    {
     "ename": "KeyboardInterrupt",
     "evalue": "",
     "output_type": "error",
     "traceback": [
      "\u001b[1;31m---------------------------------------------------------------------------\u001b[0m",
      "\u001b[1;31mKeyboardInterrupt\u001b[0m                         Traceback (most recent call last)",
      "Cell \u001b[1;32mIn[46], line 2\u001b[0m\n\u001b[0;32m      1\u001b[0m \u001b[38;5;66;03m# load data for self distillation\u001b[39;00m\n\u001b[1;32m----> 2\u001b[0m selfdistillation_data \u001b[38;5;241m=\u001b[39m \u001b[43msd_utils\u001b[49m\u001b[38;5;241;43m.\u001b[39;49m\u001b[43mgenerate_gnn_sd_data\u001b[49m\u001b[43m(\u001b[49m\u001b[43maid\u001b[49m\u001b[38;5;241;43m=\u001b[39;49m\u001b[43maid\u001b[49m\u001b[43m)\u001b[49m\n",
      "File \u001b[1;32mD:\\DATEN\\Self-distillation_P1\\selfdist_toolkit\\pyg_tools\\sd_utils.py:56\u001b[0m, in \u001b[0;36mgenerate_gnn_sd_data\u001b[1;34m(aid, exclude_smiles, path_data)\u001b[0m\n\u001b[0;32m     54\u001b[0m \u001b[38;5;66;03m# generate pyg data with dummy label (because without dummy label the dataloader will not work properly)\u001b[39;00m\n\u001b[0;32m     55\u001b[0m dummy_label \u001b[38;5;241m=\u001b[39m [\u001b[38;5;241m2.\u001b[39m] \u001b[38;5;241m*\u001b[39m \u001b[38;5;28mlen\u001b[39m(free_smiles)\n\u001b[1;32m---> 56\u001b[0m data_list \u001b[38;5;241m=\u001b[39m \u001b[43mload_pyg_data_from_smiles_list\u001b[49m\u001b[43m(\u001b[49m\u001b[43msmiles_list\u001b[49m\u001b[38;5;241;43m=\u001b[39;49m\u001b[38;5;28;43mlist\u001b[39;49m\u001b[43m(\u001b[49m\u001b[43mfree_smiles\u001b[49m\u001b[43m)\u001b[49m\u001b[43m,\u001b[49m\u001b[43m \u001b[49m\u001b[43mlabel_list\u001b[49m\u001b[38;5;241;43m=\u001b[39;49m\u001b[43mdummy_label\u001b[49m\u001b[43m)\u001b[49m\n\u001b[0;32m     58\u001b[0m \u001b[38;5;66;03m# return results\u001b[39;00m\n\u001b[0;32m     59\u001b[0m \u001b[38;5;28;01mreturn\u001b[39;00m data_list\n",
      "File \u001b[1;32mD:\\DATEN\\Self-distillation_P1\\selfdist_toolkit\\pyg_tools\\gnn_load.py:109\u001b[0m, in \u001b[0;36mload_pyg_data_from_smiles_list\u001b[1;34m(smiles_list, label_list, do_in_parallel, label_type)\u001b[0m\n\u001b[0;32m    103\u001b[0m \u001b[38;5;28;01mif\u001b[39;00m do_in_parallel:\n\u001b[0;32m    104\u001b[0m \n\u001b[0;32m    105\u001b[0m     \u001b[38;5;66;03m# open multiprocessing resources\u001b[39;00m\n\u001b[0;32m    106\u001b[0m     \u001b[38;5;28;01mwith\u001b[39;00m Pool(cpu_count()) \u001b[38;5;28;01mas\u001b[39;00m p:\n\u001b[0;32m    107\u001b[0m \n\u001b[0;32m    108\u001b[0m         \u001b[38;5;66;03m# map and return elements in parallel to helper function\u001b[39;00m\n\u001b[1;32m--> 109\u001b[0m         \u001b[38;5;28;01mreturn\u001b[39;00m \u001b[43mp\u001b[49m\u001b[38;5;241;43m.\u001b[39;49m\u001b[43mmap\u001b[49m\u001b[43m(\u001b[49m\u001b[43mhelper\u001b[49m\u001b[43m,\u001b[49m\u001b[43m \u001b[49m\u001b[38;5;28;43mlist\u001b[39;49m\u001b[43m(\u001b[49m\u001b[38;5;28;43mzip\u001b[39;49m\u001b[43m(\u001b[49m\u001b[43msmiles_list\u001b[49m\u001b[43m,\u001b[49m\u001b[43m \u001b[49m\u001b[43mlabel_list\u001b[49m\u001b[43m)\u001b[49m\u001b[43m)\u001b[49m\u001b[43m)\u001b[49m\n\u001b[0;32m    111\u001b[0m \u001b[38;5;28;01melse\u001b[39;00m:\n\u001b[0;32m    112\u001b[0m \n\u001b[0;32m    113\u001b[0m     \u001b[38;5;66;03m# return simple mapping for all elements\u001b[39;00m\n\u001b[0;32m    114\u001b[0m     \u001b[38;5;28;01mreturn\u001b[39;00m [\n\u001b[0;32m    115\u001b[0m         helper(\u001b[38;5;241m*\u001b[39mt) \u001b[38;5;28;01mfor\u001b[39;00m t \u001b[38;5;129;01min\u001b[39;00m \u001b[38;5;28mlist\u001b[39m(\u001b[38;5;28mzip\u001b[39m(smiles_list, label_list))\n\u001b[0;32m    116\u001b[0m     ]\n",
      "File \u001b[1;32m~\\anaconda3\\envs\\praktikum\\lib\\site-packages\\multiprocess\\pool.py:364\u001b[0m, in \u001b[0;36mPool.map\u001b[1;34m(self, func, iterable, chunksize)\u001b[0m\n\u001b[0;32m    359\u001b[0m \u001b[38;5;28;01mdef\u001b[39;00m \u001b[38;5;21mmap\u001b[39m(\u001b[38;5;28mself\u001b[39m, func, iterable, chunksize\u001b[38;5;241m=\u001b[39m\u001b[38;5;28;01mNone\u001b[39;00m):\n\u001b[0;32m    360\u001b[0m \u001b[38;5;250m    \u001b[39m\u001b[38;5;124;03m'''\u001b[39;00m\n\u001b[0;32m    361\u001b[0m \u001b[38;5;124;03m    Apply `func` to each element in `iterable`, collecting the results\u001b[39;00m\n\u001b[0;32m    362\u001b[0m \u001b[38;5;124;03m    in a list that is returned.\u001b[39;00m\n\u001b[0;32m    363\u001b[0m \u001b[38;5;124;03m    '''\u001b[39;00m\n\u001b[1;32m--> 364\u001b[0m     \u001b[38;5;28;01mreturn\u001b[39;00m \u001b[38;5;28;43mself\u001b[39;49m\u001b[38;5;241;43m.\u001b[39;49m\u001b[43m_map_async\u001b[49m\u001b[43m(\u001b[49m\u001b[43mfunc\u001b[49m\u001b[43m,\u001b[49m\u001b[43m \u001b[49m\u001b[43miterable\u001b[49m\u001b[43m,\u001b[49m\u001b[43m \u001b[49m\u001b[43mmapstar\u001b[49m\u001b[43m,\u001b[49m\u001b[43m \u001b[49m\u001b[43mchunksize\u001b[49m\u001b[43m)\u001b[49m\u001b[38;5;241;43m.\u001b[39;49m\u001b[43mget\u001b[49m\u001b[43m(\u001b[49m\u001b[43m)\u001b[49m\n",
      "File \u001b[1;32m~\\anaconda3\\envs\\praktikum\\lib\\site-packages\\multiprocess\\pool.py:765\u001b[0m, in \u001b[0;36mApplyResult.get\u001b[1;34m(self, timeout)\u001b[0m\n\u001b[0;32m    764\u001b[0m \u001b[38;5;28;01mdef\u001b[39;00m \u001b[38;5;21mget\u001b[39m(\u001b[38;5;28mself\u001b[39m, timeout\u001b[38;5;241m=\u001b[39m\u001b[38;5;28;01mNone\u001b[39;00m):\n\u001b[1;32m--> 765\u001b[0m     \u001b[38;5;28;43mself\u001b[39;49m\u001b[38;5;241;43m.\u001b[39;49m\u001b[43mwait\u001b[49m\u001b[43m(\u001b[49m\u001b[43mtimeout\u001b[49m\u001b[43m)\u001b[49m\n\u001b[0;32m    766\u001b[0m     \u001b[38;5;28;01mif\u001b[39;00m \u001b[38;5;129;01mnot\u001b[39;00m \u001b[38;5;28mself\u001b[39m\u001b[38;5;241m.\u001b[39mready():\n\u001b[0;32m    767\u001b[0m         \u001b[38;5;28;01mraise\u001b[39;00m \u001b[38;5;167;01mTimeoutError\u001b[39;00m\n",
      "File \u001b[1;32m~\\anaconda3\\envs\\praktikum\\lib\\site-packages\\multiprocess\\pool.py:762\u001b[0m, in \u001b[0;36mApplyResult.wait\u001b[1;34m(self, timeout)\u001b[0m\n\u001b[0;32m    761\u001b[0m \u001b[38;5;28;01mdef\u001b[39;00m \u001b[38;5;21mwait\u001b[39m(\u001b[38;5;28mself\u001b[39m, timeout\u001b[38;5;241m=\u001b[39m\u001b[38;5;28;01mNone\u001b[39;00m):\n\u001b[1;32m--> 762\u001b[0m     \u001b[38;5;28;43mself\u001b[39;49m\u001b[38;5;241;43m.\u001b[39;49m\u001b[43m_event\u001b[49m\u001b[38;5;241;43m.\u001b[39;49m\u001b[43mwait\u001b[49m\u001b[43m(\u001b[49m\u001b[43mtimeout\u001b[49m\u001b[43m)\u001b[49m\n",
      "File \u001b[1;32m~\\anaconda3\\envs\\praktikum\\lib\\threading.py:581\u001b[0m, in \u001b[0;36mEvent.wait\u001b[1;34m(self, timeout)\u001b[0m\n\u001b[0;32m    579\u001b[0m signaled \u001b[38;5;241m=\u001b[39m \u001b[38;5;28mself\u001b[39m\u001b[38;5;241m.\u001b[39m_flag\n\u001b[0;32m    580\u001b[0m \u001b[38;5;28;01mif\u001b[39;00m \u001b[38;5;129;01mnot\u001b[39;00m signaled:\n\u001b[1;32m--> 581\u001b[0m     signaled \u001b[38;5;241m=\u001b[39m \u001b[38;5;28;43mself\u001b[39;49m\u001b[38;5;241;43m.\u001b[39;49m\u001b[43m_cond\u001b[49m\u001b[38;5;241;43m.\u001b[39;49m\u001b[43mwait\u001b[49m\u001b[43m(\u001b[49m\u001b[43mtimeout\u001b[49m\u001b[43m)\u001b[49m\n\u001b[0;32m    582\u001b[0m \u001b[38;5;28;01mreturn\u001b[39;00m signaled\n",
      "File \u001b[1;32m~\\anaconda3\\envs\\praktikum\\lib\\threading.py:312\u001b[0m, in \u001b[0;36mCondition.wait\u001b[1;34m(self, timeout)\u001b[0m\n\u001b[0;32m    310\u001b[0m \u001b[38;5;28;01mtry\u001b[39;00m:    \u001b[38;5;66;03m# restore state no matter what (e.g., KeyboardInterrupt)\u001b[39;00m\n\u001b[0;32m    311\u001b[0m     \u001b[38;5;28;01mif\u001b[39;00m timeout \u001b[38;5;129;01mis\u001b[39;00m \u001b[38;5;28;01mNone\u001b[39;00m:\n\u001b[1;32m--> 312\u001b[0m         \u001b[43mwaiter\u001b[49m\u001b[38;5;241;43m.\u001b[39;49m\u001b[43macquire\u001b[49m\u001b[43m(\u001b[49m\u001b[43m)\u001b[49m\n\u001b[0;32m    313\u001b[0m         gotit \u001b[38;5;241m=\u001b[39m \u001b[38;5;28;01mTrue\u001b[39;00m\n\u001b[0;32m    314\u001b[0m     \u001b[38;5;28;01melse\u001b[39;00m:\n",
      "\u001b[1;31mKeyboardInterrupt\u001b[0m: "
     ]
    }
   ],
   "source": [
    "# load data for self distillation\n",
    "selfdistillation_data = sd_utils.generate_gnn_sd_data(aid=aid)"
   ]
  },
  {
   "cell_type": "code",
   "execution_count": 60,
   "id": "c06ea51d-e406-4309-8f76-e89c529d5ad7",
   "metadata": {
    "tags": []
   },
   "outputs": [
    {
     "name": "stderr",
     "output_type": "stream",
     "text": [
      "100%|██████████████████████████████████████████████████████████████████████████████████████████████████████████████████████████████████████████████████████████████████████████████████████████████████████████████████████████████████████████████████████████████████████████████| 4455/4455 [01:00<00:00, 73.83it/s]\n"
     ]
    }
   ],
   "source": [
    "# get good elements to insert into training pool for student model\n",
    "selected, remaining = execution.self_distillation_procedure_1dim(\n",
    "    model=model, \n",
    "    self_distillation_data=selfdistillation_data, \n",
    "    number_to_pick=number_to_pick, \n",
    "    device=device, \n",
    "    correct_label=False, \n",
    "    batch_size=100\n",
    ")"
   ]
  },
  {
   "cell_type": "code",
   "execution_count": 61,
   "id": "7cdb4992-3429-44e7-ad04-f81504db111f",
   "metadata": {
    "tags": []
   },
   "outputs": [
    {
     "data": {
      "text/plain": [
       "[Data(x=[7, 9], edge_index=[2, 12], edge_attr=[12, 3], smiles='C(=O)(C(Br)(Br)Br)O', y=[1]),\n",
       " Data(x=[5, 9], edge_index=[2, 8], edge_attr=[8, 3], smiles='OS(=O)(=O)O', y=[1]),\n",
       " Data(x=[4, 9], edge_index=[2, 6], edge_attr=[6, 3], smiles='O=[Mo](=O)=O', y=[1]),\n",
       " Data(x=[10, 9], edge_index=[2, 18], edge_attr=[18, 3], smiles='[C@@H]([C@H](C(=O)O)O)(C(=O)O)O', y=[1]),\n",
       " Data(x=[5, 9], edge_index=[2, 8], edge_attr=[8, 3], smiles='C(C(=O)O)O', y=[1])]"
      ]
     },
     "execution_count": 61,
     "metadata": {},
     "output_type": "execute_result"
    }
   ],
   "source": [
    "selected[:5]"
   ]
  },
  {
   "cell_type": "code",
   "execution_count": 62,
   "id": "b26ef592-6ead-4584-af27-38bb6a5c3ec5",
   "metadata": {
    "tags": []
   },
   "outputs": [],
   "source": [
    "label_analysis = np.array([data.y.numpy() for data in selected])"
   ]
  },
  {
   "cell_type": "code",
   "execution_count": 63,
   "id": "08e4ddb6-a904-484c-828f-d47e63553067",
   "metadata": {
    "tags": []
   },
   "outputs": [
    {
     "data": {
      "text/plain": [
       "1.873792280093767e-07"
      ]
     },
     "execution_count": 63,
     "metadata": {},
     "output_type": "execute_result"
    }
   ],
   "source": [
    "label_analysis.sum()/label_analysis.shape[0]"
   ]
  },
  {
   "cell_type": "code",
   "execution_count": null,
   "id": "9f181560-0fac-4254-b39c-b3353d2b1869",
   "metadata": {},
   "outputs": [],
   "source": []
  },
  {
   "cell_type": "code",
   "execution_count": 36,
   "id": "622247da-4693-4ca1-ad48-b6fde2517462",
   "metadata": {
    "tags": []
   },
   "outputs": [],
   "source": [
    "# todo: ausbauen auf viele epochen und student - teacher übergang. außerdem begutachten ob positive oder negative label bevorzugt werden sollten"
   ]
  }
 ],
 "metadata": {
  "kernelspec": {
   "display_name": "Python 3 (ipykernel)",
   "language": "python",
   "name": "python3"
  },
  "language_info": {
   "codemirror_mode": {
    "name": "ipython",
    "version": 3
   },
   "file_extension": ".py",
   "mimetype": "text/x-python",
   "name": "python",
   "nbconvert_exporter": "python",
   "pygments_lexer": "ipython3",
   "version": "3.9.16"
  }
 },
 "nbformat": 4,
 "nbformat_minor": 5
}
