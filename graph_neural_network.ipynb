{
 "cells": [
  {
   "cell_type": "markdown",
   "id": "2f2c59d5-e9d2-4330-ae6f-67f20a6332f5",
   "metadata": {},
   "source": [
    "# Graph Neural Network"
   ]
  },
  {
   "cell_type": "markdown",
   "id": "d0e46adb-556e-4ac7-8ed8-b39e9375f4a0",
   "metadata": {},
   "source": [
    "## Importing"
   ]
  },
  {
   "cell_type": "code",
   "execution_count": 1,
   "id": "89edf3ff-a4d6-4ecf-ade5-60b4fcef9e5f",
   "metadata": {
    "tags": []
   },
   "outputs": [
    {
     "name": "stderr",
     "output_type": "stream",
     "text": [
      "C:\\Users\\johan\\anaconda3\\envs\\praktikum\\lib\\site-packages\\tqdm\\auto.py:22: TqdmWarning: IProgress not found. Please update jupyter and ipywidgets. See https://ipywidgets.readthedocs.io/en/stable/user_install.html\n",
      "  from .autonotebook import tqdm as notebook_tqdm\n"
     ]
    }
   ],
   "source": [
    "from selfdist_toolkit.pyg_tools import gnn_load, GIN_nn, execution, sd_utils\n",
    "import pandas as pd\n",
    "import torch\n",
    "import torch_geometric\n",
    "from sklearn.model_selection import StratifiedShuffleSplit\n",
    "import numpy as np"
   ]
  },
  {
   "cell_type": "markdown",
   "id": "cf60dd61-0662-429f-bbe8-ca0b446edcfe",
   "metadata": {},
   "source": [
    "## Loading aid_list"
   ]
  },
  {
   "cell_type": "code",
   "execution_count": 2,
   "id": "30ba2ee3-fa7d-49ac-9a97-e0eb819fbc36",
   "metadata": {
    "tags": []
   },
   "outputs": [],
   "source": [
    "aid_list = pd.read_csv(\"results/random_forest/experiments_check/chem-desc_good-aid_1.csv\").aid.to_numpy().astype(int)"
   ]
  },
  {
   "cell_type": "code",
   "execution_count": 3,
   "id": "bb81c8da-72aa-46c6-b553-923471b59559",
   "metadata": {
    "tags": []
   },
   "outputs": [
    {
     "data": {
      "text/plain": [
       "array([    884,     891,     899,     914,    1418,    1431,    1770,\n",
       "          1771,    1795,  493073,  493102,  493177,  493191,  493240,\n",
       "        588834,  651741,  651812,  651814,  686978,  687022,  720691,\n",
       "        743036,  743040,  743065, 1053173, 1259381, 1346982])"
      ]
     },
     "execution_count": 3,
     "metadata": {},
     "output_type": "execute_result"
    }
   ],
   "source": [
    "aid_list"
   ]
  },
  {
   "cell_type": "code",
   "execution_count": 4,
   "id": "4aaed0a7-8050-4c1e-a884-919d975a058b",
   "metadata": {
    "tags": []
   },
   "outputs": [],
   "source": [
    "# for one aid now\n",
    "aid = aid_list[0]\n",
    "random_state = 131313"
   ]
  },
  {
   "cell_type": "markdown",
   "id": "e6bcb871-5cf1-4047-88ee-a660a24d4eec",
   "metadata": {},
   "source": [
    "## Select mode: smooth for 2 dim label and hard for 1-dim label"
   ]
  },
  {
   "cell_type": "code",
   "execution_count": 5,
   "id": "d5916d66-9a4e-4fa1-85cd-14abba879aff",
   "metadata": {
    "tags": []
   },
   "outputs": [],
   "source": [
    "# mode = \"smooth\"\n",
    "mode = \"hard\""
   ]
  },
  {
   "cell_type": "markdown",
   "id": "1dc9c992-b705-4f70-aeaa-01f5b7f26d9e",
   "metadata": {},
   "source": [
    "## Load pytorch data"
   ]
  },
  {
   "cell_type": "code",
   "execution_count": 6,
   "id": "738f2a3a-efa6-4bcf-8b8d-75c4e16c2e61",
   "metadata": {
    "tags": []
   },
   "outputs": [],
   "source": [
    "whole_data = gnn_load.load_pyg_data_aid(aid=aid, label_type=mode, do_in_parallel=True)"
   ]
  },
  {
   "cell_type": "code",
   "execution_count": 7,
   "id": "334a1a7c-ab2e-47ae-90bf-73a10075d6e5",
   "metadata": {
    "tags": []
   },
   "outputs": [
    {
     "data": {
      "text/plain": [
       "[Data(x=[19, 9], edge_index=[2, 42], edge_attr=[42, 3], smiles='CC1(C=CC2=C(O1)C3=C(C=CC(=C3)OC)NC2=O)C', y=[1]),\n",
       " Data(x=[10, 9], edge_index=[2, 20], edge_attr=[20, 3], smiles='C1CN=C(N1)SCC(=O)O', y=[1]),\n",
       " Data(x=[29, 9], edge_index=[2, 64], edge_attr=[64, 3], smiles='CC(=O)OCC(=O)[C@]1(CC[C@@H]2[C@@]1(CC(=O)[C@H]3[C@H]2CCC4=CC(=O)CC[C@]34C)C)O', y=[1]),\n",
       " Data(x=[25, 9], edge_index=[2, 56], edge_attr=[56, 3], smiles='C[C@]12CCC(=O)C=C1CC[C@@H]3[C@@H]2CC[C@]4([C@H]3CC[C@@]4(C(=O)CO)O)C', y=[1])]"
      ]
     },
     "execution_count": 7,
     "metadata": {},
     "output_type": "execute_result"
    }
   ],
   "source": [
    "whole_data[:4]"
   ]
  },
  {
   "cell_type": "code",
   "execution_count": 8,
   "id": "f6dff1f3-fdef-4cb2-a935-5d4c02fd4449",
   "metadata": {
    "tags": []
   },
   "outputs": [],
   "source": [
    "# build labels for split\n",
    "labels_hard = np.array([\n",
    "    data.y.detach().cpu().numpy()\n",
    "    for data in whole_data\n",
    "]).flatten().astype(int)"
   ]
  },
  {
   "cell_type": "code",
   "execution_count": 9,
   "id": "e046a4f5-b1eb-461e-8734-8a5435e74d53",
   "metadata": {
    "tags": []
   },
   "outputs": [
    {
     "data": {
      "text/plain": [
       "(9593,)"
      ]
     },
     "execution_count": 9,
     "metadata": {},
     "output_type": "execute_result"
    }
   ],
   "source": [
    "labels_hard.shape"
   ]
  },
  {
   "cell_type": "code",
   "execution_count": 10,
   "id": "863b1a20-0393-4474-99ae-e0c374afbca5",
   "metadata": {
    "tags": []
   },
   "outputs": [
    {
     "data": {
      "text/plain": [
       "3274"
      ]
     },
     "execution_count": 10,
     "metadata": {},
     "output_type": "execute_result"
    }
   ],
   "source": [
    "labels_hard.sum()"
   ]
  },
  {
   "cell_type": "code",
   "execution_count": 11,
   "id": "091538ef-e36a-4840-9209-23250f41a4b5",
   "metadata": {
    "tags": []
   },
   "outputs": [],
   "source": [
    "# data splitting\n",
    "for train_idx, test_idx in StratifiedShuffleSplit(n_splits=1, random_state=random_state, test_size=0.2).split(whole_data, labels_hard):\n",
    "    break"
   ]
  },
  {
   "cell_type": "code",
   "execution_count": 12,
   "id": "033edddc-a5e0-4e18-a9fa-851006dfea24",
   "metadata": {
    "tags": []
   },
   "outputs": [
    {
     "data": {
      "text/plain": [
       "0.34128225175918686"
      ]
     },
     "execution_count": 12,
     "metadata": {},
     "output_type": "execute_result"
    }
   ],
   "source": [
    "labels_hard[train_idx].sum()/len(train_idx)"
   ]
  },
  {
   "cell_type": "code",
   "execution_count": 13,
   "id": "24909250-85d7-4e78-9fc7-2f3b776427eb",
   "metadata": {
    "tags": []
   },
   "outputs": [
    {
     "data": {
      "text/plain": [
       "0.341323606044815"
      ]
     },
     "execution_count": 13,
     "metadata": {},
     "output_type": "execute_result"
    }
   ],
   "source": [
    "labels_hard[test_idx].sum()/len(test_idx)"
   ]
  },
  {
   "cell_type": "code",
   "execution_count": 14,
   "id": "29a4f223-151f-4d79-98f4-5a44efeb3384",
   "metadata": {
    "tags": []
   },
   "outputs": [],
   "source": [
    "# create the data loader\n",
    "dl_train = torch_geometric.loader.DataLoader([whole_data[idx] for idx in train_idx], batch_size=100)\n",
    "dl_test = torch_geometric.loader.DataLoader([whole_data[idx] for idx in test_idx], batch_size=100)"
   ]
  },
  {
   "cell_type": "markdown",
   "id": "46f9181d-2cfa-43d4-a1f2-b3a88bab476c",
   "metadata": {
    "tags": []
   },
   "source": [
    "## Instantiate model"
   ]
  },
  {
   "cell_type": "code",
   "execution_count": 15,
   "id": "c19960dd-112f-41e6-9c21-c015198a3e7a",
   "metadata": {
    "tags": []
   },
   "outputs": [],
   "source": [
    "# GNN model\n",
    "model = GIN_nn.GIN_basic(1)"
   ]
  },
  {
   "cell_type": "code",
   "execution_count": 16,
   "id": "2bb59225-a14c-4c1e-97eb-5b201a39a571",
   "metadata": {
    "tags": []
   },
   "outputs": [],
   "source": [
    "# loss\n",
    "loss = torch.nn.BCEWithLogitsLoss(pos_weight=torch.tensor([len(train_idx)/labels_hard[train_idx].sum()]))"
   ]
  },
  {
   "cell_type": "code",
   "execution_count": 17,
   "id": "2fa041b0-4c46-49a2-bb7e-a8641c1768e6",
   "metadata": {
    "tags": []
   },
   "outputs": [],
   "source": [
    "# device\n",
    "device = torch.device('cuda')"
   ]
  },
  {
   "cell_type": "code",
   "execution_count": 18,
   "id": "6a9b0355-05a4-489a-ae82-2a92db20518a",
   "metadata": {
    "tags": []
   },
   "outputs": [
    {
     "data": {
      "text/plain": [
       "device(type='cuda')"
      ]
     },
     "execution_count": 18,
     "metadata": {},
     "output_type": "execute_result"
    }
   ],
   "source": [
    "device"
   ]
  },
  {
   "cell_type": "code",
   "execution_count": 19,
   "id": "ad9e74c0-8fbd-4b1c-a315-dc9ead69658d",
   "metadata": {
    "tags": []
   },
   "outputs": [],
   "source": [
    "model = model.to(device)\n",
    "loss = loss.to(device)"
   ]
  },
  {
   "cell_type": "code",
   "execution_count": 20,
   "id": "aadbf418-544f-4a41-85d6-4e8271a377b1",
   "metadata": {
    "tags": []
   },
   "outputs": [],
   "source": [
    "# optimizer\n",
    "optimizer = torch.optim.Adam(model.parameters(), lr=0.001)"
   ]
  },
  {
   "cell_type": "markdown",
   "id": "4094f527-9438-4467-88bb-67fee51b889e",
   "metadata": {},
   "source": [
    "## Train model"
   ]
  },
  {
   "cell_type": "code",
   "execution_count": 21,
   "id": "828d0f75-716b-4126-8b6f-e6380414d527",
   "metadata": {
    "tags": []
   },
   "outputs": [
    {
     "name": "stderr",
     "output_type": "stream",
     "text": [
      "100%|██████████████████████████████████████████████████████████████████████████████████████████████████████████████████████████████████████████████████████████████████████████████████████████████████████████████████████████████████████████████████████████████████████████████████| 77/77 [00:03<00:00, 20.75it/s]\n"
     ]
    },
    {
     "data": {
      "text/plain": [
       "0.8897513"
      ]
     },
     "execution_count": 21,
     "metadata": {},
     "output_type": "execute_result"
    }
   ],
   "source": [
    "# training:\n",
    "execution.training(model, dl_train, device, optimizer, loss)"
   ]
  },
  {
   "cell_type": "markdown",
   "id": "dafb34ec-bead-4f59-b8b0-bcddef6ae073",
   "metadata": {},
   "source": [
    "## Testing model"
   ]
  },
  {
   "cell_type": "code",
   "execution_count": 22,
   "id": "7218e1f0-56b1-46c1-9e7d-9e36c81b0bf7",
   "metadata": {
    "tags": []
   },
   "outputs": [
    {
     "name": "stderr",
     "output_type": "stream",
     "text": [
      "100%|██████████████████████████████████████████████████████████████████████████████████████████████████████████████████████████████████████████████████████████████████████████████████████████████████████████████████████████████████████████████████████████████████████████████████| 20/20 [00:00<00:00, 73.39it/s]\n"
     ]
    }
   ],
   "source": [
    "# testing:\n",
    "pred_hard = execution.predict(model, dl_test, device, reduce_to_hard_label=True)"
   ]
  },
  {
   "cell_type": "code",
   "execution_count": 23,
   "id": "255aab42-874a-49f9-94ef-3e8382149cd4",
   "metadata": {
    "tags": []
   },
   "outputs": [
    {
     "data": {
      "text/plain": [
       "0.39030745179781134"
      ]
     },
     "execution_count": 23,
     "metadata": {},
     "output_type": "execute_result"
    }
   ],
   "source": [
    "pred_hard.sum()/pred_hard.shape[0]"
   ]
  },
  {
   "cell_type": "code",
   "execution_count": 24,
   "id": "d82c0583-6cd2-41ef-86a2-f99fb2058727",
   "metadata": {
    "tags": []
   },
   "outputs": [],
   "source": [
    "for batch in dl_train:\n",
    "    break"
   ]
  },
  {
   "cell_type": "code",
   "execution_count": 25,
   "id": "7fac48ed-2916-4f8c-bdf6-e97ae117b7ee",
   "metadata": {
    "tags": []
   },
   "outputs": [
    {
     "data": {
      "text/plain": [
       "DataBatch(x=[2366, 9], edge_index=[2, 5100], edge_attr=[5100, 3], smiles=[100], y=[100], batch=[2366], ptr=[101])"
      ]
     },
     "execution_count": 25,
     "metadata": {},
     "output_type": "execute_result"
    }
   ],
   "source": [
    "batch"
   ]
  },
  {
   "cell_type": "code",
   "execution_count": 26,
   "id": "3c2fa540-bddd-48ff-bf02-fbd3bcf8e8aa",
   "metadata": {
    "tags": []
   },
   "outputs": [],
   "source": [
    "batch = batch.to(device)"
   ]
  },
  {
   "cell_type": "code",
   "execution_count": 27,
   "id": "3a0ffbfe-86fb-4cd9-9014-055af749d026",
   "metadata": {
    "tags": []
   },
   "outputs": [],
   "source": [
    "pred = model(batch).flatten()"
   ]
  },
  {
   "cell_type": "code",
   "execution_count": 28,
   "id": "9c18933a-8d9d-45eb-8333-bb0d66e1c254",
   "metadata": {
    "tags": []
   },
   "outputs": [
    {
     "data": {
      "text/plain": [
       "BCEWithLogitsLoss()"
      ]
     },
     "execution_count": 28,
     "metadata": {},
     "output_type": "execute_result"
    }
   ],
   "source": [
    "loss.to(device)"
   ]
  },
  {
   "cell_type": "code",
   "execution_count": 29,
   "id": "20156320-3ec5-42bc-a928-c3f9033f1a3d",
   "metadata": {
    "tags": []
   },
   "outputs": [
    {
     "data": {
      "text/plain": [
       "tensor(0.9469, device='cuda:0',\n",
       "       grad_fn=<BinaryCrossEntropyWithLogitsBackward0>)"
      ]
     },
     "execution_count": 29,
     "metadata": {},
     "output_type": "execute_result"
    }
   ],
   "source": [
    "loss(pred, batch.y)"
   ]
  },
  {
   "cell_type": "markdown",
   "id": "2241e314-8879-4eb2-b271-06418d2b0c7d",
   "metadata": {},
   "source": [
    "## Self distillation elements"
   ]
  },
  {
   "cell_type": "code",
   "execution_count": 30,
   "id": "ece43f5a-0bb4-4950-b0a0-6f106c64a298",
   "metadata": {
    "tags": []
   },
   "outputs": [],
   "source": [
    "# define number_to_pick\n",
    "number_to_pick = 100"
   ]
  },
  {
   "cell_type": "code",
   "execution_count": 31,
   "id": "1af18e1f-e744-4f8b-beed-cdd2e255f20e",
   "metadata": {
    "tags": []
   },
   "outputs": [],
   "source": [
    "# load data for self distillation\n",
    "selfdistillation_data = sd_utils.generate_gnn_sd_data(aid=aid)"
   ]
  },
  {
   "cell_type": "code",
   "execution_count": 32,
   "id": "c06ea51d-e406-4309-8f76-e89c529d5ad7",
   "metadata": {
    "tags": []
   },
   "outputs": [
    {
     "name": "stderr",
     "output_type": "stream",
     "text": [
      "100%|██████████████████████████████████████████████████████████████████████████████████████████████████████████████████████████████████████████████████████████████████████████████████████████████████████████████████████████████████████████████████████████████████████████████| 4455/4455 [01:05<00:00, 68.17it/s]\n"
     ]
    }
   ],
   "source": [
    "# get good elements to insert into training pool for student model\n",
    "selected, remaining = execution.self_distillation_procedure_1dim(\n",
    "    model=model, \n",
    "    self_distillation_data=selfdistillation_data, \n",
    "    number_to_pick=number_to_pick, \n",
    "    device=device, \n",
    "    correct_label=False, \n",
    "    batch_size=100\n",
    ")"
   ]
  },
  {
   "cell_type": "code",
   "execution_count": 33,
   "id": "7cdb4992-3429-44e7-ad04-f81504db111f",
   "metadata": {
    "tags": []
   },
   "outputs": [
    {
     "data": {
      "text/plain": [
       "[Data(x=[9, 9], edge_index=[2, 16], edge_attr=[16, 3], smiles='C(C(=O)C(=O)O)C(=O)O', y=[1]),\n",
       " Data(x=[10, 9], edge_index=[2, 18], edge_attr=[18, 3], smiles='C(C(C(=O)O)S)(C(=O)O)S', y=[1]),\n",
       " Data(x=[6, 9], edge_index=[2, 10], edge_attr=[10, 3], smiles='CC=CC(=O)O', y=[1]),\n",
       " Data(x=[6, 9], edge_index=[2, 10], edge_attr=[10, 3], smiles='C(=NO)C=NO', y=[1]),\n",
       " Data(x=[10, 9], edge_index=[2, 18], edge_attr=[18, 3], smiles='C(C(C(=O)O)O)(C(=O)O)O', y=[1]),\n",
       " Data(x=[9, 9], edge_index=[2, 16], edge_attr=[16, 3], smiles='C([C@H](C(=O)O)O)C(=O)O', y=[1]),\n",
       " Data(x=[4, 9], edge_index=[2, 6], edge_attr=[6, 3], smiles='C(=O)(N)O', y=[1]),\n",
       " Data(x=[6, 9], edge_index=[2, 10], edge_attr=[10, 3], smiles='C(=O)NNC=O', y=[1]),\n",
       " Data(x=[9, 9], edge_index=[2, 16], edge_attr=[16, 3], smiles='C(C(C(=O)O)O)C(=O)O', y=[1]),\n",
       " Data(x=[8, 9], edge_index=[2, 14], edge_attr=[14, 3], smiles='CC(C(=O)O)C(=O)O', y=[1]),\n",
       " Data(x=[12, 9], edge_index=[2, 22], edge_attr=[22, 3], smiles='C(/C(=C/C(=O)O)/C(=O)O)C(=O)O', y=[1]),\n",
       " Data(x=[10, 9], edge_index=[2, 18], edge_attr=[18, 3], smiles='[C@H](C(C(=O)O)N)(C(=O)O)O', y=[1]),\n",
       " Data(x=[10, 9], edge_index=[2, 18], edge_attr=[18, 3], smiles='[C@@H]([C@H](C(=O)O)O)(C(=O)O)O', y=[1]),\n",
       " Data(x=[14, 9], edge_index=[2, 26], edge_attr=[26, 3], smiles='[C@@H]([C@@H]([C@H](C(=O)O)O)O)([C@@H](C(=O)O)O)O', y=[1]),\n",
       " Data(x=[9, 9], edge_index=[2, 16], edge_attr=[16, 3], smiles='C=C(CC(=O)O)C(=O)O', y=[1]),\n",
       " Data(x=[4, 9], edge_index=[2, 6], edge_attr=[6, 3], smiles='C(=N)(N)[Se]', y=[1]),\n",
       " Data(x=[10, 9], edge_index=[2, 18], edge_attr=[18, 3], smiles='[C@@H]([C@@H](C(=O)O)O)(C(=O)O)N', y=[1]),\n",
       " Data(x=[7, 9], edge_index=[2, 12], edge_attr=[12, 3], smiles='C(C(=O)O)C(=O)O', y=[1]),\n",
       " Data(x=[4, 9], edge_index=[2, 6], edge_attr=[6, 3], smiles='O[Se](=O)O', y=[1]),\n",
       " Data(x=[7, 9], edge_index=[2, 12], edge_attr=[12, 3], smiles='C(=N)(N)N[N+](=O)[O-]', y=[1]),\n",
       " Data(x=[5, 9], edge_index=[2, 8], edge_attr=[8, 3], smiles='C=CC(=O)O', y=[1]),\n",
       " Data(x=[6, 9], edge_index=[2, 10], edge_attr=[10, 3], smiles='CC(=O)C(=O)O', y=[1]),\n",
       " Data(x=[6, 9], edge_index=[2, 10], edge_attr=[10, 3], smiles='C(=O)(C(=O)[O-])N', y=[1]),\n",
       " Data(x=[6, 9], edge_index=[2, 10], edge_attr=[10, 3], smiles='C(=O)(C(=O)O)O', y=[1]),\n",
       " Data(x=[10, 9], edge_index=[2, 18], edge_attr=[18, 3], smiles='[C@H]([C@@H](C(=O)O)O)(C(=O)O)N', y=[1]),\n",
       " Data(x=[6, 9], edge_index=[2, 10], edge_attr=[10, 3], smiles='C[C@H](C(=O)O)O', y=[1]),\n",
       " Data(x=[5, 9], edge_index=[2, 8], edge_attr=[8, 3], smiles='OS(=O)(=O)O', y=[1]),\n",
       " Data(x=[8, 9], edge_index=[2, 14], edge_attr=[14, 3], smiles='C(=O)(N)N=NC(=O)N', y=[1]),\n",
       " Data(x=[6, 9], edge_index=[2, 10], edge_attr=[10, 3], smiles='C(=N)(N)S(=O)O', y=[1]),\n",
       " Data(x=[6, 9], edge_index=[2, 10], edge_attr=[10, 3], smiles='CC(=C)C(=O)O', y=[1]),\n",
       " Data(x=[4, 9], edge_index=[2, 6], edge_attr=[6, 3], smiles='O=[Mo](=O)=O', y=[1]),\n",
       " Data(x=[5, 9], edge_index=[2, 8], edge_attr=[8, 3], smiles='C(C(=O)O)O', y=[1]),\n",
       " Data(x=[7, 9], edge_index=[2, 12], edge_attr=[12, 3], smiles='C(=C(Br)Br)C(=O)O', y=[1]),\n",
       " Data(x=[8, 9], edge_index=[2, 14], edge_attr=[14, 3], smiles='C(=O)(N)NNC(=O)N', y=[1]),\n",
       " Data(x=[8, 9], edge_index=[2, 14], edge_attr=[14, 3], smiles='C(=O)(N)/N=N/C(=O)N', y=[1]),\n",
       " Data(x=[17, 9], edge_index=[2, 34], edge_attr=[34, 3], smiles='C1[C@H]([C@@H]([C@@H]([C@H]1C(=O)O)C(=O)O)C(=O)O)C(=O)O', y=[1]),\n",
       " Data(x=[7, 9], edge_index=[2, 14], edge_attr=[14, 3], smiles='C1(=NC(=S)NN1)N', y=[1]),\n",
       " Data(x=[4, 9], edge_index=[2, 6], edge_attr=[6, 3], smiles='CC(=O)O', y=[1]),\n",
       " Data(x=[8, 9], edge_index=[2, 16], edge_attr=[16, 3], smiles='C1=NNC(=N1)C(=O)O', y=[1]),\n",
       " Data(x=[22, 9], edge_index=[2, 52], edge_attr=[52, 3], smiles='C12(C3(C4(C5(C3(C(C1(C5(C2(C4(Cl)Cl)Cl)Cl)Cl)(Cl)Cl)Cl)Cl)Cl)Cl)Cl', y=[1]),\n",
       " Data(x=[8, 9], edge_index=[2, 14], edge_attr=[14, 3], smiles='C(CC(=O)O)C(=O)O', y=[1]),\n",
       " Data(x=[7, 9], edge_index=[2, 12], edge_attr=[12, 3], smiles='C(=S)(N)NC(=S)N', y=[1]),\n",
       " Data(x=[7, 9], edge_index=[2, 12], edge_attr=[12, 3], smiles='C(/C=C/C(=O)O)O', y=[1]),\n",
       " Data(x=[11, 9], edge_index=[2, 22], edge_attr=[22, 3], smiles='C1=NNC(=N1)NC(=O)C(=O)O', y=[1]),\n",
       " Data(x=[18, 9], edge_index=[2, 36], edge_attr=[36, 3], smiles='C1=C(C(=CC(=C1C(=O)O)C(=O)O)C(=O)O)C(=O)O', y=[1]),\n",
       " Data(x=[5, 9], edge_index=[2, 8], edge_attr=[8, 3], smiles='C(C(=O)O)S', y=[1]),\n",
       " Data(x=[9, 9], edge_index=[2, 16], edge_attr=[16, 3], smiles='COC(=O)/C=C\\C(=O)O', y=[1]),\n",
       " Data(x=[7, 9], edge_index=[2, 14], edge_attr=[14, 3], smiles='C1(=NC(=NN1)N)N', y=[1]),\n",
       " Data(x=[8, 9], edge_index=[2, 16], edge_attr=[16, 3], smiles='C1=NNN=C1C(=O)O', y=[1]),\n",
       " Data(x=[9, 9], edge_index=[2, 16], edge_attr=[16, 3], smiles='C(C(C(=O)O)Cl)C(=O)O', y=[1]),\n",
       " Data(x=[10, 9], edge_index=[2, 18], edge_attr=[18, 3], smiles='C/C(=C\\C(=O)O)/CC(=O)O', y=[1]),\n",
       " Data(x=[6, 9], edge_index=[2, 10], edge_attr=[10, 3], smiles='C(=S)(C(=S)N)N', y=[1]),\n",
       " Data(x=[13, 9], edge_index=[2, 24], edge_attr=[24, 3], smiles='C([C@H]([C@H]([C@@H]([C@H](C(=O)O)O)O)O)O)O', y=[1]),\n",
       " Data(x=[17, 9], edge_index=[2, 34], edge_attr=[34, 3], smiles='C1(C(C(OC1C(=O)O)C(=O)O)C(=O)O)C(=O)O', y=[1]),\n",
       " Data(x=[9, 9], edge_index=[2, 16], edge_attr=[16, 3], smiles='C(P(=O)(O)O)P(=O)(O)O', y=[1]),\n",
       " Data(x=[10, 9], edge_index=[2, 18], edge_attr=[18, 3], smiles='CCOC(=O)C=CC(=O)O', y=[1]),\n",
       " Data(x=[10, 9], edge_index=[2, 20], edge_attr=[20, 3], smiles='C1[C@@H](N[C@@H]1C(=O)O)C(=O)O', y=[1]),\n",
       " Data(x=[15, 9], edge_index=[2, 30], edge_attr=[30, 3], smiles='C1=CC(=C(C(=C1)C(=O)O)C(=O)O)C(=O)O', y=[1]),\n",
       " Data(x=[9, 9], edge_index=[2, 18], edge_attr=[18, 3], smiles='C1(=O)NC(=O)NC(=O)N1', y=[1]),\n",
       " Data(x=[7, 9], edge_index=[2, 12], edge_attr=[12, 3], smiles='C(/C=C/C(=O)O)N', y=[1]),\n",
       " Data(x=[11, 9], edge_index=[2, 22], edge_attr=[22, 3], smiles='C1(=[N+](ON=C1N)[O-])/C(=N/O)/N', y=[1]),\n",
       " Data(x=[6, 9], edge_index=[2, 12], edge_attr=[12, 3], smiles='C1=NNC(=O)N1', y=[1]),\n",
       " Data(x=[8, 9], edge_index=[2, 16], edge_attr=[16, 3], smiles='C1(=O)C(=O)NC(=O)N1', y=[1]),\n",
       " Data(x=[15, 9], edge_index=[2, 30], edge_attr=[30, 3], smiles='C1=CC(=C(C=C1C(=O)O)C(=O)O)C(=O)O', y=[1]),\n",
       " Data(x=[10, 9], edge_index=[2, 18], edge_attr=[18, 3], smiles='C(C(C(=O)O)N)P(=O)(O)O', y=[1]),\n",
       " Data(x=[9, 9], edge_index=[2, 16], edge_attr=[16, 3], smiles='C(C(=O)O)NCC(=O)O', y=[1]),\n",
       " Data(x=[9, 9], edge_index=[2, 18], edge_attr=[18, 3], smiles='C1(=NC(=NC(=N1)N)N)N', y=[1]),\n",
       " Data(x=[13, 9], edge_index=[2, 24], edge_attr=[24, 3], smiles='C(CC(=O)O)[C@@H](C(=O)O)N=C(N)N', y=[1]),\n",
       " Data(x=[13, 9], edge_index=[2, 24], edge_attr=[24, 3], smiles='C(CC(=O)O)[C@@H](C(=O)O)NC(=O)N', y=[1]),\n",
       " Data(x=[9, 9], edge_index=[2, 16], edge_attr=[16, 3], smiles='C(C(=O)O)OCC(=O)O', y=[1]),\n",
       " Data(x=[11, 9], edge_index=[2, 22], edge_attr=[22, 3], smiles='C1[C@@H]([C@H]1C(=O)O)[C@@H](C(=O)O)N', y=[1]),\n",
       " Data(x=[11, 9], edge_index=[2, 20], edge_attr=[20, 3], smiles='C([C@@H](C(=O)O)N)OP(=O)(O)O', y=[1]),\n",
       " Data(x=[13, 9], edge_index=[2, 26], edge_attr=[26, 3], smiles='[C@@H]1([C@@H]([C@H](O[C@H]([C@@H]1O)O)C(=O)N)O)O', y=[1]),\n",
       " Data(x=[13, 9], edge_index=[2, 24], edge_attr=[24, 3], smiles='C(CC(=O)O)[C@H](C(=O)O)N=C(N)N', y=[1]),\n",
       " Data(x=[12, 9], edge_index=[2, 24], edge_attr=[24, 3], smiles='C1=CC(=NC(=C1)C(=O)O)C(=O)O', y=[1]),\n",
       " Data(x=[9, 9], edge_index=[2, 16], edge_attr=[16, 3], smiles='C(CC(=O)O)CC(=O)O', y=[1]),\n",
       " Data(x=[15, 9], edge_index=[2, 30], edge_attr=[30, 3], smiles='C1=C(C=C(C=C1C(=O)O)C(=O)O)C(=O)O', y=[1]),\n",
       " Data(x=[13, 9], edge_index=[2, 24], edge_attr=[24, 3], smiles='C(CC(=O)O)C(C(=O)O)NC(=O)N', y=[1]),\n",
       " Data(x=[7, 9], edge_index=[2, 12], edge_attr=[12, 3], smiles='CC(=CC(=O)O)C', y=[1]),\n",
       " Data(x=[9, 9], edge_index=[2, 16], edge_attr=[16, 3], smiles='C(=O)/C(=C(\\C(=O)O)/Cl)/Cl', y=[1]),\n",
       " Data(x=[9, 9], edge_index=[2, 18], edge_attr=[18, 3], smiles='C1(=S)NN=C(N1N)NN', y=[1]),\n",
       " Data(x=[11, 9], edge_index=[2, 22], edge_attr=[22, 3], smiles='C1[C@@H]([C@@H]1C(=O)O)[C@@H](C(=O)O)N', y=[1]),\n",
       " Data(x=[13, 9], edge_index=[2, 24], edge_attr=[24, 3], smiles='C=C(N)N[C@@H](CCC(=O)O)C(=O)O', y=[1]),\n",
       " Data(x=[11, 9], edge_index=[2, 20], edge_attr=[20, 3], smiles='C([C@H](C(=O)O)N)OP(=O)(O)O', y=[1]),\n",
       " Data(x=[16, 9], edge_index=[2, 32], edge_attr=[32, 3], smiles='C1=CC(=CC=C1C=CC(=O)O)C=CC(=O)O', y=[1]),\n",
       " Data(x=[12, 9], edge_index=[2, 22], edge_attr=[22, 3], smiles='C(C(C(=O)O)S(=O)(=O)O)C(=O)O', y=[1]),\n",
       " Data(x=[8, 9], edge_index=[2, 14], edge_attr=[14, 3], smiles='C(#CC(=O)[O-])C(=O)O', y=[1]),\n",
       " Data(x=[14, 9], edge_index=[2, 28], edge_attr=[28, 3], smiles='C1(C(C1C(=O)O)C(=O)O)[C@@H](C(=O)O)N', y=[1]),\n",
       " Data(x=[7, 9], edge_index=[2, 12], edge_attr=[12, 3], smiles='C([C@H](C(=O)O)N)O', y=[1]),\n",
       " Data(x=[11, 9], edge_index=[2, 22], edge_attr=[22, 3], smiles='C1(=NC(=O)NC(=O)N1)C(=O)[O-]', y=[1]),\n",
       " Data(x=[9, 9], edge_index=[2, 16], edge_attr=[16, 3], smiles='C([C@H](C(=O)O)N)C(=O)N', y=[1]),\n",
       " Data(x=[8, 9], edge_index=[2, 16], edge_attr=[16, 3], smiles='C1=C(NN=C1)C(=O)O', y=[1]),\n",
       " Data(x=[14, 9], edge_index=[2, 26], edge_attr=[26, 3], smiles='C(CC(=O)O)C(CP(=O)(O)O)C(=O)O', y=[1]),\n",
       " Data(x=[11, 9], edge_index=[2, 22], edge_attr=[22, 3], smiles='C1[C@H]([C@@H]1C(=O)O)[C@H](C(=O)O)N', y=[1]),\n",
       " Data(x=[13, 9], edge_index=[2, 26], edge_attr=[26, 3], smiles='[C@H]1([C@H]([C@@H](OC([C@@H]1O)C(=O)N)O)O)O', y=[1]),\n",
       " Data(x=[10, 9], edge_index=[2, 18], edge_attr=[18, 3], smiles='C(=O)O[Al](OC=O)OC=O', y=[1]),\n",
       " Data(x=[8, 9], edge_index=[2, 14], edge_attr=[14, 3], smiles='C[C@H]([C@@H](C(=O)O)N)O', y=[1]),\n",
       " Data(x=[10, 9], edge_index=[2, 20], edge_attr=[20, 3], smiles='C1(=C(N=C(NC1=O)N)N)N', y=[1]),\n",
       " Data(x=[11, 9], edge_index=[2, 22], edge_attr=[22, 3], smiles='C1CC1NC(=O)/C=C/C(=O)O', y=[1]),\n",
       " Data(x=[11, 9], edge_index=[2, 22], edge_attr=[22, 3], smiles='C1[C@@H](CN[C@H]1C(=O)O)C(=O)O', y=[1])]"
      ]
     },
     "execution_count": 33,
     "metadata": {},
     "output_type": "execute_result"
    }
   ],
   "source": [
    "selected"
   ]
  },
  {
   "cell_type": "code",
   "execution_count": 34,
   "id": "b26ef592-6ead-4584-af27-38bb6a5c3ec5",
   "metadata": {
    "tags": []
   },
   "outputs": [],
   "source": [
    "label_analysis = np.array([data.y.numpy() for data in selected])"
   ]
  },
  {
   "cell_type": "code",
   "execution_count": 35,
   "id": "08e4ddb6-a904-484c-828f-d47e63553067",
   "metadata": {
    "tags": []
   },
   "outputs": [
    {
     "data": {
      "text/plain": [
       "0.010000615119934083"
      ]
     },
     "execution_count": 35,
     "metadata": {},
     "output_type": "execute_result"
    }
   ],
   "source": [
    "label_analysis.sum()/label_analysis.shape[0]"
   ]
  },
  {
   "cell_type": "code",
   "execution_count": 36,
   "id": "622247da-4693-4ca1-ad48-b6fde2517462",
   "metadata": {
    "tags": []
   },
   "outputs": [],
   "source": [
    "# todo: ausbauen auf viele epochen und student - teacher übergang. außerdem begutachten ob positive oder negative label bevorzugt werden sollten"
   ]
  }
 ],
 "metadata": {
  "kernelspec": {
   "display_name": "Python 3 (ipykernel)",
   "language": "python",
   "name": "python3"
  },
  "language_info": {
   "codemirror_mode": {
    "name": "ipython",
    "version": 3
   },
   "file_extension": ".py",
   "mimetype": "text/x-python",
   "name": "python",
   "nbconvert_exporter": "python",
   "pygments_lexer": "ipython3",
   "version": "3.9.16"
  }
 },
 "nbformat": 4,
 "nbformat_minor": 5
}
