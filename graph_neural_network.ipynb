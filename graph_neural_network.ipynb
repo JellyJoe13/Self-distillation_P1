{
 "cells": [
  {
   "cell_type": "markdown",
   "id": "2f2c59d5-e9d2-4330-ae6f-67f20a6332f5",
   "metadata": {},
   "source": [
    "# Graph Neural Network"
   ]
  },
  {
   "cell_type": "markdown",
   "id": "d0e46adb-556e-4ac7-8ed8-b39e9375f4a0",
   "metadata": {},
   "source": [
    "## Importing"
   ]
  },
  {
   "cell_type": "code",
   "execution_count": 85,
   "id": "89edf3ff-a4d6-4ecf-ade5-60b4fcef9e5f",
   "metadata": {
    "tags": []
   },
   "outputs": [],
   "source": [
    "from selfdist_toolkit.pyg_tools import gnn_load, GIN_nn, execution\n",
    "import pandas as pd\n",
    "import torch\n",
    "import torch_geometric\n",
    "from sklearn.model_selection import StratifiedShuffleSplit\n",
    "import numpy as np"
   ]
  },
  {
   "cell_type": "markdown",
   "id": "cf60dd61-0662-429f-bbe8-ca0b446edcfe",
   "metadata": {},
   "source": [
    "## Loading aid_list"
   ]
  },
  {
   "cell_type": "code",
   "execution_count": 86,
   "id": "30ba2ee3-fa7d-49ac-9a97-e0eb819fbc36",
   "metadata": {
    "tags": []
   },
   "outputs": [],
   "source": [
    "aid_list = pd.read_csv(\"results/random_forest/experiments_check/chem-desc_good-aid_1.csv\").aid.to_numpy().astype(int)"
   ]
  },
  {
   "cell_type": "code",
   "execution_count": 87,
   "id": "bb81c8da-72aa-46c6-b553-923471b59559",
   "metadata": {
    "tags": []
   },
   "outputs": [
    {
     "data": {
      "text/plain": [
       "array([    884,     891,     899,     914,    1418,    1431,    1770,\n",
       "          1771,    1795,  493073,  493102,  493177,  493191,  493240,\n",
       "        588834,  651741,  651812,  651814,  686978,  687022,  720691,\n",
       "        743036,  743040,  743065, 1053173, 1259381, 1346982])"
      ]
     },
     "execution_count": 87,
     "metadata": {},
     "output_type": "execute_result"
    }
   ],
   "source": [
    "aid_list"
   ]
  },
  {
   "cell_type": "code",
   "execution_count": 88,
   "id": "4aaed0a7-8050-4c1e-a884-919d975a058b",
   "metadata": {
    "tags": []
   },
   "outputs": [],
   "source": [
    "# for one aid now\n",
    "aid = aid_list[0]\n",
    "random_state = 131313"
   ]
  },
  {
   "cell_type": "markdown",
   "id": "e6bcb871-5cf1-4047-88ee-a660a24d4eec",
   "metadata": {},
   "source": [
    "## Select mode: smooth for 2 dim label and hard for 1-dim label"
   ]
  },
  {
   "cell_type": "code",
   "execution_count": 89,
   "id": "d5916d66-9a4e-4fa1-85cd-14abba879aff",
   "metadata": {
    "tags": []
   },
   "outputs": [],
   "source": [
    "# mode = \"smooth\"\n",
    "mode = \"hard\""
   ]
  },
  {
   "cell_type": "markdown",
   "id": "1dc9c992-b705-4f70-aeaa-01f5b7f26d9e",
   "metadata": {},
   "source": [
    "## Load pytorch data"
   ]
  },
  {
   "cell_type": "code",
   "execution_count": 90,
   "id": "738f2a3a-efa6-4bcf-8b8d-75c4e16c2e61",
   "metadata": {
    "tags": []
   },
   "outputs": [],
   "source": [
    "whole_data = gnn_load.load_pyg_data_aid(aid=aid, label_type=mode, do_in_parallel=True)"
   ]
  },
  {
   "cell_type": "code",
   "execution_count": 91,
   "id": "334a1a7c-ab2e-47ae-90bf-73a10075d6e5",
   "metadata": {
    "tags": []
   },
   "outputs": [
    {
     "data": {
      "text/plain": [
       "[Data(x=[19, 9], edge_index=[2, 42], edge_attr=[42, 3], smiles='CC1(C=CC2=C(O1)C3=C(C=CC(=C3)OC)NC2=O)C', y=[1]),\n",
       " Data(x=[10, 9], edge_index=[2, 20], edge_attr=[20, 3], smiles='C1CN=C(N1)SCC(=O)O', y=[1]),\n",
       " Data(x=[29, 9], edge_index=[2, 64], edge_attr=[64, 3], smiles='CC(=O)OCC(=O)[C@]1(CC[C@@H]2[C@@]1(CC(=O)[C@H]3[C@H]2CCC4=CC(=O)CC[C@]34C)C)O', y=[1]),\n",
       " Data(x=[25, 9], edge_index=[2, 56], edge_attr=[56, 3], smiles='C[C@]12CCC(=O)C=C1CC[C@@H]3[C@@H]2CC[C@]4([C@H]3CC[C@@]4(C(=O)CO)O)C', y=[1])]"
      ]
     },
     "execution_count": 91,
     "metadata": {},
     "output_type": "execute_result"
    }
   ],
   "source": [
    "whole_data[:4]"
   ]
  },
  {
   "cell_type": "code",
   "execution_count": 98,
   "id": "f6dff1f3-fdef-4cb2-a935-5d4c02fd4449",
   "metadata": {
    "tags": []
   },
   "outputs": [],
   "source": [
    "# build labels for split\n",
    "labels_hard = np.array([\n",
    "    data.y.detach().cpu().numpy()\n",
    "    for data in whole_data\n",
    "]).flatten().astype(int)"
   ]
  },
  {
   "cell_type": "code",
   "execution_count": 99,
   "id": "e046a4f5-b1eb-461e-8734-8a5435e74d53",
   "metadata": {
    "tags": []
   },
   "outputs": [
    {
     "data": {
      "text/plain": [
       "(9593,)"
      ]
     },
     "execution_count": 99,
     "metadata": {},
     "output_type": "execute_result"
    }
   ],
   "source": [
    "labels_hard.shape"
   ]
  },
  {
   "cell_type": "code",
   "execution_count": 100,
   "id": "863b1a20-0393-4474-99ae-e0c374afbca5",
   "metadata": {
    "tags": []
   },
   "outputs": [
    {
     "data": {
      "text/plain": [
       "3274"
      ]
     },
     "execution_count": 100,
     "metadata": {},
     "output_type": "execute_result"
    }
   ],
   "source": [
    "labels_hard.sum()"
   ]
  },
  {
   "cell_type": "code",
   "execution_count": 101,
   "id": "091538ef-e36a-4840-9209-23250f41a4b5",
   "metadata": {
    "tags": []
   },
   "outputs": [],
   "source": [
    "# data splitting\n",
    "for train_idx, test_idx in StratifiedShuffleSplit(n_splits=1, random_state=random_state, test_size=0.2).split(whole_data, labels_hard):\n",
    "    break"
   ]
  },
  {
   "cell_type": "code",
   "execution_count": 102,
   "id": "033edddc-a5e0-4e18-a9fa-851006dfea24",
   "metadata": {
    "tags": []
   },
   "outputs": [
    {
     "data": {
      "text/plain": [
       "0.34128225175918686"
      ]
     },
     "execution_count": 102,
     "metadata": {},
     "output_type": "execute_result"
    }
   ],
   "source": [
    "labels_hard[train_idx].sum()/len(train_idx)"
   ]
  },
  {
   "cell_type": "code",
   "execution_count": 103,
   "id": "24909250-85d7-4e78-9fc7-2f3b776427eb",
   "metadata": {
    "tags": []
   },
   "outputs": [
    {
     "data": {
      "text/plain": [
       "0.341323606044815"
      ]
     },
     "execution_count": 103,
     "metadata": {},
     "output_type": "execute_result"
    }
   ],
   "source": [
    "labels_hard[test_idx].sum()/len(test_idx)"
   ]
  },
  {
   "cell_type": "code",
   "execution_count": 118,
   "id": "29a4f223-151f-4d79-98f4-5a44efeb3384",
   "metadata": {
    "tags": []
   },
   "outputs": [],
   "source": [
    "# create the data loader\n",
    "dl_train = torch_geometric.loader.DataLoader([whole_data[idx] for idx in train_idx])\n",
    "dl_test = torch_geometric.loader.DataLoader(np.array(whole_data, dtype=object)[test_idx])"
   ]
  },
  {
   "cell_type": "markdown",
   "id": "46f9181d-2cfa-43d4-a1f2-b3a88bab476c",
   "metadata": {
    "tags": []
   },
   "source": [
    "## Instantiate model"
   ]
  },
  {
   "cell_type": "code",
   "execution_count": 112,
   "id": "c19960dd-112f-41e6-9c21-c015198a3e7a",
   "metadata": {
    "tags": []
   },
   "outputs": [],
   "source": [
    "# GNN model\n",
    "model = GIN_nn.GIN_basic(1)"
   ]
  },
  {
   "cell_type": "code",
   "execution_count": 113,
   "id": "aadbf418-544f-4a41-85d6-4e8271a377b1",
   "metadata": {
    "tags": []
   },
   "outputs": [],
   "source": [
    "# optimizer\n",
    "optimizer = torch.optim.Adam(model.parameters(), lr=0.001)"
   ]
  },
  {
   "cell_type": "code",
   "execution_count": 114,
   "id": "2bb59225-a14c-4c1e-97eb-5b201a39a571",
   "metadata": {
    "tags": []
   },
   "outputs": [],
   "source": [
    "# loss\n",
    "loss = torch.nn.BCEWithLogitsLoss(pos_weight=torch.tensor([len(train_idx)/labels_hard[train_idx].sum()]))"
   ]
  },
  {
   "cell_type": "code",
   "execution_count": 115,
   "id": "2fa041b0-4c46-49a2-bb7e-a8641c1768e6",
   "metadata": {
    "tags": []
   },
   "outputs": [],
   "source": [
    "# device\n",
    "device = torch.device('cpu')"
   ]
  },
  {
   "cell_type": "code",
   "execution_count": 120,
   "id": "828d0f75-716b-4126-8b6f-e6380414d527",
   "metadata": {
    "tags": []
   },
   "outputs": [
    {
     "name": "stderr",
     "output_type": "stream",
     "text": [
      "  0%|                                                                                                                                                                                                                                                                                         | 0/7674 [00:00<?, ?it/s]\n"
     ]
    },
    {
     "ename": "ValueError",
     "evalue": "Target size (torch.Size([1])) must be the same as input size (torch.Size([1, 1]))",
     "output_type": "error",
     "traceback": [
      "\u001b[1;31m---------------------------------------------------------------------------\u001b[0m",
      "\u001b[1;31mValueError\u001b[0m                                Traceback (most recent call last)",
      "Cell \u001b[1;32mIn[120], line 2\u001b[0m\n\u001b[0;32m      1\u001b[0m \u001b[38;5;66;03m# training:\u001b[39;00m\n\u001b[1;32m----> 2\u001b[0m \u001b[43mexecution\u001b[49m\u001b[38;5;241;43m.\u001b[39;49m\u001b[43mtraining\u001b[49m\u001b[43m(\u001b[49m\u001b[43mmodel\u001b[49m\u001b[43m,\u001b[49m\u001b[43m \u001b[49m\u001b[43mdl_train\u001b[49m\u001b[43m,\u001b[49m\u001b[43m \u001b[49m\u001b[43mdevice\u001b[49m\u001b[43m,\u001b[49m\u001b[43m \u001b[49m\u001b[43moptimizer\u001b[49m\u001b[43m,\u001b[49m\u001b[43m \u001b[49m\u001b[43mloss\u001b[49m\u001b[43m)\u001b[49m\n",
      "File \u001b[1;32mD:\\DATEN\\Self-distillation_P1\\selfdist_toolkit\\pyg_tools\\execution.py:68\u001b[0m, in \u001b[0;36mtraining\u001b[1;34m(model, trainings_data, device, optimizer, loss_criterion, batch_size)\u001b[0m\n\u001b[0;32m     65\u001b[0m y_pred \u001b[38;5;241m=\u001b[39m model(batch)\n\u001b[0;32m     67\u001b[0m \u001b[38;5;66;03m# use the loss criterion to generate the loss\u001b[39;00m\n\u001b[1;32m---> 68\u001b[0m loss \u001b[38;5;241m=\u001b[39m \u001b[43mloss_criterion\u001b[49m\u001b[43m(\u001b[49m\u001b[43my_pred\u001b[49m\u001b[43m,\u001b[49m\u001b[43m \u001b[49m\u001b[43mbatch\u001b[49m\u001b[38;5;241;43m.\u001b[39;49m\u001b[43my\u001b[49m\u001b[43m)\u001b[49m\n\u001b[0;32m     70\u001b[0m \u001b[38;5;66;03m# train\u001b[39;00m\n\u001b[0;32m     71\u001b[0m loss\u001b[38;5;241m.\u001b[39mbackward()\n",
      "File \u001b[1;32m~\\anaconda3\\envs\\praktikum\\lib\\site-packages\\torch\\nn\\modules\\module.py:1190\u001b[0m, in \u001b[0;36mModule._call_impl\u001b[1;34m(self, *input, **kwargs)\u001b[0m\n\u001b[0;32m   1186\u001b[0m \u001b[38;5;66;03m# If we don't have any hooks, we want to skip the rest of the logic in\u001b[39;00m\n\u001b[0;32m   1187\u001b[0m \u001b[38;5;66;03m# this function, and just call forward.\u001b[39;00m\n\u001b[0;32m   1188\u001b[0m \u001b[38;5;28;01mif\u001b[39;00m \u001b[38;5;129;01mnot\u001b[39;00m (\u001b[38;5;28mself\u001b[39m\u001b[38;5;241m.\u001b[39m_backward_hooks \u001b[38;5;129;01mor\u001b[39;00m \u001b[38;5;28mself\u001b[39m\u001b[38;5;241m.\u001b[39m_forward_hooks \u001b[38;5;129;01mor\u001b[39;00m \u001b[38;5;28mself\u001b[39m\u001b[38;5;241m.\u001b[39m_forward_pre_hooks \u001b[38;5;129;01mor\u001b[39;00m _global_backward_hooks\n\u001b[0;32m   1189\u001b[0m         \u001b[38;5;129;01mor\u001b[39;00m _global_forward_hooks \u001b[38;5;129;01mor\u001b[39;00m _global_forward_pre_hooks):\n\u001b[1;32m-> 1190\u001b[0m     \u001b[38;5;28;01mreturn\u001b[39;00m forward_call(\u001b[38;5;241m*\u001b[39m\u001b[38;5;28minput\u001b[39m, \u001b[38;5;241m*\u001b[39m\u001b[38;5;241m*\u001b[39mkwargs)\n\u001b[0;32m   1191\u001b[0m \u001b[38;5;66;03m# Do not call functions when jit is used\u001b[39;00m\n\u001b[0;32m   1192\u001b[0m full_backward_hooks, non_full_backward_hooks \u001b[38;5;241m=\u001b[39m [], []\n",
      "File \u001b[1;32m~\\anaconda3\\envs\\praktikum\\lib\\site-packages\\torch\\nn\\modules\\loss.py:720\u001b[0m, in \u001b[0;36mBCEWithLogitsLoss.forward\u001b[1;34m(self, input, target)\u001b[0m\n\u001b[0;32m    719\u001b[0m \u001b[38;5;28;01mdef\u001b[39;00m \u001b[38;5;21mforward\u001b[39m(\u001b[38;5;28mself\u001b[39m, \u001b[38;5;28minput\u001b[39m: Tensor, target: Tensor) \u001b[38;5;241m-\u001b[39m\u001b[38;5;241m>\u001b[39m Tensor:\n\u001b[1;32m--> 720\u001b[0m     \u001b[38;5;28;01mreturn\u001b[39;00m \u001b[43mF\u001b[49m\u001b[38;5;241;43m.\u001b[39;49m\u001b[43mbinary_cross_entropy_with_logits\u001b[49m\u001b[43m(\u001b[49m\u001b[38;5;28;43minput\u001b[39;49m\u001b[43m,\u001b[49m\u001b[43m \u001b[49m\u001b[43mtarget\u001b[49m\u001b[43m,\u001b[49m\n\u001b[0;32m    721\u001b[0m \u001b[43m                                              \u001b[49m\u001b[38;5;28;43mself\u001b[39;49m\u001b[38;5;241;43m.\u001b[39;49m\u001b[43mweight\u001b[49m\u001b[43m,\u001b[49m\n\u001b[0;32m    722\u001b[0m \u001b[43m                                              \u001b[49m\u001b[43mpos_weight\u001b[49m\u001b[38;5;241;43m=\u001b[39;49m\u001b[38;5;28;43mself\u001b[39;49m\u001b[38;5;241;43m.\u001b[39;49m\u001b[43mpos_weight\u001b[49m\u001b[43m,\u001b[49m\n\u001b[0;32m    723\u001b[0m \u001b[43m                                              \u001b[49m\u001b[43mreduction\u001b[49m\u001b[38;5;241;43m=\u001b[39;49m\u001b[38;5;28;43mself\u001b[39;49m\u001b[38;5;241;43m.\u001b[39;49m\u001b[43mreduction\u001b[49m\u001b[43m)\u001b[49m\n",
      "File \u001b[1;32m~\\anaconda3\\envs\\praktikum\\lib\\site-packages\\torch\\nn\\functional.py:3160\u001b[0m, in \u001b[0;36mbinary_cross_entropy_with_logits\u001b[1;34m(input, target, weight, size_average, reduce, reduction, pos_weight)\u001b[0m\n\u001b[0;32m   3157\u001b[0m     reduction_enum \u001b[38;5;241m=\u001b[39m _Reduction\u001b[38;5;241m.\u001b[39mget_enum(reduction)\n\u001b[0;32m   3159\u001b[0m \u001b[38;5;28;01mif\u001b[39;00m \u001b[38;5;129;01mnot\u001b[39;00m (target\u001b[38;5;241m.\u001b[39msize() \u001b[38;5;241m==\u001b[39m \u001b[38;5;28minput\u001b[39m\u001b[38;5;241m.\u001b[39msize()):\n\u001b[1;32m-> 3160\u001b[0m     \u001b[38;5;28;01mraise\u001b[39;00m \u001b[38;5;167;01mValueError\u001b[39;00m(\u001b[38;5;124m\"\u001b[39m\u001b[38;5;124mTarget size (\u001b[39m\u001b[38;5;132;01m{}\u001b[39;00m\u001b[38;5;124m) must be the same as input size (\u001b[39m\u001b[38;5;132;01m{}\u001b[39;00m\u001b[38;5;124m)\u001b[39m\u001b[38;5;124m\"\u001b[39m\u001b[38;5;241m.\u001b[39mformat(target\u001b[38;5;241m.\u001b[39msize(), \u001b[38;5;28minput\u001b[39m\u001b[38;5;241m.\u001b[39msize()))\n\u001b[0;32m   3162\u001b[0m \u001b[38;5;28;01mreturn\u001b[39;00m torch\u001b[38;5;241m.\u001b[39mbinary_cross_entropy_with_logits(\u001b[38;5;28minput\u001b[39m, target, weight, pos_weight, reduction_enum)\n",
      "\u001b[1;31mValueError\u001b[0m: Target size (torch.Size([1])) must be the same as input size (torch.Size([1, 1]))"
     ]
    }
   ],
   "source": [
    "# training:\n",
    "execution.training(model, dl_train, device, optimizer, loss)"
   ]
  },
  {
   "cell_type": "code",
   "execution_count": 121,
   "id": "9c748a9e-8edc-46b1-be90-6f9377717f7a",
   "metadata": {
    "tags": []
   },
   "outputs": [],
   "source": [
    "for batch in torch_geometric.loader.DataLoader(whole_data, batch_size=5):\n",
    "    break"
   ]
  },
  {
   "cell_type": "code",
   "execution_count": 122,
   "id": "e535ab59-52a7-442f-9170-80c0d5c44d9e",
   "metadata": {
    "tags": []
   },
   "outputs": [
    {
     "data": {
      "text/plain": [
       "DataBatch(x=[96, 9], edge_index=[2, 212], edge_attr=[212, 3], smiles=[5], y=[5], batch=[96], ptr=[6])"
      ]
     },
     "execution_count": 122,
     "metadata": {},
     "output_type": "execute_result"
    }
   ],
   "source": [
    "batch"
   ]
  },
  {
   "cell_type": "code",
   "execution_count": 123,
   "id": "b2b6340a-5c75-4570-885d-4c6df3be38a3",
   "metadata": {
    "tags": []
   },
   "outputs": [
    {
     "data": {
      "text/plain": [
       "tensor([[-0.2602],\n",
       "        [ 0.5218],\n",
       "        [ 0.1675],\n",
       "        [ 0.3979],\n",
       "        [-0.2678]], grad_fn=<AddmmBackward0>)"
      ]
     },
     "execution_count": 123,
     "metadata": {},
     "output_type": "execute_result"
    }
   ],
   "source": [
    "model(batch)"
   ]
  }
 ],
 "metadata": {
  "kernelspec": {
   "display_name": "Python 3 (ipykernel)",
   "language": "python",
   "name": "python3"
  },
  "language_info": {
   "codemirror_mode": {
    "name": "ipython",
    "version": 3
   },
   "file_extension": ".py",
   "mimetype": "text/x-python",
   "name": "python",
   "nbconvert_exporter": "python",
   "pygments_lexer": "ipython3",
   "version": "3.9.16"
  }
 },
 "nbformat": 4,
 "nbformat_minor": 5
}
