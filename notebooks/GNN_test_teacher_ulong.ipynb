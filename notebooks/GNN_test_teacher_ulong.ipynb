{
 "cells": [
  {
   "cell_type": "markdown",
   "id": "f91c75dc-13da-4ba7-b3cf-073321d8f976",
   "metadata": {},
   "source": [
    "# Graph Neural Network test teacher"
   ]
  },
  {
   "cell_type": "markdown",
   "id": "70b0b741-4708-4953-ac45-010196c26c2b",
   "metadata": {},
   "source": [
    "## Importing"
   ]
  },
  {
   "cell_type": "code",
   "execution_count": 1,
   "id": "a7d933c5-7804-498a-a866-7986d27111fa",
   "metadata": {
    "tags": []
   },
   "outputs": [],
   "source": [
    "import sys\n",
    "sys.path.append('../')"
   ]
  },
  {
   "cell_type": "code",
   "execution_count": 2,
   "id": "119dbbbe-8f0f-463f-a2dd-d3f331e03c0d",
   "metadata": {
    "tags": []
   },
   "outputs": [
    {
     "name": "stderr",
     "output_type": "stream",
     "text": [
      "C:\\Users\\johan\\anaconda3\\envs\\praktikum\\lib\\site-packages\\tqdm\\auto.py:21: TqdmWarning: IProgress not found. Please update jupyter and ipywidgets. See https://ipywidgets.readthedocs.io/en/stable/user_install.html\n",
      "  from .autonotebook import tqdm as notebook_tqdm\n"
     ]
    }
   ],
   "source": [
    "from selfdist_toolkit.pyg_tools import gnn_load, GIN_nn, execution, sd_utils, accuracy\n",
    "import pandas as pd\n",
    "import torch\n",
    "import torch_geometric\n",
    "from sklearn.model_selection import StratifiedShuffleSplit\n",
    "import numpy as np\n",
    "from tqdm import tqdm\n",
    "import matplotlib.pyplot as plt\n",
    "import os"
   ]
  },
  {
   "cell_type": "markdown",
   "id": "ff2f32cd-6b16-4351-ac12-7e7e673fd390",
   "metadata": {},
   "source": [
    "## Data loading (aid list)"
   ]
  },
  {
   "cell_type": "code",
   "execution_count": 3,
   "id": "29e1714a-ca4b-4a4b-90b8-df569df3aef0",
   "metadata": {
    "tags": []
   },
   "outputs": [],
   "source": [
    "aid_list = pd.read_csv(\"../results/random_forest/experiments_check/chem-desc_good-aid_1.csv\").aid.to_numpy().astype(int)"
   ]
  },
  {
   "cell_type": "code",
   "execution_count": 4,
   "id": "f231e521-6a55-45dc-82ef-b062928bd0e3",
   "metadata": {
    "tags": []
   },
   "outputs": [
    {
     "data": {
      "text/plain": [
       "array([    884,     891,     899,     914,    1418,    1431,    1770,\n",
       "          1771,    1795,  493073,  493102,  493177,  493191,  493240,\n",
       "        588834,  651741,  651812,  651814,  686978,  687022,  720691,\n",
       "        743036,  743040,  743065, 1053173, 1259381, 1346982])"
      ]
     },
     "execution_count": 4,
     "metadata": {},
     "output_type": "execute_result"
    }
   ],
   "source": [
    "aid_list"
   ]
  },
  {
   "cell_type": "markdown",
   "id": "86b4a070-315d-4f9f-b923-ea29429ec706",
   "metadata": {},
   "source": [
    "## Data loading (all molecules for self distillation)"
   ]
  },
  {
   "cell_type": "code",
   "execution_count": 5,
   "id": "74470de6-100c-4f95-b3d5-dd64cbb50a5e",
   "metadata": {
    "tags": []
   },
   "outputs": [],
   "source": [
    "# get list of all molecules as pyg elements\n",
    "all_molec_list = gnn_load.load_all_pyg(path_data=\"../data/\")"
   ]
  },
  {
   "cell_type": "code",
   "execution_count": 6,
   "id": "e7f36787-036a-4a14-a901-9bb3bcb4397b",
   "metadata": {
    "tags": []
   },
   "outputs": [],
   "source": [
    "# load all the smiles as string list\n",
    "all_smiles = np.array([mol.smiles for mol in all_molec_list], dtype=str)"
   ]
  },
  {
   "cell_type": "markdown",
   "id": "989ea429-9c6f-4935-9cbd-9c8b6bc1e404",
   "metadata": {},
   "source": [
    "## Procedure environment setting"
   ]
  },
  {
   "cell_type": "code",
   "execution_count": 7,
   "id": "63066a98-c85c-4178-850c-6802a834c613",
   "metadata": {
    "tags": []
   },
   "outputs": [],
   "source": [
    "# number epochs\n",
    "epochs = 3000"
   ]
  },
  {
   "cell_type": "code",
   "execution_count": 8,
   "id": "9ae7e952-ba4f-453e-acb2-c392f2295e6d",
   "metadata": {
    "tags": []
   },
   "outputs": [],
   "source": [
    "# random state where we want to set it\n",
    "random_state = 131313"
   ]
  },
  {
   "cell_type": "code",
   "execution_count": 9,
   "id": "fd7953f8-6b8e-410d-873f-a30f7716c0d2",
   "metadata": {
    "tags": []
   },
   "outputs": [],
   "source": [
    "# hard mode - soft mode is actually deprecated\n",
    "mode = \"hard\""
   ]
  },
  {
   "cell_type": "code",
   "execution_count": 10,
   "id": "db6a175e-fc23-40b5-8b3f-959d6d3c36ce",
   "metadata": {
    "tags": []
   },
   "outputs": [],
   "source": [
    "# batch size\n",
    "batch_size=100"
   ]
  },
  {
   "cell_type": "markdown",
   "id": "20c9e22b-661f-4fe8-90b4-52376409b1c6",
   "metadata": {},
   "source": [
    "## Setting up storage location"
   ]
  },
  {
   "cell_type": "code",
   "execution_count": 11,
   "id": "918f907d-e93d-44ea-b725-54b948b67861",
   "metadata": {
    "tags": []
   },
   "outputs": [],
   "source": [
    "# path for csv dataframe\n",
    "csv_path = \"../results/teacher_exp_ulong/csv/\"\n",
    "# path for graphs\n",
    "graphs_path = \"../results/teacher_exp_ulong/graphs/\"\n",
    "# path for self distillation output\n",
    "sd_path = \"../results/teacher_exp_ulong/sd_out/\""
   ]
  },
  {
   "cell_type": "code",
   "execution_count": 12,
   "id": "be8a7f45-6014-4d8d-9367-f246c8264404",
   "metadata": {
    "tags": []
   },
   "outputs": [],
   "source": [
    "# make sure the folder exists\n",
    "if not os.path.exists(csv_path):\n",
    "    os.makedirs(csv_path)\n",
    "if not os.path.exists(graphs_path):\n",
    "    os.makedirs(graphs_path)\n",
    "if not os.path.exists(sd_path):\n",
    "    os.makedirs(sd_path)"
   ]
  },
  {
   "cell_type": "markdown",
   "id": "b996003e-c508-4519-889d-a6a0206bad5f",
   "metadata": {},
   "source": [
    "## Iteration over assay ids and execution of procedure"
   ]
  },
  {
   "cell_type": "code",
   "execution_count": 13,
   "id": "2e7124d0-1562-4dff-a024-93d75d0fd967",
   "metadata": {},
   "outputs": [],
   "source": [
    "aid = 884"
   ]
  },
  {
   "cell_type": "code",
   "execution_count": 14,
   "id": "e3b470a6-108e-4ed4-9add-b1b27527905b",
   "metadata": {
    "tags": []
   },
   "outputs": [],
   "source": [
    "# =================================================\n",
    "# Load data\n",
    "# =================================================\n",
    "# load data for experiment\n",
    "whole_data = gnn_load.load_pyg_data_aid(aid=aid, label_type=mode, do_in_parallel=True, path_data=\"../data/\")\n",
    "\n",
    "# get hard labels\n",
    "labels_hard = np.array([\n",
    "    data.y.detach().cpu().numpy()\n",
    "    for data in whole_data\n",
    "]).flatten().astype(int)\n",
    "\n",
    "# do data splitting in train and test 80:20\n",
    "# data splitting\n",
    "for train_idx, test_idx in StratifiedShuffleSplit(n_splits=1, random_state=random_state, test_size=0.2).split(whole_data, labels_hard):\n",
    "    break\n",
    "\n",
    "# generate the dataloader\n",
    "dl_train = torch_geometric.loader.DataLoader([whole_data[idx] for idx in train_idx], batch_size=batch_size)\n",
    "dl_test = torch_geometric.loader.DataLoader([whole_data[idx] for idx in test_idx], batch_size=batch_size)"
   ]
  },
  {
   "cell_type": "code",
   "execution_count": 15,
   "id": "0ca2d07e-b921-4881-80f5-75c636c0ac3f",
   "metadata": {
    "tags": []
   },
   "outputs": [],
   "source": [
    "# =================================================\n",
    "# Model setup\n",
    "# =================================================\n",
    "# GNN model\n",
    "model = GIN_nn.GIN_basic(1)\n",
    "# loss\n",
    "loss = torch.nn.BCEWithLogitsLoss(pos_weight=torch.tensor([len(train_idx)/labels_hard[train_idx].sum()]))\n",
    "# device\n",
    "device = torch.device('cuda')\n",
    "model = model.to(device)\n",
    "loss = loss.to(device)\n",
    "# optimizer\n",
    "optimizer = torch.optim.Adam(model.parameters(), lr=0.001)"
   ]
  },
  {
   "cell_type": "code",
   "execution_count": 16,
   "id": "e14cab31-35ab-4574-b4cf-b1881734cee1",
   "metadata": {
    "tags": []
   },
   "outputs": [
    {
     "name": "stderr",
     "output_type": "stream",
     "text": [
      "100%|████████████████████████████████████████████████████████████████████████████████████████████████████████████████████████████████████████████████████████████████████████████████████████████████████████████████████████████████████████████████████████████████████████████| 3000/3000 [2:36:24<00:00,  3.13s/it]\n"
     ]
    }
   ],
   "source": [
    "# =================================================\n",
    "# Epoch iteration\n",
    "# =================================================\n",
    "# define loss saving space\n",
    "loss_storage = []\n",
    "\n",
    "# define accuracy storage\n",
    "accuracy_storage = []\n",
    "\n",
    "# epoch iterations\n",
    "for epoch in tqdm(range(epochs)):\n",
    "\n",
    "    # do training step\n",
    "    loss_value = execution.training(model, dl_train, device, optimizer, loss, verbose=False)\n",
    "\n",
    "    # put loss into storage\n",
    "    loss_storage.append(loss_value)\n",
    "\n",
    "    # do testing step\n",
    "    y_pred_hard = execution.predict(model, dl_test, device, reduce_to_hard_label=True, verbose=False)\n",
    "\n",
    "    # calculate accuracy DataFrame\n",
    "    accuracy_storage.append(\n",
    "        # get accuracy class and from it the DataFrame\n",
    "        accuracy.calculate_accuracies_1d(\n",
    "            y_pred=y_pred_hard, \n",
    "            y_true=accuracy.helper_pyg_to_numpy_label(\n",
    "                data_loader=dl_test\n",
    "            )\n",
    "        ).to_df(index=epoch)\n",
    "    )\n",
    "\n",
    "# transform accuracy storage to pandas df\n",
    "accuracy_storage = pd.concat(accuracy_storage)\n",
    "\n",
    "# add new column for loss\n",
    "accuracy_storage['loss'] = loss_storage"
   ]
  },
  {
   "cell_type": "code",
   "execution_count": 17,
   "id": "da62adc3-9d68-4d96-affa-ef26226ee1cb",
   "metadata": {
    "tags": []
   },
   "outputs": [],
   "source": [
    "# =================================================\n",
    "# Save data to file\n",
    "# =================================================\n",
    "# set file path\n",
    "file_path = csv_path + \"teacher-acc_aid={}_epochs={}.csv\".format(aid, epochs)\n",
    "\n",
    "# write to file\n",
    "accuracy_storage.to_csv(file_path, index=True, index_label=\"epoch\")"
   ]
  },
  {
   "cell_type": "code",
   "execution_count": 18,
   "id": "847562d7-55b2-4724-b02a-89c80bb229d0",
   "metadata": {
    "tags": []
   },
   "outputs": [
    {
     "name": "stderr",
     "output_type": "stream",
     "text": [
      "100%|██████████████████████████████████████████████████████████████████████████████████████████████████████████████████████████████████████████████████████████████████████████████████████████████████████████████████████████████████████████████████████████████████████████████| 4455/4455 [00:58<00:00, 76.50it/s]\n"
     ]
    }
   ],
   "source": [
    "# =================================================\n",
    "# Self distillation calculate accuracy of all other molecules\n",
    "# =================================================\n",
    "# get the aid smiles\n",
    "aid_smiles = gnn_load.load_pure_data(aid, path_data=\"../data/\").smiles.to_numpy().astype(str)\n",
    "\n",
    "# get index of elements where the elements are not the same (new elements)\n",
    "idx = np.where(np.invert(np.in1d(all_smiles, aid_smiles)))[0].tolist()\n",
    "\n",
    "# get the items which are new\n",
    "molec_list = list(map(all_molec_list.__getitem__, idx))\n",
    "dl_sd = torch_geometric.loader.DataLoader(molec_list, batch_size=batch_size)\n",
    "\n",
    "# get prediction\n",
    "sd_pred = execution.predict(model, dl_sd, device, reduce_to_hard_label=False, verbose=True)\n",
    "\n",
    "# create Dataframe and save it\n",
    "sd_file_path = sd_path + \"teacher-pred_aid={}_epochs={}.csv\".format(aid, epochs)\n",
    "pd.DataFrame({\n",
    "    \"smiles\": list(map(lambda x: x.smiles, molec_list)),\n",
    "    \"predicted_label_soft\": sd_pred\n",
    "}).to_csv(sd_file_path, index=False)"
   ]
  },
  {
   "cell_type": "markdown",
   "id": "814a395b-f73f-4af0-971a-065d1d9e4356",
   "metadata": {},
   "source": [
    "## Generate the graphs"
   ]
  },
  {
   "cell_type": "code",
   "execution_count": 19,
   "id": "11c5ac00-5f74-46dd-b157-3e414403c3eb",
   "metadata": {
    "tags": []
   },
   "outputs": [
    {
     "data": {
      "image/png": "[encoded data removed]",
      "text/plain": [
       "<Figure size 640x480 with 2 Axes>"
      ]
     },
     "metadata": {},
     "output_type": "display_data"
    }
   ],
   "source": [
    "# determine storage location of csv\n",
    "file_path = csv_path + \"teacher-acc_aid={}_epochs={}.csv\".format(aid, epochs)\n",
    "\n",
    "# determine storage location of image\n",
    "file_path_plot = graphs_path + \"TeacherAccs_aid-{}_epochs-{}.png\".format(aid, epochs)\n",
    "\n",
    "# load the csv\n",
    "loaded_csv = pd.read_csv(file_path, index_col=\"epoch\")\n",
    "\n",
    "# plotting\n",
    "fig, ax1 = plt.subplots()\n",
    "ax2 = ax1.twinx()\n",
    "ax1.plot(loaded_csv.roc_score, label=\"roc_score\")\n",
    "ax1.plot(loaded_csv.precision, label=\"precision\")\n",
    "ax1.plot(loaded_csv.recall, label=\"recall\")\n",
    "ax2.plot(loaded_csv.loss, color=\"black\", label=\"loss\")\n",
    "\n",
    "ax1.set_xlabel(\"epoch\")\n",
    "ax1.set_ylabel(\"accuracy score\")\n",
    "ax2.set_ylabel(\"loss score\")\n",
    "ax1.legend()\n",
    "ax2.legend()\n",
    "plt.title(\"Accuracy scores on teacher model test - aid={}\".format(aid))\n",
    "plt.savefig(file_path_plot, bbox_inches='tight')\n",
    "plt.show()"
   ]
  },
  {
   "cell_type": "code",
   "execution_count": null,
   "id": "08424452-e204-4660-bf67-03f662dd0dfc",
   "metadata": {},
   "outputs": [],
   "source": []
  }
 ],
 "metadata": {
  "kernelspec": {
   "display_name": "Python 3 (ipykernel)",
   "language": "python",
   "name": "python3"
  },
  "language_info": {
   "codemirror_mode": {
    "name": "ipython",
    "version": 3
   },
   "file_extension": ".py",
   "mimetype": "text/x-python",
   "name": "python",
   "nbconvert_exporter": "python",
   "pygments_lexer": "ipython3",
   "version": "3.9.16"
  }
 },
 "nbformat": 4,
 "nbformat_minor": 5
}
