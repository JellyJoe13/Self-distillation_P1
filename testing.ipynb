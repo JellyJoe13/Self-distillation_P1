{
 "cells": [
  {
   "cell_type": "code",
   "execution_count": 1,
   "id": "4ac6709c-1eaa-4459-b09c-239a93fcbf9a",
   "metadata": {
    "tags": []
   },
   "outputs": [],
   "source": [
    "import numpy as np\n",
    "from rdkit import Chem\n",
    "from rdkit.Chem.rdmolops import GetAdjacencyMatrix"
   ]
  },
  {
   "cell_type": "code",
   "execution_count": 2,
   "id": "696ef0ce-dbbf-460f-b169-ce1833bd2bbf",
   "metadata": {
    "tags": []
   },
   "outputs": [
    {
     "name": "stderr",
     "output_type": "stream",
     "text": [
      "C:\\Users\\johan\\anaconda3\\envs\\praktikum\\lib\\site-packages\\tqdm\\auto.py:21: TqdmWarning: IProgress not found. Please update jupyter and ipywidgets. See https://ipywidgets.readthedocs.io/en/stable/user_install.html\n",
      "  from .autonotebook import tqdm as notebook_tqdm\n"
     ]
    }
   ],
   "source": [
    "import torch\n",
    "from torch_geometric.data import Data\n",
    "from torch.utils.data import DataLoader"
   ]
  },
  {
   "cell_type": "code",
   "execution_count": null,
   "id": "9ae60b15-361e-46a7-8ad3-3ddce8aead17",
   "metadata": {},
   "outputs": [],
   "source": []
  },
  {
   "cell_type": "code",
   "execution_count": null,
   "id": "473776c7-6f96-405a-b81e-ff30a27b08fd",
   "metadata": {},
   "outputs": [],
   "source": []
  },
  {
   "cell_type": "code",
   "execution_count": 7,
   "id": "6786f28f-9218-4b1c-8877-b3d4dc428edc",
   "metadata": {},
   "outputs": [],
   "source": [
    "# testing with actual dataset"
   ]
  },
  {
   "cell_type": "code",
   "execution_count": 3,
   "id": "b2981671-20b2-4c1a-a243-942e507db536",
   "metadata": {
    "tags": []
   },
   "outputs": [],
   "source": [
    "aid = 686978"
   ]
  },
  {
   "cell_type": "code",
   "execution_count": 4,
   "id": "e85295f3-cc7d-4909-ab78-010792e240c3",
   "metadata": {
    "tags": []
   },
   "outputs": [],
   "source": [
    "from time import time\n",
    "from selfdist_toolkit.pyg_tools.gnn_load import load_pyg_data_from_smiles_list\n",
    "from selfdist_toolkit.data_tools.loading import load_pure_data"
   ]
  },
  {
   "cell_type": "code",
   "execution_count": 5,
   "id": "3dff342a-65ef-4ea1-a723-74da9f1b885c",
   "metadata": {
    "tags": []
   },
   "outputs": [],
   "source": [
    "o_data = load_pure_data(aid)"
   ]
  },
  {
   "cell_type": "code",
   "execution_count": 6,
   "id": "b56a44cf-0531-4d3a-8134-c7631943fe95",
   "metadata": {
    "tags": []
   },
   "outputs": [
    {
     "data": {
      "text/html": [
       "<div>\n",
       "<style scoped>\n",
       "    .dataframe tbody tr th:only-of-type {\n",
       "        vertical-align: middle;\n",
       "    }\n",
       "\n",
       "    .dataframe tbody tr th {\n",
       "        vertical-align: top;\n",
       "    }\n",
       "\n",
       "    .dataframe thead th {\n",
       "        text-align: right;\n",
       "    }\n",
       "</style>\n",
       "<table border=\"1\" class=\"dataframe\">\n",
       "  <thead>\n",
       "    <tr style=\"text-align: right;\">\n",
       "      <th></th>\n",
       "      <th>aid</th>\n",
       "      <th>cid</th>\n",
       "      <th>smiles</th>\n",
       "      <th>activity</th>\n",
       "    </tr>\n",
       "  </thead>\n",
       "  <tbody>\n",
       "    <tr>\n",
       "      <th>0</th>\n",
       "      <td>686978</td>\n",
       "      <td>644390</td>\n",
       "      <td>CCOC(=O)N1CCC(CC1)NCCNC(=O)C2=CC=CC=C2Cl</td>\n",
       "      <td>inactive</td>\n",
       "    </tr>\n",
       "    <tr>\n",
       "      <th>1</th>\n",
       "      <td>686978</td>\n",
       "      <td>644392</td>\n",
       "      <td>CN1C(=O)CC(SC1=NC2=CC(=CC=C2)OC)C(=O)NC3=CC=CC...</td>\n",
       "      <td>inactive</td>\n",
       "    </tr>\n",
       "    <tr>\n",
       "      <th>2</th>\n",
       "      <td>686978</td>\n",
       "      <td>644394</td>\n",
       "      <td>CC1(C(=O)N(C(=O)N1)CC(COC2CCCCC2)O)C</td>\n",
       "      <td>inactive</td>\n",
       "    </tr>\n",
       "    <tr>\n",
       "      <th>3</th>\n",
       "      <td>686978</td>\n",
       "      <td>644395</td>\n",
       "      <td>C1CC1C2=CC=[N+](C=C2)[O-]</td>\n",
       "      <td>inactive</td>\n",
       "    </tr>\n",
       "    <tr>\n",
       "      <th>4</th>\n",
       "      <td>686978</td>\n",
       "      <td>5770444</td>\n",
       "      <td>CC1=CC=C(C=C1)C2=NN=C(O2)CSC3=NC4=C(C5=C(N4)C=...</td>\n",
       "      <td>active</td>\n",
       "    </tr>\n",
       "  </tbody>\n",
       "</table>\n",
       "</div>"
      ],
      "text/plain": [
       "      aid      cid                                             smiles  \\\n",
       "0  686978   644390           CCOC(=O)N1CCC(CC1)NCCNC(=O)C2=CC=CC=C2Cl   \n",
       "1  686978   644392  CN1C(=O)CC(SC1=NC2=CC(=CC=C2)OC)C(=O)NC3=CC=CC...   \n",
       "2  686978   644394               CC1(C(=O)N(C(=O)N1)CC(COC2CCCCC2)O)C   \n",
       "3  686978   644395                          C1CC1C2=CC=[N+](C=C2)[O-]   \n",
       "4  686978  5770444  CC1=CC=C(C=C1)C2=NN=C(O2)CSC3=NC4=C(C5=C(N4)C=...   \n",
       "\n",
       "   activity  \n",
       "0  inactive  \n",
       "1  inactive  \n",
       "2  inactive  \n",
       "3  inactive  \n",
       "4    active  "
      ]
     },
     "execution_count": 6,
     "metadata": {},
     "output_type": "execute_result"
    }
   ],
   "source": [
    "o_data.head()"
   ]
  },
  {
   "cell_type": "code",
   "execution_count": 7,
   "id": "78231e23-2f6c-4af0-badb-29fbe6b4759b",
   "metadata": {
    "tags": []
   },
   "outputs": [],
   "source": [
    "temp = (o_data.activity==\"active\").to_numpy().astype(bool)"
   ]
  },
  {
   "cell_type": "code",
   "execution_count": 8,
   "id": "6e926fd4-2996-4b90-b5ee-9dbe1cdb695a",
   "metadata": {
    "tags": []
   },
   "outputs": [
    {
     "data": {
      "text/plain": [
       "0.20363830852252857"
      ]
     },
     "execution_count": 8,
     "metadata": {},
     "output_type": "execute_result"
    }
   ],
   "source": [
    "temp.sum()/len(temp)"
   ]
  },
  {
   "cell_type": "code",
   "execution_count": 12,
   "id": "a8a2ba43-2f0f-44c1-81e1-9a5dca01ac4a",
   "metadata": {
    "tags": []
   },
   "outputs": [],
   "source": [
    "smiles = o_data.smiles.tolist()\n",
    "label = (o_data.activity==\"active\").tolist()"
   ]
  },
  {
   "cell_type": "code",
   "execution_count": 13,
   "id": "69af7e19-20be-4a40-8076-b1147e69a04e",
   "metadata": {
    "tags": []
   },
   "outputs": [
    {
     "name": "stdout",
     "output_type": "stream",
     "text": [
      "3.121736764907837\n"
     ]
    }
   ],
   "source": [
    "t = time()\n",
    "data_aid = load_pyg_data_from_smiles_list(smiles, label)\n",
    "print(time()-t)"
   ]
  },
  {
   "cell_type": "code",
   "execution_count": 14,
   "id": "d70a438d-4e23-4065-ac6d-6bef59a1cab3",
   "metadata": {
    "tags": []
   },
   "outputs": [
    {
     "data": {
      "text/plain": [
       "[Data(x=[19, 9], edge_index=[2, 44], edge_attr=[44, 3], smiles='C1CCN(CC1)C2=NC=NC3=C2NC4=CC=CC=C43', y=[1]),\n",
       " Data(x=[26, 9], edge_index=[2, 56], edge_attr=[56, 3], smiles='CC(C)(C)C1=NN(C(=C1)C(=O)NCC2=CC=C(C=C2)N3CCCC3=O)C', y=[1]),\n",
       " Data(x=[22, 9], edge_index=[2, 48], edge_attr=[48, 3], smiles='CC1=C(N2C(=NC=N2)N=C1C)NCCC3=CC=C(C=C3)OC', y=[1]),\n",
       " Data(x=[18, 9], edge_index=[2, 38], edge_attr=[38, 3], smiles='CC1=CC=C(C=C1)S(=O)(=O)NCC2=CC=NC=C2', y=[1]),\n",
       " Data(x=[19, 9], edge_index=[2, 42], edge_attr=[42, 3], smiles='CCCCOC1=NC=NC2=C1NC3=C2C=C(C=C3)F', y=[1]),\n",
       " Data(x=[20, 9], edge_index=[2, 46], edge_attr=[46, 3], smiles='C1CC(OC1)CNC2=NC=NC3=C2NC4=CC=CC=C43', y=[1]),\n",
       " Data(x=[27, 9], edge_index=[2, 58], edge_attr=[58, 3], smiles='CC1=CC(=C(N1CC2=CC=CS2)C)C(=O)COC3=CC=CC=C3NC(=O)C', y=[1]),\n",
       " Data(x=[23, 9], edge_index=[2, 48], edge_attr=[48, 3], smiles='CC1=C(NC(=C1C(=O)C)C)C(=O)OCC2=CC=C(O2)C(=O)OC', y=[1]),\n",
       " Data(x=[28, 9], edge_index=[2, 60], edge_attr=[60, 3], smiles='CC1=C(NC(=C1C(=O)C)C)C(=O)OCCCCN2C(=O)C3=CC=CC=C3C2=O', y=[1]),\n",
       " Data(x=[17, 9], edge_index=[2, 36], edge_attr=[36, 3], smiles='C1=CN=CC=C1CNS(=O)(=O)C2=CC=C(S2)Br', y=[1]),\n",
       " Data(x=[27, 9], edge_index=[2, 62], edge_attr=[62, 3], smiles='C1CC2CC1CC2N3C(=NN=N3)SCC(=O)NC4=CC=NC5=CC=CC=C54', y=[1]),\n",
       " Data(x=[24, 9], edge_index=[2, 50], edge_attr=[50, 3], smiles='CCOC(=O)COC1=CC=C(C=C1)S(=O)(=O)NCC2=CC=NC=C2', y=[1]),\n",
       " Data(x=[14, 9], edge_index=[2, 32], edge_attr=[32, 3], smiles='C1=CC2=C(C3=C(C=CC=N3)C=C2)N=C1', y=[1]),\n",
       " Data(x=[20, 9], edge_index=[2, 42], edge_attr=[42, 3], smiles='CC1=CC(=C(C(=C1)C)S(=O)(=O)NCC2=CC=NC=C2)C', y=[1]),\n",
       " Data(x=[20, 9], edge_index=[2, 42], edge_attr=[42, 3], smiles='CCOC1=CC=C(C=C1)S(=O)(=O)NCC2=CC=NC=C2', y=[1]),\n",
       " Data(x=[28, 9], edge_index=[2, 66], edge_attr=[66, 3], smiles='C1C2CC3CC1CC(C2)(C3)C(=O)NC4=CC5=C(C=C4)N=C(N5)C6=CN=CC=C6', y=[1]),\n",
       " Data(x=[20, 9], edge_index=[2, 42], edge_attr=[42, 3], smiles='CC1CCC/C=C/C2CC(CC2C(/C=C/C(=O)O1)O)O', y=[1]),\n",
       " Data(x=[32, 9], edge_index=[2, 70], edge_attr=[70, 3], smiles='CCOC(=O)C1=CC=C(C=C1)N2C(=O)CC(C2=O)N3CCC(CC3)(C4=CC=C(C=C4)Br)O', y=[1]),\n",
       " Data(x=[24, 9], edge_index=[2, 56], edge_attr=[56, 3], smiles='CC1=CC2=C(C=C1)NC3=C2N=CN=C3N4CCC5=CC=CC=C5C4', y=[1]),\n",
       " Data(x=[21, 9], edge_index=[2, 44], edge_attr=[44, 3], smiles='CC(=O)N1C=C(C2=CC=CC=C21)C(C[N+](=O)[O-])SC(=O)C', y=[1]),\n",
       " Data(x=[26, 9], edge_index=[2, 58], edge_attr=[58, 3], smiles='CC1=CC(=C(N1CC2CCCO2)C)C(=O)CSC3=NC4=CC=CC=C4N3', y=[1]),\n",
       " Data(x=[24, 9], edge_index=[2, 52], edge_attr=[52, 3], smiles='CC1=C(SC2=NC=NC(=C12)NCCC3=CC=C(C=C3)S(=O)(=O)N)C', y=[1]),\n",
       " Data(x=[17, 9], edge_index=[2, 38], edge_attr=[38, 3], smiles='CCCOC1=NC=NC2=C1NC3=CC=CC=C32', y=[1]),\n",
       " Data(x=[25, 9], edge_index=[2, 56], edge_attr=[56, 3], smiles='CCOC(=O)N1CCN(CC1)C2=NC=NC3=C2NC4=C3C=C(C=C4)F', y=[1]),\n",
       " Data(x=[14, 9], edge_index=[2, 28], edge_attr=[28, 3], smiles='COC1=C(C=CC(=C1)/C=C/[N+](=O)[O-])O', y=[1]),\n",
       " Data(x=[23, 9], edge_index=[2, 52], edge_attr=[52, 3], smiles='CC1=CC=C(C=C1)S(=O)(=O)CC2CSC3=NC4=CC=CC=C4N23', y=[1]),\n",
       " Data(x=[17, 9], edge_index=[2, 36], edge_attr=[36, 3], smiles='C1=CC(=CC=C1C(=O)/C=C/SC2=NC=NN2)Cl', y=[1]),\n",
       " Data(x=[20, 9], edge_index=[2, 42], edge_attr=[42, 3], smiles='CNC1=NC2=CC(=C(C=C2N=C1NC)[N+](=O)[O-])[N+](=O)[O-]', y=[1]),\n",
       " Data(x=[29, 9], edge_index=[2, 62], edge_attr=[62, 3], smiles='C1=COC(=C1)C(=O)NC2=CC=C(C=C2)NC(=S)NC(=O)/C=C/C3=CC=C(C=C3)Cl', y=[1]),\n",
       " Data(x=[23, 9], edge_index=[2, 50], edge_attr=[50, 3], smiles='CC1=CC(=NC(=N1)NCC2=CC=CC=C2)NC3=CC(=CC=C3)Cl', y=[1]),\n",
       " Data(x=[18, 9], edge_index=[2, 40], edge_attr=[40, 3], smiles='C1=CC=C2C(=C1)NC(=N2)/C(=C/C3=CC=CS3)/C#N', y=[1]),\n",
       " Data(x=[28, 9], edge_index=[2, 64], edge_attr=[64, 3], smiles='C1=CC=C2C=C3C(=CC2=C1)NC(=N3)C4=CC(=CC=C4)NC(=O)CC5=CC=CS5', y=[1]),\n",
       " Data(x=[26, 9], edge_index=[2, 56], edge_attr=[56, 3], smiles='CC1=CC(=CC=C1)C(=O)NC2=CC=C(C=C2)C(=O)/C=C/C3=CN=CC=C3', y=[1]),\n",
       " Data(x=[23, 9], edge_index=[2, 50], edge_attr=[50, 3], smiles='CN(C)C1=CC=C(C=C1)NC2=C(C(=O)C3=CC=CC=C3C2=O)Cl', y=[1]),\n",
       " Data(x=[22, 9], edge_index=[2, 50], edge_attr=[50, 3], smiles='C1CCC(=CC1)CCNC2=NC=NC3=C2NC4=CC=CC=C43', y=[1]),\n",
       " Data(x=[24, 9], edge_index=[2, 54], edge_attr=[54, 3], smiles='C1=CC2=C(NC(=C2C=C1)N=NC3=NC(=CS3)C4=CC=C(C=C4)F)N', y=[1]),\n",
       " Data(x=[31, 9], edge_index=[2, 68], edge_attr=[68, 3], smiles='C1CN(CCN1C(=O)CN2C(=O)C(=C(C=N2)Cl)Cl)S(=O)(=O)C3=CC4=CC=CC=C4C=C3', y=[1]),\n",
       " Data(x=[26, 9], edge_index=[2, 54], edge_attr=[54, 3], smiles='CCC1=CC=CC=C1NC(=O)CN(C)C(=O)CN2C(=O)C(=C(C=N2)Cl)Cl', y=[1]),\n",
       " Data(x=[21, 9], edge_index=[2, 48], edge_attr=[48, 3], smiles='C1C(OC2=CC=CC=C2O1)CNC3=C4C=CSC4=NC=N3', y=[1]),\n",
       " Data(x=[25, 9], edge_index=[2, 54], edge_attr=[54, 3], smiles='CN(C(=S)NC1CCCCC1)C2(CCCCC2=O)C3=CC=CC=C3Cl', y=[1]),\n",
       " Data(x=[31, 9], edge_index=[2, 68], edge_attr=[68, 3], smiles='CC1=NC2=C(S1)C=C(C=C2)NC(=O)C3=C(C=CC(=C3)S(=O)(=O)N(C)C4=CC=CC=C4)Cl', y=[1]),\n",
       " Data(x=[28, 9], edge_index=[2, 60], edge_attr=[60, 3], smiles='CC1=NN=C(S1)SCC(=O)NC2=CC(=CC=C2)S(=O)(=O)N(C)C3=CC=CC=C3', y=[1]),\n",
       " Data(x=[23, 9], edge_index=[2, 52], edge_attr=[52, 3], smiles='CCN1C2=C(C=C(C=C2)C)C3=NC4=C(C=CC(=C4)C(=O)O)N=C31', y=[1]),\n",
       " Data(x=[27, 9], edge_index=[2, 56], edge_attr=[56, 3], smiles='CC1=C(NC(=C1C(=O)C)C)C(=O)OCC(=O)NC2=C(C=C(C=C2)Cl)[N+](=O)[O-]', y=[1]),\n",
       " Data(x=[21, 9], edge_index=[2, 42], edge_attr=[42, 3], smiles='CCOC(=O)C1=CC(=C(C=C1NC(=O)C)[N+](=O)[O-])[N+](=O)[O-]', y=[1]),\n",
       " Data(x=[17, 9], edge_index=[2, 36], edge_attr=[36, 3], smiles='C1=CN=C(N=C1)C2=C(SC(=C2)[N+](=O)[O-])[N+](=O)[O-]', y=[1])]"
      ]
     },
     "execution_count": 14,
     "metadata": {},
     "output_type": "execute_result"
    }
   ],
   "source": [
    "data_aid"
   ]
  },
  {
   "cell_type": "code",
   "execution_count": 15,
   "id": "0363a69d-7091-4c40-8fa5-ebfcb153d587",
   "metadata": {
    "tags": []
   },
   "outputs": [],
   "source": [
    "load_aid = pyg.loader.DataLoader(data_aid, batch_size=5)"
   ]
  },
  {
   "cell_type": "code",
   "execution_count": 16,
   "id": "1e34ef6f-7565-4107-82f5-ff6c79e5aa7a",
   "metadata": {
    "tags": []
   },
   "outputs": [
    {
     "name": "stdout",
     "output_type": "stream",
     "text": [
      "DataBatch(x=[104, 9], edge_index=[2, 228], edge_attr=[228, 3], smiles=[5], y=[5], batch=[104], ptr=[6])\n",
      "DataBatch(x=[115, 9], edge_index=[2, 248], edge_attr=[248, 3], smiles=[5], y=[5], batch=[115], ptr=[6])\n",
      "DataBatch(x=[105, 9], edge_index=[2, 228], edge_attr=[228, 3], smiles=[5], y=[5], batch=[105], ptr=[6])\n",
      "DataBatch(x=[125, 9], edge_index=[2, 278], edge_attr=[278, 3], smiles=[5], y=[5], batch=[125], ptr=[6])\n",
      "DataBatch(x=[106, 9], edge_index=[2, 232], edge_attr=[232, 3], smiles=[5], y=[5], batch=[106], ptr=[6])\n",
      "DataBatch(x=[112, 9], edge_index=[2, 242], edge_attr=[242, 3], smiles=[5], y=[5], batch=[112], ptr=[6])\n",
      "DataBatch(x=[117, 9], edge_index=[2, 260], edge_attr=[260, 3], smiles=[5], y=[5], batch=[117], ptr=[6])\n",
      "DataBatch(x=[127, 9], edge_index=[2, 278], edge_attr=[278, 3], smiles=[5], y=[5], batch=[127], ptr=[6])\n",
      "DataBatch(x=[130, 9], edge_index=[2, 278], edge_attr=[278, 3], smiles=[5], y=[5], batch=[130], ptr=[6])\n",
      "DataBatch(x=[17, 9], edge_index=[2, 36], edge_attr=[36, 3], smiles=[1], y=[1], batch=[17], ptr=[2])\n"
     ]
    }
   ],
   "source": [
    "for batch in load_aid:\n",
    "    print(batch)"
   ]
  },
  {
   "cell_type": "code",
   "execution_count": null,
   "id": "65c22fce-a504-422d-a86b-eb9295ebcb4b",
   "metadata": {},
   "outputs": [],
   "source": []
  },
  {
   "cell_type": "code",
   "execution_count": null,
   "id": "74392128-bc02-42d5-a3c9-c4b71f1f7780",
   "metadata": {},
   "outputs": [],
   "source": []
  },
  {
   "cell_type": "code",
   "execution_count": null,
   "id": "4dad8efc-fd80-44ab-a845-6e43b58a4f21",
   "metadata": {},
   "outputs": [],
   "source": []
  },
  {
   "cell_type": "code",
   "execution_count": null,
   "id": "34f539bf-0f2e-438b-bb4f-e76917cb718e",
   "metadata": {},
   "outputs": [],
   "source": []
  },
  {
   "cell_type": "code",
   "execution_count": null,
   "id": "b209e5da-76c6-4950-9c42-756aba9784c9",
   "metadata": {},
   "outputs": [],
   "source": []
  },
  {
   "cell_type": "code",
   "execution_count": 20,
   "id": "68431835-2fbd-4015-b4d7-2089327b135f",
   "metadata": {
    "tags": []
   },
   "outputs": [],
   "source": [
    "from selfdist_toolkit.pyg_tools import sd_utils, gnn_load\n",
    "import numpy as np"
   ]
  },
  {
   "cell_type": "code",
   "execution_count": 2,
   "id": "0f95870a-c862-404d-a164-c6ca0ecbe035",
   "metadata": {
    "tags": []
   },
   "outputs": [],
   "source": [
    "all_molec_list = gnn_load.load_all_pyg()"
   ]
  },
  {
   "cell_type": "code",
   "execution_count": 3,
   "id": "bc1919b8-6ae9-4960-8a50-78fdc83fcf95",
   "metadata": {
    "tags": []
   },
   "outputs": [
    {
     "data": {
      "text/plain": [
       "[Data(x=[5, 9], edge_index=[2, 8], edge_attr=[8, 3], smiles='CC(CN)O', y=[1]),\n",
       " Data(x=[13, 9], edge_index=[2, 26], edge_attr=[26, 3], smiles='C1=CC(=C(C=C1[N+](=O)[O-])[N+](=O)[O-])Cl', y=[1]),\n",
       " Data(x=[4, 9], edge_index=[2, 6], edge_attr=[6, 3], smiles='C(CCl)Cl', y=[1]),\n",
       " Data(x=[9, 9], edge_index=[2, 18], edge_attr=[18, 3], smiles='C1=CC(=C(C=C1Cl)Cl)Cl', y=[1]),\n",
       " Data(x=[11, 9], edge_index=[2, 22], edge_attr=[22, 3], smiles='C1=CC(=C(C(=C1)O)O)C(=O)O', y=[1]),\n",
       " Data(x=[4, 9], edge_index=[2, 6], edge_attr=[6, 3], smiles='C(C=O)Cl', y=[1]),\n",
       " Data(x=[4, 9], edge_index=[2, 6], edge_attr=[6, 3], smiles='C(CCl)O', y=[1]),\n",
       " Data(x=[11, 9], edge_index=[2, 22], edge_attr=[22, 3], smiles='C1C(C(C(OC1O)CO)O)O', y=[1]),\n",
       " Data(x=[10, 9], edge_index=[2, 18], edge_attr=[18, 3], smiles='C(CC(=O)O)C(=O)C(=O)O', y=[1]),\n",
       " Data(x=[9, 9], edge_index=[2, 18], edge_attr=[18, 3], smiles='C1=CC(=C(C=C1Cl)O)Cl', y=[1])]"
      ]
     },
     "execution_count": 3,
     "metadata": {},
     "output_type": "execute_result"
    }
   ],
   "source": [
    "all_molec_list[:10]"
   ]
  },
  {
   "cell_type": "code",
   "execution_count": 21,
   "id": "671620d3-c1d2-45a6-bd09-71726c1f42d6",
   "metadata": {
    "tags": []
   },
   "outputs": [],
   "source": [
    "all_smiles = np.array([mol.smiles for mol in all_molec_list], dtype=str)"
   ]
  },
  {
   "cell_type": "code",
   "execution_count": 23,
   "id": "8fa201cf-15a8-48fd-824a-318d4e391ec3",
   "metadata": {
    "tags": []
   },
   "outputs": [
    {
     "data": {
      "text/plain": [
       "array(['CC(CN)O', 'C1=CC(=C(C=C1[N+](=O)[O-])[N+](=O)[O-])Cl', 'C(CCl)Cl',\n",
       "       'C1=CC(=C(C=C1Cl)Cl)Cl', 'C1=CC(=C(C(=C1)O)O)C(=O)O', 'C(C=O)Cl',\n",
       "       'C(CCl)O', 'C1C(C(C(OC1O)CO)O)O', 'C(CC(=O)O)C(=O)C(=O)O',\n",
       "       'C1=CC(=C(C=C1Cl)O)Cl'], dtype='<U819')"
      ]
     },
     "execution_count": 23,
     "metadata": {},
     "output_type": "execute_result"
    }
   ],
   "source": [
    "all_smiles[:10]"
   ]
  },
  {
   "cell_type": "code",
   "execution_count": 25,
   "id": "e0be5db2-cb82-4da4-8386-1dd226e61426",
   "metadata": {
    "tags": []
   },
   "outputs": [],
   "source": [
    "aid_smiles = gnn_load.load_pure_data(411).smiles.to_numpy().astype(str)"
   ]
  },
  {
   "cell_type": "code",
   "execution_count": 26,
   "id": "78fd9d8b-d40f-4398-9dc4-855f4c6865a9",
   "metadata": {
    "tags": []
   },
   "outputs": [
    {
     "data": {
      "text/plain": [
       "array(['CCOC(=O)N1CCC(CC1)NCCNC(=O)C2=CC=CC=C2Cl',\n",
       "       'CCOC1=CC=CC=C1N(C(C2=CC=NC=C2)C(=O)NC(C)(C)C)C(=O)CNC(=O)C3=CC=CO3',\n",
       "       'CN1C(=O)CC(SC1=NC2=CC(=CC=C2)OC)C(=O)NC3=CC=CC=C3F',\n",
       "       'CC1=CC2=CC(=C(N=C2C=C1)N3CCN(CC3)CC4=NN=NN4CC5=CC=CC=C5)C#N',\n",
       "       'CC1(C(=O)N(C(=O)N1)CC(COC2CCCCC2)O)C',\n",
       "       'C1CC1C2=CC=[N+](C=C2)[O-]',\n",
       "       'COC1=CC=C(C=C1)C(=O)NC2=NN=C(S2)C(F)(F)F',\n",
       "       'CCOC1=CC=C(C=C1)C2=NN(N=N2)CC(=O)C3=C(C=CC(=C3)OC)OC',\n",
       "       'CC1=CC=C(C=C1)C2=NN=C(O2)CSC3=NC4=C(C5=C(N4)C=CC(=C5)OC)N=N3',\n",
       "       'CC(C)CCN1C(=NN=N1)C(C2=CC=CC=C2)N3CCN(CC3)C'], dtype='<U323')"
      ]
     },
     "execution_count": 26,
     "metadata": {},
     "output_type": "execute_result"
    }
   ],
   "source": [
    "aid_smiles[:10]"
   ]
  },
  {
   "cell_type": "code",
   "execution_count": 32,
   "id": "841ef4fd-c148-48c8-a9e8-357c705191ac",
   "metadata": {
    "tags": []
   },
   "outputs": [],
   "source": [
    "part_list = np.where(np.in1d(all_smiles, aid_smiles))"
   ]
  },
  {
   "cell_type": "code",
   "execution_count": 40,
   "id": "df11ccd1-ecf1-48ac-baef-afd5e811c811",
   "metadata": {
    "tags": []
   },
   "outputs": [],
   "source": [
    "idx = part_list[0].tolist()"
   ]
  },
  {
   "cell_type": "code",
   "execution_count": 42,
   "id": "7ce85c8c-9120-4332-865f-c27fd7575eb8",
   "metadata": {
    "tags": []
   },
   "outputs": [],
   "source": [
    "taking = list(map(all_molec_list.__getitem__, idx))"
   ]
  },
  {
   "cell_type": "code",
   "execution_count": 36,
   "id": "2733e56d-8086-4874-8c5c-9a2056aa63e0",
   "metadata": {
    "tags": []
   },
   "outputs": [
    {
     "ename": "TypeError",
     "evalue": "list indices must be integers or slices, not list",
     "output_type": "error",
     "traceback": [
      "\u001b[1;31m---------------------------------------------------------------------------\u001b[0m",
      "\u001b[1;31mTypeError\u001b[0m                                 Traceback (most recent call last)",
      "Cell \u001b[1;32mIn[36], line 1\u001b[0m\n\u001b[1;32m----> 1\u001b[0m \u001b[43mall_molec_list\u001b[49m\u001b[43m[\u001b[49m\u001b[43mpart_list\u001b[49m\u001b[43m[\u001b[49m\u001b[38;5;241;43m0\u001b[39;49m\u001b[43m]\u001b[49m\u001b[38;5;241;43m.\u001b[39;49m\u001b[43mtolist\u001b[49m\u001b[43m(\u001b[49m\u001b[43m)\u001b[49m\u001b[43m]\u001b[49m\n",
      "\u001b[1;31mTypeError\u001b[0m: list indices must be integers or slices, not list"
     ]
    }
   ],
   "source": [
    "all_molec_list[part_list[0].tolist()]"
   ]
  },
  {
   "cell_type": "code",
   "execution_count": null,
   "id": "d15a5e2b-7664-404c-b216-77bd55831e3e",
   "metadata": {
    "tags": []
   },
   "outputs": [],
   "source": [
    "len(part_list)"
   ]
  },
  {
   "cell_type": "code",
   "execution_count": 9,
   "id": "85a5c57e-18d0-482a-9d9b-7d24c46fddcc",
   "metadata": {
    "tags": []
   },
   "outputs": [
    {
     "data": {
      "text/plain": [
       "455079"
      ]
     },
     "execution_count": 9,
     "metadata": {},
     "output_type": "execute_result"
    }
   ],
   "source": [
    "len(all_molec_list)"
   ]
  },
  {
   "cell_type": "code",
   "execution_count": null,
   "id": "b56b5376-ddb2-458c-84e4-8bbec9cc9dbf",
   "metadata": {},
   "outputs": [],
   "source": []
  },
  {
   "cell_type": "code",
   "execution_count": null,
   "id": "91484bf8-7e5d-4fc8-b41d-0f3b0bba9e35",
   "metadata": {},
   "outputs": [],
   "source": []
  },
  {
   "cell_type": "code",
   "execution_count": null,
   "id": "acf663e2-14ad-4e4c-b3de-69fd8a8421df",
   "metadata": {},
   "outputs": [],
   "source": []
  },
  {
   "cell_type": "code",
   "execution_count": null,
   "id": "3bb27d24-70f8-4b0c-820e-ad30b572cc65",
   "metadata": {},
   "outputs": [],
   "source": []
  },
  {
   "cell_type": "code",
   "execution_count": null,
   "id": "13bdf672-97d4-456f-9886-0b73b4dbd9a2",
   "metadata": {},
   "outputs": [],
   "source": []
  },
  {
   "cell_type": "code",
   "execution_count": null,
   "id": "77e897d2-ba4d-4da9-9c5d-2dbd64bd979b",
   "metadata": {},
   "outputs": [],
   "source": []
  },
  {
   "cell_type": "code",
   "execution_count": 24,
   "id": "ec2e205b-cd0f-48f2-bfa2-08d689b4411d",
   "metadata": {
    "tags": []
   },
   "outputs": [
    {
     "name": "stderr",
     "output_type": "stream",
     "text": [
      "C:\\Users\\johan\\anaconda3\\envs\\praktikum\\lib\\site-packages\\tqdm\\auto.py:21: TqdmWarning: IProgress not found. Please update jupyter and ipywidgets. See https://ipywidgets.readthedocs.io/en/stable/user_install.html\n",
      "  from .autonotebook import tqdm as notebook_tqdm\n"
     ]
    }
   ],
   "source": [
    "import pandas as pd\n",
    "import numpy as np\n",
    "from selfdist_toolkit.pyg_tools import gnn_load"
   ]
  },
  {
   "cell_type": "code",
   "execution_count": 18,
   "id": "28e78ca3-6597-4013-913c-e2eb22f3bcd7",
   "metadata": {
    "tags": []
   },
   "outputs": [],
   "source": [
    "aid=884\n",
    "original_epochs=100\n",
    "frac_sd = 1.\n",
    "num_current = 1000"
   ]
  },
  {
   "cell_type": "code",
   "execution_count": 15,
   "id": "5918865f-3aec-4e64-8b0d-a8616f91fb24",
   "metadata": {
    "tags": []
   },
   "outputs": [],
   "source": [
    "# define path where the self distillation prediction is\n",
    "path_sd_data = \"results/teacher_exp/sd_out/teacher-pred_aid={}_epochs={}.csv\".format(aid, original_epochs)"
   ]
  },
  {
   "cell_type": "code",
   "execution_count": 16,
   "id": "57bfd8bb-bcf6-4ac4-b8d8-faaa62a7a1bb",
   "metadata": {
    "tags": []
   },
   "outputs": [],
   "source": [
    "# read the self distillation data\n",
    "df_sd = pd.read_csv(path_sd_data)"
   ]
  },
  {
   "cell_type": "code",
   "execution_count": 17,
   "id": "e4507e42-e85b-4cb5-b3db-0b745a27b1e3",
   "metadata": {
    "tags": []
   },
   "outputs": [],
   "source": [
    "# sort the elements according to their difference to 0.5 to get most secure predictions\n",
    "idx_sorted = np.argsort(np.abs(df_sd.predicted_label_soft.to_numpy()-0.5))[::-1]"
   ]
  },
  {
   "cell_type": "code",
   "execution_count": 21,
   "id": "ff160987-61d7-4501-8754-2095f186cd24",
   "metadata": {
    "tags": []
   },
   "outputs": [],
   "source": [
    "# determine number of self distillation elements to fetch\n",
    "num_sd = int(frac_sd*num_current)"
   ]
  },
  {
   "cell_type": "code",
   "execution_count": 23,
   "id": "6d88843a-9f08-4fa0-a80d-bbb30b1e505a",
   "metadata": {
    "tags": []
   },
   "outputs": [],
   "source": [
    "# get subset of df to take\n",
    "df_sd = df_sd.loc[idx_sorted][:num_sd]"
   ]
  },
  {
   "cell_type": "code",
   "execution_count": 25,
   "id": "bf0fd0e6-e2e7-4b7d-9296-a5f063ae3250",
   "metadata": {
    "tags": []
   },
   "outputs": [],
   "source": [
    "# calculate the pyg elements of the chosen elements\n",
    "sd_data_list = gnn_load.load_pyg_data_from_smiles_list(df_sd.smiles.tolist(), df_sd.predicted_label_soft.tolist())"
   ]
  },
  {
   "cell_type": "code",
   "execution_count": 28,
   "id": "3da5a840-aa1b-498c-814f-3f251cea76a1",
   "metadata": {
    "tags": []
   },
   "outputs": [
    {
     "data": {
      "text/plain": [
       "tensor([6.5520e-15])"
      ]
     },
     "execution_count": 28,
     "metadata": {},
     "output_type": "execute_result"
    }
   ],
   "source": [
    "sd_data_list[1].y"
   ]
  }
 ],
 "metadata": {
  "kernelspec": {
   "display_name": "Python 3 (ipykernel)",
   "language": "python",
   "name": "python3"
  },
  "language_info": {
   "codemirror_mode": {
    "name": "ipython",
    "version": 3
   },
   "file_extension": ".py",
   "mimetype": "text/x-python",
   "name": "python",
   "nbconvert_exporter": "python",
   "pygments_lexer": "ipython3",
   "version": "3.9.16"
  }
 },
 "nbformat": 4,
 "nbformat_minor": 5
}
