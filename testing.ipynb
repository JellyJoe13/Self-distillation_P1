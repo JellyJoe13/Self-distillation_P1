{
 "cells": [
  {
   "cell_type": "code",
   "execution_count": 1,
   "id": "42f462d4-5a68-483d-b45f-5821e9fb7bb2",
   "metadata": {
    "tags": []
   },
   "outputs": [],
   "source": [
    "import pandas as pd\n",
    "import numpy as np\n",
    "import sklearn\n",
    "from sklearn.ensemble import RandomForestClassifier\n",
    "import os\n",
    "from tqdm import tqdm\n",
    "import json\n",
    "from rdkit.Chem.Descriptors import descList\n",
    "from rdkit.Chem import MolFromSmiles, RDKFingerprint"
   ]
  },
  {
   "cell_type": "code",
   "execution_count": 2,
   "id": "65bb06d6-14ef-4189-9e42-91bd6ff5cda8",
   "metadata": {
    "tags": []
   },
   "outputs": [],
   "source": [
    "def load_pure_data(\n",
    "    aid_to_load: int,\n",
    "    PATH_EXPERIMENTS: str = \"data/experiment-wise/\"\n",
    ") -> pd.DataFrame:\n",
    "    \n",
    "    # create file path\n",
    "    file_path = PATH_EXPERIMENTS + str(aid_to_load) + \".csv\"\n",
    "    \n",
    "    # check if file/path exists\n",
    "    if not os.path.isfile(file_path):\n",
    "        raise Exception('The experiment data with id {} could not be loaded. Either this experiment id is invalid or the data has yet to be split using the experiment_loadsplit(...) function.'.format(aid_to_load))\n",
    "    \n",
    "    # load and return data\n",
    "    return pd.read_csv(file_path)"
   ]
  },
  {
   "cell_type": "code",
   "execution_count": 2,
   "id": "cf650548-eb02-46bc-bbfa-71c9bffe043c",
   "metadata": {
    "tags": []
   },
   "outputs": [],
   "source": [
    "# path to dataset\n",
    "PATH_DATA = \"data/\"\n",
    "PATH_MAIN_DATASET = PATH_DATA + \"df_assay_entries.csv\""
   ]
  },
  {
   "cell_type": "code",
   "execution_count": 8,
   "id": "c8e8a054-5388-454b-9281-dce3af109a40",
   "metadata": {
    "tags": []
   },
   "outputs": [],
   "source": [
    "df = pd.read_csv(PATH_MAIN_DATASET)"
   ]
  },
  {
   "cell_type": "code",
   "execution_count": 5,
   "id": "252230e3-5556-4cd9-87f3-0014a324e123",
   "metadata": {
    "tags": []
   },
   "outputs": [
    {
     "data": {
      "text/plain": [
       "41620091"
      ]
     },
     "execution_count": 5,
     "metadata": {},
     "output_type": "execute_result"
    }
   ],
   "source": [
    "len(df)"
   ]
  },
  {
   "cell_type": "code",
   "execution_count": 6,
   "id": "e37fef2a-1f16-47ad-9fca-8c145968c68b",
   "metadata": {
    "tags": []
   },
   "outputs": [
    {
     "data": {
      "text/html": [
       "<div>\n",
       "<style scoped>\n",
       "    .dataframe tbody tr th:only-of-type {\n",
       "        vertical-align: middle;\n",
       "    }\n",
       "\n",
       "    .dataframe tbody tr th {\n",
       "        vertical-align: top;\n",
       "    }\n",
       "\n",
       "    .dataframe thead th {\n",
       "        text-align: right;\n",
       "    }\n",
       "</style>\n",
       "<table border=\"1\" class=\"dataframe\">\n",
       "  <thead>\n",
       "    <tr style=\"text-align: right;\">\n",
       "      <th></th>\n",
       "      <th>aid</th>\n",
       "      <th>cid</th>\n",
       "      <th>smiles</th>\n",
       "      <th>activity</th>\n",
       "    </tr>\n",
       "  </thead>\n",
       "  <tbody>\n",
       "    <tr>\n",
       "      <th>0</th>\n",
       "      <td>891</td>\n",
       "      <td>3232584</td>\n",
       "      <td>CCNC1=NC=C2C(=N1)N(C(=O)C(=N2)C3=CC=CC(=C3)C#N...</td>\n",
       "      <td>active</td>\n",
       "    </tr>\n",
       "    <tr>\n",
       "      <th>1</th>\n",
       "      <td>891</td>\n",
       "      <td>3232585</td>\n",
       "      <td>COC1=CC=C(C=C1)OC2=NC=C3C(=N2)N(C(=O)C(=N3)C4=...</td>\n",
       "      <td>inactive</td>\n",
       "    </tr>\n",
       "    <tr>\n",
       "      <th>2</th>\n",
       "      <td>891</td>\n",
       "      <td>3232587</td>\n",
       "      <td>COC1=CC=CC=C1C2=NC3=CC=CC=C3C(=N2)NCC4=CC=CC=C4</td>\n",
       "      <td>active</td>\n",
       "    </tr>\n",
       "    <tr>\n",
       "      <th>3</th>\n",
       "      <td>891</td>\n",
       "      <td>3232589</td>\n",
       "      <td>C1CN(CCC12CCN(CC2)C(=O)OC3=CC=CC=C3)C4=CC=CC=C4</td>\n",
       "      <td>inactive</td>\n",
       "    </tr>\n",
       "    <tr>\n",
       "      <th>4</th>\n",
       "      <td>891</td>\n",
       "      <td>3232590</td>\n",
       "      <td>COCCN1C2=NC(=NC=C2N=C(C1=O)C3=CC=CC(=C3)C#N)N4...</td>\n",
       "      <td>inactive</td>\n",
       "    </tr>\n",
       "    <tr>\n",
       "      <th>...</th>\n",
       "      <td>...</td>\n",
       "      <td>...</td>\n",
       "      <td>...</td>\n",
       "      <td>...</td>\n",
       "    </tr>\n",
       "    <tr>\n",
       "      <th>41620086</th>\n",
       "      <td>1479148</td>\n",
       "      <td>73111</td>\n",
       "      <td>C1=CC2=C(C(=C1)O[C@H]3[C@@H]([C@H]([C@@H]([C@H...</td>\n",
       "      <td>inactive</td>\n",
       "    </tr>\n",
       "    <tr>\n",
       "      <th>41620087</th>\n",
       "      <td>1479148</td>\n",
       "      <td>4724</td>\n",
       "      <td>CC(C)(C)NCC(COC1=CC=CC=C1C2CCCC2)O</td>\n",
       "      <td>active</td>\n",
       "    </tr>\n",
       "    <tr>\n",
       "      <th>41620088</th>\n",
       "      <td>1479148</td>\n",
       "      <td>6708778</td>\n",
       "      <td>COC1=CC(=CC(=C1O)OC)[C@H]2[C@@H]3C(COC3=O)C(C4...</td>\n",
       "      <td>active</td>\n",
       "    </tr>\n",
       "    <tr>\n",
       "      <th>41620089</th>\n",
       "      <td>1479148</td>\n",
       "      <td>54728271</td>\n",
       "      <td>CC1=NN=C(O1)C(=O)NC(C)(C)C2=NC(=C(C(=O)N2C)[O-...</td>\n",
       "      <td>active</td>\n",
       "    </tr>\n",
       "    <tr>\n",
       "      <th>41620090</th>\n",
       "      <td>1479148</td>\n",
       "      <td>456389</td>\n",
       "      <td>C1=CC(=CC=C1C(C#N)C2=C(C=C(C=C2Cl)N3C(=O)NC(=O...</td>\n",
       "      <td>active</td>\n",
       "    </tr>\n",
       "  </tbody>\n",
       "</table>\n",
       "<p>41620091 rows × 4 columns</p>\n",
       "</div>"
      ],
      "text/plain": [
       "              aid       cid  \\\n",
       "0             891   3232584   \n",
       "1             891   3232585   \n",
       "2             891   3232587   \n",
       "3             891   3232589   \n",
       "4             891   3232590   \n",
       "...           ...       ...   \n",
       "41620086  1479148     73111   \n",
       "41620087  1479148      4724   \n",
       "41620088  1479148   6708778   \n",
       "41620089  1479148  54728271   \n",
       "41620090  1479148    456389   \n",
       "\n",
       "                                                     smiles  activity  \n",
       "0         CCNC1=NC=C2C(=N1)N(C(=O)C(=N2)C3=CC=CC(=C3)C#N...    active  \n",
       "1         COC1=CC=C(C=C1)OC2=NC=C3C(=N2)N(C(=O)C(=N3)C4=...  inactive  \n",
       "2           COC1=CC=CC=C1C2=NC3=CC=CC=C3C(=N2)NCC4=CC=CC=C4    active  \n",
       "3           C1CN(CCC12CCN(CC2)C(=O)OC3=CC=CC=C3)C4=CC=CC=C4  inactive  \n",
       "4         COCCN1C2=NC(=NC=C2N=C(C1=O)C3=CC=CC(=C3)C#N)N4...  inactive  \n",
       "...                                                     ...       ...  \n",
       "41620086  C1=CC2=C(C(=C1)O[C@H]3[C@@H]([C@H]([C@@H]([C@H...  inactive  \n",
       "41620087                 CC(C)(C)NCC(COC1=CC=CC=C1C2CCCC2)O    active  \n",
       "41620088  COC1=CC(=CC(=C1O)OC)[C@H]2[C@@H]3C(COC3=O)C(C4...    active  \n",
       "41620089  CC1=NN=C(O1)C(=O)NC(C)(C)C2=NC(=C(C(=O)N2C)[O-...    active  \n",
       "41620090  C1=CC(=CC=C1C(C#N)C2=C(C=C(C=C2Cl)N3C(=O)NC(=O...    active  \n",
       "\n",
       "[41620091 rows x 4 columns]"
      ]
     },
     "execution_count": 6,
     "metadata": {},
     "output_type": "execute_result"
    }
   ],
   "source": [
    "df"
   ]
  },
  {
   "cell_type": "code",
   "execution_count": 7,
   "id": "a134e8e4-b895-4179-9e99-f8850a650646",
   "metadata": {
    "tags": []
   },
   "outputs": [],
   "source": [
    "df = df[['cid', 'smiles']].sort_values(by=['cid']).drop_duplicates(subset=['cid']).reset_index()"
   ]
  },
  {
   "cell_type": "code",
   "execution_count": 11,
   "id": "69866220-7424-4a45-9816-e674bc1c55a1",
   "metadata": {
    "tags": []
   },
   "outputs": [],
   "source": [
    "storage = np.zeros((len(df), 2048))"
   ]
  },
  {
   "cell_type": "code",
   "execution_count": 12,
   "id": "43a7ecd1-6618-4f6f-aac5-c01b6820b720",
   "metadata": {
    "tags": []
   },
   "outputs": [
    {
     "data": {
      "text/plain": [
       "'CC(CN)O'"
      ]
     },
     "execution_count": 12,
     "metadata": {},
     "output_type": "execute_result"
    }
   ],
   "source": [
    "df.iat[0, 2]"
   ]
  },
  {
   "cell_type": "code",
   "execution_count": 13,
   "id": "4ae3e382-6572-44a1-8d14-419578d67e30",
   "metadata": {
    "tags": []
   },
   "outputs": [],
   "source": [
    "storage[0]=RDKFingerprint(MolFromSmiles(df.iat[0,2]))"
   ]
  },
  {
   "cell_type": "code",
   "execution_count": 14,
   "id": "5cc029da-1376-472e-9979-20f813133122",
   "metadata": {
    "tags": []
   },
   "outputs": [
    {
     "name": "stderr",
     "output_type": "stream",
     "text": [
      "455079it [21:54, 346.16it/s]\n"
     ]
    }
   ],
   "source": [
    "for idx, row in tqdm(df.iterrows()):\n",
    "    storage[idx, :] = RDKFingerprint(MolFromSmiles(row.smiles))"
   ]
  },
  {
   "cell_type": "code",
   "execution_count": 16,
   "id": "6d65187e-addc-4370-87e4-79821e7cbf47",
   "metadata": {
    "tags": []
   },
   "outputs": [],
   "source": [
    "# save stuff\n",
    "np.save(PATH_DATA + \"fingerprints_map.npy\", df.cid.to_numpy())\n",
    "np.save(PATH_DATA + \"fingerprints_data.npy\", storage)"
   ]
  },
  {
   "cell_type": "code",
   "execution_count": 4,
   "id": "2a7c85f6-e9d7-47f0-bef8-7f2657201645",
   "metadata": {
    "tags": []
   },
   "outputs": [
    {
     "data": {
      "text/plain": [
       "208"
      ]
     },
     "execution_count": 4,
     "metadata": {},
     "output_type": "execute_result"
    }
   ],
   "source": [
    "len(descList)"
   ]
  },
  {
   "cell_type": "code",
   "execution_count": 3,
   "id": "1fa2f87d-b752-4e74-b9cf-2c6038cef918",
   "metadata": {
    "tags": []
   },
   "outputs": [],
   "source": [
    "load = np.load(PATH_DATA + \"fingerprints_data.npy\")"
   ]
  },
  {
   "cell_type": "code",
   "execution_count": 4,
   "id": "c17fecd8-d082-4056-abe6-cedd1aff3173",
   "metadata": {
    "tags": []
   },
   "outputs": [
    {
     "data": {
      "text/plain": [
       "(455079, 2048)"
      ]
     },
     "execution_count": 4,
     "metadata": {},
     "output_type": "execute_result"
    }
   ],
   "source": [
    "load.shape"
   ]
  },
  {
   "cell_type": "code",
   "execution_count": 5,
   "id": "0871cd4c-2858-43d5-a901-653a6ebbd1a9",
   "metadata": {
    "tags": []
   },
   "outputs": [],
   "source": [
    "load2 = np.load(PATH_DATA + \"fingerprints_map.npy\")"
   ]
  },
  {
   "cell_type": "code",
   "execution_count": 6,
   "id": "56dee89e-2da0-434e-9939-44143ca5b25a",
   "metadata": {
    "tags": []
   },
   "outputs": [
    {
     "data": {
      "text/plain": [
       "(455079,)"
      ]
     },
     "execution_count": 6,
     "metadata": {},
     "output_type": "execute_result"
    }
   ],
   "source": [
    "load2.shape"
   ]
  },
  {
   "cell_type": "code",
   "execution_count": null,
   "id": "419530c5-cc4f-4f0d-b95f-aa37e5e2f1b8",
   "metadata": {},
   "outputs": [],
   "source": []
  },
  {
   "cell_type": "code",
   "execution_count": 7,
   "id": "8d67cd25-67fd-44aa-a44a-22b47ffc5a5c",
   "metadata": {
    "tags": []
   },
   "outputs": [],
   "source": [
    "def generate_chem_smiles(\n",
    "    PATH_DATA: str,\n",
    "    PATH_MAIN_DATASET: str\n",
    "):\n",
    "    # create saving paths\n",
    "    CHEM_DATA_PATH = {\n",
    "        \"map\": PATH_DATA + \"chem-desc_map.npy\",\n",
    "        \"data\": PATH_DATA + \"chem-desc_data.npy\"\n",
    "    }\n",
    "    \n",
    "    # check if data already exists\n",
    "    if not (os.path.isfile(CHEM_DATA_PATH[\"map\"]) and os.path.isfile(CHEM_DATA_PATH[\"data\"])):\n",
    "        print(\"Generating fingerprints\")\n",
    "        \n",
    "        # load dataframe\n",
    "        df = pd.read_csv(PATH_MAIN_DATASET)\n",
    "\n",
    "        # select subset of dataframe\n",
    "        df = df[['cid', 'smiles']].sort_values(by=['cid']).drop_duplicates(subset=['cid']).reset_index()\n",
    "\n",
    "        # save resulting data into files\n",
    "        np.save(CHEM_DATA_PATH[\"map\"], df.cid.to_numpy())\n",
    "        np.save(CHEM_DATA_PATH[\"data\"], storage)\n",
    "    else:\n",
    "        print(\"Fingerprints already generated\")\n",
    "    return"
   ]
  },
  {
   "cell_type": "code",
   "execution_count": 8,
   "id": "d8d4712e-03dc-469c-85e5-b27bd9d8de58",
   "metadata": {
    "tags": []
   },
   "outputs": [
    {
     "name": "stdout",
     "output_type": "stream",
     "text": [
      "Generating fingerprints\n"
     ]
    },
    {
     "ename": "NameError",
     "evalue": "name 'storage' is not defined",
     "output_type": "error",
     "traceback": [
      "\u001b[1;31m---------------------------------------------------------------------------\u001b[0m",
      "\u001b[1;31mNameError\u001b[0m                                 Traceback (most recent call last)",
      "Cell \u001b[1;32mIn[8], line 1\u001b[0m\n\u001b[1;32m----> 1\u001b[0m \u001b[43mgenerate_chem_smiles\u001b[49m\u001b[43m(\u001b[49m\u001b[43mPATH_DATA\u001b[49m\u001b[43m,\u001b[49m\u001b[43m \u001b[49m\u001b[43mPATH_MAIN_DATASET\u001b[49m\u001b[43m)\u001b[49m\n",
      "Cell \u001b[1;32mIn[7], line 23\u001b[0m, in \u001b[0;36mgenerate_chem_smiles\u001b[1;34m(PATH_DATA, PATH_MAIN_DATASET)\u001b[0m\n\u001b[0;32m     21\u001b[0m     \u001b[38;5;66;03m# save resulting data into files\u001b[39;00m\n\u001b[0;32m     22\u001b[0m     np\u001b[38;5;241m.\u001b[39msave(CHEM_DATA_PATH[\u001b[38;5;124m\"\u001b[39m\u001b[38;5;124mmap\u001b[39m\u001b[38;5;124m\"\u001b[39m], df\u001b[38;5;241m.\u001b[39mcid\u001b[38;5;241m.\u001b[39mto_numpy())\n\u001b[1;32m---> 23\u001b[0m     np\u001b[38;5;241m.\u001b[39msave(CHEM_DATA_PATH[\u001b[38;5;124m\"\u001b[39m\u001b[38;5;124mdata\u001b[39m\u001b[38;5;124m\"\u001b[39m], \u001b[43mstorage\u001b[49m)\n\u001b[0;32m     24\u001b[0m \u001b[38;5;28;01melse\u001b[39;00m:\n\u001b[0;32m     25\u001b[0m     \u001b[38;5;28mprint\u001b[39m(\u001b[38;5;124m\"\u001b[39m\u001b[38;5;124mFingerprints already generated\u001b[39m\u001b[38;5;124m\"\u001b[39m)\n",
      "\u001b[1;31mNameError\u001b[0m: name 'storage' is not defined"
     ]
    }
   ],
   "source": [
    "generate_chem_smiles(PATH_DATA, PATH_MAIN_DATASET)"
   ]
  }
 ],
 "metadata": {
  "kernelspec": {
   "display_name": "Python 3 (ipykernel)",
   "language": "python",
   "name": "python3"
  },
  "language_info": {
   "codemirror_mode": {
    "name": "ipython",
    "version": 3
   },
   "file_extension": ".py",
   "mimetype": "text/x-python",
   "name": "python",
   "nbconvert_exporter": "python",
   "pygments_lexer": "ipython3",
   "version": "3.9.16"
  }
 },
 "nbformat": 4,
 "nbformat_minor": 5
}
