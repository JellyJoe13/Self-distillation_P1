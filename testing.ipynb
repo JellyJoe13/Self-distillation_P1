{
 "cells": [
  {
   "cell_type": "code",
   "execution_count": 1,
   "id": "42f462d4-5a68-483d-b45f-5821e9fb7bb2",
   "metadata": {
    "tags": []
   },
   "outputs": [],
   "source": [
    "import pandas as pd\n",
    "import numpy as np\n",
    "import sklearn\n",
    "from sklearn.ensemble import RandomForestClassifier\n",
    "import os\n",
    "from tqdm import tqdm\n",
    "import json\n",
    "from rdkit.Chem.Descriptors import descList\n",
    "from rdkit.Chem import MolFromSmiles, RDKFingerprint\n",
    "import typing"
   ]
  },
  {
   "cell_type": "code",
   "execution_count": 44,
   "id": "25ff5f2f-f557-4c1a-8c37-eea8d235ad5b",
   "metadata": {
    "tags": []
   },
   "outputs": [],
   "source": [
    "def load_fingerprint_data(\n",
    "        aid: int,\n",
    "        path_data: str = \"data/\"\n",
    ") -> typing.Tuple[np.ndarray, np.ndarray]:\n",
    "    \"\"\"\n",
    "    Function that loads the Morgan Fingerprint dataset for the provided experiment (id). Also cleans the data of\n",
    "    repetitive or unnecessary data.\n",
    "    Addition: due to timing reasons the precomputed results will be saved and loaded if possible.\n",
    "\n",
    "    Parameters\n",
    "    ----------\n",
    "    aid : int\n",
    "        Experiment id for which the data is to be fetched\n",
    "    path_data : str, optional\n",
    "        Path to data folder\n",
    "\n",
    "    Returns\n",
    "    -------\n",
    "    np.ndarray\n",
    "        chemical descriptor data\n",
    "    np.ndarray\n",
    "        labels of the data (0 for inactive, 1 for active)\n",
    "    \"\"\"\n",
    "\n",
    "    # PRESAVING AND FETCHING PART\n",
    "    # path where the data would be prestored\n",
    "    path_fingerprint = path_data + \"precomputed/fingerprint/\"\n",
    "\n",
    "    # check if folder present\n",
    "    if not os.path.exists(path_fingerprint):\n",
    "        os.makedirs(path_fingerprint)\n",
    "\n",
    "    # check if file already exists and can be loaded instead of creating it\n",
    "    file_names = {\n",
    "        \"data\": str(aid) + \"_data.npy\",\n",
    "        \"label\": str(aid) + \"_label.npy\"\n",
    "    }\n",
    "    if os.path.isfile(path_fingerprint + file_names[\"data\"]) and os.path.isfile(path_fingerprint + file_names[\"label\"]):\n",
    "        return np.load(path_fingerprint + file_names[\"data\"]).astype(float), \\\n",
    "               np.load(path_fingerprint + file_names[\"label\"]).astype(int)\n",
    "\n",
    "    # NORMAL LOADING PART\n",
    "    # load the pure data\n",
    "    loaded_data = load_pure_data(\n",
    "        aid_to_load=aid,\n",
    "        path_data=path_data\n",
    "    )\n",
    "\n",
    "    # load pure chemical descriptor data\n",
    "    fingerprint_map = np.load(path_data + \"fingerprints_map.npy\")\n",
    "    fingerprint_data = np.load(path_data + \"fingerprints_data.npy\").astype(int)\n",
    "\n",
    "    # MAPPING CIDS TO DATA\n",
    "    # get cids\n",
    "    cids = loaded_data.cid.to_numpy()\n",
    "    # get positions of cids in fingerprint_map (fingerprint map is already sorted by default)\n",
    "    pos = np.searchsorted(fingerprint_map, cids)\n",
    "    data = fingerprint_data[pos]\n",
    "    \n",
    "\n",
    "    # fetch the labels of the data elements:\n",
    "    labels = (loaded_data.activity.to_numpy()==\"active\").astype(int)\n",
    "\n",
    "    # save the generated data to disk\n",
    "    np.save(path_fingerprint + file_names[\"data\"], data.astype(bool))\n",
    "    np.save(path_fingerprint + file_names[\"label\"], labels.astype(int))\n",
    "\n",
    "    # return data and labels\n",
    "    return data, labels"
   ]
  },
  {
   "cell_type": "code",
   "execution_count": 3,
   "id": "d8d4712e-03dc-469c-85e5-b27bd9d8de58",
   "metadata": {
    "tags": []
   },
   "outputs": [],
   "source": [
    "from time import time\n",
    "from selfdest_toolkit.data_tools.loading import load_pure_data\n",
    "from selfdest_toolkit.data_tools.cleaning import clean_numpy_data"
   ]
  },
  {
   "cell_type": "code",
   "execution_count": 13,
   "id": "809bde4a-4edc-4e81-ac3a-b92047d891a3",
   "metadata": {
    "tags": []
   },
   "outputs": [
    {
     "name": "stdout",
     "output_type": "stream",
     "text": [
      "79.96671652793884\n"
     ]
    }
   ],
   "source": [
    "t = time()\n",
    "load_fingerprint_data(411)\n",
    "print(time()-t)"
   ]
  },
  {
   "cell_type": "code",
   "execution_count": 45,
   "id": "c46d3e63-935c-479a-a747-51d659aff5a7",
   "metadata": {
    "tags": []
   },
   "outputs": [
    {
     "name": "stdout",
     "output_type": "stream",
     "text": [
      "2.846043825149536\n"
     ]
    }
   ],
   "source": [
    "t = time()\n",
    "load_fingerprint_data(411)\n",
    "print(time()-t)"
   ]
  },
  {
   "cell_type": "code",
   "execution_count": null,
   "id": "4bd21541-69d1-4073-be6e-2d78f7239189",
   "metadata": {},
   "outputs": [],
   "source": []
  },
  {
   "cell_type": "code",
   "execution_count": 4,
   "id": "65f69cbb-43d5-4039-91c8-f64bcedbdfbf",
   "metadata": {
    "tags": []
   },
   "outputs": [],
   "source": [
    "aid = 411\n",
    "path_data = \"data/\""
   ]
  },
  {
   "cell_type": "code",
   "execution_count": 5,
   "id": "f9e1d696-0a4d-4596-89c4-37b372c5c346",
   "metadata": {
    "tags": []
   },
   "outputs": [],
   "source": [
    "# working"
   ]
  },
  {
   "cell_type": "code",
   "execution_count": 6,
   "id": "3ef44de5-18d1-493b-95a8-fcdc464be6bf",
   "metadata": {
    "tags": []
   },
   "outputs": [],
   "source": [
    "# load the pure data\n",
    "loaded_data = load_pure_data(\n",
    "    aid_to_load=aid,\n",
    "    path_data=path_data\n",
    ")"
   ]
  },
  {
   "cell_type": "code",
   "execution_count": 7,
   "id": "7dde1852-eb63-436e-b561-1fe2f5f24eb3",
   "metadata": {
    "tags": []
   },
   "outputs": [],
   "source": [
    "# load pure chemical descriptor data\n",
    "fingerprint_map = np.load(path_data + \"fingerprints_map.npy\")\n",
    "fingerprint_data = np.load(path_data + \"fingerprints_data.npy\").astype(int)"
   ]
  },
  {
   "cell_type": "code",
   "execution_count": 8,
   "id": "47e0cd68-b37b-4bf3-9388-c07d99537d51",
   "metadata": {
    "tags": []
   },
   "outputs": [],
   "source": [
    "cids = loaded_data.cid.to_numpy()"
   ]
  },
  {
   "cell_type": "code",
   "execution_count": 9,
   "id": "9a92ff78-b65f-45ff-b044-00140cd9fa24",
   "metadata": {
    "tags": []
   },
   "outputs": [
    {
     "data": {
      "text/plain": [
       "(68285,)"
      ]
     },
     "execution_count": 9,
     "metadata": {},
     "output_type": "execute_result"
    }
   ],
   "source": [
    "cids.shape"
   ]
  },
  {
   "cell_type": "code",
   "execution_count": 34,
   "id": "7555b813-ba12-4547-babf-d9885670101e",
   "metadata": {
    "tags": []
   },
   "outputs": [],
   "source": [
    "index = np.argsort(fingerprint_map)"
   ]
  },
  {
   "cell_type": "code",
   "execution_count": 35,
   "id": "ac99fcb8-e2a2-49c5-b214-46ab6dd10c5e",
   "metadata": {
    "tags": []
   },
   "outputs": [
    {
     "data": {
      "text/plain": [
       "array([ 23786,  23787,  23788, ..., 355206, 355207, 355208], dtype=int64)"
      ]
     },
     "execution_count": 35,
     "metadata": {},
     "output_type": "execute_result"
    }
   ],
   "source": [
    "index[np.searchsorted(fingerprint_map, cids, sorter=index)]"
   ]
  },
  {
   "cell_type": "code",
   "execution_count": 36,
   "id": "84b8e777-ffea-43b4-9542-61111aec0ef2",
   "metadata": {
    "tags": []
   },
   "outputs": [
    {
     "data": {
      "text/plain": [
       "644390"
      ]
     },
     "execution_count": 36,
     "metadata": {},
     "output_type": "execute_result"
    }
   ],
   "source": [
    "cids[0]"
   ]
  },
  {
   "cell_type": "code",
   "execution_count": 37,
   "id": "fc6413eb-7cce-4e57-add2-1ab054ebed1d",
   "metadata": {
    "tags": []
   },
   "outputs": [
    {
     "data": {
      "text/plain": [
       "644390"
      ]
     },
     "execution_count": 37,
     "metadata": {},
     "output_type": "execute_result"
    }
   ],
   "source": [
    "fingerprint_map[23786]"
   ]
  },
  {
   "cell_type": "code",
   "execution_count": 38,
   "id": "8d3a6a34-ebb7-4091-9ca4-5240d9dee70e",
   "metadata": {
    "tags": []
   },
   "outputs": [
    {
     "data": {
      "text/plain": [
       "array([0, 1, 1, ..., 0, 1, 1])"
      ]
     },
     "execution_count": 38,
     "metadata": {},
     "output_type": "execute_result"
    }
   ],
   "source": [
    "fingerprint_data[23786]"
   ]
  },
  {
   "cell_type": "code",
   "execution_count": null,
   "id": "11c03ccd-455f-4b83-9f9f-d8afd304117a",
   "metadata": {},
   "outputs": [],
   "source": []
  },
  {
   "cell_type": "code",
   "execution_count": null,
   "id": "d3c998b5-8aa6-4b4c-aff8-1311edf76fce",
   "metadata": {},
   "outputs": [],
   "source": []
  },
  {
   "cell_type": "code",
   "execution_count": null,
   "id": "6f44bc66-c854-4b1a-83c0-e98272c24407",
   "metadata": {},
   "outputs": [],
   "source": []
  },
  {
   "cell_type": "code",
   "execution_count": 40,
   "id": "87b4de36-fc53-4a7d-bfc6-d1618cb013da",
   "metadata": {
    "tags": []
   },
   "outputs": [],
   "source": [
    "pos = np.searchsorted(fingerprint_map, cids)"
   ]
  },
  {
   "cell_type": "code",
   "execution_count": 41,
   "id": "62013243-3bc6-4f17-95cd-e3612503007d",
   "metadata": {
    "tags": []
   },
   "outputs": [],
   "source": [
    "data = fingerprint_data[pos]"
   ]
  },
  {
   "cell_type": "code",
   "execution_count": 43,
   "id": "f0499631-c64d-423c-8b27-76c096eae8c5",
   "metadata": {
    "tags": []
   },
   "outputs": [
    {
     "data": {
      "text/plain": [
       "(68285, 2048)"
      ]
     },
     "execution_count": 43,
     "metadata": {},
     "output_type": "execute_result"
    }
   ],
   "source": [
    "data.shape"
   ]
  }
 ],
 "metadata": {
  "kernelspec": {
   "display_name": "Python 3 (ipykernel)",
   "language": "python",
   "name": "python3"
  },
  "language_info": {
   "codemirror_mode": {
    "name": "ipython",
    "version": 3
   },
   "file_extension": ".py",
   "mimetype": "text/x-python",
   "name": "python",
   "nbconvert_exporter": "python",
   "pygments_lexer": "ipython3",
   "version": "3.9.16"
  }
 },
 "nbformat": 4,
 "nbformat_minor": 5
}
