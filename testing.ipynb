{
 "cells": [
  {
   "cell_type": "code",
   "execution_count": 3,
   "id": "4ac6709c-1eaa-4459-b09c-239a93fcbf9a",
   "metadata": {
    "tags": []
   },
   "outputs": [],
   "source": [
    "import numpy as np\n",
    "from rdkit import Chem\n",
    "from rdkit.Chem.rdmolops import GetAdjacencyMatrix"
   ]
  },
  {
   "cell_type": "code",
   "execution_count": 4,
   "id": "696ef0ce-dbbf-460f-b169-ce1833bd2bbf",
   "metadata": {
    "tags": []
   },
   "outputs": [
    {
     "name": "stderr",
     "output_type": "stream",
     "text": [
      "C:\\Users\\johan\\anaconda3\\envs\\praktikum\\lib\\site-packages\\tqdm\\auto.py:22: TqdmWarning: IProgress not found. Please update jupyter and ipywidgets. See https://ipywidgets.readthedocs.io/en/stable/user_install.html\n",
      "  from .autonotebook import tqdm as notebook_tqdm\n"
     ]
    }
   ],
   "source": [
    "import torch\n",
    "from torch_geometric.data import Data\n",
    "from torch.utils.data import DataLoader"
   ]
  },
  {
   "cell_type": "code",
   "execution_count": null,
   "id": "9ae60b15-361e-46a7-8ad3-3ddce8aead17",
   "metadata": {},
   "outputs": [],
   "source": []
  },
  {
   "cell_type": "code",
   "execution_count": 5,
   "id": "c588d685-8282-4542-9882-e2f731921580",
   "metadata": {
    "tags": []
   },
   "outputs": [],
   "source": [
    "import torch_geometric as pyg"
   ]
  },
  {
   "cell_type": "code",
   "execution_count": null,
   "id": "0342d647-9a01-433a-8138-acd471776d48",
   "metadata": {},
   "outputs": [],
   "source": [
    "def create_pyg_data_obj(\n",
    "        smiles: str,\n",
    "        label: float\n",
    "):\n",
    "    data = pyg.utils.smiles.from_smiles(smiles)\n",
    "    data.y="
   ]
  },
  {
   "cell_type": "code",
   "execution_count": 23,
   "id": "cc45ff14-203e-49e9-9fb2-2a2f66c5e7e3",
   "metadata": {
    "tags": []
   },
   "outputs": [
    {
     "data": {
      "text/plain": [
       "Data(x=[24, 9], edge_index=[2, 50], edge_attr=[50, 3], smiles='CCOC(=O)N1CCC(CC1)NCCNC(=O)C2=CC=CC=C2Cl')"
      ]
     },
     "execution_count": 23,
     "metadata": {},
     "output_type": "execute_result"
    }
   ],
   "source": [
    "test = pyg.utils.smiles.from_smiles(\"CCOC(=O)N1CCC(CC1)NCCNC(=O)C2=CC=CC=C2Cl\")\n",
    "test"
   ]
  },
  {
   "cell_type": "code",
   "execution_count": 24,
   "id": "f548c33e-88cc-4648-b82c-e3c448935486",
   "metadata": {
    "tags": []
   },
   "outputs": [],
   "source": [
    "test.y=torch.tensor(np.array([0.]), dtype=torch.float)"
   ]
  },
  {
   "cell_type": "code",
   "execution_count": 25,
   "id": "7094517e-83f8-48c5-a364-861afff693c5",
   "metadata": {
    "tags": []
   },
   "outputs": [
    {
     "data": {
      "text/plain": [
       "Data(x=[24, 9], edge_index=[2, 50], edge_attr=[50, 3], smiles='CCOC(=O)N1CCC(CC1)NCCNC(=O)C2=CC=CC=C2Cl', y=[1])"
      ]
     },
     "execution_count": 25,
     "metadata": {},
     "output_type": "execute_result"
    }
   ],
   "source": [
    "test"
   ]
  },
  {
   "cell_type": "code",
   "execution_count": 26,
   "id": "78e37b13-1075-4cad-a343-dad7d48fbeb9",
   "metadata": {
    "tags": []
   },
   "outputs": [
    {
     "data": {
      "text/plain": [
       "tensor([[ 6,  0,  4,  5,  3,  0,  4,  0,  0],\n",
       "        [ 6,  0,  4,  5,  2,  0,  4,  0,  0],\n",
       "        [ 8,  0,  2,  5,  0,  0,  3,  0,  0],\n",
       "        [ 6,  0,  3,  5,  0,  0,  3,  0,  0],\n",
       "        [ 8,  0,  1,  5,  0,  0,  3,  0,  0],\n",
       "        [ 7,  0,  3,  5,  0,  0,  3,  0,  1],\n",
       "        [ 6,  0,  4,  5,  2,  0,  4,  0,  1],\n",
       "        [ 6,  0,  4,  5,  2,  0,  4,  0,  1],\n",
       "        [ 6,  0,  4,  5,  1,  0,  4,  0,  1],\n",
       "        [ 6,  0,  4,  5,  2,  0,  4,  0,  1],\n",
       "        [ 6,  0,  4,  5,  2,  0,  4,  0,  1],\n",
       "        [ 7,  0,  3,  5,  1,  0,  4,  0,  0],\n",
       "        [ 6,  0,  4,  5,  2,  0,  4,  0,  0],\n",
       "        [ 6,  0,  4,  5,  2,  0,  4,  0,  0],\n",
       "        [ 7,  0,  3,  5,  1,  0,  3,  0,  0],\n",
       "        [ 6,  0,  3,  5,  0,  0,  3,  0,  0],\n",
       "        [ 8,  0,  1,  5,  0,  0,  3,  0,  0],\n",
       "        [ 6,  0,  3,  5,  0,  0,  3,  1,  1],\n",
       "        [ 6,  0,  3,  5,  1,  0,  3,  1,  1],\n",
       "        [ 6,  0,  3,  5,  1,  0,  3,  1,  1],\n",
       "        [ 6,  0,  3,  5,  1,  0,  3,  1,  1],\n",
       "        [ 6,  0,  3,  5,  1,  0,  3,  1,  1],\n",
       "        [ 6,  0,  3,  5,  0,  0,  3,  1,  1],\n",
       "        [17,  0,  1,  5,  0,  0,  4,  0,  0]])"
      ]
     },
     "execution_count": 26,
     "metadata": {},
     "output_type": "execute_result"
    }
   ],
   "source": [
    "test.x"
   ]
  },
  {
   "cell_type": "code",
   "execution_count": 31,
   "id": "a682ea63-f44a-4772-89e2-b8f99685fdae",
   "metadata": {
    "tags": []
   },
   "outputs": [
    {
     "data": {
      "text/plain": [
       "Data(x=[2, 9], edge_index=[2, 2], edge_attr=[2, 3], smiles='CC')"
      ]
     },
     "execution_count": 31,
     "metadata": {},
     "output_type": "execute_result"
    }
   ],
   "source": [
    "pyg.utils.smiles.from_smiles(\"CC\")"
   ]
  },
  {
   "cell_type": "code",
   "execution_count": 28,
   "id": "ed908b37-b16f-4078-80a6-a2ca15caec9c",
   "metadata": {
    "tags": []
   },
   "outputs": [
    {
     "data": {
      "text/plain": [
       "<torch_geometric.loader.dataloader.DataLoader at 0x2a5cffe7490>"
      ]
     },
     "execution_count": 28,
     "metadata": {},
     "output_type": "execute_result"
    }
   ],
   "source": [
    "data = pyg.loader.DataLoader([test, test], batch_size=100)\n",
    "data"
   ]
  },
  {
   "cell_type": "code",
   "execution_count": 32,
   "id": "7ff561ec-db91-4b12-ae07-28d0500e710f",
   "metadata": {
    "tags": []
   },
   "outputs": [
    {
     "name": "stdout",
     "output_type": "stream",
     "text": [
      "0 DataBatch(x=[48, 9], edge_index=[2, 100], edge_attr=[100, 3], smiles=[2], y=[2], batch=[48], ptr=[3])\n",
      "tensor([0, 0, 0, 0, 0, 0, 0, 0, 0, 0, 0, 0, 0, 0, 0, 0, 0, 0, 0, 0, 0, 0, 0, 0,\n",
      "        1, 1, 1, 1, 1, 1, 1, 1, 1, 1, 1, 1, 1, 1, 1, 1, 1, 1, 1, 1, 1, 1, 1, 1])\n"
     ]
    }
   ],
   "source": [
    "for (k, batch) in enumerate(data):\n",
    "    print(k, batch)\n",
    "    print(batch.batch)"
   ]
  },
  {
   "cell_type": "code",
   "execution_count": null,
   "id": "ccc23c9a-d906-4d77-9243-b47104db69b5",
   "metadata": {},
   "outputs": [],
   "source": []
  },
  {
   "cell_type": "code",
   "execution_count": 33,
   "id": "a28f3a64-ecf9-4299-9a35-ca0adc2fc684",
   "metadata": {
    "tags": []
   },
   "outputs": [],
   "source": [
    "# load data for broader range"
   ]
  },
  {
   "cell_type": "code",
   "execution_count": 34,
   "id": "0a3e9153-77e4-4288-bde9-5f55465cb7e6",
   "metadata": {
    "tags": []
   },
   "outputs": [],
   "source": [
    "smiles = [\"CCOC(=O)N1CCC(CC1)NCCNC(=O)C2=CC=CC=C2Cl\"]"
   ]
  },
  {
   "cell_type": "code",
   "execution_count": null,
   "id": "d6f59f7c-75d2-4c03-8824-264ddf1efef1",
   "metadata": {},
   "outputs": [],
   "source": [
    "def create_pyg_data_obj_list(\n",
    "        smiles_list: typing.List[str],\n",
    "        label_list: typing.List[float]\n",
    "):\n",
    "    "
   ]
  }
 ],
 "metadata": {
  "kernelspec": {
   "display_name": "Python 3 (ipykernel)",
   "language": "python",
   "name": "python3"
  },
  "language_info": {
   "codemirror_mode": {
    "name": "ipython",
    "version": 3
   },
   "file_extension": ".py",
   "mimetype": "text/x-python",
   "name": "python",
   "nbconvert_exporter": "python",
   "pygments_lexer": "ipython3",
   "version": "3.9.16"
  }
 },
 "nbformat": 4,
 "nbformat_minor": 5
}
